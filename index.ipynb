{
 "cells": [
  {
   "cell_type": "markdown",
   "metadata": {},
   "source": [
    "# HDL playground\n",
    "\n",
    "This HDL playground is based on the `hackfin/myhdl_testing:jupyosys` Docker container. The underlying toolchain is the [yosys](https://github.com/YosysHQ/yosys/) synthesis toolchain.\n",
    "\n",
    "It is meant to collect examples and test scenarios for various Hardware Definition Languages.\n",
    "\n",
    "The top level default command language is Python, with frequent usage of MyHDL for test benches, co-simulation or HDL modules to be emitted as Verilog and/or VHDL implementation for functional comparison or verification.\n",
    "\n",
    "Direct (experimental) Synthesis through MyHDL is supported by the [jupyosys](https://section5.ch/index.php/2020/03/20/myhdl-and-pyosys-direct-synthesis-using-python/) project, see separate Binder:\n",
    "\n",
    "[![Binder](https://mybinder.org/badge_logo.svg)](https://mybinder.org/v2/gh/hackfin/myhdl.git/jupyosys?filepath=src%2Fmyhdl%2Fmyhdl-yosys%2Fexample%2Fipynb%2Findex.ipynb)\n",
    "\n",
    "Supported HDLs in order of maturity with respect to yosys:\n",
    "\n",
    "* Verilog (simulation through iverilog)\n",
    "* VHDL (simulation and synthesis using GHDL)\n",
    "* MyHDL (through jupyosys)\n",
    "\n",
    "Automated testing of notebook is integrated [below](#Automated-notebook-tests)."
   ]
  },
  {
   "cell_type": "markdown",
   "metadata": {},
   "source": [
    "## Simulation issues\n",
    "\n",
    "There is an issue with specific files that are required to simulate hardware primitives:\n",
    "\n",
    "* They are vendor-proprietary\n",
    "* Possibly under NDA or encrypted\n",
    "\n",
    "If you want to co-simulate against a vendor entity, the current procedure is as follows:\n",
    "\n",
    "1. Obtain the `*.v` files needed for simulation from your installed toolchain\n",
    "+  Copy those files into the directory specified by the `ECP5_LIB` variable in [config.py](/edit/work/tests/config.py),\n",
    "see also Upload link below.\n",
    "\n",
    "An 'enhanced' `cells_sim.v` file is added for example that includes some vendor simulation files (click to edit: [cells_sim.v](/edit/work/tests/lib/techlibs/ecp5/cells_sim.v)). You need to uncomment the lines on the bottom after installation of the necessary `*.v` files (use the `Upload` button on this [directory](/tree/work/tests/lib/techlibs/ecp5)).\n",
    "\n",
    "**Note**: The vendor simulation files should not be included in yosys, as they contain non-synthesizable Verilog\n",
    "statements. For yosys, these entities appear as blackbox cells, later on, the icarus verilog simulator\n",
    "includes them for proper co-simulation."
   ]
  },
  {
   "cell_type": "markdown",
   "metadata": {},
   "source": [
    "## VHDL support\n",
    "\n",
    "The GHDL yosys plugin is automatically compiled during the build process of this container.\n",
    "\n",
    "Proceed to [GHDL overview](ghdl.ipynb)"
   ]
  },
  {
   "cell_type": "markdown",
   "metadata": {},
   "source": [
    "# Automated notebook tests\n",
    "\n",
    "Automated notebook tests are run with the code below to verify that:\n",
    "\n",
    "* There is no exception occuring during execution\n",
    "* The output matches the previous notebook output\n",
    "\n",
    "It may be that a notebook shows a `FAILED` state and passes upon regeneration and the next autotest run. For strict comparison, remove `--nb-force-regen` below.\n",
    "\n",
    "Note that some tests may also fail when the above vendor files are not installed."
   ]
  },
  {
   "cell_type": "code",
   "execution_count": 1,
   "metadata": {},
   "outputs": [],
   "source": [
    "! pip3 install pytest-notebook >/dev/null"
   ]
  },
  {
   "cell_type": "markdown",
   "metadata": {},
   "source": [
    "Install the magic extension:"
   ]
  },
  {
   "cell_type": "code",
   "execution_count": 2,
   "metadata": {},
   "outputs": [],
   "source": [
    "%load_ext pytest_notebook.ipy_magic"
   ]
  },
  {
   "cell_type": "markdown",
   "metadata": {},
   "source": [
    "We have to manually configure the pytest executable:"
   ]
  },
  {
   "cell_type": "code",
   "execution_count": 3,
   "metadata": {},
   "outputs": [],
   "source": [
    "import pytest_notebook\n",
    "pytest_notebook.ipy_magic.EXEC_NAME = \"py.test-3\""
   ]
  },
  {
   "cell_type": "markdown",
   "metadata": {},
   "source": [
    "### Running the test suite"
   ]
  },
  {
   "cell_type": "code",
   "execution_count": 4,
   "metadata": {},
   "outputs": [
    {
     "name": "stdout",
     "output_type": "stream",
     "text": [
      "\u001b[1m============================= test session starts ==============================\u001b[0m\n",
      "platform linux -- Python 3.7.3, pytest-3.10.1, py-1.7.0, pluggy-0.8.0 -- /usr/bin/python3\n",
      "cachedir: .pytest_cache\n",
      "NB force regen: True\n",
      "rootdir: /tmp/tmpqdjn2ocw, inifile: pytest.ini\n",
      "plugins: notebook-0.6.0\n",
      "\u001b[1mcollecting ... \u001b[0mcollected 5 items\n",
      "\n",
      "test_ipycell.py::test_generic[ghdl_module_tests.ipynb] \u001b[32mPASSED\u001b[0m\u001b[36m            [ 20%]\u001b[0m\n",
      "test_ipycell.py::test_generic[ghdlsim_blink.ipynb] \u001b[32mPASSED\u001b[0m\u001b[36m                [ 40%]\u001b[0m\n",
      "test_ipycell.py::test_generic[memory.ipynb] \u001b[32mPASSED\u001b[0m\u001b[36m                       [ 60%]\u001b[0m\n",
      "test_ipycell.py::test_generic[memory_wrapped_init.ipynb] \u001b[32mPASSED\u001b[0m\u001b[36m          [ 80%]\u001b[0m\n",
      "test_ipycell.py::test_fixme[uut0] \u001b[33mSKIPPED\u001b[0m\u001b[36m                                [100%]\u001b[0m\n",
      "\n",
      "\u001b[32m\u001b[1m===================== 4 passed, 1 skipped in 43.36 seconds =====================\u001b[0m\n"
     ]
    }
   ],
   "source": [
    "%%pytest -v --color=yes --disable-warnings --nb-exec-timeout 50 --nb-force-regen\n",
    "\n",
    "---\n",
    "[pytest]\n",
    "nb_test_files = True\n",
    "nb_diff_ignore = \n",
    "    /cells/*/outputs/*/data/image/svg+xml\n",
    "nb_diff_replace =\n",
    "    /cells/*/outputs/*/data/text .*graphviz\\.files\\.Source.* \"GRAPH\"\n",
    "    /cells/*/outputs/*/text \\[SigSpec.*\\] \"SIGSPEC\"\n",
    "    /cells/*/outputs/*/text .*\\.vcd \"VCDFILE\"\n",
    "    /cells/*/outputs/*/data/text .*graphviz\\.dot\\.Digraph.* \"GRAPH\"\n",
    "    /cells/*/outputs/*/text .*-rw\\-r\\-\\-r\\-\\-.* \"FILE\"\n",
    "    /cells/*/outputs/*/text .*End.of.script.* \"YOSYS_TAG\"\n",
    "\n",
    "---\n",
    "\n",
    "import sys\n",
    "import importlib_resources\n",
    "\n",
    "sys.path.append(\"/home/pyosys/work\")\n",
    "sys.path.append(\"/home/pyosys/work/examples\")\n",
    "\n",
    "import pytest\n",
    "import tests\n",
    "import tempfile\n",
    "\n",
    "        \n",
    "VERIFIED  = [ \"ghdl_module_tests.ipynb\", \"ghdlsim_blink.ipynb\", \"memory.ipynb\" , \"memory_wrapped_init.ipynb\" ]\n",
    "\n",
    "KNOWN_TO_FAIL = [ ]\n",
    "\n",
    "@pytest.mark.parametrize(\"uut\", VERIFIED)\n",
    "def test_generic(nb_regression, uut):\n",
    "    with importlib_resources.path(tests, uut) as path:\n",
    "        nb_regression.check(str(path))                \n",
    "\n",
    "@pytest.mark.xfail \n",
    "@pytest.mark.parametrize(\"uut\", KNOWN_TO_FAIL)\n",
    "def test_fixme(nb_regression, uut):\n",
    "    with importlib_resources.path(tests, uut) as path:\n",
    "        nb_regression.check(str(path))                              "
   ]
  },
  {
   "cell_type": "code",
   "execution_count": null,
   "metadata": {},
   "outputs": [],
   "source": []
  }
 ],
 "metadata": {
  "kernelspec": {
   "display_name": "Python 3",
   "language": "python",
   "name": "python3"
  },
  "language_info": {
   "codemirror_mode": {
    "name": "ipython",
    "version": 3
   },
   "file_extension": ".py",
   "mimetype": "text/x-python",
   "name": "python",
   "nbconvert_exporter": "python",
   "pygments_lexer": "ipython3",
   "version": "3.7.3"
  }
 },
 "nbformat": 4,
 "nbformat_minor": 4
}
