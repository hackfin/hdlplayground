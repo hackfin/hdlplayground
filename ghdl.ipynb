{
 "cells": [
  {
   "cell_type": "markdown",
   "metadata": {},
   "source": [
    "# GHDL integration and support\n",
    "\n",
    "See also [GHDL documentation](https://ghdl.readthedocs.io/en/latest/) for an introduction on GHDLs features.\n",
    "\n",
    "## GHDL Simulation\n",
    "\n",
    "This includes a few examples on integration of simulation scenarios with the jupyter notebook environment.\n",
    "\n",
    "### Examples\n",
    "\n",
    "* [Blinky example](tests/ghdlsim_blink.ipynb)"
   ]
  },
  {
   "cell_type": "markdown",
   "metadata": {},
   "source": [
    "## GHDL synthesis\n",
    "\n",
    "This requires the GHDL plugin for yosys to be built. It is currently built by the docker build process using the\n",
    "Dockerfile.\n",
    "\n",
    "* [GHDL plugin test](tests/ghdl_module_tests.ipynb)\n",
    "* [Blinky for Versa ECP5 board](ghdl_example_versa_ecp5.ipynb)\n",
    "* Test/Verification cases based on GHDL:\n",
    "  * [Memory inference](tests/memory.ipynb)\n",
    "  * [Initialized memory](tests/memory_wrapped_init.ipynb)\n",
    "  * DSP elements inference\n",
    "\n",
    "* Issues with the GHDL plugin, see [Issues github repository](https://github.com/ghdl/ghdl-yosys-plugin/issues)"
   ]
  },
  {
   "cell_type": "code",
   "execution_count": null,
   "metadata": {},
   "outputs": [],
   "source": []
  }
 ],
 "metadata": {
  "kernelspec": {
   "display_name": "Python 3",
   "language": "python",
   "name": "python3"
  },
  "language_info": {
   "codemirror_mode": {
    "name": "ipython",
    "version": 3
   },
   "file_extension": ".py",
   "mimetype": "text/x-python",
   "name": "python",
   "nbconvert_exporter": "python",
   "pygments_lexer": "ipython3",
   "version": "3.7.3"
  }
 },
 "nbformat": 4,
 "nbformat_minor": 4
}
