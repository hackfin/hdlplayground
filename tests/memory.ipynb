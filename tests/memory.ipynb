{
 "cells": [
  {
   "cell_type": "markdown",
   "metadata": {},
   "source": [
    "# GHDL memory inference\n",
    "\n",
    "To infer various types of memory using the GHDL plugin and compare (possibly) against reference verilog implementations, we author the statements that are normally recognized by a synthesizer in MyHDL to be able to emit both VHDL and Verilog."
   ]
  },
  {
   "cell_type": "markdown",
   "metadata": {},
   "source": [
    "This involves some more complex tests and is regarded unstable, due to deficiencies in the yosys memory modelling primitives.\n",
    "\n",
    "**Note** The True dual port inference test requires a modified techmap wrapper from the `bram_ecp5` branch. This will be revisited with the planned [TDP changes](https://github.com/YosysHQ/yosys/issues/1959).\n",
    "\n",
    "Also, the yosys branch needs to be able to possibly infer the techmap according to the `IMPLEMENTATION` mode, see below.\n",
    "\n",
    "To simulate against an inferred vendor model **post technology mapping**, you need to install the matching vendor simulation files yourself in this [directory](/tree/work/tests/lib/techlibs/ecp5) and edit [cells_sim.v](/edit/work/tests/lib/techlibs/ecp5/cells_sim.v)."
   ]
  },
  {
   "cell_type": "code",
   "execution_count": 1,
   "metadata": {},
   "outputs": [],
   "source": [
    "import os\n",
    "import sys\n",
    "\n",
    "sys.path.append(\"ram\")"
   ]
  },
  {
   "cell_type": "markdown",
   "metadata": {},
   "source": [
    "Generate the BRAM mapping verilog headers:"
   ]
  },
  {
   "cell_type": "code",
   "execution_count": 2,
   "metadata": {},
   "outputs": [
    {
     "name": "stdout",
     "output_type": "stream",
     "text": [
      "python3 techlibs/ecp5/brams_connect.py\r\n",
      "python3 techlibs/ecp5/brams_init.py\r\n"
     ]
    }
   ],
   "source": [
    "! cd lib && make"
   ]
  },
  {
   "cell_type": "code",
   "execution_count": 3,
   "metadata": {},
   "outputs": [
    {
     "name": "stdout",
     "output_type": "stream",
     "text": [
      "DP16KD.v\t bram_conn_36.vh       brams_connect.py  cells_map.v\r\n",
      "MULT18X18D.v\t bram_conn_4.vh        brams_init.py\t cells_sim.v\r\n",
      "bram_conn_1.vh\t bram_conn_9.vh        brams_map.v\t gsr_pur_assign.v\r\n",
      "bram_conn_18.vh  bram_init_1_2_4.vh    cells_ff.vh\r\n",
      "bram_conn_2.vh\t bram_init_9_18_36.vh  cells_io.vh\r\n"
     ]
    }
   ],
   "source": [
    "! ls lib/techlibs/ecp5"
   ]
  },
  {
   "cell_type": "markdown",
   "metadata": {},
   "source": [
    "Clean up:"
   ]
  },
  {
   "cell_type": "code",
   "execution_count": 4,
   "metadata": {},
   "outputs": [],
   "source": [
    "rm -f *.v *.ps *vcd"
   ]
  },
  {
   "cell_type": "code",
   "execution_count": 5,
   "metadata": {},
   "outputs": [
    {
     "name": "stderr",
     "output_type": "stream",
     "text": [
      "/home/pyosys/.local/lib/python3.7/site-packages/myhdl-0.11-py3.7.egg/myhdl/conversion/_toVHDL.py:408: ToVHDLWarning: Port is not used: a_ce\n",
      "  category=ToVHDLWarning\n",
      "/home/pyosys/.local/lib/python3.7/site-packages/myhdl-0.11-py3.7.egg/myhdl/conversion/_toVHDL.py:408: ToVHDLWarning: Port is not used: a_read\n",
      "  category=ToVHDLWarning\n",
      "/home/pyosys/.local/lib/python3.7/site-packages/myhdl-0.11-py3.7.egg/myhdl/conversion/_toVHDL.py:408: ToVHDLWarning: Port is not used: a_sel\n",
      "  category=ToVHDLWarning\n",
      "/home/pyosys/.local/lib/python3.7/site-packages/myhdl-0.11-py3.7.egg/myhdl/conversion/_toVHDL.py:408: ToVHDLWarning: Port is not used: b_we\n",
      "  category=ToVHDLWarning\n",
      "/home/pyosys/.local/lib/python3.7/site-packages/myhdl-0.11-py3.7.egg/myhdl/conversion/_toVHDL.py:408: ToVHDLWarning: Port is not used: b_ce\n",
      "  category=ToVHDLWarning\n",
      "/home/pyosys/.local/lib/python3.7/site-packages/myhdl-0.11-py3.7.egg/myhdl/conversion/_toVHDL.py:408: ToVHDLWarning: Port is not used: b_write\n",
      "  category=ToVHDLWarning\n",
      "/home/pyosys/.local/lib/python3.7/site-packages/myhdl-0.11-py3.7.egg/myhdl/conversion/_toVHDL.py:408: ToVHDLWarning: Port is not used: b_sel\n",
      "  category=ToVHDLWarning\n",
      "/home/pyosys/.local/lib/python3.7/site-packages/myhdl-0.11-py3.7.egg/myhdl/conversion/_toVerilog.py:312: ToVerilogWarning: Port is not used: a_ce\n",
      "  category=ToVerilogWarning\n",
      "/home/pyosys/.local/lib/python3.7/site-packages/myhdl-0.11-py3.7.egg/myhdl/conversion/_toVerilog.py:312: ToVerilogWarning: Port is not used: a_read\n",
      "  category=ToVerilogWarning\n",
      "/home/pyosys/.local/lib/python3.7/site-packages/myhdl-0.11-py3.7.egg/myhdl/conversion/_toVerilog.py:312: ToVerilogWarning: Port is not used: a_sel\n",
      "  category=ToVerilogWarning\n",
      "/home/pyosys/.local/lib/python3.7/site-packages/myhdl-0.11-py3.7.egg/myhdl/conversion/_toVerilog.py:312: ToVerilogWarning: Port is not used: b_we\n",
      "  category=ToVerilogWarning\n",
      "/home/pyosys/.local/lib/python3.7/site-packages/myhdl-0.11-py3.7.egg/myhdl/conversion/_toVerilog.py:312: ToVerilogWarning: Port is not used: b_ce\n",
      "  category=ToVerilogWarning\n",
      "/home/pyosys/.local/lib/python3.7/site-packages/myhdl-0.11-py3.7.egg/myhdl/conversion/_toVerilog.py:312: ToVerilogWarning: Port is not used: b_write\n",
      "  category=ToVerilogWarning\n",
      "/home/pyosys/.local/lib/python3.7/site-packages/myhdl-0.11-py3.7.egg/myhdl/conversion/_toVerilog.py:312: ToVerilogWarning: Port is not used: b_sel\n",
      "  category=ToVerilogWarning\n"
     ]
    }
   ],
   "source": [
    "\"\"\"\n",
    "Dual port RAM test suite\n",
    "\n",
    "(c) 2020   <hackfin@section5.ch>\n",
    "\n",
    "LICENSE: GPL v2\n",
    "\n",
    "See ramgen for configuration of 'IMPLEMENTED' variable\n",
    "\n",
    "\"\"\"\n",
    "\n",
    "from ram import ramgen\n",
    "from myhdl import *\n",
    "\n",
    "# This sets the mapping implementation operation mode.\n",
    "\n",
    "# IMPLEMENTED = ramgen.IMPLEMENTATION_VHDL_YOSYS_MAPPED # GHDL mapping\n",
    "\n",
    "IMPLEMENTED = ramgen.IMPLEMENTATION_VHDL_CUSTOM_MAPPED # Custom mapping\n",
    "\n",
    "\n",
    "@block\n",
    "def dpram_r1w1_verify(a, b):\n",
    "    \"Verification TB, read before write\"\n",
    "    @instance\n",
    "    def stim():\n",
    "        a.ce.next = 1\n",
    "        b.ce.next = 1\n",
    "\n",
    "        for i in range(4):\n",
    "            yield a.clk.posedge\n",
    "\n",
    "        for i in range(2 ** len(a.addr)):\n",
    "            yield a.clk.posedge\n",
    "            a.addr.next = i\n",
    "            a.write.next = 0xface\n",
    "            yield a.clk.negedge\n",
    "            a.we.next = 1\n",
    "            yield a.clk.negedge\n",
    "            a.we.next = 0\n",
    "\n",
    "\n",
    "            b.addr.next = i\n",
    "            # Data is ready on port B:\n",
    "            yield b.clk.posedge\n",
    "            yield b.clk.posedge\n",
    "            if b.read != 0xface:\n",
    "                raise ValueError(\"Mismatch B / 1\")\n",
    "\n",
    "            yield a.clk.posedge\n",
    "            a.addr.next = i\n",
    "            a.write.next = 0xdead\n",
    "            yield a.clk.negedge\n",
    "            a.we.next = 1\n",
    "            yield a.clk.negedge\n",
    "            a.we.next = 0\n",
    "\n",
    "            b.addr.next = i\n",
    "            # Data is ready on port B:\n",
    "            yield b.clk.posedge\n",
    "            yield b.clk.posedge\n",
    "            if b.read != 0xdead:\n",
    "                raise ValueError(\"Mismatch B / 2\")\n",
    "\n",
    "\n",
    "        print(\"Simulation Done\")\n",
    "\n",
    "    return instances()\n",
    "\n",
    "# Make sure to use a minimum of 7 address bits to map to a\n",
    "# DP16KD primitive (the custom mapper always does, regardless of bit size)\n",
    "\n",
    "ADDRBITS = 7\n",
    "\n",
    "ramgen.convert(ramgen.dpram_r1w1, IMPLEMENTED, ADDRBITS=ADDRBITS, trace=True)\n"
   ]
  },
  {
   "cell_type": "markdown",
   "metadata": {},
   "source": [
    "Some files were created in the conversion process:"
   ]
  },
  {
   "cell_type": "code",
   "execution_count": 6,
   "metadata": {},
   "outputs": [
    {
     "name": "stdout",
     "output_type": "stream",
     "text": [
      "-rw-r--r-- 1 pyosys users  871 Jun 30 13:57 dpram_r1w1.v\r\n",
      "-rw-r--r-- 1 pyosys users 1410 Jun 30 13:57 dpram_r1w1.vhd\r\n",
      "-rw-r--r-- 1 pyosys users 3518 Jun 30 13:56 dpram_r2w1_hl.vhd\r\n",
      "-rw-r--r-- 1 pyosys users 1681 Jun 30 13:56 dpram_r2w1_raw.vhd\r\n",
      "-rw-r--r-- 1 pyosys users 1487 Jun 30 13:56 dpram_r2w1_wt.vhd\r\n",
      "-rw-r--r-- 1 pyosys users 4349 Jun 30 13:57 pck_myhdl_011.vhd\r\n",
      "-rw-r--r-- 1 pyosys users  922 Jun 30 13:57 tb_dpram_r1w1.v\r\n",
      "-rw-r--r-- 1 pyosys users  876 Jun 30 13:57 tb_test_dpram_r1w1.v\r\n",
      "-rw-r--r-- 1 pyosys users  923 Jun 30 13:57 test_dpram_r1w1.v\r\n",
      "-rw-r--r-- 1 pyosys users 1534 Jun 30 13:57 test_dpram_r1w1.vhd\r\n",
      "-rw-r--r-- 1 pyosys users 4828 Jun 30 13:56 test_dpram_r2w1_hl.vhd\r\n",
      "-rw-r--r-- 1 pyosys users 1974 Jun 30 13:56 test_dpram_r2w1_raw.vhd\r\n",
      "-rw-r--r-- 1 pyosys users 1680 Jun 30 13:56 test_dpram_r2w1_wt.vhd\r\n"
     ]
    }
   ],
   "source": [
    "ls -l *.v *.vhd"
   ]
  },
  {
   "cell_type": "markdown",
   "metadata": {},
   "source": [
    "## Running the memory test bench\n",
    "\n",
    "You might want to edit the file [config.py](config.py).\n",
    "\n",
    "This is a complicated test bench, that, depending on the MODE parameter, creates a cosimulation element of an inferred memory. This can be run through a custom mapper.\n",
    "\n",
    "**Requires installed vendor models**"
   ]
  },
  {
   "cell_type": "code",
   "execution_count": 7,
   "metadata": {},
   "outputs": [
    {
     "name": "stdout",
     "output_type": "stream",
     "text": [
      "\u001b[7;35mRunning YOSYS custom mapper\u001b[0m\n",
      "Running command 'ghdl dpram_r1w1.vhd pck_myhdl_011.vhd -e dpram_r1w1'\n",
      "--------------------\n",
      "Found memory\n",
      "(IdString \"\\WR_CLK_POLARITY\", Const \"1\")\n",
      "(IdString \"\\WR_CLK_ENABLE\", Const \"1\")\n",
      "(IdString \"\\RD_TRANSPARENT\", Const \"0\")\n",
      "(IdString \"\\RD_CLK_POLARITY\", Const \"1\")\n",
      "(IdString \"\\RD_CLK_ENABLE\", Const \"1\")\n",
      "(IdString \"\\RD_PORTS\", Const \"00000000000000000000000000000001\")\n",
      "(IdString \"\\WR_PORTS\", Const \"00000000000000000000000000000001\")\n",
      "(IdString \"\\ABITS\", Const \"00000000000000000000000000000111\")\n",
      "(IdString \"\\SIZE\", Const \"00000000000000000000000010000000\")\n",
      "(IdString \"\\OFFSET\", Const \"00000000000000000000000000000000\")\n",
      "(IdString \"\\WIDTH\", Const \"00000000000000000000000000010000\")\n",
      "(IdString \"\\MEMID\", Const \"010111000011001000111000\")\n",
      "----------------------------------------\n",
      "============================================================\n",
      "Processing Const \"010111000011001000111000\"\n",
      "Instance has 1 write, 1 read ports\n",
      "RD_CLK [SigSpec at 0x1643d70]\n",
      "WR_CLK [SigSpec at 0x152d450]\n",
      "Map <Port A RW clkid=2> to port[\\b_clk::wire_1_1]\n",
      "Map <Port B RW clkid=3> to port[\\a_clk::wire_1_1]\n",
      "\u001b[7;35mMapping...\u001b[0m\n",
      "CLK2  <=  \\b_clk::wire\n",
      "A1ADDR  <=  229574635\n",
      "A1RE  <=  177572\n",
      "A1READ  =>  4167048408\n",
      "A1WE  <=  0\n",
      "A1WRITE  <= (others => 'X')\n",
      "CLK3  <=  \\a_clk::wire\n",
      "B1ADDR  <=  33682048\n",
      "B1RE  <=  0\n",
      "B1READ  <= (others => 'X')\n",
      "B1WE  <=  \\a_we::wire\n",
      "B1WRITE  <=  4164676566\n",
      "#### DONE ####\n",
      "Added cell Cell \"\\meminst0\"\n",
      "Phys. Data width: 18, Address width: 10\n",
      "Connect input \\CLK2\n",
      "Connect input \\A1ADDR\n",
      "Connect input \\A1RE\n",
      "Connect output \\A1READ\n",
      "Connect input \\CLK3\n",
      "Connect input \\B1ADDR\n",
      "Connect input \\B1WE\n",
      "Connect input \\B1WRITE\n",
      "\u001b[7;35mRUNNING TECH MAP PASS\u001b[0m\n",
      "['iverilog', '-s', 'tb_dpram_r1w1', '-D', 'mixed_hdl', '-o', 'dpram_r1w1_mapped.o', 'dpram_r1w1_mapped.v', 'tb_dpram_r1w1.v', 'lib/techlibs/ecp5/cells_sim.v', '-I', 'lib/techlibs/ecp5', 'lib/techlibs/ecp5/gsr_pur_assign.v']\n"
     ]
    },
    {
     "name": "stderr",
     "output_type": "stream",
     "text": [
      "<class 'myhdl._SuspendSimulation'>: Simulated 2000 timesteps\n"
     ]
    }
   ],
   "source": [
    "ramgen.testbench(ramgen.dpram_r1w1, dpram_r1w1_verify, MODE=IMPLEMENTED, ADDRBITS=ADDRBITS)"
   ]
  },
  {
   "cell_type": "markdown",
   "metadata": {},
   "source": [
    "Download created RTL schematic: [dpram_r1w1_mapped.ps](dpram_r1w1_mapped.ps) or the simulation trace [dpram_tb.vcd](dpram_tb.vcd) or the internal trace [dpram_r1w1.vcd](dpram_r1w1.vcd)."
   ]
  },
  {
   "cell_type": "markdown",
   "metadata": {},
   "source": [
    "## VHDL mapping\n",
    "\n",
    "Likewise, we use the GHDL plugin to infer the RAM description into a technology-mapped element.\n",
    "Note that `ADDRBITS` matter for the inferred memory element type. The memory inference is left to yosys.\n",
    "\n",
    "**Currently this scenario fails**"
   ]
  },
  {
   "cell_type": "code",
   "execution_count": 8,
   "metadata": {
    "tags": [
     "raises-exception"
    ]
   },
   "outputs": [
    {
     "name": "stdout",
     "output_type": "stream",
     "text": [
      "['iverilog', '-s', 'tb_dpram_r1w1', '-D', 'mixed_hdl', '-o', 'dpram_r1w1_mapped.o', 'dpram_r1w1_mapped.v', 'tb_dpram_r1w1.v', 'lib/techlibs/ecp5/cells_sim.v', '-I', 'lib/techlibs/ecp5', 'lib/techlibs/ecp5/gsr_pur_assign.v']\n"
     ]
    },
    {
     "name": "stderr",
     "output_type": "stream",
     "text": [
      "/home/pyosys/.local/lib/python3.7/site-packages/myhdl-0.11-py3.7.egg/myhdl/conversion/_toVHDL.py:408: ToVHDLWarning: Port is not used: a_ce\n",
      "  category=ToVHDLWarning\n",
      "/home/pyosys/.local/lib/python3.7/site-packages/myhdl-0.11-py3.7.egg/myhdl/conversion/_toVHDL.py:408: ToVHDLWarning: Port is not used: a_read\n",
      "  category=ToVHDLWarning\n",
      "/home/pyosys/.local/lib/python3.7/site-packages/myhdl-0.11-py3.7.egg/myhdl/conversion/_toVHDL.py:408: ToVHDLWarning: Port is not used: a_sel\n",
      "  category=ToVHDLWarning\n",
      "/home/pyosys/.local/lib/python3.7/site-packages/myhdl-0.11-py3.7.egg/myhdl/conversion/_toVHDL.py:408: ToVHDLWarning: Port is not used: b_we\n",
      "  category=ToVHDLWarning\n",
      "/home/pyosys/.local/lib/python3.7/site-packages/myhdl-0.11-py3.7.egg/myhdl/conversion/_toVHDL.py:408: ToVHDLWarning: Port is not used: b_ce\n",
      "  category=ToVHDLWarning\n",
      "/home/pyosys/.local/lib/python3.7/site-packages/myhdl-0.11-py3.7.egg/myhdl/conversion/_toVHDL.py:408: ToVHDLWarning: Port is not used: b_write\n",
      "  category=ToVHDLWarning\n",
      "/home/pyosys/.local/lib/python3.7/site-packages/myhdl-0.11-py3.7.egg/myhdl/conversion/_toVHDL.py:408: ToVHDLWarning: Port is not used: b_sel\n",
      "  category=ToVHDLWarning\n",
      "/home/pyosys/.local/lib/python3.7/site-packages/myhdl-0.11-py3.7.egg/myhdl/conversion/_toVerilog.py:312: ToVerilogWarning: Port is not used: a_ce\n",
      "  category=ToVerilogWarning\n",
      "/home/pyosys/.local/lib/python3.7/site-packages/myhdl-0.11-py3.7.egg/myhdl/conversion/_toVerilog.py:312: ToVerilogWarning: Port is not used: a_read\n",
      "  category=ToVerilogWarning\n",
      "/home/pyosys/.local/lib/python3.7/site-packages/myhdl-0.11-py3.7.egg/myhdl/conversion/_toVerilog.py:312: ToVerilogWarning: Port is not used: a_sel\n",
      "  category=ToVerilogWarning\n",
      "/home/pyosys/.local/lib/python3.7/site-packages/myhdl-0.11-py3.7.egg/myhdl/conversion/_toVerilog.py:312: ToVerilogWarning: Port is not used: b_we\n",
      "  category=ToVerilogWarning\n",
      "/home/pyosys/.local/lib/python3.7/site-packages/myhdl-0.11-py3.7.egg/myhdl/conversion/_toVerilog.py:312: ToVerilogWarning: Port is not used: b_ce\n",
      "  category=ToVerilogWarning\n",
      "/home/pyosys/.local/lib/python3.7/site-packages/myhdl-0.11-py3.7.egg/myhdl/conversion/_toVerilog.py:312: ToVerilogWarning: Port is not used: b_write\n",
      "  category=ToVerilogWarning\n",
      "/home/pyosys/.local/lib/python3.7/site-packages/myhdl-0.11-py3.7.egg/myhdl/conversion/_toVerilog.py:312: ToVerilogWarning: Port is not used: b_sel\n",
      "  category=ToVerilogWarning\n"
     ]
    },
    {
     "ename": "ValueError",
     "evalue": "Mismatch B / 1",
     "output_type": "error",
     "traceback": [
      "\u001b[0;31m---------------------------------------------------------------------------\u001b[0m",
      "\u001b[0;31mValueError\u001b[0m                                Traceback (most recent call last)",
      "\u001b[0;32m<ipython-input-8-826332cf97ed>\u001b[0m in \u001b[0;36m<module>\u001b[0;34m\u001b[0m\n\u001b[1;32m      6\u001b[0m \u001b[0mADDRBITS\u001b[0m \u001b[0;34m=\u001b[0m \u001b[0;36m7\u001b[0m\u001b[0;34m\u001b[0m\u001b[0;34m\u001b[0m\u001b[0m\n\u001b[1;32m      7\u001b[0m \u001b[0mramgen\u001b[0m\u001b[0;34m.\u001b[0m\u001b[0mconvert\u001b[0m\u001b[0;34m(\u001b[0m\u001b[0mramgen\u001b[0m\u001b[0;34m.\u001b[0m\u001b[0mdpram_r1w1\u001b[0m\u001b[0;34m,\u001b[0m \u001b[0mIMPLEMENTED\u001b[0m\u001b[0;34m,\u001b[0m \u001b[0mADDRBITS\u001b[0m\u001b[0;34m=\u001b[0m\u001b[0mADDRBITS\u001b[0m\u001b[0;34m,\u001b[0m \u001b[0mtrace\u001b[0m\u001b[0;34m=\u001b[0m\u001b[0;32mTrue\u001b[0m\u001b[0;34m)\u001b[0m\u001b[0;34m\u001b[0m\u001b[0;34m\u001b[0m\u001b[0m\n\u001b[0;32m----> 8\u001b[0;31m \u001b[0mramgen\u001b[0m\u001b[0;34m.\u001b[0m\u001b[0mtestbench\u001b[0m\u001b[0;34m(\u001b[0m\u001b[0mramgen\u001b[0m\u001b[0;34m.\u001b[0m\u001b[0mdpram_r1w1\u001b[0m\u001b[0;34m,\u001b[0m \u001b[0mdpram_r1w1_verify\u001b[0m\u001b[0;34m,\u001b[0m \u001b[0mMODE\u001b[0m\u001b[0;34m=\u001b[0m\u001b[0mIMPLEMENTED\u001b[0m\u001b[0;34m,\u001b[0m \u001b[0mADDRBITS\u001b[0m\u001b[0;34m=\u001b[0m\u001b[0mADDRBITS\u001b[0m\u001b[0;34m)\u001b[0m\u001b[0;34m\u001b[0m\u001b[0;34m\u001b[0m\u001b[0m\n\u001b[0m",
      "\u001b[0;32m~/work/tests/ram/ramgen.py\u001b[0m in \u001b[0;36mtestbench\u001b[0;34m(which, verify, MODE, ADDRBITS)\u001b[0m\n\u001b[1;32m    398\u001b[0m         \u001b[0;31m# tb.convert(\"Verilog\", name=\"tb\")\u001b[0m\u001b[0;34m\u001b[0m\u001b[0;34m\u001b[0m\u001b[0;34m\u001b[0m\u001b[0m\n\u001b[1;32m    399\u001b[0m         \u001b[0mtb\u001b[0m\u001b[0;34m.\u001b[0m\u001b[0mconfig_sim\u001b[0m\u001b[0;34m(\u001b[0m\u001b[0mbackend\u001b[0m \u001b[0;34m=\u001b[0m \u001b[0;34m'myhdl'\u001b[0m\u001b[0;34m,\u001b[0m \u001b[0mtimescale\u001b[0m\u001b[0;34m=\u001b[0m\u001b[0;34m\"1ps\"\u001b[0m\u001b[0;34m,\u001b[0m \u001b[0mtrace\u001b[0m\u001b[0;34m=\u001b[0m\u001b[0;32mTrue\u001b[0m\u001b[0;34m)\u001b[0m\u001b[0;34m\u001b[0m\u001b[0;34m\u001b[0m\u001b[0m\n\u001b[0;32m--> 400\u001b[0;31m         \u001b[0mtb\u001b[0m\u001b[0;34m.\u001b[0m\u001b[0mrun_sim\u001b[0m\u001b[0;34m(\u001b[0m\u001b[0;36m2000\u001b[0m\u001b[0;34m)\u001b[0m\u001b[0;34m\u001b[0m\u001b[0;34m\u001b[0m\u001b[0m\n\u001b[0m\u001b[1;32m    401\u001b[0m         \u001b[0mtb\u001b[0m\u001b[0;34m.\u001b[0m\u001b[0mquit_sim\u001b[0m\u001b[0;34m(\u001b[0m\u001b[0;34m)\u001b[0m\u001b[0;34m\u001b[0m\u001b[0;34m\u001b[0m\u001b[0m\n\u001b[1;32m    402\u001b[0m \u001b[0;34m\u001b[0m\u001b[0m\n",
      "\u001b[0;32m~/.local/lib/python3.7/site-packages/myhdl-0.11-py3.7.egg/myhdl/_block.py\u001b[0m in \u001b[0;36mrun_sim\u001b[0;34m(self, duration, quiet, timeunit_suffix)\u001b[0m\n\u001b[1;32m    416\u001b[0m                         \u001b[0;32mif\u001b[0m \u001b[0mtimeunit_suffix\u001b[0m\u001b[0;34m:\u001b[0m\u001b[0;34m\u001b[0m\u001b[0;34m\u001b[0m\u001b[0m\n\u001b[1;32m    417\u001b[0m                                 \u001b[0mself\u001b[0m\u001b[0;34m.\u001b[0m\u001b[0msim\u001b[0m\u001b[0;34m.\u001b[0m\u001b[0mtimeunit_suffix\u001b[0m \u001b[0;34m=\u001b[0m \u001b[0mtimeunit_suffix\u001b[0m\u001b[0;34m\u001b[0m\u001b[0;34m\u001b[0m\u001b[0m\n\u001b[0;32m--> 418\u001b[0;31m                 \u001b[0mself\u001b[0m\u001b[0;34m.\u001b[0m\u001b[0msim\u001b[0m\u001b[0;34m.\u001b[0m\u001b[0mrun\u001b[0m\u001b[0;34m(\u001b[0m\u001b[0mduration\u001b[0m\u001b[0;34m,\u001b[0m \u001b[0mquiet\u001b[0m\u001b[0;34m)\u001b[0m\u001b[0;34m\u001b[0m\u001b[0;34m\u001b[0m\u001b[0m\n\u001b[0m\u001b[1;32m    419\u001b[0m \u001b[0;34m\u001b[0m\u001b[0m\n\u001b[1;32m    420\u001b[0m         \u001b[0;32mdef\u001b[0m \u001b[0mquit_sim\u001b[0m\u001b[0;34m(\u001b[0m\u001b[0mself\u001b[0m\u001b[0;34m)\u001b[0m\u001b[0;34m:\u001b[0m\u001b[0;34m\u001b[0m\u001b[0;34m\u001b[0m\u001b[0m\n",
      "\u001b[0;32m~/.local/lib/python3.7/site-packages/myhdl-0.11-py3.7.egg/myhdl/_Simulation.py\u001b[0m in \u001b[0;36mrun\u001b[0;34m(self, duration, quiet)\u001b[0m\n\u001b[1;32m    155\u001b[0m                                         \u001b[0mwaiter\u001b[0m \u001b[0;34m=\u001b[0m \u001b[0m_pop\u001b[0m\u001b[0;34m(\u001b[0m\u001b[0;34m)\u001b[0m\u001b[0;34m\u001b[0m\u001b[0;34m\u001b[0m\u001b[0m\n\u001b[1;32m    156\u001b[0m                                         \u001b[0;32mtry\u001b[0m\u001b[0;34m:\u001b[0m\u001b[0;34m\u001b[0m\u001b[0;34m\u001b[0m\u001b[0m\n\u001b[0;32m--> 157\u001b[0;31m                                                 \u001b[0mwaiter\u001b[0m\u001b[0;34m.\u001b[0m\u001b[0mnext\u001b[0m\u001b[0;34m(\u001b[0m\u001b[0mwaiters\u001b[0m\u001b[0;34m,\u001b[0m \u001b[0mactives\u001b[0m\u001b[0;34m,\u001b[0m \u001b[0mexc\u001b[0m\u001b[0;34m)\u001b[0m\u001b[0;34m\u001b[0m\u001b[0;34m\u001b[0m\u001b[0m\n\u001b[0m\u001b[1;32m    158\u001b[0m                                         \u001b[0;32mexcept\u001b[0m \u001b[0mStopIteration\u001b[0m\u001b[0;34m:\u001b[0m\u001b[0;34m\u001b[0m\u001b[0;34m\u001b[0m\u001b[0m\n\u001b[1;32m    159\u001b[0m                                                 \u001b[0;32mcontinue\u001b[0m\u001b[0;34m\u001b[0m\u001b[0;34m\u001b[0m\u001b[0m\n",
      "\u001b[0;32m~/.local/lib/python3.7/site-packages/myhdl-0.11-py3.7.egg/myhdl/_Waiter.py\u001b[0m in \u001b[0;36mnext\u001b[0;34m(self, waiters, actives, exc)\u001b[0m\n\u001b[1;32m    138\u001b[0m \u001b[0;34m\u001b[0m\u001b[0m\n\u001b[1;32m    139\u001b[0m     \u001b[0;32mdef\u001b[0m \u001b[0mnext\u001b[0m\u001b[0;34m(\u001b[0m\u001b[0mself\u001b[0m\u001b[0;34m,\u001b[0m \u001b[0mwaiters\u001b[0m\u001b[0;34m,\u001b[0m \u001b[0mactives\u001b[0m\u001b[0;34m,\u001b[0m \u001b[0mexc\u001b[0m\u001b[0;34m)\u001b[0m\u001b[0;34m:\u001b[0m\u001b[0;34m\u001b[0m\u001b[0;34m\u001b[0m\u001b[0m\n\u001b[0;32m--> 140\u001b[0;31m         \u001b[0mclause\u001b[0m \u001b[0;34m=\u001b[0m \u001b[0mnext\u001b[0m\u001b[0;34m(\u001b[0m\u001b[0mself\u001b[0m\u001b[0;34m.\u001b[0m\u001b[0mgenerator\u001b[0m\u001b[0;34m)\u001b[0m\u001b[0;34m\u001b[0m\u001b[0;34m\u001b[0m\u001b[0m\n\u001b[0m\u001b[1;32m    141\u001b[0m         \u001b[0mclause\u001b[0m\u001b[0;34m.\u001b[0m\u001b[0mappend\u001b[0m\u001b[0;34m(\u001b[0m\u001b[0mself\u001b[0m\u001b[0;34m)\u001b[0m\u001b[0;34m\u001b[0m\u001b[0;34m\u001b[0m\u001b[0m\n\u001b[1;32m    142\u001b[0m \u001b[0;34m\u001b[0m\u001b[0m\n",
      "\u001b[0;32m<ipython-input-5-259ab130268f>\u001b[0m in \u001b[0;36mstim\u001b[0;34m()\u001b[0m\n\u001b[1;32m     46\u001b[0m             \u001b[0;32myield\u001b[0m \u001b[0mb\u001b[0m\u001b[0;34m.\u001b[0m\u001b[0mclk\u001b[0m\u001b[0;34m.\u001b[0m\u001b[0mposedge\u001b[0m\u001b[0;34m\u001b[0m\u001b[0;34m\u001b[0m\u001b[0m\n\u001b[1;32m     47\u001b[0m             \u001b[0;32mif\u001b[0m \u001b[0mb\u001b[0m\u001b[0;34m.\u001b[0m\u001b[0mread\u001b[0m \u001b[0;34m!=\u001b[0m \u001b[0;36m0xface\u001b[0m\u001b[0;34m:\u001b[0m\u001b[0;34m\u001b[0m\u001b[0;34m\u001b[0m\u001b[0m\n\u001b[0;32m---> 48\u001b[0;31m                 \u001b[0;32mraise\u001b[0m \u001b[0mValueError\u001b[0m\u001b[0;34m(\u001b[0m\u001b[0;34m\"Mismatch B / 1\"\u001b[0m\u001b[0;34m)\u001b[0m\u001b[0;34m\u001b[0m\u001b[0;34m\u001b[0m\u001b[0m\n\u001b[0m\u001b[1;32m     49\u001b[0m \u001b[0;34m\u001b[0m\u001b[0m\n\u001b[1;32m     50\u001b[0m             \u001b[0;32myield\u001b[0m \u001b[0ma\u001b[0m\u001b[0;34m.\u001b[0m\u001b[0mclk\u001b[0m\u001b[0;34m.\u001b[0m\u001b[0mposedge\u001b[0m\u001b[0;34m\u001b[0m\u001b[0;34m\u001b[0m\u001b[0m\n",
      "\u001b[0;31mValueError\u001b[0m: Mismatch B / 1"
     ]
    }
   ],
   "source": [
    "# IMPLEMENTED = ramgen.IMPLEMENTATION_VERILOG_MODEL # Cosim against verilog model\n",
    "\n",
    "IMPLEMENTED = ramgen.IMPLEMENTATION_VHDL_YOSYS_MAPPED # GHDL mapping\n",
    "\n",
    "\n",
    "ADDRBITS = 7\n",
    "ramgen.convert(ramgen.dpram_r1w1, IMPLEMENTED, ADDRBITS=ADDRBITS, trace=True)\n",
    "ramgen.testbench(ramgen.dpram_r1w1, dpram_r1w1_verify, MODE=IMPLEMENTED, ADDRBITS=ADDRBITS)"
   ]
  },
  {
   "cell_type": "code",
   "execution_count": 9,
   "metadata": {},
   "outputs": [
    {
     "name": "stdout",
     "output_type": "stream",
     "text": [
      "dpram_r1w1.vcd\tdpram_tb.1593525452.8778656.vcd  dpram_tb.vcd\r\n"
     ]
    }
   ],
   "source": [
    "!ls *.vcd\n"
   ]
  },
  {
   "cell_type": "markdown",
   "metadata": {},
   "source": [
    "### Read-after-write r2 w1\n",
    "\n",
    "Two read ports, one write port, 'read-after'write' behaviour:"
   ]
  },
  {
   "cell_type": "code",
   "execution_count": 10,
   "metadata": {},
   "outputs": [
    {
     "name": "stdout",
     "output_type": "stream",
     "text": [
      "Simulation Done\n"
     ]
    },
    {
     "name": "stderr",
     "output_type": "stream",
     "text": [
      "/home/pyosys/.local/lib/python3.7/site-packages/myhdl-0.11-py3.7.egg/myhdl/conversion/_toVHDL.py:408: ToVHDLWarning: Port is not used: a_sel\n",
      "  category=ToVHDLWarning\n",
      "/home/pyosys/.local/lib/python3.7/site-packages/myhdl-0.11-py3.7.egg/myhdl/conversion/_toVHDL.py:408: ToVHDLWarning: Port is not used: b_we\n",
      "  category=ToVHDLWarning\n",
      "/home/pyosys/.local/lib/python3.7/site-packages/myhdl-0.11-py3.7.egg/myhdl/conversion/_toVHDL.py:408: ToVHDLWarning: Port is not used: b_write\n",
      "  category=ToVHDLWarning\n",
      "/home/pyosys/.local/lib/python3.7/site-packages/myhdl-0.11-py3.7.egg/myhdl/conversion/_toVHDL.py:408: ToVHDLWarning: Port is not used: b_sel\n",
      "  category=ToVHDLWarning\n",
      "/home/pyosys/.local/lib/python3.7/site-packages/myhdl-0.11-py3.7.egg/myhdl/conversion/_toVerilog.py:312: ToVerilogWarning: Port is not used: a_sel\n",
      "  category=ToVerilogWarning\n",
      "/home/pyosys/.local/lib/python3.7/site-packages/myhdl-0.11-py3.7.egg/myhdl/conversion/_toVerilog.py:312: ToVerilogWarning: Port is not used: b_we\n",
      "  category=ToVerilogWarning\n",
      "/home/pyosys/.local/lib/python3.7/site-packages/myhdl-0.11-py3.7.egg/myhdl/conversion/_toVerilog.py:312: ToVerilogWarning: Port is not used: b_write\n",
      "  category=ToVerilogWarning\n",
      "/home/pyosys/.local/lib/python3.7/site-packages/myhdl-0.11-py3.7.egg/myhdl/conversion/_toVerilog.py:312: ToVerilogWarning: Port is not used: b_sel\n",
      "  category=ToVerilogWarning\n",
      "<class 'myhdl._SuspendSimulation'>: Simulated 2000 timesteps\n"
     ]
    }
   ],
   "source": [
    "from dpram_r2w1_raw import dpram_r2w1_raw, dpram_r2w1_raw_verify, IMPLEMENTED\n",
    "\n",
    "ramgen.convert(dpram_r2w1_raw, IMPLEMENTED, ADDRBITS=ADDRBITS, trace=True)\n",
    "ramgen.testbench(dpram_r2w1_raw, dpram_r2w1_raw_verify, MODE=IMPLEMENTED, ADDRBITS=ADDRBITS)"
   ]
  },
  {
   "cell_type": "markdown",
   "metadata": {},
   "source": [
    "### Variant with H/L select\n",
    "\n",
    "The `dpram_r2w1_hl` is simple a composed dual read port RAM which uses the `.sel` port pins to select high/low byte for selective byte writes."
   ]
  },
  {
   "cell_type": "code",
   "execution_count": 11,
   "metadata": {},
   "outputs": [
    {
     "name": "stdout",
     "output_type": "stream",
     "text": [
      "\u001b[7;35mRunning YOSYS custom mapper\u001b[0m\n",
      "Running command 'ghdl dpram_r2w1_hl.vhd pck_myhdl_011.vhd -e dpram_r2w1_hl'\n",
      "--------------------\n",
      "Found memory\n",
      "(IdString \"\\WR_CLK_POLARITY\", Const \"1\")\n",
      "(IdString \"\\WR_CLK_ENABLE\", Const \"1\")\n",
      "(IdString \"\\RD_TRANSPARENT\", Const \"00\")\n",
      "(IdString \"\\RD_CLK_POLARITY\", Const \"11\")\n",
      "(IdString \"\\RD_CLK_ENABLE\", Const \"11\")\n",
      "(IdString \"\\RD_PORTS\", Const \"00000000000000000000000000000010\")\n",
      "(IdString \"\\WR_PORTS\", Const \"00000000000000000000000000000001\")\n",
      "(IdString \"\\ABITS\", Const \"00000000000000000000000000000111\")\n",
      "(IdString \"\\SIZE\", Const \"00000000000000000000000010000000\")\n",
      "(IdString \"\\OFFSET\", Const \"00000000000000000000000000000000\")\n",
      "(IdString \"\\WIDTH\", Const \"00000000000000000000000000001000\")\n",
      "(IdString \"\\MEMID\", Const \"010111000011100100110001\")\n",
      "----------------------------------------\n",
      "--------------------\n",
      "Found memory\n",
      "(IdString \"\\WR_CLK_POLARITY\", Const \"1\")\n",
      "(IdString \"\\WR_CLK_ENABLE\", Const \"1\")\n",
      "(IdString \"\\RD_TRANSPARENT\", Const \"00\")\n",
      "(IdString \"\\RD_CLK_POLARITY\", Const \"11\")\n",
      "(IdString \"\\RD_CLK_ENABLE\", Const \"11\")\n",
      "(IdString \"\\RD_PORTS\", Const \"00000000000000000000000000000010\")\n",
      "(IdString \"\\WR_PORTS\", Const \"00000000000000000000000000000001\")\n",
      "(IdString \"\\ABITS\", Const \"00000000000000000000000000000111\")\n",
      "(IdString \"\\SIZE\", Const \"00000000000000000000000010000000\")\n",
      "(IdString \"\\OFFSET\", Const \"00000000000000000000000000000000\")\n",
      "(IdString \"\\WIDTH\", Const \"00000000000000000000000000001000\")\n",
      "(IdString \"\\MEMID\", Const \"010111000011100000110110\")\n",
      "----------------------------------------\n",
      "============================================================\n",
      "Processing Const \"010111000011100100110001\"\n",
      "Instance has 1 write, 2 read ports\n",
      "RD_CLK [SigSpec at 0x160bc60, SigSpec at 0x15c6210]\n",
      "RD_CLK [SigSpec at 0x160bc60, SigSpec at 0x15c6210]\n",
      "WR_CLK [SigSpec at 0xedb85a0]\n",
      "Map <Port A RW clkid=2> to port[\\b_clk::wire_1_1]\n",
      "Map <Port B RW clkid=3> to port[\\a_clk::wire_1_1]\n",
      "\u001b[7;35mMapping...\u001b[0m\n",
      "CLK2  <=  \\b_clk::wire\n",
      "A1ADDR  <=  229574635\n",
      "A1RE  <=  177572\n",
      "A1READ  =>  829096135\n",
      "A1WE  <=  0\n",
      "A1WRITE  <= (others => 'X')\n",
      "CLK3  <=  \\a_clk::wire\n",
      "B1ADDR  <=  33682048\n",
      "B1RE  <=  \\al_we::wire\n",
      "B1READ  =>  3468813003\n",
      "B1WE  <=  \\al_we::wire\n",
      "B1WRITE  <=  1947711438\n",
      "#### DONE ####\n",
      "Added cell Cell \"\\meminst0\"\n",
      "Phys. Data width: 18, Address width: 10\n",
      "Connect input \\CLK2\n",
      "Connect input \\A1ADDR\n",
      "Connect input \\A1RE\n",
      "Connect output \\A1READ\n",
      "Connect input \\CLK3\n",
      "Connect input \\B1ADDR\n",
      "Connect input \\B1RE\n",
      "Connect output \\B1READ\n",
      "Connect input \\B1WE\n",
      "Connect input \\B1WRITE\n",
      "============================================================\n",
      "Processing Const \"010111000011100000110110\"\n",
      "Instance has 1 write, 2 read ports\n",
      "RD_CLK [SigSpec at 0xea649d0, SigSpec at 0xea7fd70]\n",
      "RD_CLK [SigSpec at 0xea649d0, SigSpec at 0xea7fd70]\n",
      "WR_CLK [SigSpec at 0x1778c30]\n",
      "Map <Port A RW clkid=2> to port[\\b_clk::wire_1_1]\n",
      "Map <Port B RW clkid=3> to port[\\a_clk::wire_1_1]\n",
      "\u001b[7;35mMapping...\u001b[0m\n",
      "CLK2  <=  \\b_clk::wire\n",
      "A1ADDR  <=  229574635\n",
      "A1RE  <=  177572\n",
      "A1READ  =>  922914801\n",
      "A1WE  <=  0\n",
      "A1WRITE  <= (others => 'X')\n",
      "CLK3  <=  \\a_clk::wire\n",
      "B1ADDR  <=  33682048\n",
      "B1RE  <=  \\ah_we::wire\n",
      "B1READ  =>  1668320733\n",
      "B1WE  <=  \\ah_we::wire\n",
      "B1WRITE  <=  2783399622\n",
      "#### DONE ####\n",
      "Added cell Cell \"\\meminst1\"\n",
      "Phys. Data width: 18, Address width: 10\n",
      "Connect input \\CLK2\n",
      "Connect input \\A1ADDR\n",
      "Connect input \\A1RE\n",
      "Connect output \\A1READ\n",
      "Connect input \\CLK3\n",
      "Connect input \\B1ADDR\n",
      "Connect input \\B1RE\n",
      "Connect output \\B1READ\n",
      "Connect input \\B1WE\n",
      "Connect input \\B1WRITE\n",
      "\u001b[7;35mRUNNING TECH MAP PASS\u001b[0m\n",
      "['iverilog', '-s', 'tb_dpram_r2w1_hl', '-D', 'mixed_hdl', '-o', 'dpram_r2w1_hl_mapped.o', 'dpram_r2w1_hl_mapped.v', 'tb_dpram_r2w1_hl.v', 'lib/techlibs/ecp5/cells_sim.v', '-I', 'lib/techlibs/ecp5', 'lib/techlibs/ecp5/gsr_pur_assign.v']\n"
     ]
    },
    {
     "name": "stderr",
     "output_type": "stream",
     "text": [
      "/home/pyosys/.local/lib/python3.7/site-packages/myhdl-0.11-py3.7.egg/myhdl/conversion/_toVHDL.py:408: ToVHDLWarning: Port is not used: a_ce\n",
      "  category=ToVHDLWarning\n",
      "/home/pyosys/.local/lib/python3.7/site-packages/myhdl-0.11-py3.7.egg/myhdl/conversion/_toVHDL.py:408: ToVHDLWarning: Port is not used: b_ce\n",
      "  category=ToVHDLWarning\n",
      "/home/pyosys/.local/lib/python3.7/site-packages/myhdl-0.11-py3.7.egg/myhdl/conversion/_toVHDL.py:495: ToVHDLWarning: Signal is driven but not read: dpram_r2w1_hl_0_bh_we\n",
      "  category=ToVHDLWarning\n",
      "/home/pyosys/.local/lib/python3.7/site-packages/myhdl-0.11-py3.7.egg/myhdl/conversion/_toVHDL.py:495: ToVHDLWarning: Signal is driven but not read: dpram_r2w1_hl_0_bl_we\n",
      "  category=ToVHDLWarning\n",
      "/home/pyosys/.local/lib/python3.7/site-packages/myhdl-0.11-py3.7.egg/myhdl/conversion/_toVHDL.py:495: ToVHDLWarning: Signal is driven but not read: dpram_r2w1_hl_0_bh_write\n",
      "  category=ToVHDLWarning\n",
      "/home/pyosys/.local/lib/python3.7/site-packages/myhdl-0.11-py3.7.egg/myhdl/conversion/_toVHDL.py:495: ToVHDLWarning: Signal is driven but not read: dpram_r2w1_hl_0_bl_write\n",
      "  category=ToVHDLWarning\n",
      "/home/pyosys/.local/lib/python3.7/site-packages/myhdl-0.11-py3.7.egg/myhdl/conversion/_toVerilog.py:312: ToVerilogWarning: Port is not used: a_ce\n",
      "  category=ToVerilogWarning\n",
      "/home/pyosys/.local/lib/python3.7/site-packages/myhdl-0.11-py3.7.egg/myhdl/conversion/_toVerilog.py:312: ToVerilogWarning: Port is not used: b_ce\n",
      "  category=ToVerilogWarning\n",
      "/home/pyosys/.local/lib/python3.7/site-packages/myhdl-0.11-py3.7.egg/myhdl/conversion/_toVerilog.py:330: ToVerilogWarning: Signal is driven but not read: dpram_r2w1_hl_0_ah_clk\n",
      "  category=ToVerilogWarning\n",
      "/home/pyosys/.local/lib/python3.7/site-packages/myhdl-0.11-py3.7.egg/myhdl/conversion/_toVerilog.py:330: ToVerilogWarning: Signal is driven but not read: dpram_r2w1_hl_0_al_clk\n",
      "  category=ToVerilogWarning\n",
      "/home/pyosys/.local/lib/python3.7/site-packages/myhdl-0.11-py3.7.egg/myhdl/conversion/_toVerilog.py:330: ToVerilogWarning: Signal is driven but not read: dpram_r2w1_hl_0_bh_clk\n",
      "  category=ToVerilogWarning\n",
      "/home/pyosys/.local/lib/python3.7/site-packages/myhdl-0.11-py3.7.egg/myhdl/conversion/_toVerilog.py:330: ToVerilogWarning: Signal is driven but not read: dpram_r2w1_hl_0_bl_clk\n",
      "  category=ToVerilogWarning\n",
      "/home/pyosys/.local/lib/python3.7/site-packages/myhdl-0.11-py3.7.egg/myhdl/conversion/_toVerilog.py:330: ToVerilogWarning: Signal is driven but not read: dpram_r2w1_hl_0_bh_we\n",
      "  category=ToVerilogWarning\n",
      "/home/pyosys/.local/lib/python3.7/site-packages/myhdl-0.11-py3.7.egg/myhdl/conversion/_toVerilog.py:330: ToVerilogWarning: Signal is driven but not read: dpram_r2w1_hl_0_bl_we\n",
      "  category=ToVerilogWarning\n",
      "/home/pyosys/.local/lib/python3.7/site-packages/myhdl-0.11-py3.7.egg/myhdl/conversion/_toVerilog.py:330: ToVerilogWarning: Signal is driven but not read: dpram_r2w1_hl_0_bh_write\n",
      "  category=ToVerilogWarning\n",
      "/home/pyosys/.local/lib/python3.7/site-packages/myhdl-0.11-py3.7.egg/myhdl/conversion/_toVerilog.py:330: ToVerilogWarning: Signal is driven but not read: dpram_r2w1_hl_0_bl_write\n",
      "  category=ToVerilogWarning\n",
      "/home/pyosys/.local/lib/python3.7/site-packages/myhdl-0.11-py3.7.egg/myhdl/conversion/_toVHDL.py:495: ToVHDLWarning: Signal is driven but not read: bh_we\n",
      "  category=ToVHDLWarning\n",
      "/home/pyosys/.local/lib/python3.7/site-packages/myhdl-0.11-py3.7.egg/myhdl/conversion/_toVHDL.py:495: ToVHDLWarning: Signal is driven but not read: bl_we\n",
      "  category=ToVHDLWarning\n",
      "/home/pyosys/.local/lib/python3.7/site-packages/myhdl-0.11-py3.7.egg/myhdl/conversion/_toVHDL.py:495: ToVHDLWarning: Signal is driven but not read: bh_write\n",
      "  category=ToVHDLWarning\n",
      "/home/pyosys/.local/lib/python3.7/site-packages/myhdl-0.11-py3.7.egg/myhdl/conversion/_toVHDL.py:495: ToVHDLWarning: Signal is driven but not read: bl_write\n",
      "  category=ToVHDLWarning\n",
      "/home/pyosys/.local/lib/python3.7/site-packages/myhdl-0.11-py3.7.egg/myhdl/conversion/_toVerilog.py:330: ToVerilogWarning: Signal is driven but not read: ah_clk\n",
      "  category=ToVerilogWarning\n",
      "/home/pyosys/.local/lib/python3.7/site-packages/myhdl-0.11-py3.7.egg/myhdl/conversion/_toVerilog.py:330: ToVerilogWarning: Signal is driven but not read: al_clk\n",
      "  category=ToVerilogWarning\n",
      "/home/pyosys/.local/lib/python3.7/site-packages/myhdl-0.11-py3.7.egg/myhdl/conversion/_toVerilog.py:330: ToVerilogWarning: Signal is driven but not read: bh_clk\n",
      "  category=ToVerilogWarning\n",
      "/home/pyosys/.local/lib/python3.7/site-packages/myhdl-0.11-py3.7.egg/myhdl/conversion/_toVerilog.py:330: ToVerilogWarning: Signal is driven but not read: bl_clk\n",
      "  category=ToVerilogWarning\n",
      "/home/pyosys/.local/lib/python3.7/site-packages/myhdl-0.11-py3.7.egg/myhdl/conversion/_toVerilog.py:330: ToVerilogWarning: Signal is driven but not read: bh_we\n",
      "  category=ToVerilogWarning\n",
      "/home/pyosys/.local/lib/python3.7/site-packages/myhdl-0.11-py3.7.egg/myhdl/conversion/_toVerilog.py:330: ToVerilogWarning: Signal is driven but not read: bl_we\n",
      "  category=ToVerilogWarning\n",
      "/home/pyosys/.local/lib/python3.7/site-packages/myhdl-0.11-py3.7.egg/myhdl/conversion/_toVerilog.py:330: ToVerilogWarning: Signal is driven but not read: bh_write\n",
      "  category=ToVerilogWarning\n",
      "/home/pyosys/.local/lib/python3.7/site-packages/myhdl-0.11-py3.7.egg/myhdl/conversion/_toVerilog.py:330: ToVerilogWarning: Signal is driven but not read: bl_write\n",
      "  category=ToVerilogWarning\n",
      "<class 'myhdl._SuspendSimulation'>: Simulated 2000 timesteps\n"
     ]
    }
   ],
   "source": [
    "from dpram_r2w1_hl import dpram_r2w1_hl, dpram_r2w1_hl_verify, IMPLEMENTED\n",
    "\n",
    "ramgen.convert(dpram_r2w1_hl, IMPLEMENTED, ADDRBITS=ADDRBITS, trace=True)\n",
    "ramgen.testbench(dpram_r2w1_hl, dpram_r2w1_hl_verify, MODE=IMPLEMENTED, ADDRBITS=ADDRBITS)"
   ]
  },
  {
   "cell_type": "markdown",
   "metadata": {},
   "source": [
    "### Write-Through variant"
   ]
  },
  {
   "cell_type": "code",
   "execution_count": 12,
   "metadata": {},
   "outputs": [
    {
     "name": "stdout",
     "output_type": "stream",
     "text": [
      "['iverilog', '-s', 'tb_dpram_r2w1_wt', '-D', 'mixed_hdl', '-o', 'dpram_r2w1_wt.o', 'dpram_r2w1_wt.v', 'tb_dpram_r2w1_wt.v', 'lib/techlibs/ecp5/cells_sim.v', '-I', 'lib/techlibs/ecp5', 'lib/techlibs/ecp5/gsr_pur_assign.v']\n",
      "Simulation Done\n"
     ]
    },
    {
     "name": "stderr",
     "output_type": "stream",
     "text": [
      "/home/pyosys/.local/lib/python3.7/site-packages/myhdl-0.11-py3.7.egg/myhdl/conversion/_toVHDL.py:408: ToVHDLWarning: Port is not used: a_ce\n",
      "  category=ToVHDLWarning\n",
      "/home/pyosys/.local/lib/python3.7/site-packages/myhdl-0.11-py3.7.egg/myhdl/conversion/_toVHDL.py:408: ToVHDLWarning: Port is not used: a_sel\n",
      "  category=ToVHDLWarning\n",
      "/home/pyosys/.local/lib/python3.7/site-packages/myhdl-0.11-py3.7.egg/myhdl/conversion/_toVHDL.py:408: ToVHDLWarning: Port is not used: b_we\n",
      "  category=ToVHDLWarning\n",
      "/home/pyosys/.local/lib/python3.7/site-packages/myhdl-0.11-py3.7.egg/myhdl/conversion/_toVHDL.py:408: ToVHDLWarning: Port is not used: b_ce\n",
      "  category=ToVHDLWarning\n",
      "/home/pyosys/.local/lib/python3.7/site-packages/myhdl-0.11-py3.7.egg/myhdl/conversion/_toVHDL.py:408: ToVHDLWarning: Port is not used: b_write\n",
      "  category=ToVHDLWarning\n",
      "/home/pyosys/.local/lib/python3.7/site-packages/myhdl-0.11-py3.7.egg/myhdl/conversion/_toVHDL.py:408: ToVHDLWarning: Port is not used: b_sel\n",
      "  category=ToVHDLWarning\n",
      "/home/pyosys/.local/lib/python3.7/site-packages/myhdl-0.11-py3.7.egg/myhdl/conversion/_toVerilog.py:312: ToVerilogWarning: Port is not used: a_ce\n",
      "  category=ToVerilogWarning\n",
      "/home/pyosys/.local/lib/python3.7/site-packages/myhdl-0.11-py3.7.egg/myhdl/conversion/_toVerilog.py:312: ToVerilogWarning: Port is not used: a_sel\n",
      "  category=ToVerilogWarning\n",
      "/home/pyosys/.local/lib/python3.7/site-packages/myhdl-0.11-py3.7.egg/myhdl/conversion/_toVerilog.py:312: ToVerilogWarning: Port is not used: b_we\n",
      "  category=ToVerilogWarning\n",
      "/home/pyosys/.local/lib/python3.7/site-packages/myhdl-0.11-py3.7.egg/myhdl/conversion/_toVerilog.py:312: ToVerilogWarning: Port is not used: b_ce\n",
      "  category=ToVerilogWarning\n",
      "/home/pyosys/.local/lib/python3.7/site-packages/myhdl-0.11-py3.7.egg/myhdl/conversion/_toVerilog.py:312: ToVerilogWarning: Port is not used: b_write\n",
      "  category=ToVerilogWarning\n",
      "/home/pyosys/.local/lib/python3.7/site-packages/myhdl-0.11-py3.7.egg/myhdl/conversion/_toVerilog.py:312: ToVerilogWarning: Port is not used: b_sel\n",
      "  category=ToVerilogWarning\n",
      "<class 'myhdl._SuspendSimulation'>: Simulated 2000 timesteps\n"
     ]
    }
   ],
   "source": [
    "from dpram_r2w1_wt import dpram_r2w1_verify, IMPLEMENTED\n",
    "\n",
    "rammodel = ramgen.dpram_r2w1_wt\n",
    "# Verify that this model fails with the test by enabling this line:\n",
    "# rammodel = dpram_r2w1_raw\n",
    "\n",
    "ramgen.convert(rammodel, IMPLEMENTED, ADDRBITS=ADDRBITS, trace=True)\n",
    "ramgen.testbench(rammodel, dpram_r2w1_verify, MODE=IMPLEMENTED, ADDRBITS=ADDRBITS)"
   ]
  },
  {
   "cell_type": "code",
   "execution_count": null,
   "metadata": {},
   "outputs": [],
   "source": []
  }
 ],
 "metadata": {
  "celltoolbar": "Tags",
  "kernelspec": {
   "display_name": "Python 3",
   "language": "python",
   "name": "python3"
  },
  "language_info": {
   "codemirror_mode": {
    "name": "ipython",
    "version": 3
   },
   "file_extension": ".py",
   "mimetype": "text/x-python",
   "name": "python",
   "nbconvert_exporter": "python",
   "pygments_lexer": "ipython3",
   "version": "3.7.3"
  }
 },
 "nbformat": 4,
 "nbformat_minor": 4
}
