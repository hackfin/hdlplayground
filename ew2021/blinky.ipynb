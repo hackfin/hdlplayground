{
 "cells": [
  {
   "cell_type": "markdown",
   "metadata": {
    "slideshow": {
     "slide_type": "slide"
    }
   },
   "source": [
    "# Hardware synthesis exercise #1: Blinky\n",
    "\n",
    "We create the classic blinky design: a flashing LED setup for a Lattice ECP5 FPGA target.\n",
    "Design elements:\n",
    "\n",
    "* A clock generator (on chip)\n",
    "* A cycle counter\n",
    "* Flipflop toggle logic"
   ]
  },
  {
   "cell_type": "code",
   "execution_count": 12,
   "metadata": {
    "hide_input": true,
    "init_cell": true,
    "slideshow": {
     "slide_type": "-"
    }
   },
   "outputs": [],
   "source": [
    "import config"
   ]
  },
  {
   "cell_type": "markdown",
   "metadata": {
    "slideshow": {
     "slide_type": "slide"
    }
   },
   "source": [
    "## A blinker unit\n",
    "\n",
    "(Architecture independent)"
   ]
  },
  {
   "cell_type": "code",
   "execution_count": 3,
   "metadata": {
    "slideshow": {
     "slide_type": "-"
    }
   },
   "outputs": [],
   "source": [
    "from myhdl import *\n",
    "\n",
    "@block\n",
    "def blinker(clk, led_toggle, reset_n, INTERVAL):\n",
    "    \"Portable blinker logic using an interval counter\"\n",
    "    counter = Signal(intbv(0)[32:])\n",
    "    \n",
    "    @always_seq(clk.posedge, reset_n)\n",
    "    def worker():\n",
    "        counter.next = counter + 1\n",
    "        if counter == INTERVAL:\n",
    "            led_toggle.next = not led_toggle\n",
    "            counter.next = 0\n",
    "            \n",
    "    return instances()"
   ]
  },
  {
   "cell_type": "markdown",
   "metadata": {
    "slideshow": {
     "slide_type": "slide"
    }
   },
   "source": [
    "## Clock sourcing: The OSCG blackbox\n",
    "\n",
    "This is an architecture specific on-chip oscillator that can be parametrized with a simple divider.\n",
    "It is a true hardware primitive built-in in the ECP5 FPGA, thus resolved as a blackbox at the PnR stage.\n",
    "\n",
    "**Sidenote:** There are Verilog models available for some primitives to simulate their behaviour"
   ]
  },
  {
   "cell_type": "markdown",
   "metadata": {
    "slideshow": {
     "slide_type": "slide"
    }
   },
   "source": [
    "## Top level design entity\n",
    "\n",
    "We create a top level design module as follows. Its input/output ports are the true hardware ports as described in the physical I/O constraints file (`*.lpf`). The hardware specific board configuration files are found in [boards/](boards)."
   ]
  },
  {
   "cell_type": "code",
   "execution_count": 4,
   "metadata": {
    "code_folding": [
     20,
     25
    ],
    "slideshow": {
     "slide_type": "slide"
    }
   },
   "outputs": [],
   "source": [
    "# Import architecture specific components:\n",
    "from synthesis.yosys.ecp5.components import OSCG, CLKDIVF\n",
    "\n",
    "@block\n",
    "def toplevel(clk_in, reset_n, uart_rxd, uart_txd, led, INTERVAL):\n",
    "    \"Top level entity with UART hard loopback\"\n",
    "    \n",
    "    toggle_led0, toggle_led1 = [ Signal(bool()) for i in range(2) ]\n",
    "    oclk, dclk = [ Signal(bool()) for i in range(2) ]\n",
    "    l_out = Signal(intbv()[8:])\n",
    "\n",
    "    # Use the oscillator clock, a Divider of 31 is approx 10 MHz\n",
    "    osc_inst = OSCG(oclk, DIV=31)\n",
    "    clkdiv_inst = CLKDIVF(oclk, 0, 0, dclk, DIV=\"2.0\")\n",
    "    # Instance two blinkers:\n",
    "    blink0_inst = blinker(oclk, toggle_led0, reset_n, INTERVAL)\n",
    "    blink1_inst = blinker(dclk, toggle_led1, reset_n, INTERVAL)\n",
    "\n",
    "    @always_comb\n",
    "    def assign_out():\n",
    "        led.next = not l_out # Output inverted\n",
    "        uart_txd.next =  uart_rxd # UART hard loopback\n",
    "            \n",
    "    @always_comb\n",
    "    def assign():\n",
    "        \"LED assignment\"\n",
    "        l_out.next = concat(False, toggle_led1, False, False, True, False, toggle_led0, False)\n",
    "    \n",
    "    return instances()"
   ]
  },
  {
   "cell_type": "markdown",
   "metadata": {
    "slideshow": {
     "slide_type": "slide"
    }
   },
   "source": [
    "## Translate design"
   ]
  },
  {
   "cell_type": "code",
   "execution_count": 5,
   "metadata": {
    "scrolled": true
   },
   "outputs": [
    {
     "name": "stdout",
     "output_type": "stream",
     "text": [
      "\u001b[32m========================================================\u001b[0m\n",
      "\u001b[32mCREATE Module: 'OSCG_0'\u001b[0m\n",
      "\u001b[7;34m\tInfer blackbox: 'OSCG_0'\u001b[0m\n",
      "\u001b[32mAdding module with name:\u001b[0m OSCG_1\n",
      "config param DIV = 31\n",
      "\u001b[32mAdding module with name:\u001b[0m OSCG\n",
      "KEYWORD VAR **parameter\n",
      "\u001b[32m========================================================\u001b[0m\n",
      "\u001b[32mCREATE Module: 'CLKDIVF_0'\u001b[0m\n",
      "\u001b[7;34m\tInfer blackbox: 'CLKDIVF_0'\u001b[0m\n",
      "\u001b[32mAdding module with name:\u001b[0m CLKDIVF_1_c0_c0_1\n",
      "config param DIV = 2.0\n",
      "\u001b[32mAdding module with name:\u001b[0m CLKDIVF\n",
      "KEYWORD VAR **parameter\n",
      "\u001b[32m========================================================\u001b[0m\n",
      "\u001b[32mCREATE Module: 'blinker_0'\u001b[0m\n",
      "\u001b[32mAdding module with name:\u001b[0m blinker_1_1_1_c5000000\n",
      "CONVERT_RTL tree >>>>>> 'TOPLEVEL_BLINKER_0_WORKER' \n",
      "\u001b[7;31mTRUNC\u001b[0m: <ipython-input-3-74c4df889083>:10 Implicit carry truncate: counter[32:], src[33:]\n",
      "============================================================================\n",
      "DONE instancing submodules\n",
      "\u001b[32m========================================================\u001b[0m\n",
      "\u001b[32mCREATE Module: 'blinker_1'\u001b[0m\n",
      "\u001b[32m========================================================\u001b[0m\n",
      "\u001b[32mCREATE Module: 'toplevel'\u001b[0m\n",
      "\u001b[32mAdding module with name:\u001b[0m toplevel_1_1_1_1_8_c5000000\n",
      "CONVERT_RTL tree >>>>>> 'TOPLEVEL_ASSIGN_OUT' \n",
      "CONVERT_RTL tree >>>>>> 'TOPLEVEL_ASSIGN' \n",
      "============================================================================\n",
      "++++++++ OSCG_0: OSCG_1 (Module) ++++++++\n",
      "++++++++ CLKDIVF_0: CLKDIVF_1_c0_c0_1 (Module) ++++++++\n",
      "++++++++ blinker_0: blinker_1_1_1_c5000000 (Module) ++++++++\n",
      "\u001b[7;31mUnused signal: clk_in\u001b[0m\n",
      "++++++++ blinker_1: blinker_1_1_1_c5000000 (Cell) ++++++++\n",
      "\u001b[7;31mUnused signal: clk_in\u001b[0m\n",
      "DONE instancing submodules\n"
     ]
    }
   ],
   "source": [
    "from myhdl.conversion import yshelper\n",
    "\n",
    "clk_in = Signal(bool())\n",
    "uart_rxd, uart_txd = [ Signal(bool()) for i in range(2) ]\n",
    "led = Signal(modbv()[8:])\n",
    "reset_n = ResetSignal(1, 0, False)\n",
    "\n",
    "blinky = toplevel(clk_in, reset_n, uart_rxd, uart_txd, led, 5000000)\n",
    "\n",
    "design = yshelper.Design(\"blinky\")\n",
    "blinky.convert(\"yosys_module\", design)\n",
    "\n",
    "design.finalize(\"top\")"
   ]
  },
  {
   "cell_type": "markdown",
   "metadata": {
    "slideshow": {
     "slide_type": "skip"
    }
   },
   "source": [
    "### RTL display"
   ]
  },
  {
   "cell_type": "code",
   "execution_count": 7,
   "metadata": {
    "slideshow": {
     "slide_type": "-"
    }
   },
   "outputs": [
    {
     "name": "stdout",
     "output_type": "stream",
     "text": [
      "Generating RTL image...\n",
      "Display...\n"
     ]
    },
    {
     "data": {
      "image/svg+xml": [
       "<?xml version=\"1.0\" encoding=\"UTF-8\" standalone=\"no\"?>\n",
       "<!DOCTYPE svg PUBLIC \"-//W3C//DTD SVG 1.1//EN\"\n",
       " \"http://www.w3.org/Graphics/SVG/1.1/DTD/svg11.dtd\">\n",
       "<!-- Generated by graphviz version 2.40.1 (20161225.0304)\n",
       " -->\n",
       "<!-- Title: top Pages: 1 -->\n",
       "<svg width=\"2520pt\" height=\"318pt\"\n",
       " viewBox=\"0.00 0.00 2520.00 317.97\" xmlns=\"http://www.w3.org/2000/svg\" xmlns:xlink=\"http://www.w3.org/1999/xlink\">\n",
       "<g id=\"graph0\" class=\"graph\" transform=\"scale(1.1438 1.1438) rotate(0) translate(4 274)\">\n",
       "<title>top</title>\n",
       "<polygon fill=\"#ffffff\" stroke=\"transparent\" points=\"-4,4 -4,-274 2199.194,-274 2199.194,4 -4,4\"/>\n",
       "<text text-anchor=\"middle\" x=\"1097.597\" y=\"-7.8\" font-family=\"Times,serif\" font-size=\"14.00\" fill=\"#000000\">top</text>\n",
       "<!-- n3 -->\n",
       "<g id=\"node1\" class=\"node\">\n",
       "<title>n3</title>\n",
       "<polygon fill=\"none\" stroke=\"#000000\" points=\"1432.3871,-167 1303.5228,-149 1432.3871,-131 1561.2513,-149 1432.3871,-167\"/>\n",
       "<text text-anchor=\"middle\" x=\"1432.3871\" y=\"-145.3\" font-family=\"Times,serif\" font-size=\"14.00\" fill=\"#000000\">toggle_led1::wire</text>\n",
       "</g>\n",
       "<!-- x2 -->\n",
       "<g id=\"node19\" class=\"node\">\n",
       "<title>x2</title>\n",
       "<path fill=\"none\" stroke=\"#000000\" d=\"M1609.0691,-37.5C1609.0691,-37.5 1660.0691,-37.5 1660.0691,-37.5 1666.0691,-37.5 1672.0691,-43.5 1672.0691,-49.5 1672.0691,-49.5 1672.0691,-140.5 1672.0691,-140.5 1672.0691,-146.5 1666.0691,-152.5 1660.0691,-152.5 1660.0691,-152.5 1609.0691,-152.5 1609.0691,-152.5 1603.0691,-152.5 1597.0691,-146.5 1597.0691,-140.5 1597.0691,-140.5 1597.0691,-49.5 1597.0691,-49.5 1597.0691,-43.5 1603.0691,-37.5 1609.0691,-37.5\"/>\n",
       "<text text-anchor=\"middle\" x=\"1634.5691\" y=\"-137.3\" font-family=\"Times,serif\" font-size=\"14.00\" fill=\"#000000\">0 &#45;&gt; 7:7</text>\n",
       "<polyline fill=\"none\" stroke=\"#000000\" points=\"1597.0691,-129.5 1672.0691,-129.5 \"/>\n",
       "<text text-anchor=\"middle\" x=\"1634.5691\" y=\"-114.3\" font-family=\"Times,serif\" font-size=\"14.00\" fill=\"#000000\">0:0 &#45; 6:6</text>\n",
       "<polyline fill=\"none\" stroke=\"#000000\" points=\"1597.0691,-106.5 1672.0691,-106.5 \"/>\n",
       "<text text-anchor=\"middle\" x=\"1634.5691\" y=\"-91.3\" font-family=\"Times,serif\" font-size=\"14.00\" fill=\"#000000\">3:0 &#45; 5:2</text>\n",
       "<polyline fill=\"none\" stroke=\"#000000\" points=\"1597.0691,-83.5 1672.0691,-83.5 \"/>\n",
       "<text text-anchor=\"middle\" x=\"1634.5691\" y=\"-68.3\" font-family=\"Times,serif\" font-size=\"14.00\" fill=\"#000000\">0:0 &#45; 1:1</text>\n",
       "<polyline fill=\"none\" stroke=\"#000000\" points=\"1597.0691,-60.5 1672.0691,-60.5 \"/>\n",
       "<text text-anchor=\"middle\" x=\"1634.5691\" y=\"-45.3\" font-family=\"Times,serif\" font-size=\"14.00\" fill=\"#000000\">0 &#45;&gt; 0:0</text>\n",
       "</g>\n",
       "<!-- n3&#45;&gt;x2 -->\n",
       "<g id=\"edge6\" class=\"edge\">\n",
       "<title>n3:e&#45;&gt;x2:w</title>\n",
       "<path fill=\"none\" stroke=\"#000000\" d=\"M1561.0691,-149C1578.0597,-149 1577.3447,-128.9268 1587.419,-121.0857\"/>\n",
       "<polygon fill=\"#000000\" stroke=\"#000000\" points=\"1588.6102,-124.3795 1597.0691,-118 1586.4781,-117.7121 1588.6102,-124.3795\"/>\n",
       "</g>\n",
       "<!-- n4 -->\n",
       "<g id=\"node2\" class=\"node\">\n",
       "<title>n4</title>\n",
       "<polygon fill=\"none\" stroke=\"#000000\" points=\"1432.3871,-59 1303.5228,-41 1432.3871,-23 1561.2513,-41 1432.3871,-59\"/>\n",
       "<text text-anchor=\"middle\" x=\"1432.3871\" y=\"-37.3\" font-family=\"Times,serif\" font-size=\"14.00\" fill=\"#000000\">toggle_led0::wire</text>\n",
       "</g>\n",
       "<!-- n4&#45;&gt;x2 -->\n",
       "<g id=\"edge8\" class=\"edge\">\n",
       "<title>n4:e&#45;&gt;x2:w</title>\n",
       "<path fill=\"none\" stroke=\"#000000\" d=\"M1561.0691,-41C1578.0597,-41 1577.3447,-61.0732 1587.419,-68.9143\"/>\n",
       "<polygon fill=\"#000000\" stroke=\"#000000\" points=\"1586.4781,-72.2879 1597.0691,-72 1588.6102,-65.6205 1586.4781,-72.2879\"/>\n",
       "</g>\n",
       "<!-- n5 -->\n",
       "<g id=\"node3\" class=\"node\">\n",
       "<title>n5</title>\n",
       "<polygon fill=\"none\" stroke=\"#000000\" points=\"1792.6315,-113 1708.0066,-95 1792.6315,-77 1877.2565,-95 1792.6315,-113\"/>\n",
       "<text text-anchor=\"middle\" x=\"1792.6315\" y=\"-91.3\" font-family=\"Times,serif\" font-size=\"14.00\" fill=\"#000000\">l_out::wire</text>\n",
       "</g>\n",
       "<!-- c24 -->\n",
       "<g id=\"node15\" class=\"node\">\n",
       "<title>c24</title>\n",
       "<polygon fill=\"none\" stroke=\"#000000\" points=\"1913.194,-76 1913.194,-114 2015.194,-114 2015.194,-76 1913.194,-76\"/>\n",
       "<text text-anchor=\"middle\" x=\"1926.694\" y=\"-91.3\" font-family=\"Times,serif\" font-size=\"14.00\" fill=\"#000000\">A</text>\n",
       "<polyline fill=\"none\" stroke=\"#000000\" points=\"1940.194,-76 1940.194,-114 \"/>\n",
       "<text text-anchor=\"middle\" x=\"1964.694\" y=\"-98.8\" font-family=\"Times,serif\" font-size=\"14.00\" fill=\"#000000\">$10</text>\n",
       "<text text-anchor=\"middle\" x=\"1964.694\" y=\"-83.8\" font-family=\"Times,serif\" font-size=\"14.00\" fill=\"#000000\">$not</text>\n",
       "<polyline fill=\"none\" stroke=\"#000000\" points=\"1989.194,-76 1989.194,-114 \"/>\n",
       "<text text-anchor=\"middle\" x=\"2002.194\" y=\"-91.3\" font-family=\"Times,serif\" font-size=\"14.00\" fill=\"#000000\">Y</text>\n",
       "</g>\n",
       "<!-- n5&#45;&gt;c24 -->\n",
       "<g id=\"edge10\" class=\"edge\">\n",
       "<title>n5:e&#45;&gt;c24:w</title>\n",
       "<path fill=\"none\" stroke=\"#000000\" stroke-width=\"3\" d=\"M1877.194,-95C1889.194,-95 1894.444,-95 1903.069,-95\"/>\n",
       "<polygon fill=\"#000000\" stroke=\"#000000\" stroke-width=\"3\" points=\"1903.194,-98.5001 1913.194,-95 1903.194,-91.5001 1903.194,-98.5001\"/>\n",
       "</g>\n",
       "<!-- n6 -->\n",
       "<g id=\"node4\" class=\"node\">\n",
       "<title>n6</title>\n",
       "<polygon fill=\"none\" stroke=\"#000000\" points=\"793.8192,-160 713.0474,-142 793.8192,-124 874.591,-142 793.8192,-160\"/>\n",
       "<text text-anchor=\"middle\" x=\"793.8192\" y=\"-138.3\" font-family=\"Times,serif\" font-size=\"14.00\" fill=\"#000000\">dclk::wire</text>\n",
       "</g>\n",
       "<!-- c15 -->\n",
       "<g id=\"node11\" class=\"node\">\n",
       "<title>c15</title>\n",
       "<polygon fill=\"none\" stroke=\"#000000\" points=\"910.705,-107 910.705,-153 1267.705,-153 1267.705,-107 910.705,-107\"/>\n",
       "<text text-anchor=\"middle\" x=\"945.705\" y=\"-137.8\" font-family=\"Times,serif\" font-size=\"14.00\" fill=\"#000000\">clk</text>\n",
       "<polyline fill=\"none\" stroke=\"#000000\" points=\"910.705,-130 980.705,-130 \"/>\n",
       "<text text-anchor=\"middle\" x=\"945.705\" y=\"-114.8\" font-family=\"Times,serif\" font-size=\"14.00\" fill=\"#000000\">reset_n</text>\n",
       "<polyline fill=\"none\" stroke=\"#000000\" points=\"980.705,-107 980.705,-153 \"/>\n",
       "<text text-anchor=\"middle\" x=\"1078.705\" y=\"-133.8\" font-family=\"Times,serif\" font-size=\"14.00\" fill=\"#000000\">$blinker_1</text>\n",
       "<text text-anchor=\"middle\" x=\"1078.705\" y=\"-118.8\" font-family=\"Times,serif\" font-size=\"14.00\" fill=\"#000000\">blinker_1_1_1_c5000000</text>\n",
       "<polyline fill=\"none\" stroke=\"#000000\" points=\"1176.705,-107 1176.705,-153 \"/>\n",
       "<text text-anchor=\"middle\" x=\"1222.205\" y=\"-126.3\" font-family=\"Times,serif\" font-size=\"14.00\" fill=\"#000000\">led_toggle</text>\n",
       "</g>\n",
       "<!-- n6&#45;&gt;c15 -->\n",
       "<g id=\"edge12\" class=\"edge\">\n",
       "<title>n6:e&#45;&gt;c15:w</title>\n",
       "<path fill=\"none\" stroke=\"#000000\" d=\"M874.705,-142C886.705,-142 891.955,-142 900.58,-142\"/>\n",
       "<polygon fill=\"#000000\" stroke=\"#000000\" points=\"900.7051,-145.5001 910.705,-142 900.705,-138.5001 900.7051,-145.5001\"/>\n",
       "</g>\n",
       "<!-- n7 -->\n",
       "<g id=\"node5\" class=\"node\">\n",
       "<title>n7</title>\n",
       "<polygon fill=\"none\" stroke=\"#000000\" points=\"272.9667,-136 193.0333,-118 272.9667,-100 352.9001,-118 272.9667,-136\"/>\n",
       "<text text-anchor=\"middle\" x=\"272.9667\" y=\"-114.3\" font-family=\"Times,serif\" font-size=\"14.00\" fill=\"#000000\">oclk::wire</text>\n",
       "</g>\n",
       "<!-- c16 -->\n",
       "<g id=\"node12\" class=\"node\">\n",
       "<title>c16</title>\n",
       "<polygon fill=\"none\" stroke=\"#000000\" points=\"910.705,-37 910.705,-83 1267.705,-83 1267.705,-37 910.705,-37\"/>\n",
       "<text text-anchor=\"middle\" x=\"945.705\" y=\"-67.8\" font-family=\"Times,serif\" font-size=\"14.00\" fill=\"#000000\">clk</text>\n",
       "<polyline fill=\"none\" stroke=\"#000000\" points=\"910.705,-60 980.705,-60 \"/>\n",
       "<text text-anchor=\"middle\" x=\"945.705\" y=\"-44.8\" font-family=\"Times,serif\" font-size=\"14.00\" fill=\"#000000\">reset_n</text>\n",
       "<polyline fill=\"none\" stroke=\"#000000\" points=\"980.705,-37 980.705,-83 \"/>\n",
       "<text text-anchor=\"middle\" x=\"1078.705\" y=\"-63.8\" font-family=\"Times,serif\" font-size=\"14.00\" fill=\"#000000\">$blinker_0</text>\n",
       "<text text-anchor=\"middle\" x=\"1078.705\" y=\"-48.8\" font-family=\"Times,serif\" font-size=\"14.00\" fill=\"#000000\">blinker_1_1_1_c5000000</text>\n",
       "<polyline fill=\"none\" stroke=\"#000000\" points=\"1176.705,-37 1176.705,-83 \"/>\n",
       "<text text-anchor=\"middle\" x=\"1222.205\" y=\"-56.3\" font-family=\"Times,serif\" font-size=\"14.00\" fill=\"#000000\">led_toggle</text>\n",
       "</g>\n",
       "<!-- n7&#45;&gt;c16 -->\n",
       "<g id=\"edge14\" class=\"edge\">\n",
       "<title>n7:e&#45;&gt;c16:w</title>\n",
       "<path fill=\"none\" stroke=\"#000000\" d=\"M352.9334,-118C369.0869,-118 372.874,-114.7418 388.9334,-113 604.2289,-89.6493 658.8501,-92.4366 874.705,-75 886.7075,-74.0304 891.9251,-72.8277 900.5571,-72.287\"/>\n",
       "<polygon fill=\"#000000\" stroke=\"#000000\" points=\"900.808,-75.7814 910.705,-72 900.6101,-68.7842 900.808,-75.7814\"/>\n",
       "</g>\n",
       "<!-- c19 -->\n",
       "<g id=\"node13\" class=\"node\">\n",
       "<title>c19</title>\n",
       "<polygon fill=\"none\" stroke=\"#000000\" points=\"388.9334,-123 388.9334,-161 676.9334,-161 676.9334,-123 388.9334,-123\"/>\n",
       "<text text-anchor=\"middle\" x=\"415.9334\" y=\"-138.3\" font-family=\"Times,serif\" font-size=\"14.00\" fill=\"#000000\">CLKI</text>\n",
       "<polyline fill=\"none\" stroke=\"#000000\" points=\"442.9334,-123 442.9334,-161 \"/>\n",
       "<text text-anchor=\"middle\" x=\"526.9334\" y=\"-145.8\" font-family=\"Times,serif\" font-size=\"14.00\" fill=\"#000000\">$CLKDIVF_0</text>\n",
       "<text text-anchor=\"middle\" x=\"526.9334\" y=\"-130.8\" font-family=\"Times,serif\" font-size=\"14.00\" fill=\"#000000\">CLKDIVF_1_c0_c0_1</text>\n",
       "<polyline fill=\"none\" stroke=\"#000000\" points=\"610.9334,-123 610.9334,-161 \"/>\n",
       "<text text-anchor=\"middle\" x=\"643.9334\" y=\"-138.3\" font-family=\"Times,serif\" font-size=\"14.00\" fill=\"#000000\">CDIVX</text>\n",
       "</g>\n",
       "<!-- n7&#45;&gt;c19 -->\n",
       "<g id=\"edge15\" class=\"edge\">\n",
       "<title>n7:e&#45;&gt;c19:w</title>\n",
       "<path fill=\"none\" stroke=\"#000000\" d=\"M352.9334,-118C368.1067,-118 369.7762,-132.9429 379.2526,-139.2469\"/>\n",
       "<polygon fill=\"#000000\" stroke=\"#000000\" points=\"378.3573,-142.631 388.9334,-142 380.2722,-135.898 378.3573,-142.631\"/>\n",
       "</g>\n",
       "<!-- n8 -->\n",
       "<g id=\"node6\" class=\"node\">\n",
       "<title>n8</title>\n",
       "<polygon fill=\"none\" stroke=\"#000000\" points=\"2195.194,-87.5442 2195.194,-102.4558 2179.3778,-113 2157.0102,-113 2141.194,-102.4558 2141.194,-87.5442 2157.0102,-77 2179.3778,-77 2195.194,-87.5442\"/>\n",
       "<text text-anchor=\"middle\" x=\"2168.194\" y=\"-91.3\" font-family=\"Times,serif\" font-size=\"14.00\" fill=\"#000000\">led</text>\n",
       "</g>\n",
       "<!-- n9 -->\n",
       "<g id=\"node7\" class=\"node\">\n",
       "<title>n9</title>\n",
       "<polygon fill=\"none\" stroke=\"#000000\" points=\"587.2717,-190.5442 587.2717,-205.4558 555.4411,-216 510.4257,-216 478.595,-205.4558 478.595,-190.5442 510.4257,-180 555.4411,-180 587.2717,-190.5442\"/>\n",
       "<text text-anchor=\"middle\" x=\"532.9334\" y=\"-194.3\" font-family=\"Times,serif\" font-size=\"14.00\" fill=\"#000000\">uart_txd</text>\n",
       "</g>\n",
       "<!-- n10 -->\n",
       "<g id=\"node8\" class=\"node\">\n",
       "<title>n10</title>\n",
       "<polygon fill=\"none\" stroke=\"#000000\" points=\"133.2451,-190.5442 133.2451,-205.4558 101.1762,-216 55.8238,-216 23.7549,-205.4558 23.7549,-190.5442 55.8238,-180 101.1762,-180 133.2451,-190.5442\"/>\n",
       "<text text-anchor=\"middle\" x=\"78.5\" y=\"-194.3\" font-family=\"Times,serif\" font-size=\"14.00\" fill=\"#000000\">uart_rxd</text>\n",
       "</g>\n",
       "<!-- x1 -->\n",
       "<g id=\"node17\" class=\"node\">\n",
       "<title>x1</title>\n",
       "<path fill=\"none\" stroke=\"#000000\" d=\"M287.9667,-216C287.9667,-216 257.9667,-216 257.9667,-216 251.9667,-216 245.9667,-210 245.9667,-204 245.9667,-204 245.9667,-192 245.9667,-192 245.9667,-186 251.9667,-180 257.9667,-180 257.9667,-180 287.9667,-180 287.9667,-180 293.9667,-180 299.9667,-186 299.9667,-192 299.9667,-192 299.9667,-204 299.9667,-204 299.9667,-210 293.9667,-216 287.9667,-216\"/>\n",
       "<text text-anchor=\"middle\" x=\"272.9667\" y=\"-194.3\" font-family=\"Times,serif\" font-size=\"14.00\" fill=\"#000000\">BUF</text>\n",
       "</g>\n",
       "<!-- n10&#45;&gt;x1 -->\n",
       "<g id=\"edge1\" class=\"edge\">\n",
       "<title>n10:e&#45;&gt;x1:w</title>\n",
       "<path fill=\"none\" stroke=\"#000000\" d=\"M133.5,-198C179.9706,-198 194.0389,-198 235.9529,-198\"/>\n",
       "<polygon fill=\"#000000\" stroke=\"#000000\" points=\"235.9667,-201.5001 245.9667,-198 235.9666,-194.5001 235.9667,-201.5001\"/>\n",
       "</g>\n",
       "<!-- n11 -->\n",
       "<g id=\"node9\" class=\"node\">\n",
       "<title>n11</title>\n",
       "<polygon fill=\"none\" stroke=\"#000000\" points=\"843.3094,-40.5442 843.3094,-55.4558 814.3187,-66 773.3197,-66 744.329,-55.4558 744.329,-40.5442 773.3197,-30 814.3187,-30 843.3094,-40.5442\"/>\n",
       "<text text-anchor=\"middle\" x=\"793.8192\" y=\"-44.3\" font-family=\"Times,serif\" font-size=\"14.00\" fill=\"#000000\">reset_n</text>\n",
       "</g>\n",
       "<!-- n11&#45;&gt;c15 -->\n",
       "<g id=\"edge2\" class=\"edge\">\n",
       "<title>n11:e&#45;&gt;c15:w</title>\n",
       "<path fill=\"none\" stroke=\"#000000\" d=\"M842.8192,-48C882.2639,-48 870.2416,-105.9869 900.4384,-116.4064\"/>\n",
       "<polygon fill=\"#000000\" stroke=\"#000000\" points=\"900.2865,-119.9247 910.705,-118 901.3602,-113.0075 900.2865,-119.9247\"/>\n",
       "</g>\n",
       "<!-- n11&#45;&gt;c16 -->\n",
       "<g id=\"edge3\" class=\"edge\">\n",
       "<title>n11:e&#45;&gt;c16:w</title>\n",
       "<path fill=\"none\" stroke=\"#000000\" d=\"M842.8192,-48C869.3371,-48 878.3749,-48 900.6594,-48\"/>\n",
       "<polygon fill=\"#000000\" stroke=\"#000000\" points=\"900.7051,-51.5001 910.705,-48 900.705,-44.5001 900.7051,-51.5001\"/>\n",
       "</g>\n",
       "<!-- n12 -->\n",
       "<g id=\"node10\" class=\"node\">\n",
       "<title>n12</title>\n",
       "<polygon fill=\"none\" stroke=\"#000000\" points=\"120.0121,-244.5442 120.0121,-259.4558 95.6949,-270 61.3051,-270 36.9879,-259.4558 36.9879,-244.5442 61.3051,-234 95.6949,-234 120.0121,-244.5442\"/>\n",
       "<text text-anchor=\"middle\" x=\"78.5\" y=\"-248.3\" font-family=\"Times,serif\" font-size=\"14.00\" fill=\"#000000\">clk_in</text>\n",
       "</g>\n",
       "<!-- c15&#45;&gt;n3 -->\n",
       "<g id=\"edge5\" class=\"edge\">\n",
       "<title>c15:e&#45;&gt;n3:w</title>\n",
       "<path fill=\"none\" stroke=\"#000000\" d=\"M1267.705,-130C1281.6978,-130 1284.7584,-141.3659 1293.7975,-146.5161\"/>\n",
       "<polygon fill=\"#000000\" stroke=\"#000000\" points=\"1293.1541,-149.963 1303.705,-149 1294.8564,-143.1732 1293.1541,-149.963\"/>\n",
       "</g>\n",
       "<!-- c16&#45;&gt;n4 -->\n",
       "<g id=\"edge7\" class=\"edge\">\n",
       "<title>c16:e&#45;&gt;n4:w</title>\n",
       "<path fill=\"none\" stroke=\"#000000\" d=\"M1267.705,-60C1281.6978,-60 1284.7584,-48.6341 1293.7975,-43.4839\"/>\n",
       "<polygon fill=\"#000000\" stroke=\"#000000\" points=\"1294.8564,-46.8268 1303.705,-41 1293.1541,-40.037 1294.8564,-46.8268\"/>\n",
       "</g>\n",
       "<!-- c19&#45;&gt;n6 -->\n",
       "<g id=\"edge11\" class=\"edge\">\n",
       "<title>c19:e&#45;&gt;n6:w</title>\n",
       "<path fill=\"none\" stroke=\"#000000\" d=\"M676.9334,-142C688.9334,-142 694.1834,-142 702.8084,-142\"/>\n",
       "<polygon fill=\"#000000\" stroke=\"#000000\" points=\"702.9334,-145.5001 712.9334,-142 702.9333,-138.5001 702.9334,-145.5001\"/>\n",
       "</g>\n",
       "<!-- c21 -->\n",
       "<g id=\"node14\" class=\"node\">\n",
       "<title>c21</title>\n",
       "<polygon fill=\"none\" stroke=\"#000000\" points=\"0,-99 0,-137 157,-137 157,-99 0,-99\"/>\n",
       "<text text-anchor=\"middle\" x=\"10.5\" y=\"-114.3\" font-family=\"Times,serif\" font-size=\"14.00\" fill=\"#000000\"> </text>\n",
       "<polyline fill=\"none\" stroke=\"#000000\" points=\"21,-99 21,-137 \"/>\n",
       "<text text-anchor=\"middle\" x=\"64\" y=\"-121.8\" font-family=\"Times,serif\" font-size=\"14.00\" fill=\"#000000\">$OSCG_0</text>\n",
       "<text text-anchor=\"middle\" x=\"64\" y=\"-106.8\" font-family=\"Times,serif\" font-size=\"14.00\" fill=\"#000000\">OSCG_1</text>\n",
       "<polyline fill=\"none\" stroke=\"#000000\" points=\"107,-99 107,-137 \"/>\n",
       "<text text-anchor=\"middle\" x=\"132\" y=\"-114.3\" font-family=\"Times,serif\" font-size=\"14.00\" fill=\"#000000\">OSC</text>\n",
       "</g>\n",
       "<!-- c21&#45;&gt;n7 -->\n",
       "<g id=\"edge13\" class=\"edge\">\n",
       "<title>c21:e&#45;&gt;n7:w</title>\n",
       "<path fill=\"none\" stroke=\"#000000\" d=\"M157,-118C169,-118 174.25,-118 182.875,-118\"/>\n",
       "<polygon fill=\"#000000\" stroke=\"#000000\" points=\"183,-121.5001 193,-118 183,-114.5001 183,-121.5001\"/>\n",
       "</g>\n",
       "<!-- x0 -->\n",
       "<g id=\"node16\" class=\"node\">\n",
       "<title>x0</title>\n",
       "<path fill=\"none\" stroke=\"#000000\" d=\"M2093.194,-113C2093.194,-113 2063.194,-113 2063.194,-113 2057.194,-113 2051.194,-107 2051.194,-101 2051.194,-101 2051.194,-89 2051.194,-89 2051.194,-83 2057.194,-77 2063.194,-77 2063.194,-77 2093.194,-77 2093.194,-77 2099.194,-77 2105.194,-83 2105.194,-89 2105.194,-89 2105.194,-101 2105.194,-101 2105.194,-107 2099.194,-113 2093.194,-113\"/>\n",
       "<text text-anchor=\"middle\" x=\"2078.194\" y=\"-91.3\" font-family=\"Times,serif\" font-size=\"14.00\" fill=\"#000000\">BUF</text>\n",
       "</g>\n",
       "<!-- c24&#45;&gt;x0 -->\n",
       "<g id=\"edge4\" class=\"edge\">\n",
       "<title>c24:e&#45;&gt;x0:w</title>\n",
       "<path fill=\"none\" stroke=\"#000000\" stroke-width=\"3\" d=\"M2015.194,-95C2027.194,-95 2032.444,-95 2041.069,-95\"/>\n",
       "<polygon fill=\"#000000\" stroke=\"#000000\" stroke-width=\"3\" points=\"2041.194,-98.5001 2051.194,-95 2041.194,-91.5001 2041.194,-98.5001\"/>\n",
       "</g>\n",
       "<!-- x0&#45;&gt;n8 -->\n",
       "<g id=\"edge16\" class=\"edge\">\n",
       "<title>x0:e&#45;&gt;n8:w</title>\n",
       "<path fill=\"none\" stroke=\"#000000\" stroke-width=\"3\" d=\"M2105.194,-95C2117.194,-95 2122.444,-95 2131.069,-95\"/>\n",
       "<polygon fill=\"#000000\" stroke=\"#000000\" stroke-width=\"3\" points=\"2131.194,-98.5001 2141.194,-95 2131.194,-91.5001 2131.194,-98.5001\"/>\n",
       "</g>\n",
       "<!-- x1&#45;&gt;n9 -->\n",
       "<g id=\"edge17\" class=\"edge\">\n",
       "<title>x1:e&#45;&gt;n9:w</title>\n",
       "<path fill=\"none\" stroke=\"#000000\" d=\"M299.9667,-198C375.9343,-198 397.4857,-198 468.5643,-198\"/>\n",
       "<polygon fill=\"#000000\" stroke=\"#000000\" points=\"468.9334,-201.5001 478.9334,-198 468.9333,-194.5001 468.9334,-201.5001\"/>\n",
       "</g>\n",
       "<!-- v3 -->\n",
       "<g id=\"node18\" class=\"node\">\n",
       "<title>v3</title>\n",
       "<ellipse fill=\"none\" stroke=\"#000000\" cx=\"1432.3871\" cy=\"-95\" rx=\"42.4939\" ry=\"18\"/>\n",
       "<text text-anchor=\"middle\" x=\"1432.3871\" y=\"-91.3\" font-family=\"Times,serif\" font-size=\"14.00\" fill=\"#000000\">4&#39;0010</text>\n",
       "</g>\n",
       "<!-- v3&#45;&gt;x2 -->\n",
       "<g id=\"edge18\" class=\"edge\">\n",
       "<title>v3:e&#45;&gt;x2:w</title>\n",
       "<path fill=\"none\" stroke=\"#000000\" stroke-width=\"3\" d=\"M1475.3871,-95C1525.8766,-95 1541.0137,-95 1586.808,-95\"/>\n",
       "<polygon fill=\"#000000\" stroke=\"#000000\" stroke-width=\"3\" points=\"1587.0691,-98.5001 1597.0691,-95 1587.069,-91.5001 1587.0691,-98.5001\"/>\n",
       "</g>\n",
       "<!-- x2&#45;&gt;n5 -->\n",
       "<g id=\"edge9\" class=\"edge\">\n",
       "<title>x2:e&#45;&gt;n5:w</title>\n",
       "<path fill=\"none\" stroke=\"#000000\" stroke-width=\"3\" d=\"M1672.0691,-95C1684.0691,-95 1689.3191,-95 1697.9441,-95\"/>\n",
       "<polygon fill=\"#000000\" stroke=\"#000000\" stroke-width=\"3\" points=\"1698.0691,-98.5001 1708.0691,-95 1698.069,-91.5001 1698.0691,-98.5001\"/>\n",
       "</g>\n",
       "</g>\n",
       "</svg>\n"
      ],
      "text/plain": [
       "<graphviz.files.Source at 0x7f456e086da0>"
      ]
     },
     "metadata": {},
     "output_type": "display_data"
    }
   ],
   "source": [
    "from ys_aux import *\n",
    "display(to_svg(design, \"top\", 350 ))"
   ]
  },
  {
   "cell_type": "markdown",
   "metadata": {
    "slideshow": {
     "slide_type": "slide"
    }
   },
   "source": [
    "## Technology mapping to ECP5\n",
    "\n",
    "The long command sequence for a ECP5 target was moved into a rules class. We call these rules using an auxiliary script:"
   ]
  },
  {
   "cell_type": "code",
   "execution_count": 7,
   "metadata": {},
   "outputs": [],
   "source": [
    "from ecp5aux import synthesize\n",
    "\n",
    "synthesize(design)"
   ]
  },
  {
   "cell_type": "markdown",
   "metadata": {
    "slideshow": {
     "slide_type": "-"
    }
   },
   "source": [
    "## PnR stage: Place and route\n",
    "\n",
    "Write out the JSON file for the PnR step:"
   ]
  },
  {
   "cell_type": "code",
   "execution_count": 8,
   "metadata": {},
   "outputs": [],
   "source": [
    "json_filename = \"design.json\"\n",
    "\n",
    "design.run(\"write_json %s\" % json_filename)\n",
    "# Output of RTLIL for debugging purposes:\n",
    "# design.run(\"write_ilang design.il\")"
   ]
  },
  {
   "cell_type": "markdown",
   "metadata": {
    "slideshow": {
     "slide_type": "slide"
    }
   },
   "source": [
    "### Running nextpnr"
   ]
  },
  {
   "cell_type": "code",
   "execution_count": 8,
   "metadata": {},
   "outputs": [],
   "source": [
    "! nextpnr-ecp5 --json design.json --um5g-45k\\\n",
    "    --lpf boards/ecp5_versa.lpf --freq 100 --lpf-allow-unconstrained\\\n",
    "    --textcfg design.config --package=CABGA381 2>/dev/null"
   ]
  },
  {
   "cell_type": "markdown",
   "metadata": {
    "slideshow": {
     "slide_type": "-"
    }
   },
   "source": [
    "## Generate a programming file"
   ]
  },
  {
   "cell_type": "code",
   "execution_count": 10,
   "metadata": {},
   "outputs": [],
   "source": [
    "! ecppack --svf design.svf design.config design.svf"
   ]
  },
  {
   "cell_type": "markdown",
   "metadata": {
    "slideshow": {
     "slide_type": "notes"
    }
   },
   "source": [
    "## Programming your target\n",
    "\n",
    "Programming the target only works when the host running this webserver has a Versa ECP5 board connected and if the [permissions are set accordingly](hwprog_setup.ipynb). If not, you'll have to download the generated [SVF file](design.svf) and program your target locally.\n",
    "\n",
    "**Note:** The USB programming cable to the board must be plugged prior to starting the container."
   ]
  },
  {
   "cell_type": "markdown",
   "metadata": {
    "slideshow": {
     "slide_type": "slide"
    }
   },
   "source": [
    "### Loading design into FPGA"
   ]
  },
  {
   "cell_type": "code",
   "execution_count": 10,
   "metadata": {
    "slideshow": {
     "slide_type": "-"
    }
   },
   "outputs": [
    {
     "name": "stdout",
     "output_type": "stream",
     "text": [
      "Open On-Chip Debugger 0.10.0\n",
      "Licensed under GNU GPL v2\n",
      "For bug reports, read\n",
      "\thttp://openocd.org/doc/doxygen/bugs.html\n",
      "none separate\n",
      "adapter speed: 5000 kHz\n",
      "Info : auto-selecting first available session transport \"jtag\". To override use 'transport select <transport>'.\n",
      "Warn : Transport \"jtag\" was already selected\n",
      "Info : clock speed 5000 kHz\n",
      "Info : JTAG tap: ecp5.tap tap/device found: 0x81112043 (mfg: 0x021 (Lattice Semi.), part: 0x1112, ver: 0x8)\n",
      "Warn : gdb services need one or more targets defined\n",
      "svf processing file: \"design.svf\"\n",
      "\n",
      "Time used: 0m2s191ms \n",
      "svf file programmed successfully for 1068 commands with 0 errors\n"
     ]
    }
   ],
   "source": [
    "! sudo openocd -f boards/ecp5_versa.cfg -f boards/LFE5UM5G-45F.cfg \\\n",
    "    -c \"transport select jtag; init; svf design.svf quiet; exit\""
   ]
  },
  {
   "cell_type": "markdown",
   "metadata": {
    "slideshow": {
     "slide_type": "-"
    }
   },
   "source": [
    "The `INITN` LED should be off during successful programming. After approx. one second, one of the orange LEDs should start blinking on the board, while a green LED is permanently on.\n",
    "\n",
    "We run openocd with prepended `sudo` to ensure access to the device."
   ]
  },
  {
   "cell_type": "markdown",
   "metadata": {
    "slideshow": {
     "slide_type": "skip"
    }
   },
   "source": [
    "### Next: Exercise #2: A complex [UART loopback](uart_loopback_test.ipynb) design test"
   ]
  }
 ],
 "metadata": {
  "celltoolbar": "Slideshow",
  "kernelspec": {
   "display_name": "Python 3",
   "language": "python",
   "name": "python3"
  },
  "language_info": {
   "codemirror_mode": {
    "name": "ipython",
    "version": 3
   },
   "file_extension": ".py",
   "mimetype": "text/x-python",
   "name": "python",
   "nbconvert_exporter": "python",
   "pygments_lexer": "ipython3",
   "version": "3.7.3"
  },
  "livereveal": {
   "autolaunch": true
  }
 },
 "nbformat": 4,
 "nbformat_minor": 4
}
