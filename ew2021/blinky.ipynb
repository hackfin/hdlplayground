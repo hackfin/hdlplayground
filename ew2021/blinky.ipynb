{
 "cells": [
  {
   "cell_type": "markdown",
   "metadata": {
    "slideshow": {
     "slide_type": "slide"
    }
   },
   "source": [
    "# Hardware synthesis exercise #1: Blinky\n",
    "\n",
    "We create the classic blinky design: a flashing LED setup for a Lattice ECP5 FPGA target.\n",
    "Design elements:\n",
    "\n",
    "* A clock generator (on chip)\n",
    "* A cycle counter\n",
    "* Flipflop toggle logic"
   ]
  },
  {
   "cell_type": "code",
   "execution_count": 12,
   "metadata": {
    "hide_input": true,
    "init_cell": true,
    "slideshow": {
     "slide_type": "-"
    }
   },
   "outputs": [],
   "source": [
    "import config"
   ]
  },
  {
   "cell_type": "markdown",
   "metadata": {
    "slideshow": {
     "slide_type": "slide"
    }
   },
   "source": [
    "## Clock sourcing: The OSCG blackbox\n",
    "\n",
    "This is an architecture specific on-chip oscillator that can be parametrized with a simple divider.\n",
    "It is a true hardware primitive built-in in the ECP5 FPGA, thus resolved as a blackbox at the PnR stage.\n",
    "\n",
    "**Sidenote:** There are Verilog models available for some primitives to simulate their behaviour"
   ]
  },
  {
   "cell_type": "markdown",
   "metadata": {
    "slideshow": {
     "slide_type": "slide"
    }
   },
   "source": [
    "## A blinker unit\n",
    "\n",
    "(Architecture independent)"
   ]
  },
  {
   "cell_type": "code",
   "execution_count": 3,
   "metadata": {
    "slideshow": {
     "slide_type": "-"
    }
   },
   "outputs": [],
   "source": [
    "from myhdl import *\n",
    "\n",
    "@block\n",
    "def blinker(clk, led_toggle, reset_n, INTERVAL):\n",
    "    \"Portable blinker logic using an interval counter\"\n",
    "    counter = Signal(intbv(0)[32:])\n",
    "    \n",
    "    @always_seq(clk.posedge, reset_n)\n",
    "    def worker():\n",
    "        counter.next = counter + 1\n",
    "        if counter == INTERVAL:\n",
    "            led_toggle.next = not led_toggle\n",
    "            counter.next = 0\n",
    "            \n",
    "    return instances()"
   ]
  },
  {
   "cell_type": "markdown",
   "metadata": {
    "slideshow": {
     "slide_type": "slide"
    }
   },
   "source": [
    "## Top level design entity\n",
    "\n",
    "We create a top level design module as follows. Its input/output ports are the true hardware ports as described in the physical I/O constraints file (`*.lpf`). The hardware specific board configuration files are found in [boards/](boards)."
   ]
  },
  {
   "cell_type": "code",
   "execution_count": 4,
   "metadata": {
    "code_folding": [
     20,
     25
    ],
    "slideshow": {
     "slide_type": "slide"
    }
   },
   "outputs": [],
   "source": [
    "# Import architecture specific components:\n",
    "from synthesis.yosys.ecp5.components import OSCG, CLKDIVF\n",
    "\n",
    "@block\n",
    "def toplevel(clk_in, reset_n, uart_rxd, uart_txd, led, INTERVAL):\n",
    "    \"Top level entity with UART hard loopback\"\n",
    "    \n",
    "    toggle_led0, toggle_led1 = [ Signal(bool()) for i in range(2) ]\n",
    "    oclk, dclk = [ Signal(bool()) for i in range(2) ]\n",
    "    l_out = Signal(intbv()[8:])\n",
    "\n",
    "    # Use the oscillator clock, a Divider of 31 is approx 10 MHz\n",
    "    osc_inst = OSCG(oclk, DIV=31)\n",
    "    clkdiv_inst = CLKDIVF(oclk, 0, 0, dclk, DIV=\"2.0\")\n",
    "    # Instance two blinkers:\n",
    "    blink0_inst = blinker(oclk, toggle_led0, reset_n, INTERVAL)\n",
    "    blink1_inst = blinker(dclk, toggle_led1, reset_n, INTERVAL)\n",
    "\n",
    "    @always_comb\n",
    "    def assign_out():\n",
    "        led.next = not l_out # Output inverted\n",
    "        uart_txd.next =  uart_rxd # UART hard loopback\n",
    "            \n",
    "    @always_comb\n",
    "    def assign():\n",
    "        \"LED assignment\"\n",
    "        l_out.next = concat(False, toggle_led1, False, False, True, False, toggle_led0, False)\n",
    "    \n",
    "    return instances()"
   ]
  },
  {
   "cell_type": "markdown",
   "metadata": {
    "slideshow": {
     "slide_type": "slide"
    }
   },
   "source": [
    "## Translate design"
   ]
  },
  {
   "cell_type": "code",
   "execution_count": 5,
   "metadata": {
    "scrolled": true
   },
   "outputs": [
    {
     "name": "stdout",
     "output_type": "stream",
     "text": [
      "\u001b[32m========================================================\u001b[0m\n",
      "\u001b[32mCREATE Module: 'OSCG_0'\u001b[0m\n",
      "\u001b[7;34m\tInfer blackbox: 'OSCG_0'\u001b[0m\n",
      "\u001b[32mAdding module with name:\u001b[0m OSCG_1\n",
      "config param DIV = 31\n",
      "\u001b[32mAdding module with name:\u001b[0m OSCG\n",
      "KEYWORD VAR **parameter\n",
      "\u001b[32m========================================================\u001b[0m\n",
      "\u001b[32mCREATE Module: 'CLKDIVF_0'\u001b[0m\n",
      "\u001b[7;34m\tInfer blackbox: 'CLKDIVF_0'\u001b[0m\n",
      "\u001b[32mAdding module with name:\u001b[0m CLKDIVF_1_c0_c0_1\n",
      "config param DIV = 2.0\n",
      "\u001b[32mAdding module with name:\u001b[0m CLKDIVF\n",
      "KEYWORD VAR **parameter\n",
      "\u001b[32m========================================================\u001b[0m\n",
      "\u001b[32mCREATE Module: 'blinker_0'\u001b[0m\n",
      "\u001b[32mAdding module with name:\u001b[0m blinker_1_1_1_c5000000\n",
      "CONVERT_RTL tree >>>>>> 'TOPLEVEL_BLINKER_0_WORKER' \n",
      "\u001b[7;31mTRUNC\u001b[0m: <ipython-input-3-74c4df889083>:10 Implicit carry truncate: counter[32:], src[33:]\n",
      "============================================================================\n",
      "DONE instancing submodules\n",
      "\u001b[32m========================================================\u001b[0m\n",
      "\u001b[32mCREATE Module: 'blinker_1'\u001b[0m\n",
      "\u001b[32m========================================================\u001b[0m\n",
      "\u001b[32mCREATE Module: 'toplevel'\u001b[0m\n",
      "\u001b[32mAdding module with name:\u001b[0m toplevel_1_1_1_1_8_c5000000\n",
      "CONVERT_RTL tree >>>>>> 'TOPLEVEL_ASSIGN_OUT' \n",
      "CONVERT_RTL tree >>>>>> 'TOPLEVEL_ASSIGN' \n",
      "============================================================================\n",
      "++++++++ OSCG_0: OSCG_1 (Module) ++++++++\n",
      "++++++++ CLKDIVF_0: CLKDIVF_1_c0_c0_1 (Module) ++++++++\n",
      "++++++++ blinker_0: blinker_1_1_1_c5000000 (Module) ++++++++\n",
      "\u001b[7;31mUnused signal: clk_in\u001b[0m\n",
      "++++++++ blinker_1: blinker_1_1_1_c5000000 (Cell) ++++++++\n",
      "\u001b[7;31mUnused signal: clk_in\u001b[0m\n",
      "DONE instancing submodules\n"
     ]
    }
   ],
   "source": [
    "from myhdl.conversion import yshelper\n",
    "\n",
    "clk_in = Signal(bool())\n",
    "uart_rxd, uart_txd = [ Signal(bool()) for i in range(2) ]\n",
    "led = Signal(modbv()[8:])\n",
    "reset_n = ResetSignal(1, 0, False)\n",
    "\n",
    "blinky = toplevel(clk_in, reset_n, uart_rxd, uart_txd, led, 5000000)\n",
    "\n",
    "design = yshelper.Design(\"blinky\")\n",
    "blinky.convert(\"yosys_module\", design)\n",
    "\n",
    "design.finalize(\"top\")"
   ]
  },
  {
   "cell_type": "markdown",
   "metadata": {
    "slideshow": {
     "slide_type": "slide"
    }
   },
   "source": [
    "### RTL display"
   ]
  },
  {
   "cell_type": "code",
   "execution_count": 6,
   "metadata": {},
   "outputs": [
    {
     "name": "stdout",
     "output_type": "stream",
     "text": [
      "Generating RTL image...\n",
      "Display...\n"
     ]
    },
    {
     "data": {
      "image/svg+xml": [
       "<?xml version=\"1.0\" encoding=\"UTF-8\" standalone=\"no\"?>\n",
       "<!DOCTYPE svg PUBLIC \"-//W3C//DTD SVG 1.1//EN\"\n",
       " \"http://www.w3.org/Graphics/SVG/1.1/DTD/svg11.dtd\">\n",
       "<!-- Generated by graphviz version 2.40.1 (20161225.0304)\n",
       " -->\n",
       "<!-- Title: top Pages: 1 -->\n",
       "<svg width=\"1440pt\" height=\"182pt\"\n",
       " viewBox=\"0.00 0.00 1440.00 181.70\" xmlns=\"http://www.w3.org/2000/svg\" xmlns:xlink=\"http://www.w3.org/1999/xlink\">\n",
       "<g id=\"graph0\" class=\"graph\" transform=\"scale(.6536 .6536) rotate(0) translate(4 274)\">\n",
       "<title>top</title>\n",
       "<polygon fill=\"#ffffff\" stroke=\"transparent\" points=\"-4,4 -4,-274 2199.194,-274 2199.194,4 -4,4\"/>\n",
       "<text text-anchor=\"middle\" x=\"1097.597\" y=\"-7.8\" font-family=\"Times,serif\" font-size=\"14.00\" fill=\"#000000\">top</text>\n",
       "<!-- n3 -->\n",
       "<g id=\"node1\" class=\"node\">\n",
       "<title>n3</title>\n",
       "<polygon fill=\"none\" stroke=\"#000000\" points=\"1432.3871,-167 1303.5228,-149 1432.3871,-131 1561.2513,-149 1432.3871,-167\"/>\n",
       "<text text-anchor=\"middle\" x=\"1432.3871\" y=\"-145.3\" font-family=\"Times,serif\" font-size=\"14.00\" fill=\"#000000\">toggle_led1::wire</text>\n",
       "</g>\n",
       "<!-- x2 -->\n",
       "<g id=\"node19\" class=\"node\">\n",
       "<title>x2</title>\n",
       "<path fill=\"none\" stroke=\"#000000\" d=\"M1609.0691,-37.5C1609.0691,-37.5 1660.0691,-37.5 1660.0691,-37.5 1666.0691,-37.5 1672.0691,-43.5 1672.0691,-49.5 1672.0691,-49.5 1672.0691,-140.5 1672.0691,-140.5 1672.0691,-146.5 1666.0691,-152.5 1660.0691,-152.5 1660.0691,-152.5 1609.0691,-152.5 1609.0691,-152.5 1603.0691,-152.5 1597.0691,-146.5 1597.0691,-140.5 1597.0691,-140.5 1597.0691,-49.5 1597.0691,-49.5 1597.0691,-43.5 1603.0691,-37.5 1609.0691,-37.5\"/>\n",
       "<text text-anchor=\"middle\" x=\"1634.5691\" y=\"-137.3\" font-family=\"Times,serif\" font-size=\"14.00\" fill=\"#000000\">0 &#45;&gt; 7:7</text>\n",
       "<polyline fill=\"none\" stroke=\"#000000\" points=\"1597.0691,-129.5 1672.0691,-129.5 \"/>\n",
       "<text text-anchor=\"middle\" x=\"1634.5691\" y=\"-114.3\" font-family=\"Times,serif\" font-size=\"14.00\" fill=\"#000000\">0:0 &#45; 6:6</text>\n",
       "<polyline fill=\"none\" stroke=\"#000000\" points=\"1597.0691,-106.5 1672.0691,-106.5 \"/>\n",
       "<text text-anchor=\"middle\" x=\"1634.5691\" y=\"-91.3\" font-family=\"Times,serif\" font-size=\"14.00\" fill=\"#000000\">3:0 &#45; 5:2</text>\n",
       "<polyline fill=\"none\" stroke=\"#000000\" points=\"1597.0691,-83.5 1672.0691,-83.5 \"/>\n",
       "<text text-anchor=\"middle\" x=\"1634.5691\" y=\"-68.3\" font-family=\"Times,serif\" font-size=\"14.00\" fill=\"#000000\">0:0 &#45; 1:1</text>\n",
       "<polyline fill=\"none\" stroke=\"#000000\" points=\"1597.0691,-60.5 1672.0691,-60.5 \"/>\n",
       "<text text-anchor=\"middle\" x=\"1634.5691\" y=\"-45.3\" font-family=\"Times,serif\" font-size=\"14.00\" fill=\"#000000\">0 &#45;&gt; 0:0</text>\n",
       "</g>\n",
       "<!-- n3&#45;&gt;x2 -->\n",
       "<g id=\"edge6\" class=\"edge\">\n",
       "<title>n3:e&#45;&gt;x2:w</title>\n",
       "<path fill=\"none\" stroke=\"#000000\" d=\"M1561.0691,-149C1578.0597,-149 1577.3447,-128.9268 1587.419,-121.0857\"/>\n",
       "<polygon fill=\"#000000\" stroke=\"#000000\" points=\"1588.6102,-124.3795 1597.0691,-118 1586.4781,-117.7121 1588.6102,-124.3795\"/>\n",
       "</g>\n",
       "<!-- n4 -->\n",
       "<g id=\"node2\" class=\"node\">\n",
       "<title>n4</title>\n",
       "<polygon fill=\"none\" stroke=\"#000000\" points=\"1432.3871,-59 1303.5228,-41 1432.3871,-23 1561.2513,-41 1432.3871,-59\"/>\n",
       "<text text-anchor=\"middle\" x=\"1432.3871\" y=\"-37.3\" font-family=\"Times,serif\" font-size=\"14.00\" fill=\"#000000\">toggle_led0::wire</text>\n",
       "</g>\n",
       "<!-- n4&#45;&gt;x2 -->\n",
       "<g id=\"edge8\" class=\"edge\">\n",
       "<title>n4:e&#45;&gt;x2:w</title>\n",
       "<path fill=\"none\" stroke=\"#000000\" d=\"M1561.0691,-41C1578.0597,-41 1577.3447,-61.0732 1587.419,-68.9143\"/>\n",
       "<polygon fill=\"#000000\" stroke=\"#000000\" points=\"1586.4781,-72.2879 1597.0691,-72 1588.6102,-65.6205 1586.4781,-72.2879\"/>\n",
       "</g>\n",
       "<!-- n5 -->\n",
       "<g id=\"node3\" class=\"node\">\n",
       "<title>n5</title>\n",
       "<polygon fill=\"none\" stroke=\"#000000\" points=\"1792.6315,-113 1708.0066,-95 1792.6315,-77 1877.2565,-95 1792.6315,-113\"/>\n",
       "<text text-anchor=\"middle\" x=\"1792.6315\" y=\"-91.3\" font-family=\"Times,serif\" font-size=\"14.00\" fill=\"#000000\">l_out::wire</text>\n",
       "</g>\n",
       "<!-- c24 -->\n",
       "<g id=\"node15\" class=\"node\">\n",
       "<title>c24</title>\n",
       "<polygon fill=\"none\" stroke=\"#000000\" points=\"1913.194,-76 1913.194,-114 2015.194,-114 2015.194,-76 1913.194,-76\"/>\n",
       "<text text-anchor=\"middle\" x=\"1926.694\" y=\"-91.3\" font-family=\"Times,serif\" font-size=\"14.00\" fill=\"#000000\">A</text>\n",
       "<polyline fill=\"none\" stroke=\"#000000\" points=\"1940.194,-76 1940.194,-114 \"/>\n",
       "<text text-anchor=\"middle\" x=\"1964.694\" y=\"-98.8\" font-family=\"Times,serif\" font-size=\"14.00\" fill=\"#000000\">$10</text>\n",
       "<text text-anchor=\"middle\" x=\"1964.694\" y=\"-83.8\" font-family=\"Times,serif\" font-size=\"14.00\" fill=\"#000000\">$not</text>\n",
       "<polyline fill=\"none\" stroke=\"#000000\" points=\"1989.194,-76 1989.194,-114 \"/>\n",
       "<text text-anchor=\"middle\" x=\"2002.194\" y=\"-91.3\" font-family=\"Times,serif\" font-size=\"14.00\" fill=\"#000000\">Y</text>\n",
       "</g>\n",
       "<!-- n5&#45;&gt;c24 -->\n",
       "<g id=\"edge10\" class=\"edge\">\n",
       "<title>n5:e&#45;&gt;c24:w</title>\n",
       "<path fill=\"none\" stroke=\"#000000\" stroke-width=\"3\" d=\"M1877.194,-95C1889.194,-95 1894.444,-95 1903.069,-95\"/>\n",
       "<polygon fill=\"#000000\" stroke=\"#000000\" stroke-width=\"3\" points=\"1903.194,-98.5001 1913.194,-95 1903.194,-91.5001 1903.194,-98.5001\"/>\n",
       "</g>\n",
       "<!-- n6 -->\n",
       "<g id=\"node4\" class=\"node\">\n",
       "<title>n6</title>\n",
       "<polygon fill=\"none\" stroke=\"#000000\" points=\"793.8192,-160 713.0474,-142 793.8192,-124 874.591,-142 793.8192,-160\"/>\n",
       "<text text-anchor=\"middle\" x=\"793.8192\" y=\"-138.3\" font-family=\"Times,serif\" font-size=\"14.00\" fill=\"#000000\">dclk::wire</text>\n",
       "</g>\n",
       "<!-- c15 -->\n",
       "<g id=\"node11\" class=\"node\">\n",
       "<title>c15</title>\n",
       "<polygon fill=\"none\" stroke=\"#000000\" points=\"910.705,-107 910.705,-153 1267.705,-153 1267.705,-107 910.705,-107\"/>\n",
       "<text text-anchor=\"middle\" x=\"945.705\" y=\"-137.8\" font-family=\"Times,serif\" font-size=\"14.00\" fill=\"#000000\">clk</text>\n",
       "<polyline fill=\"none\" stroke=\"#000000\" points=\"910.705,-130 980.705,-130 \"/>\n",
       "<text text-anchor=\"middle\" x=\"945.705\" y=\"-114.8\" font-family=\"Times,serif\" font-size=\"14.00\" fill=\"#000000\">reset_n</text>\n",
       "<polyline fill=\"none\" stroke=\"#000000\" points=\"980.705,-107 980.705,-153 \"/>\n",
       "<text text-anchor=\"middle\" x=\"1078.705\" y=\"-133.8\" font-family=\"Times,serif\" font-size=\"14.00\" fill=\"#000000\">$blinker_1</text>\n",
       "<text text-anchor=\"middle\" x=\"1078.705\" y=\"-118.8\" font-family=\"Times,serif\" font-size=\"14.00\" fill=\"#000000\">blinker_1_1_1_c5000000</text>\n",
       "<polyline fill=\"none\" stroke=\"#000000\" points=\"1176.705,-107 1176.705,-153 \"/>\n",
       "<text text-anchor=\"middle\" x=\"1222.205\" y=\"-126.3\" font-family=\"Times,serif\" font-size=\"14.00\" fill=\"#000000\">led_toggle</text>\n",
       "</g>\n",
       "<!-- n6&#45;&gt;c15 -->\n",
       "<g id=\"edge12\" class=\"edge\">\n",
       "<title>n6:e&#45;&gt;c15:w</title>\n",
       "<path fill=\"none\" stroke=\"#000000\" d=\"M874.705,-142C886.705,-142 891.955,-142 900.58,-142\"/>\n",
       "<polygon fill=\"#000000\" stroke=\"#000000\" points=\"900.7051,-145.5001 910.705,-142 900.705,-138.5001 900.7051,-145.5001\"/>\n",
       "</g>\n",
       "<!-- n7 -->\n",
       "<g id=\"node5\" class=\"node\">\n",
       "<title>n7</title>\n",
       "<polygon fill=\"none\" stroke=\"#000000\" points=\"272.9667,-136 193.0333,-118 272.9667,-100 352.9001,-118 272.9667,-136\"/>\n",
       "<text text-anchor=\"middle\" x=\"272.9667\" y=\"-114.3\" font-family=\"Times,serif\" font-size=\"14.00\" fill=\"#000000\">oclk::wire</text>\n",
       "</g>\n",
       "<!-- c16 -->\n",
       "<g id=\"node12\" class=\"node\">\n",
       "<title>c16</title>\n",
       "<polygon fill=\"none\" stroke=\"#000000\" points=\"910.705,-37 910.705,-83 1267.705,-83 1267.705,-37 910.705,-37\"/>\n",
       "<text text-anchor=\"middle\" x=\"945.705\" y=\"-67.8\" font-family=\"Times,serif\" font-size=\"14.00\" fill=\"#000000\">clk</text>\n",
       "<polyline fill=\"none\" stroke=\"#000000\" points=\"910.705,-60 980.705,-60 \"/>\n",
       "<text text-anchor=\"middle\" x=\"945.705\" y=\"-44.8\" font-family=\"Times,serif\" font-size=\"14.00\" fill=\"#000000\">reset_n</text>\n",
       "<polyline fill=\"none\" stroke=\"#000000\" points=\"980.705,-37 980.705,-83 \"/>\n",
       "<text text-anchor=\"middle\" x=\"1078.705\" y=\"-63.8\" font-family=\"Times,serif\" font-size=\"14.00\" fill=\"#000000\">$blinker_0</text>\n",
       "<text text-anchor=\"middle\" x=\"1078.705\" y=\"-48.8\" font-family=\"Times,serif\" font-size=\"14.00\" fill=\"#000000\">blinker_1_1_1_c5000000</text>\n",
       "<polyline fill=\"none\" stroke=\"#000000\" points=\"1176.705,-37 1176.705,-83 \"/>\n",
       "<text text-anchor=\"middle\" x=\"1222.205\" y=\"-56.3\" font-family=\"Times,serif\" font-size=\"14.00\" fill=\"#000000\">led_toggle</text>\n",
       "</g>\n",
       "<!-- n7&#45;&gt;c16 -->\n",
       "<g id=\"edge14\" class=\"edge\">\n",
       "<title>n7:e&#45;&gt;c16:w</title>\n",
       "<path fill=\"none\" stroke=\"#000000\" d=\"M352.9334,-118C369.0869,-118 372.874,-114.7418 388.9334,-113 604.2289,-89.6493 658.8501,-92.4366 874.705,-75 886.7075,-74.0304 891.9251,-72.8277 900.5571,-72.287\"/>\n",
       "<polygon fill=\"#000000\" stroke=\"#000000\" points=\"900.808,-75.7814 910.705,-72 900.6101,-68.7842 900.808,-75.7814\"/>\n",
       "</g>\n",
       "<!-- c19 -->\n",
       "<g id=\"node13\" class=\"node\">\n",
       "<title>c19</title>\n",
       "<polygon fill=\"none\" stroke=\"#000000\" points=\"388.9334,-123 388.9334,-161 676.9334,-161 676.9334,-123 388.9334,-123\"/>\n",
       "<text text-anchor=\"middle\" x=\"415.9334\" y=\"-138.3\" font-family=\"Times,serif\" font-size=\"14.00\" fill=\"#000000\">CLKI</text>\n",
       "<polyline fill=\"none\" stroke=\"#000000\" points=\"442.9334,-123 442.9334,-161 \"/>\n",
       "<text text-anchor=\"middle\" x=\"526.9334\" y=\"-145.8\" font-family=\"Times,serif\" font-size=\"14.00\" fill=\"#000000\">$CLKDIVF_0</text>\n",
       "<text text-anchor=\"middle\" x=\"526.9334\" y=\"-130.8\" font-family=\"Times,serif\" font-size=\"14.00\" fill=\"#000000\">CLKDIVF_1_c0_c0_1</text>\n",
       "<polyline fill=\"none\" stroke=\"#000000\" points=\"610.9334,-123 610.9334,-161 \"/>\n",
       "<text text-anchor=\"middle\" x=\"643.9334\" y=\"-138.3\" font-family=\"Times,serif\" font-size=\"14.00\" fill=\"#000000\">CDIVX</text>\n",
       "</g>\n",
       "<!-- n7&#45;&gt;c19 -->\n",
       "<g id=\"edge15\" class=\"edge\">\n",
       "<title>n7:e&#45;&gt;c19:w</title>\n",
       "<path fill=\"none\" stroke=\"#000000\" d=\"M352.9334,-118C368.1067,-118 369.7762,-132.9429 379.2526,-139.2469\"/>\n",
       "<polygon fill=\"#000000\" stroke=\"#000000\" points=\"378.3573,-142.631 388.9334,-142 380.2722,-135.898 378.3573,-142.631\"/>\n",
       "</g>\n",
       "<!-- n8 -->\n",
       "<g id=\"node6\" class=\"node\">\n",
       "<title>n8</title>\n",
       "<polygon fill=\"none\" stroke=\"#000000\" points=\"2195.194,-87.5442 2195.194,-102.4558 2179.3778,-113 2157.0102,-113 2141.194,-102.4558 2141.194,-87.5442 2157.0102,-77 2179.3778,-77 2195.194,-87.5442\"/>\n",
       "<text text-anchor=\"middle\" x=\"2168.194\" y=\"-91.3\" font-family=\"Times,serif\" font-size=\"14.00\" fill=\"#000000\">led</text>\n",
       "</g>\n",
       "<!-- n9 -->\n",
       "<g id=\"node7\" class=\"node\">\n",
       "<title>n9</title>\n",
       "<polygon fill=\"none\" stroke=\"#000000\" points=\"587.2717,-190.5442 587.2717,-205.4558 555.4411,-216 510.4257,-216 478.595,-205.4558 478.595,-190.5442 510.4257,-180 555.4411,-180 587.2717,-190.5442\"/>\n",
       "<text text-anchor=\"middle\" x=\"532.9334\" y=\"-194.3\" font-family=\"Times,serif\" font-size=\"14.00\" fill=\"#000000\">uart_txd</text>\n",
       "</g>\n",
       "<!-- n10 -->\n",
       "<g id=\"node8\" class=\"node\">\n",
       "<title>n10</title>\n",
       "<polygon fill=\"none\" stroke=\"#000000\" points=\"133.2451,-190.5442 133.2451,-205.4558 101.1762,-216 55.8238,-216 23.7549,-205.4558 23.7549,-190.5442 55.8238,-180 101.1762,-180 133.2451,-190.5442\"/>\n",
       "<text text-anchor=\"middle\" x=\"78.5\" y=\"-194.3\" font-family=\"Times,serif\" font-size=\"14.00\" fill=\"#000000\">uart_rxd</text>\n",
       "</g>\n",
       "<!-- x1 -->\n",
       "<g id=\"node17\" class=\"node\">\n",
       "<title>x1</title>\n",
       "<path fill=\"none\" stroke=\"#000000\" d=\"M287.9667,-216C287.9667,-216 257.9667,-216 257.9667,-216 251.9667,-216 245.9667,-210 245.9667,-204 245.9667,-204 245.9667,-192 245.9667,-192 245.9667,-186 251.9667,-180 257.9667,-180 257.9667,-180 287.9667,-180 287.9667,-180 293.9667,-180 299.9667,-186 299.9667,-192 299.9667,-192 299.9667,-204 299.9667,-204 299.9667,-210 293.9667,-216 287.9667,-216\"/>\n",
       "<text text-anchor=\"middle\" x=\"272.9667\" y=\"-194.3\" font-family=\"Times,serif\" font-size=\"14.00\" fill=\"#000000\">BUF</text>\n",
       "</g>\n",
       "<!-- n10&#45;&gt;x1 -->\n",
       "<g id=\"edge1\" class=\"edge\">\n",
       "<title>n10:e&#45;&gt;x1:w</title>\n",
       "<path fill=\"none\" stroke=\"#000000\" d=\"M133.5,-198C179.9706,-198 194.0389,-198 235.9529,-198\"/>\n",
       "<polygon fill=\"#000000\" stroke=\"#000000\" points=\"235.9667,-201.5001 245.9667,-198 235.9666,-194.5001 235.9667,-201.5001\"/>\n",
       "</g>\n",
       "<!-- n11 -->\n",
       "<g id=\"node9\" class=\"node\">\n",
       "<title>n11</title>\n",
       "<polygon fill=\"none\" stroke=\"#000000\" points=\"843.3094,-40.5442 843.3094,-55.4558 814.3187,-66 773.3197,-66 744.329,-55.4558 744.329,-40.5442 773.3197,-30 814.3187,-30 843.3094,-40.5442\"/>\n",
       "<text text-anchor=\"middle\" x=\"793.8192\" y=\"-44.3\" font-family=\"Times,serif\" font-size=\"14.00\" fill=\"#000000\">reset_n</text>\n",
       "</g>\n",
       "<!-- n11&#45;&gt;c15 -->\n",
       "<g id=\"edge2\" class=\"edge\">\n",
       "<title>n11:e&#45;&gt;c15:w</title>\n",
       "<path fill=\"none\" stroke=\"#000000\" d=\"M842.8192,-48C882.2639,-48 870.2416,-105.9869 900.4384,-116.4064\"/>\n",
       "<polygon fill=\"#000000\" stroke=\"#000000\" points=\"900.2865,-119.9247 910.705,-118 901.3602,-113.0075 900.2865,-119.9247\"/>\n",
       "</g>\n",
       "<!-- n11&#45;&gt;c16 -->\n",
       "<g id=\"edge3\" class=\"edge\">\n",
       "<title>n11:e&#45;&gt;c16:w</title>\n",
       "<path fill=\"none\" stroke=\"#000000\" d=\"M842.8192,-48C869.3371,-48 878.3749,-48 900.6594,-48\"/>\n",
       "<polygon fill=\"#000000\" stroke=\"#000000\" points=\"900.7051,-51.5001 910.705,-48 900.705,-44.5001 900.7051,-51.5001\"/>\n",
       "</g>\n",
       "<!-- n12 -->\n",
       "<g id=\"node10\" class=\"node\">\n",
       "<title>n12</title>\n",
       "<polygon fill=\"none\" stroke=\"#000000\" points=\"120.0121,-244.5442 120.0121,-259.4558 95.6949,-270 61.3051,-270 36.9879,-259.4558 36.9879,-244.5442 61.3051,-234 95.6949,-234 120.0121,-244.5442\"/>\n",
       "<text text-anchor=\"middle\" x=\"78.5\" y=\"-248.3\" font-family=\"Times,serif\" font-size=\"14.00\" fill=\"#000000\">clk_in</text>\n",
       "</g>\n",
       "<!-- c15&#45;&gt;n3 -->\n",
       "<g id=\"edge5\" class=\"edge\">\n",
       "<title>c15:e&#45;&gt;n3:w</title>\n",
       "<path fill=\"none\" stroke=\"#000000\" d=\"M1267.705,-130C1281.6978,-130 1284.7584,-141.3659 1293.7975,-146.5161\"/>\n",
       "<polygon fill=\"#000000\" stroke=\"#000000\" points=\"1293.1541,-149.963 1303.705,-149 1294.8564,-143.1732 1293.1541,-149.963\"/>\n",
       "</g>\n",
       "<!-- c16&#45;&gt;n4 -->\n",
       "<g id=\"edge7\" class=\"edge\">\n",
       "<title>c16:e&#45;&gt;n4:w</title>\n",
       "<path fill=\"none\" stroke=\"#000000\" d=\"M1267.705,-60C1281.6978,-60 1284.7584,-48.6341 1293.7975,-43.4839\"/>\n",
       "<polygon fill=\"#000000\" stroke=\"#000000\" points=\"1294.8564,-46.8268 1303.705,-41 1293.1541,-40.037 1294.8564,-46.8268\"/>\n",
       "</g>\n",
       "<!-- c19&#45;&gt;n6 -->\n",
       "<g id=\"edge11\" class=\"edge\">\n",
       "<title>c19:e&#45;&gt;n6:w</title>\n",
       "<path fill=\"none\" stroke=\"#000000\" d=\"M676.9334,-142C688.9334,-142 694.1834,-142 702.8084,-142\"/>\n",
       "<polygon fill=\"#000000\" stroke=\"#000000\" points=\"702.9334,-145.5001 712.9334,-142 702.9333,-138.5001 702.9334,-145.5001\"/>\n",
       "</g>\n",
       "<!-- c21 -->\n",
       "<g id=\"node14\" class=\"node\">\n",
       "<title>c21</title>\n",
       "<polygon fill=\"none\" stroke=\"#000000\" points=\"0,-99 0,-137 157,-137 157,-99 0,-99\"/>\n",
       "<text text-anchor=\"middle\" x=\"10.5\" y=\"-114.3\" font-family=\"Times,serif\" font-size=\"14.00\" fill=\"#000000\"> </text>\n",
       "<polyline fill=\"none\" stroke=\"#000000\" points=\"21,-99 21,-137 \"/>\n",
       "<text text-anchor=\"middle\" x=\"64\" y=\"-121.8\" font-family=\"Times,serif\" font-size=\"14.00\" fill=\"#000000\">$OSCG_0</text>\n",
       "<text text-anchor=\"middle\" x=\"64\" y=\"-106.8\" font-family=\"Times,serif\" font-size=\"14.00\" fill=\"#000000\">OSCG_1</text>\n",
       "<polyline fill=\"none\" stroke=\"#000000\" points=\"107,-99 107,-137 \"/>\n",
       "<text text-anchor=\"middle\" x=\"132\" y=\"-114.3\" font-family=\"Times,serif\" font-size=\"14.00\" fill=\"#000000\">OSC</text>\n",
       "</g>\n",
       "<!-- c21&#45;&gt;n7 -->\n",
       "<g id=\"edge13\" class=\"edge\">\n",
       "<title>c21:e&#45;&gt;n7:w</title>\n",
       "<path fill=\"none\" stroke=\"#000000\" d=\"M157,-118C169,-118 174.25,-118 182.875,-118\"/>\n",
       "<polygon fill=\"#000000\" stroke=\"#000000\" points=\"183,-121.5001 193,-118 183,-114.5001 183,-121.5001\"/>\n",
       "</g>\n",
       "<!-- x0 -->\n",
       "<g id=\"node16\" class=\"node\">\n",
       "<title>x0</title>\n",
       "<path fill=\"none\" stroke=\"#000000\" d=\"M2093.194,-113C2093.194,-113 2063.194,-113 2063.194,-113 2057.194,-113 2051.194,-107 2051.194,-101 2051.194,-101 2051.194,-89 2051.194,-89 2051.194,-83 2057.194,-77 2063.194,-77 2063.194,-77 2093.194,-77 2093.194,-77 2099.194,-77 2105.194,-83 2105.194,-89 2105.194,-89 2105.194,-101 2105.194,-101 2105.194,-107 2099.194,-113 2093.194,-113\"/>\n",
       "<text text-anchor=\"middle\" x=\"2078.194\" y=\"-91.3\" font-family=\"Times,serif\" font-size=\"14.00\" fill=\"#000000\">BUF</text>\n",
       "</g>\n",
       "<!-- c24&#45;&gt;x0 -->\n",
       "<g id=\"edge4\" class=\"edge\">\n",
       "<title>c24:e&#45;&gt;x0:w</title>\n",
       "<path fill=\"none\" stroke=\"#000000\" stroke-width=\"3\" d=\"M2015.194,-95C2027.194,-95 2032.444,-95 2041.069,-95\"/>\n",
       "<polygon fill=\"#000000\" stroke=\"#000000\" stroke-width=\"3\" points=\"2041.194,-98.5001 2051.194,-95 2041.194,-91.5001 2041.194,-98.5001\"/>\n",
       "</g>\n",
       "<!-- x0&#45;&gt;n8 -->\n",
       "<g id=\"edge16\" class=\"edge\">\n",
       "<title>x0:e&#45;&gt;n8:w</title>\n",
       "<path fill=\"none\" stroke=\"#000000\" stroke-width=\"3\" d=\"M2105.194,-95C2117.194,-95 2122.444,-95 2131.069,-95\"/>\n",
       "<polygon fill=\"#000000\" stroke=\"#000000\" stroke-width=\"3\" points=\"2131.194,-98.5001 2141.194,-95 2131.194,-91.5001 2131.194,-98.5001\"/>\n",
       "</g>\n",
       "<!-- x1&#45;&gt;n9 -->\n",
       "<g id=\"edge17\" class=\"edge\">\n",
       "<title>x1:e&#45;&gt;n9:w</title>\n",
       "<path fill=\"none\" stroke=\"#000000\" d=\"M299.9667,-198C375.9343,-198 397.4857,-198 468.5643,-198\"/>\n",
       "<polygon fill=\"#000000\" stroke=\"#000000\" points=\"468.9334,-201.5001 478.9334,-198 468.9333,-194.5001 468.9334,-201.5001\"/>\n",
       "</g>\n",
       "<!-- v3 -->\n",
       "<g id=\"node18\" class=\"node\">\n",
       "<title>v3</title>\n",
       "<ellipse fill=\"none\" stroke=\"#000000\" cx=\"1432.3871\" cy=\"-95\" rx=\"42.4939\" ry=\"18\"/>\n",
       "<text text-anchor=\"middle\" x=\"1432.3871\" y=\"-91.3\" font-family=\"Times,serif\" font-size=\"14.00\" fill=\"#000000\">4&#39;0010</text>\n",
       "</g>\n",
       "<!-- v3&#45;&gt;x2 -->\n",
       "<g id=\"edge18\" class=\"edge\">\n",
       "<title>v3:e&#45;&gt;x2:w</title>\n",
       "<path fill=\"none\" stroke=\"#000000\" stroke-width=\"3\" d=\"M1475.3871,-95C1525.8766,-95 1541.0137,-95 1586.808,-95\"/>\n",
       "<polygon fill=\"#000000\" stroke=\"#000000\" stroke-width=\"3\" points=\"1587.0691,-98.5001 1597.0691,-95 1587.069,-91.5001 1587.0691,-98.5001\"/>\n",
       "</g>\n",
       "<!-- x2&#45;&gt;n5 -->\n",
       "<g id=\"edge9\" class=\"edge\">\n",
       "<title>x2:e&#45;&gt;n5:w</title>\n",
       "<path fill=\"none\" stroke=\"#000000\" stroke-width=\"3\" d=\"M1672.0691,-95C1684.0691,-95 1689.3191,-95 1697.9441,-95\"/>\n",
       "<polygon fill=\"#000000\" stroke=\"#000000\" stroke-width=\"3\" points=\"1698.0691,-98.5001 1708.0691,-95 1698.069,-91.5001 1698.0691,-98.5001\"/>\n",
       "</g>\n",
       "</g>\n",
       "</svg>\n"
      ],
      "text/plain": [
       "<graphviz.files.Source at 0x7f1a27c9e550>"
      ]
     },
     "metadata": {},
     "output_type": "display_data"
    }
   ],
   "source": [
    "from ys_aux import *\n",
    "display(to_svg(design, \"top\", 200 ))"
   ]
  },
  {
   "cell_type": "markdown",
   "metadata": {
    "slideshow": {
     "slide_type": "slide"
    }
   },
   "source": [
    "## Technology mapping to ECP5\n",
    "\n",
    "The long command sequence for a ECP5 target was moved into a rules class. We call these rules using an auxiliary script:"
   ]
  },
  {
   "cell_type": "code",
   "execution_count": 7,
   "metadata": {},
   "outputs": [],
   "source": [
    "from ecp5aux import synthesize\n",
    "\n",
    "synthesize(design)"
   ]
  },
  {
   "cell_type": "markdown",
   "metadata": {
    "slideshow": {
     "slide_type": "slide"
    }
   },
   "source": [
    "## PnR stage: Place and route\n",
    "\n",
    "Write out the JSON file for the PnR step:"
   ]
  },
  {
   "cell_type": "code",
   "execution_count": 8,
   "metadata": {},
   "outputs": [],
   "source": [
    "json_filename = \"design.json\"\n",
    "\n",
    "design.run(\"write_json %s\" % json_filename)\n",
    "# Output of RTLIL for debugging purposes:\n",
    "# design.run(\"write_ilang design.il\")"
   ]
  },
  {
   "cell_type": "markdown",
   "metadata": {
    "slideshow": {
     "slide_type": "slide"
    }
   },
   "source": [
    "### Running nextpnr"
   ]
  },
  {
   "cell_type": "code",
   "execution_count": 9,
   "metadata": {},
   "outputs": [
    {
     "name": "stdout",
     "output_type": "stream",
     "text": [
      "Info: constraining clock net 'clk_in' to 100.00 MHz\n",
      "\n",
      "Info: Logic utilisation before packing:\n",
      "Info:     Total LUT4s:       237/43848     0%\n",
      "Info:         logic LUTs:    173/43848     0%\n",
      "Info:         carry LUTs:     64/43848     0%\n",
      "Info:           RAM LUTs:      0/21924     0%\n",
      "Info:          RAMW LUTs:      0/10962     0%\n",
      "\n",
      "Info:      Total DFFs:       132/43848     0%\n",
      "\n",
      "Info: Packing IOs..\n",
      "Info: pin 'clk_in$tr_io' constrained to Bel 'X0/Y68/PIOC'.\n",
      "Info: pin 'reset_n$tr_io' constrained to Bel 'X4/Y71/PIOB'.\n",
      "Info: pin 'uart_rxd$tr_io' constrained to Bel 'X38/Y0/PIOB'.\n",
      "Info: pin 'uart_txd$tr_io' constrained to Bel 'X36/Y0/PIOB'.\n",
      "Info: pin 'led[6]$tr_io' constrained to Bel 'X90/Y14/PIOB'.\n",
      "Info: pin 'led[1]$tr_io' constrained to Bel 'X90/Y11/PIOB'.\n",
      "Info: pin 'led[0]$tr_io' constrained to Bel 'X90/Y11/PIOC'.\n",
      "Info: pin 'led[2]$tr_io' constrained to Bel 'X90/Y14/PIOA'.\n",
      "Info: pin 'led[3]$tr_io' constrained to Bel 'X90/Y14/PIOC'.\n",
      "Info: pin 'led[4]$tr_io' constrained to Bel 'X90/Y17/PIOA'.\n",
      "Info: pin 'led[5]$tr_io' constrained to Bel 'X90/Y14/PIOD'.\n",
      "Info: pin 'led[7]$tr_io' constrained to Bel 'X90/Y11/PIOD'.\n",
      "Info: Packing constants..\n",
      "Info: Packing carries...\n",
      "Info: Finding LUTFF pairs...\n",
      "Info: Packing LUT5-7s...\n",
      "Info: Finding LUT-LUT pairs...\n",
      "Info: Packing paired LUTs into a SLICE...\n",
      "Info: Packing unpaired LUTs into a SLICE...\n",
      "Info: Packing unpaired FFs into a SLICE...\n",
      "Info: Generating derived timing constraints...\n",
      "Info: Promoting globals...\n",
      "Info:     promoting clock net oclk::wire to global network\n",
      "Info:     promoting clock net dclk::wire to global network\n",
      "Info: Checksum: 0x938961ec\n",
      "\n",
      "Info: Annotating ports with timing budgets for target frequency 100.00 MHz\n",
      "Info: Checksum: 0x02ee68c3\n",
      "\n",
      "Info: Device utilisation:\n",
      "Info: \t       TRELLIS_SLICE:   132/21924     0%\n",
      "Info: \t          TRELLIS_IO:    12/  245     4%\n",
      "Info: \t                DCCA:     2/   56     3%\n",
      "Info: \t              DP16KD:     0/  108     0%\n",
      "Info: \t          MULT18X18D:     0/   72     0%\n",
      "Info: \t              ALU54B:     0/   36     0%\n",
      "Info: \t             EHXPLLL:     0/    4     0%\n",
      "Info: \t             EXTREFB:     0/    2     0%\n",
      "Info: \t                DCUA:     0/    2     0%\n",
      "Info: \t           PCSCLKDIV:     0/    2     0%\n",
      "Info: \t             IOLOGIC:     0/  160     0%\n",
      "Info: \t            SIOLOGIC:     0/   85     0%\n",
      "Info: \t                 GSR:     0/    1     0%\n",
      "Info: \t               JTAGG:     0/    1     0%\n",
      "Info: \t                OSCG:     1/    1   100%\n",
      "Info: \t               SEDGA:     0/    1     0%\n",
      "Info: \t                 DTR:     0/    1     0%\n",
      "Info: \t             USRMCLK:     0/    1     0%\n",
      "Info: \t             CLKDIVF:     1/    4    25%\n",
      "Info: \t           ECLKSYNCB:     0/   10     0%\n",
      "Info: \t             DLLDELD:     0/    8     0%\n",
      "Info: \t              DDRDLL:     0/    4     0%\n",
      "Info: \t             DQSBUFM:     0/   10     0%\n",
      "Info: \t     TRELLIS_ECLKBUF:     0/    8     0%\n",
      "Info: \t        ECLKBRIDGECS:     0/    2     0%\n",
      "\n",
      "Info: Placed 12 cells based on constraints.\n",
      "Info: Creating initial analytic placement for 92 cells, random placement wirelen = 8633.\n",
      "Info:     at initial placer iter 0, wirelen = 434\n",
      "Info:     at initial placer iter 1, wirelen = 366\n",
      "Info:     at initial placer iter 2, wirelen = 403\n",
      "Info:     at initial placer iter 3, wirelen = 328\n",
      "Info: Running main analytical placer.\n",
      "Info:     at iteration #1, type CLKDIVF: wirelen solved = 328, spread = 328, legal = 395; time = 0.00s\n",
      "Info:     at iteration #1, type OSCG: wirelen solved = 395, spread = 395, legal = 432; time = 0.00s\n",
      "Info:     at iteration #1, type TRELLIS_SLICE: wirelen solved = 484, spread = 1609, legal = 1461; time = 0.01s\n",
      "Info:     at iteration #1, type ALL: wirelen solved = 405, spread = 1149, legal = 1336; time = 0.01s\n",
      "Info:     at iteration #2, type CLKDIVF: wirelen solved = 1270, spread = 1270, legal = 1336; time = 0.00s\n",
      "Info:     at iteration #2, type OSCG: wirelen solved = 1299, spread = 1299, legal = 1336; time = 0.00s\n",
      "Info:     at iteration #2, type TRELLIS_SLICE: wirelen solved = 542, spread = 938, legal = 1124; time = 0.01s\n",
      "Info:     at iteration #2, type ALL: wirelen solved = 464, spread = 682, legal = 1122; time = 0.01s\n",
      "Info:     at iteration #3, type CLKDIVF: wirelen solved = 1054, spread = 1054, legal = 1122; time = 0.00s\n",
      "Info:     at iteration #3, type OSCG: wirelen solved = 1085, spread = 1085, legal = 1122; time = 0.00s\n",
      "Info:     at iteration #3, type TRELLIS_SLICE: wirelen solved = 548, spread = 897, legal = 1007; time = 0.01s\n",
      "Info:     at iteration #3, type ALL: wirelen solved = 462, spread = 708, legal = 1061; time = 0.01s\n",
      "Info:     at iteration #4, type CLKDIVF: wirelen solved = 993, spread = 993, legal = 1061; time = 0.00s\n",
      "Info:     at iteration #4, type OSCG: wirelen solved = 1024, spread = 1024, legal = 1061; time = 0.00s\n",
      "Info:     at iteration #4, type TRELLIS_SLICE: wirelen solved = 562, spread = 788, legal = 1016; time = 0.01s\n",
      "Info:     at iteration #4, type ALL: wirelen solved = 472, spread = 671, legal = 1001; time = 0.01s\n",
      "Info:     at iteration #5, type CLKDIVF: wirelen solved = 933, spread = 933, legal = 1001; time = 0.00s\n",
      "Info:     at iteration #5, type OSCG: wirelen solved = 964, spread = 964, legal = 1001; time = 0.01s\n",
      "Info:     at iteration #5, type TRELLIS_SLICE: wirelen solved = 564, spread = 778, legal = 976; time = 0.01s\n",
      "Info:     at iteration #5, type ALL: wirelen solved = 478, spread = 688, legal = 986; time = 0.01s\n",
      "Info:     at iteration #6, type CLKDIVF: wirelen solved = 920, spread = 920, legal = 986; time = 0.00s\n",
      "Info:     at iteration #6, type OSCG: wirelen solved = 949, spread = 949, legal = 986; time = 0.01s\n",
      "Info:     at iteration #6, type TRELLIS_SLICE: wirelen solved = 574, spread = 785, legal = 977; time = 0.01s\n",
      "Info:     at iteration #6, type ALL: wirelen solved = 512, spread = 728, legal = 1049; time = 0.01s\n",
      "Info:     at iteration #7, type CLKDIVF: wirelen solved = 984, spread = 984, legal = 1049; time = 0.00s\n",
      "Info:     at iteration #7, type OSCG: wirelen solved = 1013, spread = 1013, legal = 1049; time = 0.01s\n",
      "Info:     at iteration #7, type TRELLIS_SLICE: wirelen solved = 599, spread = 766, legal = 1028; time = 0.01s\n",
      "Info:     at iteration #7, type ALL: wirelen solved = 508, spread = 678, legal = 1006; time = 0.01s\n",
      "Info:     at iteration #8, type CLKDIVF: wirelen solved = 940, spread = 940, legal = 1006; time = 0.00s\n",
      "Info:     at iteration #8, type OSCG: wirelen solved = 973, spread = 973, legal = 1006; time = 0.00s\n",
      "Info:     at iteration #8, type TRELLIS_SLICE: wirelen solved = 591, spread = 769, legal = 989; time = 0.01s\n",
      "Info:     at iteration #8, type ALL: wirelen solved = 491, spread = 667, legal = 1002; time = 0.01s\n",
      "Info:     at iteration #9, type CLKDIVF: wirelen solved = 937, spread = 937, legal = 1065; time = 0.01s\n",
      "Info:     at iteration #9, type OSCG: wirelen solved = 1034, spread = 1034, legal = 1065; time = 0.00s\n",
      "Info:     at iteration #9, type TRELLIS_SLICE: wirelen solved = 658, spread = 848, legal = 1072; time = 0.01s\n",
      "Info:     at iteration #9, type ALL: wirelen solved = 495, spread = 668, legal = 978; time = 0.01s\n",
      "Info:     at iteration #10, type CLKDIVF: wirelen solved = 915, spread = 915, legal = 978; time = 0.00s\n",
      "Info:     at iteration #10, type OSCG: wirelen solved = 949, spread = 949, legal = 978; time = 0.01s\n",
      "Info:     at iteration #10, type TRELLIS_SLICE: wirelen solved = 603, spread = 762, legal = 1014; time = 0.01s\n",
      "Info:     at iteration #10, type ALL: wirelen solved = 523, spread = 665, legal = 975; time = 0.01s\n",
      "Info:     at iteration #11, type CLKDIVF: wirelen solved = 911, spread = 911, legal = 975; time = 0.00s\n",
      "Info:     at iteration #11, type OSCG: wirelen solved = 953, spread = 953, legal = 975; time = 0.00s\n",
      "Info:     at iteration #11, type TRELLIS_SLICE: wirelen solved = 594, spread = 730, legal = 1007; time = 0.01s\n",
      "Info:     at iteration #11, type ALL: wirelen solved = 512, spread = 651, legal = 987; time = 0.01s\n",
      "Info:     at iteration #12, type CLKDIVF: wirelen solved = 925, spread = 925, legal = 987; time = 0.00s\n",
      "Info:     at iteration #12, type OSCG: wirelen solved = 970, spread = 970, legal = 987; time = 0.00s\n",
      "Info:     at iteration #12, type TRELLIS_SLICE: wirelen solved = 603, spread = 723, legal = 995; time = 0.01s\n",
      "Info:     at iteration #12, type ALL: wirelen solved = 524, spread = 649, legal = 966; time = 0.01s\n",
      "Info:     at iteration #13, type CLKDIVF: wirelen solved = 912, spread = 912, legal = 966; time = 0.00s\n",
      "Info:     at iteration #13, type OSCG: wirelen solved = 949, spread = 949, legal = 966; time = 0.00s\n"
     ]
    },
    {
     "name": "stdout",
     "output_type": "stream",
     "text": [
      "Info:     at iteration #13, type TRELLIS_SLICE: wirelen solved = 591, spread = 711, legal = 960; time = 0.01s\n",
      "Info:     at iteration #13, type ALL: wirelen solved = 518, spread = 644, legal = 962; time = 0.01s\n",
      "Info:     at iteration #14, type CLKDIVF: wirelen solved = 909, spread = 909, legal = 962; time = 0.00s\n",
      "Info:     at iteration #14, type OSCG: wirelen solved = 950, spread = 950, legal = 962; time = 0.00s\n",
      "Info:     at iteration #14, type TRELLIS_SLICE: wirelen solved = 587, spread = 709, legal = 1008; time = 0.01s\n",
      "Info:     at iteration #14, type ALL: wirelen solved = 527, spread = 646, legal = 992; time = 0.01s\n",
      "Info:     at iteration #15, type CLKDIVF: wirelen solved = 941, spread = 941, legal = 992; time = 0.00s\n",
      "Info:     at iteration #15, type OSCG: wirelen solved = 981, spread = 981, legal = 992; time = 0.00s\n",
      "Info:     at iteration #15, type TRELLIS_SLICE: wirelen solved = 590, spread = 802, legal = 1022; time = 0.01s\n",
      "Info:     at iteration #15, type ALL: wirelen solved = 527, spread = 739, legal = 1008; time = 0.01s\n",
      "Info:     at iteration #16, type CLKDIVF: wirelen solved = 961, spread = 961, legal = 1008; time = 0.00s\n",
      "Info:     at iteration #16, type OSCG: wirelen solved = 999, spread = 999, legal = 1008; time = 0.00s\n",
      "Info:     at iteration #16, type TRELLIS_SLICE: wirelen solved = 599, spread = 734, legal = 1050; time = 0.01s\n",
      "Info:     at iteration #16, type ALL: wirelen solved = 544, spread = 681, legal = 994; time = 0.01s\n",
      "Info:     at iteration #17, type CLKDIVF: wirelen solved = 950, spread = 950, legal = 994; time = 0.00s\n",
      "Info:     at iteration #17, type OSCG: wirelen solved = 986, spread = 986, legal = 994; time = 0.00s\n",
      "Info:     at iteration #17, type TRELLIS_SLICE: wirelen solved = 588, spread = 752, legal = 1016; time = 0.01s\n",
      "Info:     at iteration #17, type ALL: wirelen solved = 590, spread = 694, legal = 1015; time = 0.01s\n",
      "Info:     at iteration #18, type CLKDIVF: wirelen solved = 977, spread = 977, legal = 1015; time = 0.00s\n",
      "Info:     at iteration #18, type OSCG: wirelen solved = 1008, spread = 1008, legal = 1015; time = 0.00s\n",
      "Info:     at iteration #18, type TRELLIS_SLICE: wirelen solved = 598, spread = 754, legal = 1062; time = 0.01s\n",
      "Info:     at iteration #18, type ALL: wirelen solved = 550, spread = 728, legal = 1046; time = 0.01s\n",
      "Info: HeAP Placer Time: 0.54s\n",
      "Info:   of which solving equations: 0.26s\n",
      "Info:   of which spreading cells: 0.09s\n",
      "Info:   of which strict legalisation: 0.10s\n",
      "\n",
      "Info: Running simulated annealing placer for refinement.\n",
      "Info:   at iteration #1: temp = 0.000000, timing cost = 73, wirelen = 962\n",
      "Info:   at iteration #5: temp = 0.000000, timing cost = 81, wirelen = 827\n",
      "Info:   at iteration #10: temp = 0.000000, timing cost = 78, wirelen = 792\n",
      "Info:   at iteration #13: temp = 0.000000, timing cost = 81, wirelen = 782 \n",
      "Info: SA placement time 0.08s\n",
      "\n",
      "Info: Max frequency for clock '$glbnet$oclk::wire': 258.60 MHz (PASS at 100.00 MHz)\n",
      "Info: Max frequency for clock '$glbnet$dclk::wire': 291.38 MHz (PASS at 100.00 MHz)\n",
      "\n",
      "Info: Max delay <async>                    -> <async>                   : 0.54 ns\n",
      "Info: Max delay <async>                    -> posedge $glbnet$dclk::wire: 9.44 ns\n",
      "Info: Max delay <async>                    -> posedge $glbnet$oclk::wire: 9.82 ns\n",
      "Info: Max delay posedge $glbnet$dclk::wire -> <async>                   : 1.53 ns\n",
      "Info: Max delay posedge $glbnet$oclk::wire -> <async>                   : 1.85 ns\n",
      "\n",
      "Info: Slack histogram:\n",
      "Info:  legend: * represents 1 endpoint(s)\n",
      "Info:          + represents [1,1) endpoint(s)\n",
      "Info: [   184,    648) |******************************* \n",
      "Info: [   648,   1112) |********************************** \n",
      "Info: [  1112,   1576) |* \n",
      "Info: [  1576,   2040) | \n",
      "Info: [  2040,   2504) | \n",
      "Info: [  2504,   2968) | \n",
      "Info: [  2968,   3432) | \n",
      "Info: [  3432,   3896) | \n",
      "Info: [  3896,   4360) | \n",
      "Info: [  4360,   4824) | \n",
      "Info: [  4824,   5288) | \n",
      "Info: [  5288,   5752) | \n",
      "Info: [  5752,   6216) |*** \n",
      "Info: [  6216,   6680) |*************************************** \n",
      "Info: [  6680,   7144) |************************ \n",
      "Info: [  7144,   7608) | \n",
      "Info: [  7608,   8072) | \n",
      "Info: [  8072,   8536) |** \n",
      "Info: [  8536,   9000) |** \n",
      "Info: [  9000,   9464) |* \n",
      "Info: Checksum: 0x756ca7f1\n",
      "Info: Routing globals...\n",
      "Info:     routing clock net $glbnet$oclk::wire using global 0\n",
      "Info:     routing clock net $glbnet$dclk::wire using global 1\n",
      "\n",
      "Info: Routing..\n",
      "Info: Setting up routing queue.\n",
      "Info: Routing 584 arcs.\n",
      "Info:            |   (re-)routed arcs  |   delta    | remaining|       time spent     |\n",
      "Info:    IterCnt |  w/ripup   wo/ripup |  w/r  wo/r |      arcs| batch(sec) total(sec)|\n",
      "Info:        584 |        0        584 |    0   584 |         0|       0.39       0.39|\n",
      "Info: Routing complete.\n",
      "Info: Router1 time 0.39s\n",
      "Info: Checksum: 0x51382515\n",
      "\n",
      "Info: Critical path report for clock '$glbnet$oclk::wire' (posedge -> posedge):\n",
      "Info: curr total\n",
      "Info:  0.3  0.3  Source oclk::wire_TRELLIS_FF_CLK_DI_LUT4_Z_SLICE.Q0\n",
      "Info:  0.8  1.1    Net oclk::wire_TRELLIS_FF_CLK_8_Q[31] budget 2.100000 ns (87,2) -> (86,3)\n",
      "Info:                Sink oclk::wire_TRELLIS_FF_CLK_Q_PFUMX_C0_1_SLICE.B0\n",
      "Info:  0.2  1.3  Source oclk::wire_TRELLIS_FF_CLK_Q_PFUMX_C0_1_SLICE.OFX0\n",
      "Info:  0.0  1.3    Net oclk::wire_TRELLIS_FF_CLK_Q_PFUMX_C0_1_Z budget 0.000000 ns (86,3) -> (86,3)\n",
      "Info:                Sink oclk::wire_TRELLIS_FF_CLK_Q_PFUMX_C0_SLICE.FXA\n",
      "Info:  0.1  1.4  Source oclk::wire_TRELLIS_FF_CLK_Q_PFUMX_C0_SLICE.OFX1\n",
      "Info:  0.0  1.4    Net oclk::wire_TRELLIS_FF_CLK_Q_L6MUX21_SD_1_Z budget 0.000000 ns (86,3) -> (86,3)\n",
      "Info:                Sink oclk::wire_TRELLIS_FF_CLK_Q_PFUMX_C0_1_SLICE.FXB\n",
      "Info:  0.1  1.6  Source oclk::wire_TRELLIS_FF_CLK_Q_PFUMX_C0_1_SLICE.OFX1\n",
      "Info:  0.5  2.1    Net toggle_led0::wire_TRELLIS_FF_Q_CE_L6MUX21_Z_SD[2] budget 2.099000 ns (86,3) -> (85,4)\n",
      "Info:                Sink toggle_led0::wire_TRELLIS_FF_Q_CE_L6MUX21_Z_D1_L6MUX21_Z_D1_PFUMX_Z_SLICE.D1\n",
      "Info:  0.2  2.3  Source toggle_led0::wire_TRELLIS_FF_Q_CE_L6MUX21_Z_D1_L6MUX21_Z_D1_PFUMX_Z_SLICE.OFX0\n",
      "Info:  0.0  2.3    Net toggle_led0::wire_TRELLIS_FF_Q_CE_L6MUX21_Z_D1_L6MUX21_Z_D1 budget 0.000000 ns (85,4) -> (85,4)\n",
      "Info:                Sink toggle_led0::wire_TRELLIS_FF_Q_CE_L6MUX21_Z_D1_L6MUX21_Z_D1_PFUMX_Z_SLICE.FXB\n",
      "Info:  0.1  2.4  Source toggle_led0::wire_TRELLIS_FF_Q_CE_L6MUX21_Z_D1_L6MUX21_Z_D1_PFUMX_Z_SLICE.OFX1\n",
      "Info:  0.0  2.4    Net toggle_led0::wire_TRELLIS_FF_Q_CE_L6MUX21_Z_D1 budget 0.000000 ns (85,4) -> (85,4)\n",
      "Info:                Sink toggle_led0::wire_TRELLIS_FF_Q_CE_L6MUX21_Z_D1_L6MUX21_Z_D0_PFUMX_Z_SLICE.FXB\n",
      "Info:  0.1  2.6  Source toggle_led0::wire_TRELLIS_FF_Q_CE_L6MUX21_Z_D1_L6MUX21_Z_D0_PFUMX_Z_SLICE.OFX1\n",
      "Info:  0.9  3.5    Net toggle_led0::wire_TRELLIS_FF_Q_CE[0] budget 2.127000 ns (85,4) -> (84,6)\n",
      "Info:                Sink oclk::wire_TRELLIS_FF_CLK_22_DI_LUT4_Z_SLICE.D0\n",
      "Info:  0.1  3.6  Source oclk::wire_TRELLIS_FF_CLK_22_DI_LUT4_Z_SLICE.F0\n",
      "Info:  0.1  3.7    Net oclk::wire_TRELLIS_FF_CLK_22_DI budget 2.127000 ns (84,6) -> (84,6)\n",
      "Info:                Sink oclk::wire_TRELLIS_FF_CLK_22_DI_LUT4_Z_SLICE.DI0\n",
      "Info:  0.0  3.7  Setup oclk::wire_TRELLIS_FF_CLK_22_DI_LUT4_Z_SLICE.DI0\n",
      "Info: 1.5 ns logic, 2.2 ns routing\n",
      "\n",
      "Info: Critical path report for clock '$glbnet$dclk::wire' (posedge -> posedge):\n",
      "Info: curr total\n",
      "Info:  0.3  0.3  Source dclk::wire_TRELLIS_FF_CLK_23_DI_LUT4_Z_SLICE.Q0\n",
      "Info:  1.1  1.5    Net dclk::wire_TRELLIS_FF_CLK_Q[8] budget 3.149000 ns (82,13) -> (85,13)\n",
      "Info:                Sink dclk::wire_TRELLIS_FF_CLK_Q_CCU2C_B0$CCU2_SLICE.B0\n",
      "Info:  0.3  1.7  Source dclk::wire_TRELLIS_FF_CLK_Q_CCU2C_B0$CCU2_SLICE.FCO\n",
      "Info:  0.0  1.7    Net dclk::wire_TRELLIS_FF_CLK_Q_CCU2C_B0_3_COUT[9] budget 0.000000 ns (85,13) -> (85,13)\n",
      "Info:                Sink dclk::wire_TRELLIS_FF_CLK_Q_CCU2C_B0_14$CCU2_SLICE.FCI\n",
      "Info:  0.0  1.8  Source dclk::wire_TRELLIS_FF_CLK_Q_CCU2C_B0_14$CCU2_SLICE.FCO\n",
      "Info:  0.0  1.8    Net dclk::wire_TRELLIS_FF_CLK_Q_CCU2C_B0_3_COUT[11] budget 0.000000 ns (85,13) -> (85,13)\n",
      "Info:                Sink dclk::wire_TRELLIS_FF_CLK_Q_CCU2C_B0_13$CCU2_SLICE.FCI\n",
      "Info:  0.0  1.8  Source dclk::wire_TRELLIS_FF_CLK_Q_CCU2C_B0_13$CCU2_SLICE.FCO\n",
      "Info:  0.0  1.8    Net dclk::wire_TRELLIS_FF_CLK_Q_CCU2C_B0_3_COUT[13] budget 0.000000 ns (85,13) -> (86,13)\n",
      "Info:                Sink dclk::wire_TRELLIS_FF_CLK_Q_CCU2C_B0_12$CCU2_SLICE.FCI\n",
      "Info:  0.0  1.9  Source dclk::wire_TRELLIS_FF_CLK_Q_CCU2C_B0_12$CCU2_SLICE.FCO\n",
      "Info:  0.0  1.9    Net dclk::wire_TRELLIS_FF_CLK_Q_CCU2C_B0_3_COUT[15] budget 0.000000 ns (86,13) -> (86,13)\n",
      "Info:                Sink dclk::wire_TRELLIS_FF_CLK_Q_CCU2C_B0_11$CCU2_SLICE.FCI\n",
      "Info:  0.0  1.9  Source dclk::wire_TRELLIS_FF_CLK_Q_CCU2C_B0_11$CCU2_SLICE.FCO\n",
      "Info:  0.0  1.9    Net dclk::wire_TRELLIS_FF_CLK_Q_CCU2C_B0_3_COUT[17] budget 0.000000 ns (86,13) -> (86,13)\n",
      "Info:                Sink dclk::wire_TRELLIS_FF_CLK_Q_CCU2C_B0_10$CCU2_SLICE.FCI\n",
      "Info:  0.0  1.9  Source dclk::wire_TRELLIS_FF_CLK_Q_CCU2C_B0_10$CCU2_SLICE.FCO\n",
      "Info:  0.0  1.9    Net dclk::wire_TRELLIS_FF_CLK_Q_CCU2C_B0_3_COUT[19] budget 0.000000 ns (86,13) -> (86,13)\n",
      "Info:                Sink dclk::wire_TRELLIS_FF_CLK_Q_CCU2C_B0_9$CCU2_SLICE.FCI\n",
      "Info:  0.0  2.0  Source dclk::wire_TRELLIS_FF_CLK_Q_CCU2C_B0_9$CCU2_SLICE.FCO\n",
      "Info:  0.0  2.0    Net dclk::wire_TRELLIS_FF_CLK_Q_CCU2C_B0_3_COUT[21] budget 0.000000 ns (86,13) -> (87,13)\n",
      "Info:                Sink dclk::wire_TRELLIS_FF_CLK_Q_CCU2C_B0_8$CCU2_SLICE.FCI\n",
      "Info:  0.0  2.0  Source dclk::wire_TRELLIS_FF_CLK_Q_CCU2C_B0_8$CCU2_SLICE.FCO\n",
      "Info:  0.0  2.0    Net dclk::wire_TRELLIS_FF_CLK_Q_CCU2C_B0_3_COUT[23] budget 0.000000 ns (87,13) -> (87,13)\n",
      "Info:                Sink dclk::wire_TRELLIS_FF_CLK_Q_CCU2C_B0_7$CCU2_SLICE.FCI\n",
      "Info:  0.0  2.1  Source dclk::wire_TRELLIS_FF_CLK_Q_CCU2C_B0_7$CCU2_SLICE.FCO\n",
      "Info:  0.0  2.1    Net dclk::wire_TRELLIS_FF_CLK_Q_CCU2C_B0_3_COUT[25] budget 0.000000 ns (87,13) -> (87,13)\n",
      "Info:                Sink dclk::wire_TRELLIS_FF_CLK_Q_CCU2C_B0_6$CCU2_SLICE.FCI\n",
      "Info:  0.0  2.1  Source dclk::wire_TRELLIS_FF_CLK_Q_CCU2C_B0_6$CCU2_SLICE.FCO\n",
      "Info:  0.0  2.1    Net dclk::wire_TRELLIS_FF_CLK_Q_CCU2C_B0_3_COUT[27] budget 0.000000 ns (87,13) -> (87,13)\n",
      "Info:                Sink dclk::wire_TRELLIS_FF_CLK_Q_CCU2C_B0_5$CCU2_SLICE.FCI\n",
      "Info:  0.0  2.2  Source dclk::wire_TRELLIS_FF_CLK_Q_CCU2C_B0_5$CCU2_SLICE.FCO\n",
      "Info:  0.0  2.2    Net dclk::wire_TRELLIS_FF_CLK_Q_CCU2C_B0_3_COUT[29] budget 0.000000 ns (87,13) -> (88,13)\n",
      "Info:                Sink dclk::wire_TRELLIS_FF_CLK_Q_CCU2C_B0_3$CCU2_SLICE.FCI\n",
      "Info:  0.3  2.4  Source dclk::wire_TRELLIS_FF_CLK_Q_CCU2C_B0_3$CCU2_SLICE.F1\n",
      "Info:  0.7  3.1    Net dclk::wire_TRELLIS_FF_CLK_DI_LUT4_Z_D[31] budget 3.149000 ns (88,13) -> (88,14)\n",
      "Info:                Sink dclk::wire_TRELLIS_FF_CLK_DI_LUT4_Z_SLICE.C0\n",
      "Info:  0.1  3.2  Source dclk::wire_TRELLIS_FF_CLK_DI_LUT4_Z_SLICE.F0\n",
      "Info:  0.1  3.3    Net dclk::wire_TRELLIS_FF_CLK_DI budget 2.099000 ns (88,14) -> (88,14)\n",
      "Info:                Sink dclk::wire_TRELLIS_FF_CLK_DI_LUT4_Z_SLICE.DI0\n",
      "Info:  0.0  3.3  Setup dclk::wire_TRELLIS_FF_CLK_DI_LUT4_Z_SLICE.DI0\n",
      "Info: 1.4 ns logic, 1.9 ns routing\n",
      "\n",
      "Info: Critical path report for cross-domain path '<async>' -> '<async>':\n",
      "Info: curr total\n",
      "Info:  0.0  0.0  Source uart_rxd$tr_io.O\n",
      "Info:  0.8  0.8    Net uart_txd$TRELLIS_IO_OUT budget 10.000000 ns (38,0) -> (36,0)\n",
      "Info:                Sink uart_txd$tr_io.I\n",
      "Info: 0.0 ns logic, 0.8 ns routing\n",
      "\n",
      "Info: Critical path report for cross-domain path '<async>' -> 'posedge $glbnet$dclk::wire':\n",
      "Info: curr total\n",
      "Info:  0.0  0.0  Source reset_n$tr_io.O\n",
      "Info:  5.7  5.7    Net reset_n$TRELLIS_IO_IN budget 4.817000 ns (4,71) -> (88,12)\n",
      "Info:                Sink reset_n_LUT4_D_5_SLICE.D1\n",
      "Info:  0.1  5.9  Source reset_n_LUT4_D_5_SLICE.F1\n",
      "Info:  0.6  6.4    Net reset_n_LUT4_D_5_Z budget 4.817000 ns (88,12) -> (88,13)\n",
      "Info:                Sink dclk::wire_TRELLIS_FF_CLK_4_DI_LUT4_Z_SLICE.LSR\n",
      "Info:  0.2  6.7  Setup dclk::wire_TRELLIS_FF_CLK_4_DI_LUT4_Z_SLICE.LSR\n",
      "Info: 0.4 ns logic, 6.3 ns routing\n",
      "\n",
      "Info: Critical path report for cross-domain path '<async>' -> 'posedge $glbnet$oclk::wire':\n",
      "Info: curr total\n",
      "Info:  0.0  0.0  Source reset_n$tr_io.O\n",
      "Info:  5.9  5.9    Net reset_n$TRELLIS_IO_IN budget 4.817000 ns (4,71) -> (84,6)\n",
      "Info:                Sink oclk::wire_TRELLIS_FF_CLK_22_DI_LUT4_Z_SLICE.D1\n",
      "Info:  0.1  6.0  Source oclk::wire_TRELLIS_FF_CLK_22_DI_LUT4_Z_SLICE.F1\n",
      "Info:  0.4  6.4    Net reset_n_LUT4_D_54_Z budget 4.817000 ns (84,6) -> (84,6)\n",
      "Info:                Sink oclk::wire_TRELLIS_FF_CLK_22_DI_LUT4_Z_SLICE.LSR\n",
      "Info:  0.2  6.6  Setup oclk::wire_TRELLIS_FF_CLK_22_DI_LUT4_Z_SLICE.LSR\n",
      "Info: 0.4 ns logic, 6.2 ns routing\n",
      "\n",
      "Info: Critical path report for cross-domain path 'posedge $glbnet$dclk::wire' -> '<async>':\n",
      "Info: curr total\n",
      "Info:  0.3  0.3  Source led_LUT4_Z_SLICE.Q1\n",
      "Info:  0.3  0.6    Net l_out::wire[6] budget 4.776000 ns (87,15) -> (87,15)\n",
      "Info:                Sink led_LUT4_Z_SLICE.D0\n",
      "Info:  0.1  0.7  Source led_LUT4_Z_SLICE.F0\n",
      "Info:  0.7  1.5    Net led[6]$TRELLIS_IO_OUT budget 4.775000 ns (87,15) -> (90,14)\n",
      "Info:                Sink led[6]$tr_io.I\n",
      "Info: 0.4 ns logic, 1.0 ns routing\n",
      "\n",
      "Info: Critical path report for cross-domain path 'posedge $glbnet$oclk::wire' -> '<async>':\n",
      "Info: curr total\n",
      "Info:  0.3  0.3  Source led_LUT4_Z_1_SLICE.Q1\n",
      "Info:  0.4  0.7    Net l_out::wire[1] budget 4.776000 ns (88,6) -> (88,6)\n",
      "Info:                Sink led_LUT4_Z_1_SLICE.D0\n",
      "Info:  0.1  0.8  Source led_LUT4_Z_1_SLICE.F0\n",
      "Info:  0.7  1.5    Net led[1]$TRELLIS_IO_OUT budget 4.775000 ns (88,6) -> (90,11)\n",
      "Info:                Sink led[1]$tr_io.I\n",
      "Info: 0.4 ns logic, 1.1 ns routing\n",
      "\n",
      "Info: Max frequency for clock '$glbnet$oclk::wire': 267.95 MHz (PASS at 100.00 MHz)\n",
      "Info: Max frequency for clock '$glbnet$dclk::wire': 298.86 MHz (PASS at 100.00 MHz)\n",
      "\n",
      "Info: Max delay <async>                    -> <async>                   : 0.77 ns\n",
      "Info: Max delay <async>                    -> posedge $glbnet$dclk::wire: 6.66 ns\n",
      "Info: Max delay <async>                    -> posedge $glbnet$oclk::wire: 6.60 ns\n",
      "Info: Max delay posedge $glbnet$dclk::wire -> <async>                   : 1.46 ns\n",
      "Info: Max delay posedge $glbnet$oclk::wire -> <async>                   : 1.52 ns\n",
      "\n",
      "Info: Slack histogram:\n",
      "Info:  legend: * represents 1 endpoint(s)\n",
      "Info:          + represents [1,1) endpoint(s)\n",
      "Info: [  3339,   3634) |***************************** \n",
      "Info: [  3634,   3929) |******************************* \n",
      "Info: [  3929,   4224) |****** \n",
      "Info: [  4224,   4519) | \n",
      "Info: [  4519,   4814) | \n",
      "Info: [  4814,   5109) | \n",
      "Info: [  5109,   5404) | \n",
      "Info: [  5404,   5699) | \n",
      "Info: [  5699,   5994) | \n",
      "Info: [  5994,   6289) |* \n",
      "Info: [  6289,   6584) |*************** \n",
      "Info: [  6584,   6879) |****************************** \n",
      "Info: [  6879,   7174) |******************** \n",
      "Info: [  7174,   7469) | \n",
      "Info: [  7469,   7764) | \n",
      "Info: [  7764,   8059) | \n",
      "Info: [  8059,   8354) | \n",
      "Info: [  8354,   8649) |** \n",
      "Info: [  8649,   8944) | \n",
      "Info: [  8944,   9239) |*** \n"
     ]
    }
   ],
   "source": [
    "! nextpnr-ecp5 --json design.json --um5g-45k\\\n",
    "    --lpf boards/ecp5_versa.lpf --freq 100 --lpf-allow-unconstrained\\\n",
    "    --textcfg design.config --package=CABGA381"
   ]
  },
  {
   "cell_type": "markdown",
   "metadata": {
    "slideshow": {
     "slide_type": "slide"
    }
   },
   "source": [
    "## Generate a programming file"
   ]
  },
  {
   "cell_type": "code",
   "execution_count": 10,
   "metadata": {},
   "outputs": [],
   "source": [
    "! ecppack --svf design.svf design.config design.svf"
   ]
  },
  {
   "cell_type": "markdown",
   "metadata": {
    "slideshow": {
     "slide_type": "fragment"
    }
   },
   "source": [
    "## Programming your target\n",
    "\n",
    "Programming the target only works when the host running this webserver has a Versa ECP5 board connected and if the [permissions are set accordingly](hwprog_setup.ipynb). If not, you'll have to download the generated [SVF file](design.svf) and program your target locally.\n",
    "\n",
    "**Note:** The USB programming cable to the board must be plugged prior to starting the container."
   ]
  },
  {
   "cell_type": "markdown",
   "metadata": {
    "slideshow": {
     "slide_type": "slide"
    }
   },
   "source": [
    "### Loading design into FPGA"
   ]
  },
  {
   "cell_type": "code",
   "execution_count": 11,
   "metadata": {
    "slideshow": {
     "slide_type": "-"
    }
   },
   "outputs": [
    {
     "name": "stdout",
     "output_type": "stream",
     "text": [
      "Open On-Chip Debugger 0.10.0\n",
      "Licensed under GNU GPL v2\n",
      "For bug reports, read\n",
      "\thttp://openocd.org/doc/doxygen/bugs.html\n",
      "none separate\n",
      "adapter speed: 5000 kHz\n",
      "Info : auto-selecting first available session transport \"jtag\". To override use 'transport select <transport>'.\n",
      "Warn : Transport \"jtag\" was already selected\n",
      "Info : clock speed 5000 kHz\n",
      "Info : JTAG tap: ecp5.tap tap/device found: 0x81112043 (mfg: 0x021 (Lattice Semi.), part: 0x1112, ver: 0x8)\n",
      "Warn : gdb services need one or more targets defined\n",
      "svf processing file: \"design.svf\"\n",
      "\n",
      "Time used: 0m2s185ms \n",
      "svf file programmed successfully for 1068 commands with 0 errors\n"
     ]
    }
   ],
   "source": [
    "! sudo openocd -f boards/ecp5_versa.cfg -f boards/LFE5UM5G-45F.cfg \\\n",
    "    -c \"transport select jtag; init; svf design.svf quiet; exit\""
   ]
  },
  {
   "cell_type": "markdown",
   "metadata": {
    "slideshow": {
     "slide_type": "fragment"
    }
   },
   "source": [
    "The `INITN` LED should be off during successful programming. After approx. one second, one of the orange LEDs should start blinking on the board, while a green LED is permanently on.\n",
    "\n",
    "We run openocd with prepended `sudo` to ensure access to the device."
   ]
  },
  {
   "cell_type": "markdown",
   "metadata": {
    "slideshow": {
     "slide_type": "slide"
    }
   },
   "source": [
    "### Next: Exercise #2: A complex [UART loopback](uart_loopback_test.ipynb) design test"
   ]
  },
  {
   "cell_type": "code",
   "execution_count": null,
   "metadata": {},
   "outputs": [],
   "source": []
  }
 ],
 "metadata": {
  "celltoolbar": "Slideshow",
  "kernelspec": {
   "display_name": "Python 3",
   "language": "python",
   "name": "python3"
  },
  "language_info": {
   "codemirror_mode": {
    "name": "ipython",
    "version": 3
   },
   "file_extension": ".py",
   "mimetype": "text/x-python",
   "name": "python",
   "nbconvert_exporter": "python",
   "pygments_lexer": "ipython3",
   "version": "3.7.3"
  },
  "livereveal": {
   "autolaunch": true
  }
 },
 "nbformat": 4,
 "nbformat_minor": 4
}
