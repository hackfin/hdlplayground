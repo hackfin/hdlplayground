{
 "cells": [
  {
   "cell_type": "markdown",
   "metadata": {},
   "source": [
    "# Automated testing of notebooks\n",
    "\n",
    "* Make sure all scripts and commands execute without error\n",
    "* Also: make sure that output of a script matches its stored value\n",
    "* Upon re-generation of a notebook, make sure output matches\n",
    "  (allow exceptions for volatile debug data, date tags, etc.)\n",
    "* based on py.test architecture for complex test suites\n",
    "\n",
    "\n",
    "See Auto-Test in action here: [Go to hdlplayground index](../index.ipynb#Automated-notebook-tests)"
   ]
  }
 ],
 "metadata": {
  "kernelspec": {
   "display_name": "Python 3",
   "language": "python",
   "name": "python3"
  },
  "language_info": {
   "codemirror_mode": {
    "name": "ipython",
    "version": 3
   },
   "file_extension": ".py",
   "mimetype": "text/x-python",
   "name": "python",
   "nbconvert_exporter": "python",
   "pygments_lexer": "ipython3",
   "version": "3.7.3"
  }
 },
 "nbformat": 4,
 "nbformat_minor": 4
}
