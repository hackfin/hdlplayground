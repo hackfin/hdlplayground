{
 "cells": [
  {
   "cell_type": "markdown",
   "metadata": {},
   "source": [
    "# Merging notebooks"
   ]
  },
  {
   "cell_type": "code",
   "execution_count": 1,
   "metadata": {},
   "outputs": [
    {
     "name": "stdout",
     "output_type": "stream",
     "text": [
      "Collecting nbmerge\n",
      "  Downloading https://files.pythonhosted.org/packages/73/a9/56a02f2a3405397af9924e1d372b2e546ebcdb312d800f3945b321a328a5/nbmerge-0.0.4.tar.gz\n",
      "Building wheels for collected packages: nbmerge\n",
      "  Running setup.py bdist_wheel for nbmerge ... \u001b[?25ldone\n",
      "\u001b[?25h  Stored in directory: /home/pyosys/.cache/pip/wheels/93/0c/59/ac91905c182ce43c4f39a50b5381c9485049cfe913237872ff\n",
      "Successfully built nbmerge\n",
      "Installing collected packages: nbmerge\n",
      "\u001b[33m  The script nbmerge is installed in '/home/pyosys/.local/bin' which is not on PATH.\n",
      "  Consider adding this directory to PATH or, if you prefer to suppress this warning, use --no-warn-script-location.\u001b[0m\n",
      "Successfully installed nbmerge-0.0.4\n"
     ]
    }
   ],
   "source": [
    "!pip3 install nbmerge"
   ]
  },
  {
   "cell_type": "code",
   "execution_count": 4,
   "metadata": {},
   "outputs": [],
   "source": [
    "! /home/pyosys/.local/bin/nbmerge index.ipynb simple_logic.ipynb sync_logic.ipynb cosim.ipynb blackbox.ipynb blinky.ipynb autotest.ipynb conclusion.ipynb > merged.ipynb"
   ]
  },
  {
   "cell_type": "markdown",
   "metadata": {},
   "source": [
    "See result: [merged.ipynb](merged.ipynb)"
   ]
  }
 ],
 "metadata": {
  "kernelspec": {
   "display_name": "Python 3",
   "language": "python",
   "name": "python3"
  },
  "language_info": {
   "codemirror_mode": {
    "name": "ipython",
    "version": 3
   },
   "file_extension": ".py",
   "mimetype": "text/x-python",
   "name": "python",
   "nbconvert_exporter": "python",
   "pygments_lexer": "ipython3",
   "version": "3.7.3"
  }
 },
 "nbformat": 4,
 "nbformat_minor": 4
}
