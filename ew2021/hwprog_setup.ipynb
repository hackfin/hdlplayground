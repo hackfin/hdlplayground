{
 "cells": [
  {
   "cell_type": "markdown",
   "metadata": {},
   "source": [
    "# Set up hardware programming\n",
    "\n",
    "## Installing myhdl synthesis auxiliary packages"
   ]
  },
  {
   "cell_type": "code",
   "execution_count": 1,
   "metadata": {},
   "outputs": [
    {
     "name": "stdout",
     "output_type": "stream",
     "text": [
      "Cloning into 'myhdl-synthesis'...\n",
      "remote: Enumerating objects: 76, done.\u001b[K\n",
      "remote: Counting objects: 100% (76/76), done.\u001b[K\n",
      "remote: Compressing objects: 100% (76/76), done.\u001b[K\n",
      "remote: Total 812 (delta 45), reused 0 (delta 0), pack-reused 736\n",
      "Receiving objects: 100% (812/812), 1.95 MiB | 5.99 MiB/s, done.\n",
      "Resolving deltas: 100% (572/572), done.\n"
     ]
    }
   ],
   "source": [
    "! WORK=$HOME/work && [ -e $WORK ] || mkdir $WORK && cd $WORK && git clone https://gitlab.com/hackfin/myhdl-synthesis.git"
   ]
  },
  {
   "cell_type": "markdown",
   "metadata": {},
   "source": [
    "## Installing the PnR tools\n",
    "\n",
    "This command installs the PnR tools for the Lattice ECP5 target"
   ]
  },
  {
   "cell_type": "code",
   "execution_count": 2,
   "metadata": {},
   "outputs": [
    {
     "name": "stdout",
     "output_type": "stream",
     "text": [
      "debconf: delaying package configuration, since apt-utils is not installed\r\n"
     ]
    }
   ],
   "source": [
    "! sudo apt-get -y install nextpnr-ecp5 libtrellis >/dev/null"
   ]
  },
  {
   "cell_type": "markdown",
   "metadata": {},
   "source": [
    "## Installing the JTAG programmer"
   ]
  },
  {
   "cell_type": "code",
   "execution_count": 3,
   "metadata": {},
   "outputs": [
    {
     "name": "stdout",
     "output_type": "stream",
     "text": [
      "Reading package lists... Done\n",
      "Building dependency tree       \n",
      "Reading state information... Done\n",
      "The following additional packages will be installed:\n",
      "  libftdi1-2 libhidapi-hidraw0 libjaylink0 libjim0.77 libusb-0.1-4\n",
      "  libusb-1.0-0\n",
      "The following NEW packages will be installed:\n",
      "  libftdi1-2 libhidapi-hidraw0 libjaylink0 libjim0.77 libusb-0.1-4\n",
      "  libusb-1.0-0 openocd\n",
      "0 upgraded, 7 newly installed, 0 to remove and 38 not upgraded.\n",
      "Need to get 2710 kB of archives.\n",
      "After this operation, 6939 kB of additional disk space will be used.\n",
      "Get:1 http://deb.debian.org/debian buster/main amd64 libusb-1.0-0 amd64 2:1.0.22-2 [55.3 kB]\n",
      "Get:2 http://deb.debian.org/debian buster/main amd64 libftdi1-2 amd64 1.4-1+b2 [30.2 kB]\n",
      "Get:3 http://deb.debian.org/debian buster/main amd64 libhidapi-hidraw0 amd64 0.8.0~rc1+git20140818.d17db57+dfsg-2 [10.4 kB]\n",
      "Get:4 http://deb.debian.org/debian buster/main amd64 libjaylink0 amd64 0.1.0-1 [17.1 kB]\n",
      "Get:5 http://deb.debian.org/debian buster/main amd64 libusb-0.1-4 amd64 2:0.1.12-32 [23.4 kB]\n",
      "Get:6 http://deb.debian.org/debian buster/main amd64 libjim0.77 amd64 0.77+dfsg0-3 [116 kB]\n",
      "Get:7 http://deb.debian.org/debian buster/main amd64 openocd amd64 0.10.0-5 [2457 kB]\n",
      "Fetched 2710 kB in 1s (4777 kB/s) \n",
      "debconf: delaying package configuration, since apt-utils is not installed\n",
      "Selecting previously unselected package libusb-1.0-0:amd64.\n",
      "(Reading database ... 37464 files and directories currently installed.)\n",
      "Preparing to unpack .../0-libusb-1.0-0_2%3a1.0.22-2_amd64.deb ...\n",
      "Unpacking libusb-1.0-0:amd64 (2:1.0.22-2) ...\n",
      "Selecting previously unselected package libftdi1-2:amd64.\n",
      "Preparing to unpack .../1-libftdi1-2_1.4-1+b2_amd64.deb ...\n",
      "Unpacking libftdi1-2:amd64 (1.4-1+b2) ...\n",
      "Selecting previously unselected package libhidapi-hidraw0:amd64.\n",
      "Preparing to unpack .../2-libhidapi-hidraw0_0.8.0~rc1+git20140818.d17db57+dfsg-2_amd64.deb ...\n",
      "Unpacking libhidapi-hidraw0:amd64 (0.8.0~rc1+git20140818.d17db57+dfsg-2) ...\n",
      "Selecting previously unselected package libjaylink0.\n",
      "Preparing to unpack .../3-libjaylink0_0.1.0-1_amd64.deb ...\n",
      "Unpacking libjaylink0 (0.1.0-1) ...\n",
      "Selecting previously unselected package libusb-0.1-4:amd64.\n",
      "Preparing to unpack .../4-libusb-0.1-4_2%3a0.1.12-32_amd64.deb ...\n",
      "Unpacking libusb-0.1-4:amd64 (2:0.1.12-32) ...\n",
      "Selecting previously unselected package libjim0.77:amd64.\n",
      "Preparing to unpack .../5-libjim0.77_0.77+dfsg0-3_amd64.deb ...\n",
      "Unpacking libjim0.77:amd64 (0.77+dfsg0-3) ...\n",
      "Selecting previously unselected package openocd.\n",
      "Preparing to unpack .../6-openocd_0.10.0-5_amd64.deb ...\n",
      "Unpacking openocd (0.10.0-5) ...\n",
      "Setting up libhidapi-hidraw0:amd64 (0.8.0~rc1+git20140818.d17db57+dfsg-2) ...\n",
      "Setting up libusb-0.1-4:amd64 (2:0.1.12-32) ...\n",
      "Setting up libjim0.77:amd64 (0.77+dfsg0-3) ...\n",
      "Setting up libusb-1.0-0:amd64 (2:1.0.22-2) ...\n",
      "Setting up libjaylink0 (0.1.0-1) ...\n",
      "Setting up libftdi1-2:amd64 (1.4-1+b2) ...\n",
      "Setting up openocd (0.10.0-5) ...\n",
      "Processing triggers for libc-bin (2.28-10) ...\n"
     ]
    }
   ],
   "source": [
    "# Install OPENOCD\n",
    "! sudo apt-get install -y openocd"
   ]
  },
  {
   "cell_type": "markdown",
   "metadata": {},
   "source": [
    "### Next: [Exercise #1: Blinky](blinky.ipynb)"
   ]
  }
 ],
 "metadata": {
  "kernelspec": {
   "display_name": "Python 3",
   "language": "python",
   "name": "python3"
  },
  "language_info": {
   "codemirror_mode": {
    "name": "ipython",
    "version": 3
   },
   "file_extension": ".py",
   "mimetype": "text/x-python",
   "name": "python",
   "nbconvert_exporter": "python",
   "pygments_lexer": "ipython3",
   "version": "3.7.3"
  }
 },
 "nbformat": 4,
 "nbformat_minor": 4
}
