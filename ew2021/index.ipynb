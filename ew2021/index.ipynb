{
 "cells": [
  {
   "cell_type": "markdown",
   "metadata": {
    "slideshow": {
     "slide_type": "slide"
    }
   },
   "source": [
    "![Presentation Embedded World 2021 DIGITAL](https://file-service.nuernbergmesse.de/cmsfile/105/41/d3fab217-0ebd-11eb-8b50-005056a097eb--data/;v11;w980.jpg) [![logo](https://section5.ch/section5.png)](https://section5.ch)\n",
    "\n",
    "# jupyosys - from Browser to Silicon (in seconds)\n",
    "\n",
    "alias: Rapid hardware design using Python/MyHDL\n",
    "\n"
   ]
  },
  {
   "cell_type": "markdown",
   "metadata": {
    "slideshow": {
     "slide_type": "slide"
    }
   },
   "source": [
    "**jupyosys**: a marriage of Jupyter Notebooks with the OpenSource synthesis [yosys](http://www.clifford.at/yosys/)\n",
    "\n",
    "Featuring:\n",
    "* Hardware design, (co-)simulation using Python/MyHDL\n",
    "* Integrated Waveform and RTL display\n",
    "* `@blackbox` MyHDL extensions for hierarchy/external module support\n",
    "* Synthesis for Lattice ECP5 based platforms\n",
    "* Automated testing (`pytest`)\n"
   ]
  },
  {
   "cell_type": "markdown",
   "metadata": {
    "slideshow": {
     "slide_type": "fragment"
    }
   },
   "source": [
    "### Replay\n",
    "* Open [https://github.com/hackfin/hdlplayground/tree/ew2021](https://github.com/hackfin/hdlplayground/tree/ew2021)\n",
    "* Hit `launch binder` button, be patient\n",
    "* Set notebook to `Trusted` or re-run cells"
   ]
  },
  {
   "cell_type": "markdown",
   "metadata": {
    "slideshow": {
     "slide_type": "slide"
    }
   },
   "source": [
    "## Jupyter Notebooks\n",
    "\n",
    "* Execute commands/scripts interactively\n",
    "* Documentation friendly!\n",
    "\n",
    "Click on the Cell below and execute `Run` from the menu or press `Shift`+`Return`. The Counter variable to the left shows how many times the command was executed. A `*` will denote that the kernel is still busy executing.\n",
    "If that should happen, use the `Stop` button right to `Run` to interrupt the kernel and try again."
   ]
  },
  {
   "cell_type": "code",
   "execution_count": 1,
   "metadata": {},
   "outputs": [
    {
     "name": "stdout",
     "output_type": "stream",
     "text": [
      "Hello (Embedded) World\n"
     ]
    }
   ],
   "source": [
    "print(\"Hello (Embedded) World\")"
   ]
  },
  {
   "cell_type": "code",
   "execution_count": 2,
   "metadata": {},
   "outputs": [],
   "source": [
    "box = (1, 5)"
   ]
  },
  {
   "cell_type": "markdown",
   "metadata": {
    "slideshow": {
     "slide_type": "slide"
    }
   },
   "source": [
    "Retrieve value of `box` at a later time:"
   ]
  },
  {
   "cell_type": "code",
   "execution_count": 3,
   "metadata": {
    "slideshow": {
     "slide_type": "-"
    }
   },
   "outputs": [
    {
     "data": {
      "text/plain": [
       "(1, 5)"
      ]
     },
     "execution_count": 3,
     "metadata": {},
     "output_type": "execute_result"
    }
   ],
   "source": [
    "box"
   ]
  },
  {
   "cell_type": "markdown",
   "metadata": {
    "slideshow": {
     "slide_type": "slide"
    }
   },
   "source": [
    "# General HDL work flow aspects"
   ]
  },
  {
   "cell_type": "markdown",
   "metadata": {
    "cell_style": "split",
    "slideshow": {
     "slide_type": "-"
    }
   },
   "source": [
    "\n",
    "## Paradigm changes\n",
    "\n",
    "Wiring up logic .. like 74xx TTL:\n",
    "\n",
    "<div>\n",
    "<img src=\"https://upload.wikimedia.org/wikipedia/commons/c/c6/TexasInstruments_7400_chip%2C_view_and_element_placement.jpg\" width=\"300\"/>\n",
    "</div>"
   ]
  },
  {
   "cell_type": "markdown",
   "metadata": {
    "cell_style": "split",
    "slideshow": {
     "slide_type": "-"
    }
   },
   "source": [
    "as opposed to describing a behaviour:"
   ]
  },
  {
   "cell_type": "code",
   "execution_count": 4,
   "metadata": {
    "cell_style": "split",
    "slideshow": {
     "slide_type": "-"
    }
   },
   "outputs": [],
   "source": [
    "from myhdl import *\n",
    "@block\n",
    "def FF(clk, d_in, d_out):\n",
    "    \"A generic D-FlipFlop description\"\n",
    "    @always(clk.posedge)\n",
    "    def rtl():\n",
    "        d_out.next = d_in\n",
    "    return instances()"
   ]
  },
  {
   "cell_type": "markdown",
   "metadata": {
    "cell_style": "split",
    "hide_input": false,
    "slideshow": {
     "slide_type": "fragment"
    }
   },
   "source": [
    "Implies: **Simulation**"
   ]
  },
  {
   "cell_type": "markdown",
   "metadata": {
    "cell_style": "split",
    "slideshow": {
     "slide_type": "fragment"
    }
   },
   "source": [
    "There's a crucial difference to VHDL/Verilog. Do you spot it?"
   ]
  },
  {
   "cell_type": "markdown",
   "metadata": {
    "slideshow": {
     "slide_type": "skip"
    }
   },
   "source": [
    "## Synthesis process\n",
    "\n",
    "1. Pass a design hierarchy to the synthesis tool (here: **yosys**)\n",
    "2. Visualization per schematic (RTL - Register Transfer Language) display\n",
    "3. Run inference/mapping procedure to translate a functional model into connected Hardware Primitives (LUT, FF, MUX, ...)"
   ]
  },
  {
   "cell_type": "markdown",
   "metadata": {
    "slideshow": {
     "slide_type": "slide"
    }
   },
   "source": [
    "## Synthesis flow schematic"
   ]
  },
  {
   "cell_type": "code",
   "execution_count": 2,
   "metadata": {
    "hide_input": true,
    "scrolled": false,
    "slideshow": {
     "slide_type": "-"
    }
   },
   "outputs": [
    {
     "data": {
      "image/svg+xml": [
       "<?xml version=\"1.0\" encoding=\"UTF-8\" standalone=\"no\"?>\n",
       "<!DOCTYPE svg PUBLIC \"-//W3C//DTD SVG 1.1//EN\"\n",
       " \"http://www.w3.org/Graphics/SVG/1.1/DTD/svg11.dtd\">\n",
       "<!-- Generated by graphviz version 2.40.1 (20161225.0304)\n",
       " -->\n",
       "<!-- Title: Schematic Pages: 1 -->\n",
       "<svg width=\"528pt\" height=\"420pt\"\n",
       " viewBox=\"0.00 0.00 527.94 420.00\" xmlns=\"http://www.w3.org/2000/svg\" xmlns:xlink=\"http://www.w3.org/1999/xlink\">\n",
       "<g id=\"graph0\" class=\"graph\" transform=\"scale(1 1) rotate(0) translate(4 416)\">\n",
       "<title>Schematic</title>\n",
       "<polygon fill=\"#ffffff\" stroke=\"transparent\" points=\"-4,4 -4,-416 523.941,-416 523.941,4 -4,4\"/>\n",
       "<!-- s -->\n",
       "<g id=\"node1\" class=\"node\">\n",
       "<title>s</title>\n",
       "<polygon fill=\"none\" stroke=\"#000000\" points=\"123.8232,-412 25.3825,-412 .0589,-376 98.4995,-376 123.8232,-412\"/>\n",
       "<text text-anchor=\"middle\" x=\"61.941\" y=\"-390.3\" font-family=\"Times,serif\" font-size=\"14.00\" fill=\"#000000\">V*&#45;HDL</text>\n",
       "</g>\n",
       "<!-- r -->\n",
       "<g id=\"node4\" class=\"node\">\n",
       "<title>r</title>\n",
       "<ellipse fill=\"none\" stroke=\"#add8e6\" cx=\"170.941\" cy=\"-322\" rx=\"120.4791\" ry=\"18\"/>\n",
       "<text text-anchor=\"middle\" x=\"170.941\" y=\"-318.3\" font-family=\"Times,serif\" font-size=\"14.00\" fill=\"#000000\">Register transfer language (IR)</text>\n",
       "</g>\n",
       "<!-- s&#45;&gt;r -->\n",
       "<g id=\"edge2\" class=\"edge\">\n",
       "<title>s&#45;&gt;r</title>\n",
       "<path fill=\"none\" stroke=\"#000000\" d=\"M89.4463,-375.8314C103.4699,-366.5681 120.6837,-355.1975 135.6716,-345.2972\"/>\n",
       "<polygon fill=\"#000000\" stroke=\"#000000\" points=\"137.7832,-348.0971 144.1981,-339.665 133.9251,-342.2563 137.7832,-348.0971\"/>\n",
       "</g>\n",
       "<!-- V -->\n",
       "<g id=\"node2\" class=\"node\">\n",
       "<title>V</title>\n",
       "<polygon fill=\"none\" stroke=\"#000000\" points=\"448.5702,-340 337.8058,-340 309.3119,-304 420.0763,-304 448.5702,-340\"/>\n",
       "<text text-anchor=\"middle\" x=\"378.941\" y=\"-318.3\" font-family=\"Times,serif\" font-size=\"14.00\" fill=\"#000000\">Vendor IP</text>\n",
       "</g>\n",
       "<!-- M -->\n",
       "<g id=\"node9\" class=\"node\">\n",
       "<title>M</title>\n",
       "<polygon fill=\"#add8e6\" stroke=\"#add8e6\" points=\"445.0332,-238.5442 445.0332,-253.4558 392.2584,-264 317.6237,-264 264.8489,-253.4558 264.8489,-238.5442 317.6237,-228 392.2584,-228 445.0332,-238.5442\"/>\n",
       "<polygon fill=\"none\" stroke=\"#add8e6\" points=\"449.0352,-235.2646 449.0352,-256.7354 392.6545,-268 317.2276,-268 260.8469,-256.7354 260.8469,-235.2646 317.2276,-224 392.6545,-224 449.0352,-235.2646\"/>\n",
       "<text text-anchor=\"middle\" x=\"354.941\" y=\"-242.3\" font-family=\"Times,serif\" font-size=\"14.00\" fill=\"#000000\">Technology Mapper</text>\n",
       "</g>\n",
       "<!-- V&#45;&gt;M -->\n",
       "<g id=\"edge9\" class=\"edge\">\n",
       "<title>V&#45;&gt;M</title>\n",
       "<path fill=\"none\" stroke=\"#000000\" d=\"M373.2534,-303.9891C370.796,-296.2073 367.8449,-286.8621 365.0366,-277.9691\"/>\n",
       "<polygon fill=\"#000000\" stroke=\"#000000\" points=\"368.3094,-276.7101 361.9605,-268.2282 361.6343,-278.818 368.3094,-276.7101\"/>\n",
       "</g>\n",
       "<!-- p -->\n",
       "<g id=\"node3\" class=\"node\">\n",
       "<title>p</title>\n",
       "<polygon fill=\"none\" stroke=\"#000000\" points=\"420.1994,-412 198.6705,-412 141.6827,-376 363.2116,-376 420.1994,-412\"/>\n",
       "<text text-anchor=\"middle\" x=\"280.941\" y=\"-390.3\" font-family=\"Times,serif\" font-size=\"14.00\" fill=\"#000000\">Python HDL (MyHDL)</text>\n",
       "</g>\n",
       "<!-- p&#45;&gt;r -->\n",
       "<g id=\"edge1\" class=\"edge\">\n",
       "<title>p&#45;&gt;r</title>\n",
       "<path fill=\"none\" stroke=\"#ff0000\" d=\"M253.1834,-375.8314C239.0312,-366.5681 221.6595,-355.1975 206.5341,-345.2972\"/>\n",
       "<polygon fill=\"#ff0000\" stroke=\"#ff0000\" points=\"208.2131,-342.2132 197.9293,-339.665 204.3795,-348.0701 208.2131,-342.2132\"/>\n",
       "</g>\n",
       "<!-- v -->\n",
       "<g id=\"node5\" class=\"node\">\n",
       "<title>v</title>\n",
       "<polygon fill=\"#d3d3d3\" stroke=\"#d3d3d3\" points=\"218.941,-264 122.941,-264 122.941,-228 218.941,-228 218.941,-264\"/>\n",
       "<text text-anchor=\"middle\" x=\"170.941\" y=\"-242.3\" font-family=\"Times,serif\" font-size=\"14.00\" fill=\"#000000\">Verilog output</text>\n",
       "</g>\n",
       "<!-- r&#45;&gt;v -->\n",
       "<g id=\"edge3\" class=\"edge\">\n",
       "<title>r&#45;&gt;v</title>\n",
       "<path fill=\"none\" stroke=\"#000000\" d=\"M170.941,-303.9891C170.941,-295.1566 170.941,-284.3099 170.941,-274.3965\"/>\n",
       "<polygon fill=\"#000000\" stroke=\"#000000\" points=\"174.4411,-274.145 170.941,-264.145 167.4411,-274.1451 174.4411,-274.145\"/>\n",
       "</g>\n",
       "<!-- r&#45;&gt;M -->\n",
       "<g id=\"edge4\" class=\"edge\">\n",
       "<title>r&#45;&gt;M</title>\n",
       "<path fill=\"none\" stroke=\"#000000\" d=\"M212.2342,-304.9441C237.2563,-294.6089 269.5561,-281.2677 297.0966,-269.8923\"/>\n",
       "<polygon fill=\"#000000\" stroke=\"#000000\" points=\"298.7133,-273.0114 306.6198,-265.9588 296.041,-266.5415 298.7133,-273.0114\"/>\n",
       "</g>\n",
       "<!-- n -->\n",
       "<g id=\"node6\" class=\"node\">\n",
       "<title>n</title>\n",
       "<polygon fill=\"#d3d3d3\" stroke=\"#d3d3d3\" points=\"333.941,-188 215.941,-188 215.941,-152 333.941,-152 333.941,-188\"/>\n",
       "<text text-anchor=\"middle\" x=\"274.941\" y=\"-166.3\" font-family=\"Times,serif\" font-size=\"14.00\" fill=\"#000000\">Net list (EDIF, ...)</text>\n",
       "</g>\n",
       "<!-- P -->\n",
       "<g id=\"node10\" class=\"node\">\n",
       "<title>P</title>\n",
       "<polygon fill=\"#add8e6\" stroke=\"#add8e6\" points=\"343.4061,-86.5442 343.4061,-101.4558 303.3002,-112 246.5819,-112 206.476,-101.4558 206.476,-86.5442 246.5819,-76 303.3002,-76 343.4061,-86.5442\"/>\n",
       "<polygon fill=\"none\" stroke=\"#add8e6\" points=\"347.4194,-83.4625 347.4194,-104.5375 303.8206,-116 246.0615,-116 202.4627,-104.5375 202.4627,-83.4625 246.0615,-72 303.8206,-72 347.4194,-83.4625\"/>\n",
       "<text text-anchor=\"middle\" x=\"274.941\" y=\"-90.3\" font-family=\"Times,serif\" font-size=\"14.00\" fill=\"#000000\">Place &amp; Route</text>\n",
       "</g>\n",
       "<!-- n&#45;&gt;P -->\n",
       "<g id=\"edge7\" class=\"edge\">\n",
       "<title>n&#45;&gt;P</title>\n",
       "<path fill=\"none\" stroke=\"#000000\" d=\"M274.941,-151.9891C274.941,-144.291 274.941,-135.0629 274.941,-126.2561\"/>\n",
       "<polygon fill=\"#000000\" stroke=\"#000000\" points=\"278.4411,-126.2282 274.941,-116.2282 271.4411,-126.2282 278.4411,-126.2282\"/>\n",
       "</g>\n",
       "<!-- b -->\n",
       "<g id=\"node7\" class=\"node\">\n",
       "<title>b</title>\n",
       "<polygon fill=\"#d3d3d3\" stroke=\"#d3d3d3\" points=\"376.441,-36 173.441,-36 173.441,0 376.441,0 376.441,-36\"/>\n",
       "<text text-anchor=\"middle\" x=\"274.941\" y=\"-14.3\" font-family=\"Times,serif\" font-size=\"14.00\" fill=\"#000000\">Hardware Programmer binary file</text>\n",
       "</g>\n",
       "<!-- m -->\n",
       "<g id=\"node8\" class=\"node\">\n",
       "<title>m</title>\n",
       "<polygon fill=\"#d3d3d3\" stroke=\"#d3d3d3\" points=\"519.941,-188 351.941,-188 351.941,-152 519.941,-152 519.941,-188\"/>\n",
       "<text text-anchor=\"middle\" x=\"435.941\" y=\"-166.3\" font-family=\"Times,serif\" font-size=\"14.00\" fill=\"#000000\">(primitive mapped) Verilog</text>\n",
       "</g>\n",
       "<!-- M&#45;&gt;n -->\n",
       "<g id=\"edge5\" class=\"edge\">\n",
       "<title>M&#45;&gt;n</title>\n",
       "<path fill=\"none\" stroke=\"#000000\" d=\"M331.3711,-223.6086C321.9882,-214.6948 311.1455,-204.3942 301.4872,-195.2188\"/>\n",
       "<polygon fill=\"#000000\" stroke=\"#000000\" points=\"303.7065,-192.4996 294.0458,-188.1496 298.8852,-197.5746 303.7065,-192.4996\"/>\n",
       "</g>\n",
       "<!-- M&#45;&gt;m -->\n",
       "<g id=\"edge6\" class=\"edge\">\n",
       "<title>M&#45;&gt;m</title>\n",
       "<path fill=\"none\" stroke=\"#000000\" d=\"M378.8056,-223.6086C388.3058,-214.6948 399.2841,-204.3942 409.0631,-195.2188\"/>\n",
       "<polygon fill=\"#000000\" stroke=\"#000000\" points=\"411.6997,-197.5444 416.5974,-188.1496 406.91,-192.4396 411.6997,-197.5444\"/>\n",
       "</g>\n",
       "<!-- P&#45;&gt;b -->\n",
       "<g id=\"edge8\" class=\"edge\">\n",
       "<title>P&#45;&gt;b</title>\n",
       "<path fill=\"none\" stroke=\"#000000\" d=\"M274.941,-71.6086C274.941,-63.7272 274.941,-54.7616 274.941,-46.4482\"/>\n",
       "<polygon fill=\"#000000\" stroke=\"#000000\" points=\"278.4411,-46.3974 274.941,-36.3975 271.4411,-46.3975 278.4411,-46.3974\"/>\n",
       "</g>\n",
       "</g>\n",
       "</svg>\n"
      ],
      "text/plain": [
       "<graphviz.dot.Digraph at 0x7f876063d630>"
      ]
     },
     "execution_count": 2,
     "metadata": {},
     "output_type": "execute_result"
    }
   ],
   "source": [
    "from graphviz import Digraph\n",
    "import sys ; sys.path.append(\"../utils\")\n",
    "\n",
    "dot = Digraph(\"Schematic\")\n",
    "dot.attr('node', shape='parallelogram')\n",
    "dot.node('s', 'V*-HDL' );\n",
    "dot.node('V', 'Vendor IP' );\n",
    "dot.node('p', 'Python HDL (MyHDL)' );\n",
    "\n",
    "dot.attr('node', shape='ellipse', color='lightblue')\n",
    "\n",
    "dot.node('r', 'Register transfer language (IR)'); \n",
    "dot.attr('node', shape='box', style='filled', color='lightgrey')\n",
    "\n",
    "dot.node('v', 'Verilog output' ); dot.node('n', 'Net list (EDIF, ...)'); \n",
    "dot.node('b', 'Hardware Programmer binary file' ); \n",
    "dot.node('m', '(primitive mapped) Verilog' ); dot.node('n', 'Net list (EDIF, ...)'); \n",
    "\n",
    "dot.attr('node', shape='doubleoctagon', color='lightblue')\n",
    "dot.node('M', 'Technology Mapper'); \n",
    "dot.node('P', 'Place & Route'); \n",
    "\n",
    "\n",
    "# dot.edge('A', 'Y', color='red')\n",
    "dot.edge('p', 'r', color='red')\n",
    "\n",
    "dot.edges(['sr', 'rv', 'rM', 'Mn', 'Mm', 'nP', 'Pb', 'VM'])\n",
    "\n",
    "dot"
   ]
  },
  {
   "cell_type": "markdown",
   "metadata": {
    "slideshow": {
     "slide_type": "skip"
    }
   },
   "source": [
    "## Table of contents\n",
    "\n",
    "1. [Simple combinatorial logic example](simple_logic.ipynb)\n",
    "0. [Clocked (synchronous) logic example](sync_logic.ipynb)\n",
    "0. [Introduction to co-simulation](cosim_intro.ipynb)\n",
    "0. [Post-Synthesis/Mapping verification](cosim.ipynb)\n",
    "0. [Black boxes](blackbox.ipynb) - Handling external Verilog/VHDL modules and black box IP (net lists)\n",
    "0. Hardware programming tool flow - Synthesis examples for Lattice ECP5 FPGA\n",
    "   1. [Setup](hwprog_setup.ipynb) - Installing the tools\n",
    "   1. [Blinky](blinky.ipynb) - Blinky demo using on-chip oscillator\n",
    "   0. [UART loopback](uart_loopback_test.ipynb) - A (non-dumb) UART loopback design\n",
    "0. [Auto-Testing](../index.ipynb#Automated-notebook-tests) - Automated testing of notebook code\n",
    "0. [Conclusions, Kudos, and last warnings](conclusion.ipynb)"
   ]
  },
  {
   "cell_type": "markdown",
   "metadata": {
    "slideshow": {
     "slide_type": "notes"
    }
   },
   "source": [
    "## Updating installation\n",
    "\n",
    "Normally, you don't need to run this as the container should contain the matching\n",
    "installation. In case you have a customized version however, you might want to pull updates as follows (remove '#' before executing)."
   ]
  },
  {
   "cell_type": "code",
   "execution_count": 6,
   "metadata": {
    "slideshow": {
     "slide_type": "notes"
    }
   },
   "outputs": [],
   "source": [
    "# %cd /home/pyosys/src/myhdl/myhdl-yosys/"
   ]
  },
  {
   "cell_type": "code",
   "execution_count": 7,
   "metadata": {
    "slideshow": {
     "slide_type": "notes"
    }
   },
   "outputs": [],
   "source": [
    "# ! git pull"
   ]
  },
  {
   "cell_type": "code",
   "execution_count": 8,
   "metadata": {
    "slideshow": {
     "slide_type": "notes"
    }
   },
   "outputs": [],
   "source": [
    "# ! python3 setup.py install --user 1&2> /dev/null"
   ]
  }
 ],
 "metadata": {
  "celltoolbar": "Slideshow",
  "kernelspec": {
   "display_name": "Python 3",
   "language": "python",
   "name": "python3"
  },
  "language_info": {
   "codemirror_mode": {
    "name": "ipython",
    "version": 3
   },
   "file_extension": ".py",
   "mimetype": "text/x-python",
   "name": "python",
   "nbconvert_exporter": "python",
   "pygments_lexer": "ipython3",
   "version": "3.7.3"
  },
  "livereveal": {
   "autolaunch": true
  },
  "rise": {
   "transition": "none"
  }
 },
 "nbformat": 4,
 "nbformat_minor": 4
}
