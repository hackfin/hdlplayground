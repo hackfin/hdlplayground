{
 "cells": [
  {
   "cell_type": "markdown",
   "metadata": {
    "slideshow": {
     "slide_type": "slide"
    }
   },
   "source": [
    "![Presentation Embedded World 2021 DIGITAL](https://file-service.nuernbergmesse.de/cmsfile/105/41/d3fab217-0ebd-11eb-8b50-005056a097eb--data/;v11;w980.jpg) [![logo](https://section5.ch/section5.png)](https://section5.ch)\n",
    "\n",
    "# jupyosys - from Browser to Silicon (in seconds)\n",
    "\n",
    "alias: Rapid hardware design using Python/MyHDL\n",
    "\n"
   ]
  },
  {
   "cell_type": "markdown",
   "metadata": {
    "slideshow": {
     "slide_type": "slide"
    }
   },
   "source": [
    "**jupyosys**: a marriage of Jupyter Notebooks with the OpenSource synthesis [yosys](http://www.clifford.at/yosys/)\n",
    "\n",
    "Featuring:\n",
    "* Hardware design, (co-)simulation using Python/MyHDL\n",
    "* Integrated Waveform and RTL display\n",
    "* `@blackbox` MyHDL extensions for hierarchy/external module support\n",
    "* Synthesis for Lattice ECP5 based platforms\n",
    "* Automated testing (`pytest`)\n"
   ]
  },
  {
   "cell_type": "markdown",
   "metadata": {
    "slideshow": {
     "slide_type": "fragment"
    }
   },
   "source": [
    "### Replay\n",
    "* Open [https://github.com/hackfin/hdlplayground/tree/ew2021](https://github.com/hackfin/hdlplayground/tree/ew2021)\n",
    "* Hit `launch binder` button, be patient\n",
    "* Set notebook to `Trusted` or re-run cells"
   ]
  },
  {
   "cell_type": "markdown",
   "metadata": {
    "slideshow": {
     "slide_type": "slide"
    }
   },
   "source": [
    "## Jupyter Notebooks\n",
    "\n",
    "* Execute commands/scripts interactively\n",
    "* Documentation friendly!\n",
    "\n",
    "Click on the Cell below and execute `Run` from the menu or press `Shift`+`Return`. The Counter variable to the left shows how many times the command was executed. A `*` will denote that the kernel is still busy executing.\n",
    "If that should happen, use the `Stop` button right to `Run` to interrupt the kernel and try again."
   ]
  },
  {
   "cell_type": "code",
   "execution_count": 1,
   "metadata": {},
   "outputs": [
    {
     "name": "stdout",
     "output_type": "stream",
     "text": [
      "Hello (Embedded) World\n"
     ]
    }
   ],
   "source": [
    "print(\"Hello (Embedded) World\")"
   ]
  },
  {
   "cell_type": "code",
   "execution_count": 2,
   "metadata": {},
   "outputs": [],
   "source": [
    "box = (1, 5)"
   ]
  },
  {
   "cell_type": "markdown",
   "metadata": {
    "slideshow": {
     "slide_type": "slide"
    }
   },
   "source": [
    "Retrieve value of `box` at a later time:"
   ]
  },
  {
   "cell_type": "code",
   "execution_count": 3,
   "metadata": {
    "slideshow": {
     "slide_type": "-"
    }
   },
   "outputs": [
    {
     "data": {
      "text/plain": [
       "(1, 5)"
      ]
     },
     "execution_count": 3,
     "metadata": {},
     "output_type": "execute_result"
    }
   ],
   "source": [
    "box"
   ]
  },
  {
   "cell_type": "markdown",
   "metadata": {
    "slideshow": {
     "slide_type": "slide"
    }
   },
   "source": [
    "# General HDL work flow aspects"
   ]
  },
  {
   "cell_type": "markdown",
   "metadata": {
    "cell_style": "split",
    "slideshow": {
     "slide_type": "-"
    }
   },
   "source": [
    "\n",
    "## Paradigm changes\n",
    "\n",
    "Wiring up logic .. like 74xx TTL:\n",
    "\n",
    "<div>\n",
    "<img src=\"https://upload.wikimedia.org/wikipedia/commons/c/c6/TexasInstruments_7400_chip%2C_view_and_element_placement.jpg\" width=\"300\"/>\n",
    "</div>"
   ]
  },
  {
   "cell_type": "markdown",
   "metadata": {
    "cell_style": "split",
    "slideshow": {
     "slide_type": "-"
    }
   },
   "source": [
    "as opposed to describing a behaviour:"
   ]
  },
  {
   "cell_type": "code",
   "execution_count": 4,
   "metadata": {
    "cell_style": "split",
    "slideshow": {
     "slide_type": "-"
    }
   },
   "outputs": [],
   "source": [
    "from myhdl import *\n",
    "@block\n",
    "def FF(clk, d_in, d_out):\n",
    "    \"A generic D-FlipFlop description\"\n",
    "    @always(clk.posedge)\n",
    "    def rtl():\n",
    "        d_out.next = d_in\n",
    "    return instances()"
   ]
  },
  {
   "cell_type": "markdown",
   "metadata": {
    "cell_style": "split",
    "hide_input": false,
    "slideshow": {
     "slide_type": "fragment"
    }
   },
   "source": [
    "Implies: **Simulation**"
   ]
  },
  {
   "cell_type": "markdown",
   "metadata": {
    "cell_style": "split",
    "slideshow": {
     "slide_type": "fragment"
    }
   },
   "source": [
    "There's a crucial difference to VHDL/Verilog. Do you spot it?"
   ]
  },
  {
   "cell_type": "markdown",
   "metadata": {
    "slideshow": {
     "slide_type": "skip"
    }
   },
   "source": [
    "## Synthesis process\n",
    "\n",
    "1. Pass a design hierarchy to the synthesis tool (here: **yosys**)\n",
    "2. Visualization per schematic (RTL - Register Transfer Language) display\n",
    "3. Run inference/mapping procedure to translate a functional model into connected Hardware Primitives (LUT, FF, MUX, ...)"
   ]
  },
  {
   "cell_type": "markdown",
   "metadata": {
    "slideshow": {
     "slide_type": "slide"
    }
   },
   "source": [
    "## Synthesis flow schematic"
   ]
  },
  {
   "cell_type": "code",
   "execution_count": 2,
   "metadata": {
    "hide_input": true,
    "scrolled": false,
    "slideshow": {
     "slide_type": "-"
    }
   },
   "outputs": [
    {
     "data": {
      "image/svg+xml": [
       "<?xml version=\"1.0\" encoding=\"UTF-8\" standalone=\"no\"?>\n",
       "<!DOCTYPE svg PUBLIC \"-//W3C//DTD SVG 1.1//EN\"\n",
       " \"http://www.w3.org/Graphics/SVG/1.1/DTD/svg11.dtd\">\n",
       "<!-- Generated by graphviz version 2.40.1 (20161225.0304)\n",
       " -->\n",
       "<!-- Title: Schematic Pages: 1 -->\n",
       "<svg width=\"631pt\" height=\"420pt\"\n",
       " viewBox=\"0.00 0.00 631.06 420.00\" xmlns=\"http://www.w3.org/2000/svg\" xmlns:xlink=\"http://www.w3.org/1999/xlink\">\n",
       "<g id=\"graph0\" class=\"graph\" transform=\"scale(1 1) rotate(0) translate(4 416)\">\n",
       "<title>Schematic</title>\n",
       "<polygon fill=\"#ffffff\" stroke=\"transparent\" points=\"-4,4 -4,-416 627.0646,-416 627.0646,4 -4,4\"/>\n",
       "<!-- s -->\n",
       "<g id=\"node1\" class=\"node\">\n",
       "<title>s</title>\n",
       "<polygon fill=\"none\" stroke=\"#000000\" points=\"139.1937,-412 28.4293,-412 -.0646,-376 110.6998,-376 139.1937,-412\"/>\n",
       "<text text-anchor=\"middle\" x=\"69.5646\" y=\"-390.3\" font-family=\"Times,serif\" font-size=\"14.00\" fill=\"#000000\">V*&#45;HDL</text>\n",
       "</g>\n",
       "<!-- r -->\n",
       "<g id=\"node4\" class=\"node\">\n",
       "<title>r</title>\n",
       "<ellipse fill=\"none\" stroke=\"#add8e6\" cx=\"196.5646\" cy=\"-322\" rx=\"156.7723\" ry=\"18\"/>\n",
       "<text text-anchor=\"middle\" x=\"196.5646\" y=\"-318.3\" font-family=\"Times,serif\" font-size=\"14.00\" fill=\"#000000\">Register transfer language (IR)</text>\n",
       "</g>\n",
       "<!-- s&#45;&gt;r -->\n",
       "<g id=\"edge2\" class=\"edge\">\n",
       "<title>s&#45;&gt;r</title>\n",
       "<path fill=\"none\" stroke=\"#000000\" d=\"M101.612,-375.8314C118.2568,-366.3949 138.7589,-354.7717 156.4473,-344.7436\"/>\n",
       "<polygon fill=\"#000000\" stroke=\"#000000\" points=\"158.4323,-347.6417 165.4054,-339.665 154.98,-341.5522 158.4323,-347.6417\"/>\n",
       "</g>\n",
       "<!-- V -->\n",
       "<g id=\"node2\" class=\"node\">\n",
       "<title>V</title>\n",
       "<polygon fill=\"none\" stroke=\"#000000\" points=\"537.3761,-340 405.6415,-340 371.753,-304 503.4876,-304 537.3761,-340\"/>\n",
       "<text text-anchor=\"middle\" x=\"454.5646\" y=\"-318.3\" font-family=\"Times,serif\" font-size=\"14.00\" fill=\"#000000\">Vendor IP</text>\n",
       "</g>\n",
       "<!-- M -->\n",
       "<g id=\"node9\" class=\"node\">\n",
       "<title>M</title>\n",
       "<polygon fill=\"#add8e6\" stroke=\"#add8e6\" points=\"532.8631,-238.5442 532.8631,-253.4558 467.6659,-264 375.4632,-264 310.266,-253.4558 310.266,-238.5442 375.4632,-228 467.6659,-228 532.8631,-238.5442\"/>\n",
       "<polygon fill=\"none\" stroke=\"#add8e6\" points=\"536.8684,-235.1398 536.8684,-256.8602 467.9881,-268 375.141,-268 306.2607,-256.8602 306.2607,-235.1398 375.141,-224 467.9881,-224 536.8684,-235.1398\"/>\n",
       "<text text-anchor=\"middle\" x=\"421.5646\" y=\"-242.3\" font-family=\"Times,serif\" font-size=\"14.00\" fill=\"#000000\">Technology Mapper</text>\n",
       "</g>\n",
       "<!-- V&#45;&gt;M -->\n",
       "<g id=\"edge9\" class=\"edge\">\n",
       "<title>V&#45;&gt;M</title>\n",
       "<path fill=\"none\" stroke=\"#000000\" d=\"M446.744,-303.9891C443.3288,-296.1236 439.22,-286.6609 435.3214,-277.6824\"/>\n",
       "<polygon fill=\"#000000\" stroke=\"#000000\" points=\"438.4096,-276.0068 431.2163,-268.2282 431.9888,-278.7949 438.4096,-276.0068\"/>\n",
       "</g>\n",
       "<!-- p -->\n",
       "<g id=\"node3\" class=\"node\">\n",
       "<title>p</title>\n",
       "<polygon fill=\"none\" stroke=\"#000000\" points=\"492.4994,-412 225.3526,-412 156.6297,-376 423.7765,-376 492.4994,-412\"/>\n",
       "<text text-anchor=\"middle\" x=\"324.5646\" y=\"-390.3\" font-family=\"Times,serif\" font-size=\"14.00\" fill=\"#000000\">Python HDL (MyHDL)</text>\n",
       "</g>\n",
       "<!-- p&#45;&gt;r -->\n",
       "<g id=\"edge1\" class=\"edge\">\n",
       "<title>p&#45;&gt;r</title>\n",
       "<path fill=\"none\" stroke=\"#ff0000\" d=\"M292.2648,-375.8314C275.4889,-366.3949 254.8254,-354.7717 236.9977,-344.7436\"/>\n",
       "<polygon fill=\"#ff0000\" stroke=\"#ff0000\" points=\"238.4008,-341.5172 227.9691,-339.665 234.9689,-347.6182 238.4008,-341.5172\"/>\n",
       "</g>\n",
       "<!-- v -->\n",
       "<g id=\"node5\" class=\"node\">\n",
       "<title>v</title>\n",
       "<polygon fill=\"#d3d3d3\" stroke=\"#d3d3d3\" points=\"256.0646,-264 137.0646,-264 137.0646,-228 256.0646,-228 256.0646,-264\"/>\n",
       "<text text-anchor=\"middle\" x=\"196.5646\" y=\"-242.3\" font-family=\"Times,serif\" font-size=\"14.00\" fill=\"#000000\">Verilog output</text>\n",
       "</g>\n",
       "<!-- r&#45;&gt;v -->\n",
       "<g id=\"edge3\" class=\"edge\">\n",
       "<title>r&#45;&gt;v</title>\n",
       "<path fill=\"none\" stroke=\"#000000\" d=\"M196.5646,-303.9891C196.5646,-295.1566 196.5646,-284.3099 196.5646,-274.3965\"/>\n",
       "<polygon fill=\"#000000\" stroke=\"#000000\" points=\"200.0647,-274.145 196.5646,-264.145 193.0647,-274.1451 200.0647,-274.145\"/>\n",
       "</g>\n",
       "<!-- r&#45;&gt;M -->\n",
       "<g id=\"edge4\" class=\"edge\">\n",
       "<title>r&#45;&gt;M</title>\n",
       "<path fill=\"none\" stroke=\"#000000\" d=\"M247.059,-304.9441C278.1911,-294.4284 318.5361,-280.8007 352.5902,-269.298\"/>\n",
       "<polygon fill=\"#000000\" stroke=\"#000000\" points=\"354.122,-272.475 362.476,-265.9588 351.8818,-265.8431 354.122,-272.475\"/>\n",
       "</g>\n",
       "<!-- n -->\n",
       "<g id=\"node6\" class=\"node\">\n",
       "<title>n</title>\n",
       "<polygon fill=\"#d3d3d3\" stroke=\"#d3d3d3\" points=\"396.0646,-188 253.0646,-188 253.0646,-152 396.0646,-152 396.0646,-188\"/>\n",
       "<text text-anchor=\"middle\" x=\"324.5646\" y=\"-166.3\" font-family=\"Times,serif\" font-size=\"14.00\" fill=\"#000000\">Net list (EDIF, ...)</text>\n",
       "</g>\n",
       "<!-- P -->\n",
       "<g id=\"node10\" class=\"node\">\n",
       "<title>P</title>\n",
       "<polygon fill=\"#add8e6\" stroke=\"#add8e6\" points=\"408.4865,-86.5442 408.4865,-101.4558 359.3261,-112 289.803,-112 240.6427,-101.4558 240.6427,-86.5442 289.803,-76 359.3261,-76 408.4865,-86.5442\"/>\n",
       "<polygon fill=\"none\" stroke=\"#add8e6\" points=\"412.4963,-83.3128 412.4963,-104.6872 359.7524,-116 289.3768,-116 236.6328,-104.6872 236.6328,-83.3128 289.3768,-72 359.7524,-72 412.4963,-83.3128\"/>\n",
       "<text text-anchor=\"middle\" x=\"324.5646\" y=\"-90.3\" font-family=\"Times,serif\" font-size=\"14.00\" fill=\"#000000\">Place &amp; Route</text>\n",
       "</g>\n",
       "<!-- n&#45;&gt;P -->\n",
       "<g id=\"edge7\" class=\"edge\">\n",
       "<title>n&#45;&gt;P</title>\n",
       "<path fill=\"none\" stroke=\"#000000\" d=\"M324.5646,-151.9891C324.5646,-144.291 324.5646,-135.0629 324.5646,-126.2561\"/>\n",
       "<polygon fill=\"#000000\" stroke=\"#000000\" points=\"328.0647,-126.2282 324.5646,-116.2282 321.0647,-126.2282 328.0647,-126.2282\"/>\n",
       "</g>\n",
       "<!-- b -->\n",
       "<g id=\"node7\" class=\"node\">\n",
       "<title>b</title>\n",
       "<polygon fill=\"#d3d3d3\" stroke=\"#d3d3d3\" points=\"455.0646,-36 194.0646,-36 194.0646,0 455.0646,0 455.0646,-36\"/>\n",
       "<text text-anchor=\"middle\" x=\"324.5646\" y=\"-14.3\" font-family=\"Times,serif\" font-size=\"14.00\" fill=\"#000000\">Hardware Programmer binary file</text>\n",
       "</g>\n",
       "<!-- m -->\n",
       "<g id=\"node8\" class=\"node\">\n",
       "<title>m</title>\n",
       "<polygon fill=\"#d3d3d3\" stroke=\"#d3d3d3\" points=\"623.0646,-188 414.0646,-188 414.0646,-152 623.0646,-152 623.0646,-188\"/>\n",
       "<text text-anchor=\"middle\" x=\"518.5646\" y=\"-166.3\" font-family=\"Times,serif\" font-size=\"14.00\" fill=\"#000000\">(primitive mapped) Verilog</text>\n",
       "</g>\n",
       "<!-- M&#45;&gt;n -->\n",
       "<g id=\"edge5\" class=\"edge\">\n",
       "<title>M&#45;&gt;n</title>\n",
       "<path fill=\"none\" stroke=\"#000000\" d=\"M393.2474,-223.8133C381.5252,-214.629 367.8886,-203.9446 355.8701,-194.528\"/>\n",
       "<polygon fill=\"#000000\" stroke=\"#000000\" points=\"357.8818,-191.6579 347.8515,-188.2454 353.5645,-197.168 357.8818,-191.6579\"/>\n",
       "</g>\n",
       "<!-- M&#45;&gt;m -->\n",
       "<g id=\"edge6\" class=\"edge\">\n",
       "<title>M&#45;&gt;m</title>\n",
       "<path fill=\"none\" stroke=\"#000000\" d=\"M449.8817,-223.8133C461.6039,-214.629 475.2406,-203.9446 487.2591,-194.528\"/>\n",
       "<polygon fill=\"#000000\" stroke=\"#000000\" points=\"489.5646,-197.168 495.2776,-188.2454 485.2474,-191.6579 489.5646,-197.168\"/>\n",
       "</g>\n",
       "<!-- P&#45;&gt;b -->\n",
       "<g id=\"edge8\" class=\"edge\">\n",
       "<title>P&#45;&gt;b</title>\n",
       "<path fill=\"none\" stroke=\"#000000\" d=\"M324.5646,-71.6086C324.5646,-63.7272 324.5646,-54.7616 324.5646,-46.4482\"/>\n",
       "<polygon fill=\"#000000\" stroke=\"#000000\" points=\"328.0647,-46.3974 324.5646,-36.3975 321.0647,-46.3975 328.0647,-46.3974\"/>\n",
       "</g>\n",
       "</g>\n",
       "</svg>\n"
      ],
      "text/plain": [
       "<graphviz.dot.Digraph at 0x7f876063d630>"
      ]
     },
     "execution_count": 2,
     "metadata": {},
     "output_type": "execute_result"
    }
   ],
   "source": [
    "from graphviz import Digraph\n",
    "import sys ; sys.path.append(\"../utils\")\n",
    "\n",
    "dot = Digraph(\"Schematic\")\n",
    "dot.attr('node', shape='parallelogram')\n",
    "dot.node('s', 'V*-HDL' );\n",
    "dot.node('V', 'Vendor IP' );\n",
    "dot.node('p', 'Python HDL (MyHDL)' );\n",
    "\n",
    "dot.attr('node', shape='ellipse', color='lightblue')\n",
    "\n",
    "dot.node('r', 'Register transfer language (IR)'); \n",
    "dot.attr('node', shape='box', style='filled', color='lightgrey')\n",
    "\n",
    "dot.node('v', 'Verilog output' ); dot.node('n', 'Net list (EDIF, ...)'); \n",
    "dot.node('b', 'Hardware Programmer binary file' ); \n",
    "dot.node('m', '(primitive mapped) Verilog' ); dot.node('n', 'Net list (EDIF, ...)'); \n",
    "\n",
    "dot.attr('node', shape='doubleoctagon', color='lightblue')\n",
    "dot.node('M', 'Technology Mapper'); \n",
    "dot.node('P', 'Place & Route'); \n",
    "\n",
    "\n",
    "# dot.edge('A', 'Y', color='red')\n",
    "dot.edge('p', 'r', color='red')\n",
    "\n",
    "dot.edges(['sr', 'rv', 'rM', 'Mn', 'Mm', 'nP', 'Pb', 'VM'])\n",
    "\n",
    "dot"
   ]
  },
  {
   "cell_type": "markdown",
   "metadata": {
    "slideshow": {
     "slide_type": "skip"
    }
   },
   "source": [
    "## Table of contents\n",
    "\n",
    "1. [Simple combinatorial logic example](simple_logic.ipynb)\n",
    "0. [Clocked (synchronous) logic example](sync_logic.ipynb)\n",
    "0. [Introduction to co-simulation](cosim_intro.ipynb)\n",
    "0. [Post-Synthesis/Mapping verification](cosim.ipynb)\n",
    "0. [Black boxes](blackbox.ipynb) - Handling external Verilog/VHDL modules and black box IP (net lists)\n",
    "0. Hardware programming tool flow - Synthesis examples for Lattice ECP5 FPGA\n",
    "   1. [Setup](hwprog_setup.ipynb) - Installing the tools\n",
    "   1. [Blinky](blinky.ipynb) - Blinky demo using on-chip oscillator\n",
    "   0. [UART loopback](uart_loopback_test.ipynb) - A (non-dumb) UART loopback design\n",
    "0. [Auto-Testing](../index.ipynb#Automated-notebook-tests) - Automated testing of notebook code\n",
    "0. [Conclusions, Kudos, and last warnings](conclusion.ipynb)"
   ]
  },
  {
   "cell_type": "markdown",
   "metadata": {
    "slideshow": {
     "slide_type": "notes"
    }
   },
   "source": [
    "## Updating installation\n",
    "\n",
    "Normally, you don't need to run this as the container should contain the matching\n",
    "installation. In case you have a customized version however, you might want to pull updates as follows (remove '#' before executing)."
   ]
  },
  {
   "cell_type": "code",
   "execution_count": 6,
   "metadata": {
    "slideshow": {
     "slide_type": "notes"
    }
   },
   "outputs": [],
   "source": [
    "# %cd /home/pyosys/src/myhdl/myhdl-yosys/"
   ]
  },
  {
   "cell_type": "code",
   "execution_count": 7,
   "metadata": {
    "slideshow": {
     "slide_type": "notes"
    }
   },
   "outputs": [],
   "source": [
    "# ! git pull"
   ]
  },
  {
   "cell_type": "code",
   "execution_count": 8,
   "metadata": {
    "slideshow": {
     "slide_type": "notes"
    }
   },
   "outputs": [],
   "source": [
    "# ! python3 setup.py install --user 1&2> /dev/null"
   ]
  }
 ],
 "metadata": {
  "celltoolbar": "Slideshow",
  "kernelspec": {
   "display_name": "Python 3",
   "language": "python",
   "name": "python3"
  },
  "language_info": {
   "codemirror_mode": {
    "name": "ipython",
    "version": 3
   },
   "file_extension": ".py",
   "mimetype": "text/x-python",
   "name": "python",
   "nbconvert_exporter": "python",
   "pygments_lexer": "ipython3",
   "version": "3.7.3"
  },
  "livereveal": {
   "autolaunch": true
  },
  "rise": {
   "transition": "none"
  }
 },
 "nbformat": 4,
 "nbformat_minor": 4
}
