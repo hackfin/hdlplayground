{
 "cells": [
  {
   "cell_type": "markdown",
   "metadata": {
    "slideshow": {
     "slide_type": "slide"
    }
   },
   "source": [
    "# Conclusions, Kudos and last warnings\n",
    "\n",
    "## Positive aspects\n",
    "\n",
    "* Fast\n",
    "* A lot of OpenSource support (see kudos below)\n",
    "* Effective in academia and local development\n",
    "* Python ecosystem: Just connect everything to everything\n",
    "  * Filter design -> HDL\n",
    "  * Grab image from industrial camera, feed into (HDL-simulated) JPEG encoder\n",
    "    (See [Virtual Hardware JPEG encoding](https://section5.ch/index.php/2012/10/25/virtual-hardware-jpeg-encoding/))\n",
    "* Sustainable: Docker containers usable for the next *N* years without licensing issues\n",
    "* Continuous integration: Automatically get your (virtual) hardware tested/verified in the cloud"
   ]
  },
  {
   "cell_type": "markdown",
   "metadata": {
    "slideshow": {
     "slide_type": "slide"
    }
   },
   "source": [
    "### In house projects in effect\n",
    "\n",
    "Ongoing (mostly successful) synthesis verification of:\n",
    "* CPU cores written in MyHDL:\n",
    "  * [ZPUng](https://section5.ch/?s=ZPUng) - a pipelined ZPU architecture with optimum code density\n",
    "  * pyrv32 - a RISC-V (rv32i) compatible CPU core\n",
    "* Peripheral DSP cores\n",
    "  * [Adaptive DPCM image compression](https://section5.ch/index.php/2017/09/11/image-compression-prediction-techniques/)\n",
    "  * Image processing pipeline 'Cottonpicken':\n",
    "    * Bayer pattern, Colorspace conversion (YCrCb, ...)\n",
    "    * DCT/Wavelet encoder pipelines using Microcode applets\n",
    "* Evaluating novel FPGA architectures\n",
    "    * Procedural creation of cascaded multipliers (CNN)\n",
    "    * Verification of synthesis prototypes for new FPGA architectures"
   ]
  },
  {
   "cell_type": "markdown",
   "metadata": {
    "slideshow": {
     "slide_type": "slide"
    }
   },
   "source": [
    "## Warnings\n",
    "\n",
    "* MyHDL simulator limitations: Always co-simulate.\n",
    "* Incomplete coverage of translation to yosys RTL\n",
    "* Dynamic yosys development / incomplete Python API\n",
    "* Don't use it in a productive environment (YET).\n",
    "* If you still really want to use it 'industrially':\n",
    "  * **Always** rely on the Docker container setup\n",
    "  * Get a custom container set up for a specific project\n",
    "  "
   ]
  },
  {
   "cell_type": "markdown",
   "metadata": {
    "slideshow": {
     "slide_type": "slide"
    }
   },
   "source": [
    "## Kudos\n",
    "\n",
    "* [MyHDL](http://myhdl.org/) inventor Jan Decaluwe and supporters\n",
    "* [yosys authors](http://www.clifford.at/yosys/) (Claire Wolf, et al)\n",
    "* [Dockerhub hosting](https://hub.docker.com/)\n",
    "* The Google Team for the [Binder service](https://mybinder.org/)\n",
    "* All other OpenSource affine providers such as [github](https://github.com), [gitlab](https://gitlab.com/), ..."
   ]
  },
  {
   "cell_type": "markdown",
   "metadata": {
    "slideshow": {
     "slide_type": "slide"
    }
   },
   "source": [
    "## Finale\n",
    "\n",
    "* Thanks for attending this fully 'digital' session\n",
    "* Questions (Chat-Sidebar)\n",
    "* Contact:\n",
    "\n",
    "![section5](section5.png)"
   ]
  }
 ],
 "metadata": {
  "celltoolbar": "Slideshow",
  "kernelspec": {
   "display_name": "Python 3",
   "language": "python",
   "name": "python3"
  },
  "language_info": {
   "codemirror_mode": {
    "name": "ipython",
    "version": 3
   },
   "file_extension": ".py",
   "mimetype": "text/x-python",
   "name": "python",
   "nbconvert_exporter": "python",
   "pygments_lexer": "ipython3",
   "version": "3.7.3"
  },
  "livereveal": {
   "autolaunch": true
  }
 },
 "nbformat": 4,
 "nbformat_minor": 4
}
