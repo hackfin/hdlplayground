{
 "cells": [
  {
   "cell_type": "markdown",
   "metadata": {
    "slideshow": {
     "slide_type": "slide"
    }
   },
   "source": [
    "# Black boxes\n",
    "\n",
    "(MyHDL extensions by section5)\n",
    "\n",
    "Like in Verilog/VHDL, a logic entity that...\n",
    "  * is 'closed source' (a net list, ...)\n",
    "  * is resolved at a later stage\n",
    "  * is a FPGA primitive where only a simulation model might apply\n",
    "  \n",
    "is treated and abstracted as a **Black Box**."
   ]
  },
  {
   "cell_type": "markdown",
   "metadata": {
    "slideshow": {
     "slide_type": "slide"
    }
   },
   "source": [
    "## Development aspect\n",
    "\n",
    "Strategy of **Divide et impera**:\n",
    "  * Give developer maximum control over what logic should be created\n",
    "  * ... while providing means to preserve portability\n",
    "  * Target abstraction: Separate target parameters and implementation rules from design\n",
    "  * ... but keep code in one place\n",
    "  * Allow to switch target using one configuration variable\n",
    "  * ... or by calling an implementation method"
   ]
  },
  {
   "cell_type": "markdown",
   "metadata": {
    "slideshow": {
     "slide_type": "slide"
    }
   },
   "source": [
    "## The Blackbox MyHDL API\n",
    "\n",
    "* Allows wrapping external `V*HDL`-modules\n",
    "* Allows to specify a simplified simulation model for a (closed source) IP module"
   ]
  },
  {
   "cell_type": "markdown",
   "metadata": {
    "slideshow": {
     "slide_type": "subslide"
    }
   },
   "source": [
    "* [Generator classes](#Generator-classes), allowing elegant 'inline' constructions, as\n",
    "  * Special operators, like Unary Reduction (no VHDL-built-in!), bit field data types or Gray-Encoder\n",
    "  * Instance of synthesis-specific constructs"
   ]
  },
  {
   "cell_type": "markdown",
   "metadata": {
    "slideshow": {
     "slide_type": "subslide"
    }
   },
   "source": [
    "* [Parametrizeable implementations](#Parametrizeable-top-level-design) of top level design projects:\n",
    "  * (Portable) Hardware projects for multiple FPGA architectures\n",
    "  * Specific Co-Simulation variants\n",
    "  * Software-Implementations of hardware IP (simulation executables)"
   ]
  },
  {
   "cell_type": "markdown",
   "metadata": {
    "slideshow": {
     "slide_type": "subslide"
    }
   },
   "source": [
    "* Future music:\n",
    "  * Bulk signals (automated signal class to HDL record wrapping for complex signals), like busses, port arrays, .."
   ]
  },
  {
   "cell_type": "markdown",
   "metadata": {
    "slideshow": {
     "slide_type": "slide"
    }
   },
   "source": [
    "## Standard 'external' Blackbox\n",
    "\n",
    "`@autowrap`: A `@blackbox` unit that automatically wraps the function interface (as in VHDL terms: into a component declaration).\n",
    "\n",
    "* Does not synthesize any of its behavioural description\n",
    "* Creates a module stub for the synthesis tool (resolved at a later time)\n",
    "* Returns a simulator model for simulation"
   ]
  },
  {
   "cell_type": "code",
   "execution_count": 1,
   "metadata": {
    "hide_input": true,
    "init_cell": true,
    "slideshow": {
     "slide_type": "skip"
    }
   },
   "outputs": [],
   "source": [
    "import config"
   ]
  },
  {
   "cell_type": "markdown",
   "metadata": {
    "hide_input": true,
    "slideshow": {
     "slide_type": "slide"
    }
   },
   "source": [
    "### An on-chip oscillator\n",
    "\n",
    "..with a output only."
   ]
  },
  {
   "cell_type": "code",
   "execution_count": 2,
   "metadata": {},
   "outputs": [],
   "source": [
    "from synthesis.yosys.autowrap import autowrap\n",
    "\n",
    "@autowrap\n",
    "def OC_OSC(OSC, **parameter):\n",
    "    \"On-Chip oscillator\"\n",
    "\n",
    "    # half period in pico seconds\n",
    "    C_OSCP = 1613\n",
    "    oscb = Signal(bool(0))\n",
    "    \n",
    "    @instance\n",
    "    def sim():\n",
    "        while 1:\n",
    "            yield delay(C_OSCP)\n",
    "            oscb.next = not oscb\n",
    "\n",
    "    @always_comb\n",
    "    def assign():\n",
    "        OSC.next = oscb\n",
    "\n",
    "    return sim, assign"
   ]
  },
  {
   "cell_type": "markdown",
   "metadata": {
    "slideshow": {
     "slide_type": "slide"
    }
   },
   "source": [
    "## Generator classes\n",
    "\n",
    "### Example #1: Bit field objects\n",
    "\n",
    "![opcode](bitfield.png)"
   ]
  },
  {
   "cell_type": "markdown",
   "metadata": {
    "slideshow": {
     "slide_type": "slide"
    }
   },
   "source": [
    "Under the hood:"
   ]
  },
  {
   "cell_type": "code",
   "execution_count": 3,
   "metadata": {
    "slideshow": {
     "slide_type": "-"
    }
   },
   "outputs": [],
   "source": [
    "def generator_class_snippet(): # Generator class body snippet\n",
    "    @blackbox\n",
    "    def bitslice(val):\n",
    "        \"\"\"A bit slicing and comparator logic. Note that the `val` argument is a yosys\n",
    "        Signal object, unlike a HLS signal object from a @hls/@component entity\"\"\"\n",
    "        @inference(yosys)\n",
    "        def implementation(module, sm):\n",
    "            n = self.msb - self.lsb + 1\n",
    "            sm.q = module.addSignal(None, 1)\n",
    "            portion = val.extract(self.lsb, n)\n",
    "            c = ConstSignal(self.val, n)\n",
    "            identifier = yosys.new_id(node, \"cmp\")\n",
    "            module.addEq(identifier, c, portion, sm.q, False)\n",
    "\n",
    "        return implementation\n",
    "\n",
    "    return bitslice(a)"
   ]
  },
  {
   "cell_type": "markdown",
   "metadata": {
    "slideshow": {
     "slide_type": "notes"
    }
   },
   "source": [
    "Source code of yosys implementation specific bitfields extension: [bitfields.py](../utils/bitfields.py)"
   ]
  },
  {
   "cell_type": "markdown",
   "metadata": {
    "slideshow": {
     "slide_type": "slide"
    }
   },
   "source": [
    "### Example 'opcode' register:\n",
    "\n",
    "![opcode](bitfield.png)\n",
    "\n",
    "Define a bit field 'inline' object:"
   ]
  },
  {
   "cell_type": "code",
   "execution_count": 4,
   "metadata": {
    "slideshow": {
     "slide_type": "-"
    }
   },
   "outputs": [],
   "source": [
    "from bitfields import Bitfield\n",
    "\n",
    "# Create bit field constants (lsb, msb, value):\n",
    "\n",
    "BF_A = Bitfield(2, 4, 3)\n",
    "BF_B = Bitfield(5, 7, 5)\n",
    "BF_B1 = Bitfield(5, 7, 2)"
   ]
  },
  {
   "cell_type": "markdown",
   "metadata": {
    "slideshow": {
     "slide_type": "subslide"
    }
   },
   "source": [
    "Now generate a value by logic combination of the Bitfield constants:"
   ]
  },
  {
   "cell_type": "code",
   "execution_count": 5,
   "metadata": {
    "slideshow": {
     "slide_type": "-"
    }
   },
   "outputs": [
    {
     "data": {
      "text/plain": [
       "'0xae'"
      ]
     },
     "execution_count": 5,
     "metadata": {},
     "output_type": "execute_result"
    }
   ],
   "source": [
    "from myhdl import *\n",
    "\n",
    "v = intbv(int(BF_A | BF_B | 2)) # Casting constant integer\n",
    "hex(v)"
   ]
  },
  {
   "cell_type": "markdown",
   "metadata": {
    "slideshow": {
     "slide_type": "slide"
    }
   },
   "source": [
    "To obtain the actual value of the bitfield slice:"
   ]
  },
  {
   "cell_type": "code",
   "execution_count": 6,
   "metadata": {
    "slideshow": {
     "slide_type": "-"
    }
   },
   "outputs": [
    {
     "data": {
      "text/plain": [
       "intbv(5)"
      ]
     },
     "execution_count": 6,
     "metadata": {},
     "output_type": "execute_result"
    }
   ],
   "source": [
    "v[BF_B.as_slice()]"
   ]
  },
  {
   "cell_type": "markdown",
   "metadata": {
    "slideshow": {
     "slide_type": "fragment"
    }
   },
   "source": [
    "To check if the slice portion of the bitfield is matching its given constant value:"
   ]
  },
  {
   "cell_type": "code",
   "execution_count": 7,
   "metadata": {
    "slideshow": {
     "slide_type": "-"
    }
   },
   "outputs": [
    {
     "data": {
      "text/plain": [
       "(True, False)"
      ]
     },
     "execution_count": 7,
     "metadata": {},
     "output_type": "execute_result"
    }
   ],
   "source": [
    "BF_B(v), BF_B1(v)"
   ]
  },
  {
   "cell_type": "markdown",
   "metadata": {
    "slideshow": {
     "slide_type": "fragment"
    }
   },
   "source": [
    "From software perspective: Generate a `Bitfield` object that serves as:\n",
    "* An inline instance of a hardware object with one output when called as function\n",
    "* A constant when casted to integer"
   ]
  },
  {
   "cell_type": "markdown",
   "metadata": {
    "slideshow": {
     "slide_type": "slide"
    }
   },
   "source": [
    "### Example bitfield decoder"
   ]
  },
  {
   "cell_type": "code",
   "execution_count": 8,
   "metadata": {},
   "outputs": [],
   "source": [
    "@block\n",
    "def bfdecode0(clk, reset, op, q, z):   \n",
    "    @always_seq(clk.posedge, reset)\n",
    "    def worker():\n",
    "        \"Bit field decoder for `op`\"\n",
    "        if BF_B(op): # Instance!\n",
    "            if BF_A(op): # Instance!\n",
    "                q.next = 2\n",
    "            else:\n",
    "                q.next = 1\n",
    "        else:\n",
    "            q.next = 3\n",
    "            \n",
    "    @always_comb\n",
    "    def assign():\n",
    "        z.next = BF_B1(op) # Instance!\n",
    "        \n",
    "    return instances()"
   ]
  },
  {
   "cell_type": "markdown",
   "metadata": {},
   "source": [
    "**Note:** `# Instance!` denotes: We are creating *inline* logic. The RTL result is shown below"
   ]
  },
  {
   "cell_type": "markdown",
   "metadata": {
    "slideshow": {
     "slide_type": "slide"
    }
   },
   "source": [
    "## Parametrizeable top level design\n",
    "\n",
    "\n",
    "### Bitfield example:\n",
    "\n",
    "Testing the above bit field scenario:"
   ]
  },
  {
   "cell_type": "code",
   "execution_count": 9,
   "metadata": {
    "slideshow": {
     "slide_type": "-"
    }
   },
   "outputs": [],
   "source": [
    "from myhdl.conversion.yshelper import Implementation\n",
    "\n",
    "class MyImpl(Implementation):\n",
    "    \"\"\"Test implementation\"\"\""
   ]
  },
  {
   "cell_type": "code",
   "execution_count": 10,
   "metadata": {
    "code_folding": [
     13,
     24,
     37
    ],
    "slideshow": {
     "slide_type": "slide"
    }
   },
   "outputs": [],
   "source": [
    "@blackbox\n",
    "def test_design(unit):\n",
    "    \"\"\"A test design (virtual board)\"\"\"\n",
    "    clk = Signal(bool(0))\n",
    "    z = Signal(bool(0))\n",
    "    op = Signal(intbv()[16:])\n",
    "    d = Signal(intbv()[3:])\n",
    "    \n",
    "    reset = ResetSignal(1, 1, True)\n",
    "\n",
    "    inst_unit = unit(clk, reset, op, d, z)\n",
    "    \n",
    "    @inference(MyImpl)\n",
    "    def rtl(design, top_name):\n",
    "        inst_unit.convert(\"yosys_module\", design, name=\"unit\")\n",
    "        \n",
    "        return design\n",
    "\n",
    "#     @inference(MyCoSimulation)\n",
    "#     def mysim(design, top_name):\n",
    "#          ...\n",
    "\n",
    "    # Non-synthesis (sim only) section:\n",
    "    @instance\n",
    "    def startup():\n",
    "        yield delay(8)\n",
    "        reset.next = 0\n",
    "        yield clk.negedge\n",
    "        for v in [BF_B, BF_A, BF_A | BF_B1, BF_A | BF_B]:\n",
    "            op.next = int(v)\n",
    "            yield clk.negedge\n",
    "            print(\"%02x\" % d, z)\n",
    "        yield clk.posedge\n",
    "\n",
    "        raise StopSimulation\n",
    " \n",
    "    @always(delay(2))\n",
    "    def clkgen():\n",
    "        clk.next = not clk\n",
    "\n",
    "    return instances(), rtl"
   ]
  },
  {
   "cell_type": "markdown",
   "metadata": {
    "slideshow": {
     "slide_type": "slide"
    }
   },
   "source": [
    "### Implementing the design"
   ]
  },
  {
   "cell_type": "code",
   "execution_count": 11,
   "metadata": {
    "cell_style": "split",
    "code_folding": [
     1
    ],
    "slideshow": {
     "slide_type": "-"
    }
   },
   "outputs": [
    {
     "name": "stdout",
     "output_type": "stream",
     "text": [
      "Implementation: Test implementation\n",
      "\u001b[32m========================================================\u001b[0m\n",
      "\u001b[32mCREATE Module: 'unit'\u001b[0m\n",
      "\u001b[32mAdding module with name:\u001b[0m bfdecode0_1_1_16_3_1\n",
      "CONVERT_RTL tree >>>>>> 'UNIT_WORKER' \n",
      "CONVERT_RTL tree >>>>>> 'UNIT_ASSIGN' \n",
      "============================================================================\n",
      "DONE instancing submodules\n"
     ]
    }
   ],
   "source": [
    "@block\n",
    "def bfdecode0(clk, reset, op, q, z):   \n",
    "    @always_seq(clk.posedge, reset)\n",
    "    def worker():\n",
    "        \"Bit field decoder for `op`\"\n",
    "        if BF_B(op): # Instance!\n",
    "            if BF_A(op): # Instance!\n",
    "                q.next = 2\n",
    "            else:\n",
    "                q.next = 1\n",
    "        else:\n",
    "            q.next = 3\n",
    "            \n",
    "    @always_comb\n",
    "    def assign():\n",
    "        z.next = BF_B1(op) # Instance!\n",
    "        \n",
    "    return instances()\n",
    "\n",
    "\n",
    "impl = test_design(bfdecode0)\n",
    "design = impl.implement(\"rtl\", \"unit\")"
   ]
  },
  {
   "cell_type": "code",
   "execution_count": 12,
   "metadata": {
    "cell_style": "split"
   },
   "outputs": [
    {
     "name": "stdout",
     "output_type": "stream",
     "text": [
      "Generating RTL image...\n",
      "Display...\n"
     ]
    },
    {
     "data": {
      "image/svg+xml": [
       "<?xml version=\"1.0\" encoding=\"UTF-8\" standalone=\"no\"?>\n",
       "<!DOCTYPE svg PUBLIC \"-//W3C//DTD SVG 1.1//EN\"\n",
       " \"http://www.w3.org/Graphics/SVG/1.1/DTD/svg11.dtd\">\n",
       "<!-- Generated by graphviz version 2.40.1 (20161225.0304)\n",
       " -->\n",
       "<!-- Title: bfdecode0_1_1_16_3_1 Pages: 1 -->\n",
       "<svg width=\"720pt\" height=\"333pt\"\n",
       " viewBox=\"0.00 0.00 720.00 333.27\" xmlns=\"http://www.w3.org/2000/svg\" xmlns:xlink=\"http://www.w3.org/1999/xlink\">\n",
       "<g id=\"graph0\" class=\"graph\" transform=\"scale(.8713 .8713) rotate(0) translate(4 378.5)\">\n",
       "<title>bfdecode0_1_1_16_3_1</title>\n",
       "<polygon fill=\"#ffffff\" stroke=\"transparent\" points=\"-4,4 -4,-378.5 822.3637,-378.5 822.3637,4 -4,4\"/>\n",
       "<text text-anchor=\"middle\" x=\"409.1819\" y=\"-7.8\" font-family=\"Times,serif\" font-size=\"14.00\" fill=\"#000000\">bfdecode0_1_1_16_3_1</text>\n",
       "<!-- n7 -->\n",
       "<g id=\"node1\" class=\"node\">\n",
       "<title>n7</title>\n",
       "<polygon fill=\"none\" stroke=\"#000000\" points=\"506.0786,-347.0442 506.0786,-361.9558 490.2624,-372.5 467.8949,-372.5 452.0786,-361.9558 452.0786,-347.0442 467.8949,-336.5 490.2624,-336.5 506.0786,-347.0442\"/>\n",
       "<text text-anchor=\"middle\" x=\"479.0786\" y=\"-350.8\" font-family=\"Times,serif\" font-size=\"14.00\" fill=\"#000000\">z</text>\n",
       "</g>\n",
       "<!-- n8 -->\n",
       "<g id=\"node2\" class=\"node\">\n",
       "<title>n8</title>\n",
       "<polygon fill=\"none\" stroke=\"#000000\" points=\"818.3637,-239.0442 818.3637,-253.9558 802.5475,-264.5 780.18,-264.5 764.3637,-253.9558 764.3637,-239.0442 780.18,-228.5 802.5475,-228.5 818.3637,-239.0442\"/>\n",
       "<text text-anchor=\"middle\" x=\"791.3637\" y=\"-242.8\" font-family=\"Times,serif\" font-size=\"14.00\" fill=\"#000000\">q</text>\n",
       "</g>\n",
       "<!-- n9 -->\n",
       "<g id=\"node3\" class=\"node\">\n",
       "<title>n9</title>\n",
       "<polygon fill=\"none\" stroke=\"#000000\" points=\"54,-144.0442 54,-158.9558 38.1838,-169.5 15.8162,-169.5 0,-158.9558 0,-144.0442 15.8162,-133.5 38.1838,-133.5 54,-144.0442\"/>\n",
       "<text text-anchor=\"middle\" x=\"27\" y=\"-147.8\" font-family=\"Times,serif\" font-size=\"14.00\" fill=\"#000000\">op</text>\n",
       "</g>\n",
       "<!-- x0 -->\n",
       "<g id=\"node8\" class=\"node\">\n",
       "<title>x0</title>\n",
       "<path fill=\"none\" stroke=\"#000000\" d=\"M102,-274.5C102,-274.5 153,-274.5 153,-274.5 159,-274.5 165,-280.5 165,-286.5 165,-286.5 165,-298.5 165,-298.5 165,-304.5 159,-310.5 153,-310.5 153,-310.5 102,-310.5 102,-310.5 96,-310.5 90,-304.5 90,-298.5 90,-298.5 90,-286.5 90,-286.5 90,-280.5 96,-274.5 102,-274.5\"/>\n",
       "<text text-anchor=\"middle\" x=\"127.5\" y=\"-288.8\" font-family=\"Times,serif\" font-size=\"14.00\" fill=\"#000000\">7:5 &#45; 2:0</text>\n",
       "</g>\n",
       "<!-- n9&#45;&gt;x0 -->\n",
       "<g id=\"edge14\" class=\"edge\">\n",
       "<title>n9:e&#45;&gt;x0:w</title>\n",
       "<path fill=\"none\" stroke=\"#000000\" stroke-width=\"3\" d=\"M54,-151.5C114.761,-151.5 36.0483,-275.9427 79.9199,-291.0119\"/>\n",
       "<polygon fill=\"#000000\" stroke=\"#000000\" stroke-width=\"3\" points=\"79.596,-294.502 90,-292.5 80.6184,-287.577 79.596,-294.502\"/>\n",
       "</g>\n",
       "<!-- x5 -->\n",
       "<g id=\"node17\" class=\"node\">\n",
       "<title>x5</title>\n",
       "<path fill=\"none\" stroke=\"#000000\" d=\"M102,-133.5C102,-133.5 153,-133.5 153,-133.5 159,-133.5 165,-139.5 165,-145.5 165,-145.5 165,-157.5 165,-157.5 165,-163.5 159,-169.5 153,-169.5 153,-169.5 102,-169.5 102,-169.5 96,-169.5 90,-163.5 90,-157.5 90,-157.5 90,-145.5 90,-145.5 90,-139.5 96,-133.5 102,-133.5\"/>\n",
       "<text text-anchor=\"middle\" x=\"127.5\" y=\"-147.8\" font-family=\"Times,serif\" font-size=\"14.00\" fill=\"#000000\">4:2 &#45; 2:0</text>\n",
       "</g>\n",
       "<!-- n9&#45;&gt;x5 -->\n",
       "<g id=\"edge15\" class=\"edge\">\n",
       "<title>n9:e&#45;&gt;x5:w</title>\n",
       "<path fill=\"none\" stroke=\"#000000\" stroke-width=\"3\" d=\"M54,-151.5C66,-151.5 71.25,-151.5 79.875,-151.5\"/>\n",
       "<polygon fill=\"#000000\" stroke=\"#000000\" stroke-width=\"3\" points=\"80,-155.0001 90,-151.5 80,-148.0001 80,-155.0001\"/>\n",
       "</g>\n",
       "<!-- x7 -->\n",
       "<g id=\"node20\" class=\"node\">\n",
       "<title>x7</title>\n",
       "<path fill=\"none\" stroke=\"#000000\" d=\"M102,-23.5C102,-23.5 153,-23.5 153,-23.5 159,-23.5 165,-29.5 165,-35.5 165,-35.5 165,-47.5 165,-47.5 165,-53.5 159,-59.5 153,-59.5 153,-59.5 102,-59.5 102,-59.5 96,-59.5 90,-53.5 90,-47.5 90,-47.5 90,-35.5 90,-35.5 90,-29.5 96,-23.5 102,-23.5\"/>\n",
       "<text text-anchor=\"middle\" x=\"127.5\" y=\"-37.8\" font-family=\"Times,serif\" font-size=\"14.00\" fill=\"#000000\">7:5 &#45; 2:0</text>\n",
       "</g>\n",
       "<!-- n9&#45;&gt;x7 -->\n",
       "<g id=\"edge16\" class=\"edge\">\n",
       "<title>n9:e&#45;&gt;x7:w</title>\n",
       "<path fill=\"none\" stroke=\"#000000\" stroke-width=\"3\" d=\"M54,-151.5C101.4217,-151.5 48.2875,-58.0161 79.9973,-43.4093\"/>\n",
       "<polygon fill=\"#000000\" stroke=\"#000000\" stroke-width=\"3\" points=\"80.8336,-46.8129 90,-41.5 79.5211,-39.937 80.8336,-46.8129\"/>\n",
       "</g>\n",
       "<!-- n10 -->\n",
       "<g id=\"node4\" class=\"node\">\n",
       "<title>n10</title>\n",
       "<polygon fill=\"none\" stroke=\"#000000\" points=\"516.1501,-293.0442 516.1501,-307.9558 494.4341,-318.5 463.7232,-318.5 442.0072,-307.9558 442.0072,-293.0442 463.7232,-282.5 494.4341,-282.5 516.1501,-293.0442\"/>\n",
       "<text text-anchor=\"middle\" x=\"479.0786\" y=\"-296.8\" font-family=\"Times,serif\" font-size=\"14.00\" fill=\"#000000\">reset</text>\n",
       "</g>\n",
       "<!-- c20 -->\n",
       "<g id=\"node9\" class=\"node\">\n",
       "<title>c20</title>\n",
       "<polygon fill=\"none\" stroke=\"#000000\" points=\"552.3637,-212 552.3637,-281 638.3637,-281 638.3637,-212 552.3637,-212\"/>\n",
       "<text text-anchor=\"middle\" x=\"580.8637\" y=\"-265.8\" font-family=\"Times,serif\" font-size=\"14.00\" fill=\"#000000\">ARST</text>\n",
       "<polyline fill=\"none\" stroke=\"#000000\" points=\"552.3637,-258 609.3637,-258 \"/>\n",
       "<text text-anchor=\"middle\" x=\"580.8637\" y=\"-242.8\" font-family=\"Times,serif\" font-size=\"14.00\" fill=\"#000000\">CLK</text>\n",
       "<polyline fill=\"none\" stroke=\"#000000\" points=\"552.3637,-235 609.3637,-235 \"/>\n",
       "<text text-anchor=\"middle\" x=\"580.8637\" y=\"-219.8\" font-family=\"Times,serif\" font-size=\"14.00\" fill=\"#000000\">D</text>\n",
       "<polyline fill=\"none\" stroke=\"#000000\" points=\"609.3637,-212 609.3637,-281 \"/>\n",
       "<polyline fill=\"none\" stroke=\"#000000\" points=\"609.3637,-212 609.3637,-281 \"/>\n",
       "<text text-anchor=\"middle\" x=\"623.8637\" y=\"-242.8\" font-family=\"Times,serif\" font-size=\"14.00\" fill=\"#000000\">Q</text>\n",
       "</g>\n",
       "<!-- n10&#45;&gt;c20 -->\n",
       "<g id=\"edge5\" class=\"edge\">\n",
       "<title>n10:e&#45;&gt;c20:w</title>\n",
       "<path fill=\"none\" stroke=\"#000000\" d=\"M516.0786,-300.5C533.1467,-300.5 532.5068,-280.4268 542.6577,-272.5857\"/>\n",
       "<polygon fill=\"#000000\" stroke=\"#000000\" points=\"543.8942,-275.8653 552.3637,-269.5 541.7733,-269.1943 543.8942,-275.8653\"/>\n",
       "</g>\n",
       "<!-- n11 -->\n",
       "<g id=\"node5\" class=\"node\">\n",
       "<title>n11</title>\n",
       "<polygon fill=\"none\" stroke=\"#000000\" points=\"506.0786,-239.0442 506.0786,-253.9558 490.2624,-264.5 467.8949,-264.5 452.0786,-253.9558 452.0786,-239.0442 467.8949,-228.5 490.2624,-228.5 506.0786,-239.0442\"/>\n",
       "<text text-anchor=\"middle\" x=\"479.0786\" y=\"-242.8\" font-family=\"Times,serif\" font-size=\"14.00\" fill=\"#000000\">clk</text>\n",
       "</g>\n",
       "<!-- n11&#45;&gt;c20 -->\n",
       "<g id=\"edge6\" class=\"edge\">\n",
       "<title>n11:e&#45;&gt;c20:w</title>\n",
       "<path fill=\"none\" stroke=\"#000000\" d=\"M506.0786,-246.5C522.7927,-246.5 529.3216,-246.5 542.2163,-246.5\"/>\n",
       "<polygon fill=\"#000000\" stroke=\"#000000\" points=\"542.3638,-250.0001 552.3637,-246.5 542.3637,-243.0001 542.3638,-250.0001\"/>\n",
       "</g>\n",
       "<!-- v1 -->\n",
       "<g id=\"node6\" class=\"node\">\n",
       "<title>v1</title>\n",
       "<ellipse fill=\"none\" stroke=\"#000000\" cx=\"127.5\" cy=\"-356.5\" rx=\"36.2938\" ry=\"18\"/>\n",
       "<text text-anchor=\"middle\" x=\"127.5\" y=\"-352.8\" font-family=\"Times,serif\" font-size=\"14.00\" fill=\"#000000\">3&#39;010</text>\n",
       "</g>\n",
       "<!-- c15 -->\n",
       "<g id=\"node7\" class=\"node\">\n",
       "<title>c15</title>\n",
       "<polygon fill=\"none\" stroke=\"#000000\" points=\"201,-321.5 201,-367.5 297,-367.5 297,-321.5 201,-321.5\"/>\n",
       "<text text-anchor=\"middle\" x=\"214.5\" y=\"-352.3\" font-family=\"Times,serif\" font-size=\"14.00\" fill=\"#000000\">A</text>\n",
       "<polyline fill=\"none\" stroke=\"#000000\" points=\"201,-344.5 228,-344.5 \"/>\n",
       "<text text-anchor=\"middle\" x=\"214.5\" y=\"-329.3\" font-family=\"Times,serif\" font-size=\"14.00\" fill=\"#000000\">B</text>\n",
       "<polyline fill=\"none\" stroke=\"#000000\" points=\"228,-321.5 228,-367.5 \"/>\n",
       "<text text-anchor=\"middle\" x=\"249.5\" y=\"-348.3\" font-family=\"Times,serif\" font-size=\"14.00\" fill=\"#000000\">$8</text>\n",
       "<text text-anchor=\"middle\" x=\"249.5\" y=\"-333.3\" font-family=\"Times,serif\" font-size=\"14.00\" fill=\"#000000\">$eq</text>\n",
       "<polyline fill=\"none\" stroke=\"#000000\" points=\"271,-321.5 271,-367.5 \"/>\n",
       "<text text-anchor=\"middle\" x=\"284\" y=\"-340.8\" font-family=\"Times,serif\" font-size=\"14.00\" fill=\"#000000\">Y</text>\n",
       "</g>\n",
       "<!-- v1&#45;&gt;c15 -->\n",
       "<g id=\"edge17\" class=\"edge\">\n",
       "<title>v1:e&#45;&gt;c15:w</title>\n",
       "<path fill=\"none\" stroke=\"#000000\" stroke-width=\"3\" d=\"M164.5,-356.5C176.6667,-356.5 181.9896,-356.5 190.7344,-356.5\"/>\n",
       "<polygon fill=\"#000000\" stroke=\"#000000\" stroke-width=\"3\" points=\"191,-360.0001 201,-356.5 191,-353.0001 191,-360.0001\"/>\n",
       "</g>\n",
       "<!-- x10 -->\n",
       "<g id=\"node22\" class=\"node\">\n",
       "<title>x10</title>\n",
       "<path fill=\"none\" stroke=\"#000000\" d=\"M384.3968,-365.5C384.3968,-365.5 354.3968,-365.5 354.3968,-365.5 348.3968,-365.5 342.3968,-359.5 342.3968,-353.5 342.3968,-353.5 342.3968,-341.5 342.3968,-341.5 342.3968,-335.5 348.3968,-329.5 354.3968,-329.5 354.3968,-329.5 384.3968,-329.5 384.3968,-329.5 390.3968,-329.5 396.3968,-335.5 396.3968,-341.5 396.3968,-341.5 396.3968,-353.5 396.3968,-353.5 396.3968,-359.5 390.3968,-365.5 384.3968,-365.5\"/>\n",
       "<text text-anchor=\"middle\" x=\"369.3968\" y=\"-343.8\" font-family=\"Times,serif\" font-size=\"14.00\" fill=\"#000000\">BUF</text>\n",
       "</g>\n",
       "<!-- c15&#45;&gt;x10 -->\n",
       "<g id=\"edge4\" class=\"edge\">\n",
       "<title>c15:e&#45;&gt;x10:w</title>\n",
       "<path fill=\"none\" stroke=\"#000000\" d=\"M297,-344.5C313.2711,-344.5 319.6582,-346.4426 332.0683,-347.2014\"/>\n",
       "<polygon fill=\"#000000\" stroke=\"#000000\" points=\"332.2998,-350.7094 342.3968,-347.5 332.5021,-343.7124 332.2998,-350.7094\"/>\n",
       "</g>\n",
       "<!-- x0&#45;&gt;c15 -->\n",
       "<g id=\"edge1\" class=\"edge\">\n",
       "<title>x0:e&#45;&gt;c15:w</title>\n",
       "<path fill=\"none\" stroke=\"#000000\" stroke-width=\"3\" d=\"M176.3119,-297.4048C182.8803,-305.0819 183.1075,-319.8534 189.6539,-327.5551\"/>\n",
       "<polygon fill=\"none\" stroke=\"#000000\" stroke-width=\"3\" points=\"176.0096,-297.2738 168.9136,-298.5568 165,-292.5 172.0961,-291.217 176.0096,-297.2738\"/>\n",
       "<polygon fill=\"none\" stroke=\"#000000\" stroke-width=\"3\" points=\"189.9993,-327.7056 197.0978,-326.4359 201,-332.5 193.9015,-333.7697 189.9993,-327.7056\"/>\n",
       "</g>\n",
       "<!-- x9 -->\n",
       "<g id=\"node21\" class=\"node\">\n",
       "<title>x9</title>\n",
       "<path fill=\"none\" stroke=\"#000000\" d=\"M716.3637,-264.5C716.3637,-264.5 686.3637,-264.5 686.3637,-264.5 680.3637,-264.5 674.3637,-258.5 674.3637,-252.5 674.3637,-252.5 674.3637,-240.5 674.3637,-240.5 674.3637,-234.5 680.3637,-228.5 686.3637,-228.5 686.3637,-228.5 716.3637,-228.5 716.3637,-228.5 722.3637,-228.5 728.3637,-234.5 728.3637,-240.5 728.3637,-240.5 728.3637,-252.5 728.3637,-252.5 728.3637,-258.5 722.3637,-264.5 716.3637,-264.5\"/>\n",
       "<text text-anchor=\"middle\" x=\"701.3637\" y=\"-242.8\" font-family=\"Times,serif\" font-size=\"14.00\" fill=\"#000000\">BUF</text>\n",
       "</g>\n",
       "<!-- c20&#45;&gt;x9 -->\n",
       "<g id=\"edge7\" class=\"edge\">\n",
       "<title>c20:e&#45;&gt;x9:w</title>\n",
       "<path fill=\"none\" stroke=\"#000000\" stroke-width=\"3\" d=\"M638.3637,-246.5C650.3637,-246.5 655.6137,-246.5 664.2387,-246.5\"/>\n",
       "<polygon fill=\"#000000\" stroke=\"#000000\" stroke-width=\"3\" points=\"664.3638,-250.0001 674.3637,-246.5 664.3637,-243.0001 664.3638,-250.0001\"/>\n",
       "</g>\n",
       "<!-- v2 -->\n",
       "<g id=\"node10\" class=\"node\">\n",
       "<title>v2</title>\n",
       "<ellipse fill=\"none\" stroke=\"#000000\" cx=\"369.3968\" cy=\"-250.5\" rx=\"36.2938\" ry=\"18\"/>\n",
       "<text text-anchor=\"middle\" x=\"369.3968\" y=\"-246.8\" font-family=\"Times,serif\" font-size=\"14.00\" fill=\"#000000\">3&#39;011</text>\n",
       "</g>\n",
       "<!-- c22 -->\n",
       "<g id=\"node11\" class=\"node\">\n",
       "<title>c22</title>\n",
       "<polygon fill=\"none\" stroke=\"#000000\" points=\"452.0786,-141 452.0786,-210 506.0786,-210 506.0786,-141 452.0786,-141\"/>\n",
       "<text text-anchor=\"middle\" x=\"465.5786\" y=\"-194.8\" font-family=\"Times,serif\" font-size=\"14.00\" fill=\"#000000\">A</text>\n",
       "<polyline fill=\"none\" stroke=\"#000000\" points=\"452.0786,-187 479.0786,-187 \"/>\n",
       "<text text-anchor=\"middle\" x=\"465.5786\" y=\"-171.8\" font-family=\"Times,serif\" font-size=\"14.00\" fill=\"#000000\">B</text>\n",
       "<polyline fill=\"none\" stroke=\"#000000\" points=\"452.0786,-164 479.0786,-164 \"/>\n",
       "<text text-anchor=\"middle\" x=\"465.5786\" y=\"-148.8\" font-family=\"Times,serif\" font-size=\"14.00\" fill=\"#000000\">S</text>\n",
       "<polyline fill=\"none\" stroke=\"#000000\" points=\"479.0786,-141 479.0786,-210 \"/>\n",
       "<polyline fill=\"none\" stroke=\"#000000\" points=\"479.0786,-141 479.0786,-210 \"/>\n",
       "<text text-anchor=\"middle\" x=\"492.5786\" y=\"-171.8\" font-family=\"Times,serif\" font-size=\"14.00\" fill=\"#000000\">Y</text>\n",
       "</g>\n",
       "<!-- v2&#45;&gt;c22 -->\n",
       "<g id=\"edge18\" class=\"edge\">\n",
       "<title>v2:e&#45;&gt;c22:w</title>\n",
       "<path fill=\"none\" stroke=\"#000000\" stroke-width=\"3\" d=\"M405.7935,-250.5C432.6245,-250.5 424.4601,-211.3953 441.9954,-201.0081\"/>\n",
       "<polygon fill=\"#000000\" stroke=\"#000000\" stroke-width=\"3\" points=\"443.2192,-204.3104 452.0786,-198.5 441.5295,-197.5174 443.2192,-204.3104\"/>\n",
       "</g>\n",
       "<!-- c22&#45;&gt;c20 -->\n",
       "<g id=\"edge8\" class=\"edge\">\n",
       "<title>c22:e&#45;&gt;c20:w</title>\n",
       "<path fill=\"none\" stroke=\"#000000\" stroke-width=\"3\" d=\"M506.0786,-175.5C531.7785,-175.5 525.4256,-211.5967 542.6115,-221.1849\"/>\n",
       "<polygon fill=\"#000000\" stroke=\"#000000\" stroke-width=\"3\" points=\"541.8257,-224.5955 552.3637,-223.5 543.4426,-217.7848 541.8257,-224.5955\"/>\n",
       "</g>\n",
       "<!-- v3 -->\n",
       "<g id=\"node12\" class=\"node\">\n",
       "<title>v3</title>\n",
       "<ellipse fill=\"none\" stroke=\"#000000\" cx=\"249\" cy=\"-216.5\" rx=\"36.2938\" ry=\"18\"/>\n",
       "<text text-anchor=\"middle\" x=\"249\" y=\"-212.8\" font-family=\"Times,serif\" font-size=\"14.00\" fill=\"#000000\">3&#39;010</text>\n",
       "</g>\n",
       "<!-- c23 -->\n",
       "<g id=\"node14\" class=\"node\">\n",
       "<title>c23</title>\n",
       "<polygon fill=\"none\" stroke=\"#000000\" points=\"342.3968,-145 342.3968,-214 396.3968,-214 396.3968,-145 342.3968,-145\"/>\n",
       "<text text-anchor=\"middle\" x=\"355.8968\" y=\"-198.8\" font-family=\"Times,serif\" font-size=\"14.00\" fill=\"#000000\">A</text>\n",
       "<polyline fill=\"none\" stroke=\"#000000\" points=\"342.3968,-191 369.3968,-191 \"/>\n",
       "<text text-anchor=\"middle\" x=\"355.8968\" y=\"-175.8\" font-family=\"Times,serif\" font-size=\"14.00\" fill=\"#000000\">B</text>\n",
       "<polyline fill=\"none\" stroke=\"#000000\" points=\"342.3968,-168 369.3968,-168 \"/>\n",
       "<text text-anchor=\"middle\" x=\"355.8968\" y=\"-152.8\" font-family=\"Times,serif\" font-size=\"14.00\" fill=\"#000000\">S</text>\n",
       "<polyline fill=\"none\" stroke=\"#000000\" points=\"369.3968,-145 369.3968,-214 \"/>\n",
       "<polyline fill=\"none\" stroke=\"#000000\" points=\"369.3968,-145 369.3968,-214 \"/>\n",
       "<text text-anchor=\"middle\" x=\"382.8968\" y=\"-175.8\" font-family=\"Times,serif\" font-size=\"14.00\" fill=\"#000000\">Y</text>\n",
       "</g>\n",
       "<!-- v3&#45;&gt;c23 -->\n",
       "<g id=\"edge19\" class=\"edge\">\n",
       "<title>v3:e&#45;&gt;c23:w</title>\n",
       "<path fill=\"none\" stroke=\"#000000\" stroke-width=\"3\" d=\"M286,-216.5C312.1137,-216.5 312.7791,-188.4242 332.3319,-181.186\"/>\n",
       "<polygon fill=\"#000000\" stroke=\"#000000\" stroke-width=\"3\" points=\"333.1124,-184.6041 342.3968,-179.5 331.9559,-177.7002 333.1124,-184.6041\"/>\n",
       "</g>\n",
       "<!-- v4 -->\n",
       "<g id=\"node13\" class=\"node\">\n",
       "<title>v4</title>\n",
       "<ellipse fill=\"none\" stroke=\"#000000\" cx=\"249\" cy=\"-270.5\" rx=\"36.2938\" ry=\"18\"/>\n",
       "<text text-anchor=\"middle\" x=\"249\" y=\"-266.8\" font-family=\"Times,serif\" font-size=\"14.00\" fill=\"#000000\">3&#39;001</text>\n",
       "</g>\n",
       "<!-- v4&#45;&gt;c23 -->\n",
       "<g id=\"edge20\" class=\"edge\">\n",
       "<title>v4:e&#45;&gt;c23:w</title>\n",
       "<path fill=\"none\" stroke=\"#000000\" stroke-width=\"3\" d=\"M286,-270.5C321.4295,-270.5 306.8699,-215.1328 332.5359,-204.3188\"/>\n",
       "<polygon fill=\"#000000\" stroke=\"#000000\" stroke-width=\"3\" points=\"333.1975,-207.7559 342.3968,-202.5 331.9278,-200.872 333.1975,-207.7559\"/>\n",
       "</g>\n",
       "<!-- c23&#45;&gt;c22 -->\n",
       "<g id=\"edge9\" class=\"edge\">\n",
       "<title>c23:e&#45;&gt;c22:w</title>\n",
       "<path fill=\"none\" stroke=\"#000000\" stroke-width=\"3\" d=\"M396.3968,-179.5C417.3313,-179.5 424.916,-176.6523 441.6787,-175.7625\"/>\n",
       "<polygon fill=\"#000000\" stroke=\"#000000\" stroke-width=\"3\" points=\"442.1702,-179.2513 452.0786,-175.5 441.9935,-172.2535 442.1702,-179.2513\"/>\n",
       "</g>\n",
       "<!-- v6 -->\n",
       "<g id=\"node15\" class=\"node\">\n",
       "<title>v6</title>\n",
       "<ellipse fill=\"none\" stroke=\"#000000\" cx=\"127.5\" cy=\"-206.5\" rx=\"36.2938\" ry=\"18\"/>\n",
       "<text text-anchor=\"middle\" x=\"127.5\" y=\"-202.8\" font-family=\"Times,serif\" font-size=\"14.00\" fill=\"#000000\">3&#39;011</text>\n",
       "</g>\n",
       "<!-- c24 -->\n",
       "<g id=\"node16\" class=\"node\">\n",
       "<title>c24</title>\n",
       "<polygon fill=\"none\" stroke=\"#000000\" points=\"201,-133.5 201,-179.5 297,-179.5 297,-133.5 201,-133.5\"/>\n",
       "<text text-anchor=\"middle\" x=\"214.5\" y=\"-164.3\" font-family=\"Times,serif\" font-size=\"14.00\" fill=\"#000000\">A</text>\n",
       "<polyline fill=\"none\" stroke=\"#000000\" points=\"201,-156.5 228,-156.5 \"/>\n",
       "<text text-anchor=\"middle\" x=\"214.5\" y=\"-141.3\" font-family=\"Times,serif\" font-size=\"14.00\" fill=\"#000000\">B</text>\n",
       "<polyline fill=\"none\" stroke=\"#000000\" points=\"228,-133.5 228,-179.5 \"/>\n",
       "<text text-anchor=\"middle\" x=\"249.5\" y=\"-160.3\" font-family=\"Times,serif\" font-size=\"14.00\" fill=\"#000000\">$4</text>\n",
       "<text text-anchor=\"middle\" x=\"249.5\" y=\"-145.3\" font-family=\"Times,serif\" font-size=\"14.00\" fill=\"#000000\">$eq</text>\n",
       "<polyline fill=\"none\" stroke=\"#000000\" points=\"271,-133.5 271,-179.5 \"/>\n",
       "<text text-anchor=\"middle\" x=\"284\" y=\"-152.8\" font-family=\"Times,serif\" font-size=\"14.00\" fill=\"#000000\">Y</text>\n",
       "</g>\n",
       "<!-- v6&#45;&gt;c24 -->\n",
       "<g id=\"edge21\" class=\"edge\">\n",
       "<title>v6:e&#45;&gt;c24:w</title>\n",
       "<path fill=\"none\" stroke=\"#000000\" stroke-width=\"3\" d=\"M164.5,-206.5C183.7099,-206.5 180.2067,-180.9293 191.2541,-171.7399\"/>\n",
       "<polygon fill=\"#000000\" stroke=\"#000000\" stroke-width=\"3\" points=\"192.6147,-174.976 201,-168.5 190.4065,-168.3334 192.6147,-174.976\"/>\n",
       "</g>\n",
       "<!-- c24&#45;&gt;c23 -->\n",
       "<g id=\"edge10\" class=\"edge\">\n",
       "<title>c24:e&#45;&gt;c23:w</title>\n",
       "<path fill=\"none\" stroke=\"#000000\" d=\"M297,-156.5C313.2357,-156.5 319.6728,-156.5 332.081,-156.5\"/>\n",
       "<polygon fill=\"#000000\" stroke=\"#000000\" points=\"332.3968,-160.0001 342.3968,-156.5 332.3967,-153.0001 332.3968,-160.0001\"/>\n",
       "</g>\n",
       "<!-- x5&#45;&gt;c24 -->\n",
       "<g id=\"edge2\" class=\"edge\">\n",
       "<title>x5:e&#45;&gt;c24:w</title>\n",
       "<path fill=\"none\" stroke=\"#000000\" stroke-width=\"3\" d=\"M177.0362,-149.9465C181.2736,-148.7865 184.7403,-147.2082 188.9797,-146.0492\"/>\n",
       "<polygon fill=\"none\" stroke=\"#000000\" stroke-width=\"3\" points=\"176.9013,-149.9638 171.4627,-154.699 165,-151.5 170.4386,-146.7648 176.9013,-149.9638\"/>\n",
       "<polygon fill=\"none\" stroke=\"#000000\" stroke-width=\"3\" points=\"189.0984,-146.034 194.5379,-141.2998 201,-144.5 195.5605,-149.2342 189.0984,-146.034\"/>\n",
       "</g>\n",
       "<!-- v8 -->\n",
       "<g id=\"node18\" class=\"node\">\n",
       "<title>v8</title>\n",
       "<ellipse fill=\"none\" stroke=\"#000000\" cx=\"127.5\" cy=\"-96.5\" rx=\"36.2938\" ry=\"18\"/>\n",
       "<text text-anchor=\"middle\" x=\"127.5\" y=\"-92.8\" font-family=\"Times,serif\" font-size=\"14.00\" fill=\"#000000\">3&#39;101</text>\n",
       "</g>\n",
       "<!-- c25 -->\n",
       "<g id=\"node19\" class=\"node\">\n",
       "<title>c25</title>\n",
       "<polygon fill=\"none\" stroke=\"#000000\" points=\"201,-61.5 201,-107.5 297,-107.5 297,-61.5 201,-61.5\"/>\n",
       "<text text-anchor=\"middle\" x=\"214.5\" y=\"-92.3\" font-family=\"Times,serif\" font-size=\"14.00\" fill=\"#000000\">A</text>\n",
       "<polyline fill=\"none\" stroke=\"#000000\" points=\"201,-84.5 228,-84.5 \"/>\n",
       "<text text-anchor=\"middle\" x=\"214.5\" y=\"-69.3\" font-family=\"Times,serif\" font-size=\"14.00\" fill=\"#000000\">B</text>\n",
       "<polyline fill=\"none\" stroke=\"#000000\" points=\"228,-61.5 228,-107.5 \"/>\n",
       "<text text-anchor=\"middle\" x=\"249.5\" y=\"-88.3\" font-family=\"Times,serif\" font-size=\"14.00\" fill=\"#000000\">$2</text>\n",
       "<text text-anchor=\"middle\" x=\"249.5\" y=\"-73.3\" font-family=\"Times,serif\" font-size=\"14.00\" fill=\"#000000\">$eq</text>\n",
       "<polyline fill=\"none\" stroke=\"#000000\" points=\"271,-61.5 271,-107.5 \"/>\n",
       "<text text-anchor=\"middle\" x=\"284\" y=\"-80.8\" font-family=\"Times,serif\" font-size=\"14.00\" fill=\"#000000\">Y</text>\n",
       "</g>\n",
       "<!-- v8&#45;&gt;c25 -->\n",
       "<g id=\"edge22\" class=\"edge\">\n",
       "<title>v8:e&#45;&gt;c25:w</title>\n",
       "<path fill=\"none\" stroke=\"#000000\" stroke-width=\"3\" d=\"M164.5,-96.5C176.6667,-96.5 181.9896,-96.5 190.7344,-96.5\"/>\n",
       "<polygon fill=\"#000000\" stroke=\"#000000\" stroke-width=\"3\" points=\"191,-100.0001 201,-96.5 191,-93.0001 191,-100.0001\"/>\n",
       "</g>\n",
       "<!-- c25&#45;&gt;c22 -->\n",
       "<g id=\"edge11\" class=\"edge\">\n",
       "<title>c25:e&#45;&gt;c22:w</title>\n",
       "<path fill=\"none\" stroke=\"#000000\" d=\"M297,-84.5C313.6833,-84.5 407.9201,-137.9664 442.1741,-150.0798\"/>\n",
       "<polygon fill=\"#000000\" stroke=\"#000000\" points=\"441.5336,-153.5262 452.0786,-152.5 443.1952,-146.7263 441.5336,-153.5262\"/>\n",
       "</g>\n",
       "<!-- x7&#45;&gt;c25 -->\n",
       "<g id=\"edge3\" class=\"edge\">\n",
       "<title>x7:e&#45;&gt;c25:w</title>\n",
       "<path fill=\"none\" stroke=\"#000000\" stroke-width=\"3\" d=\"M176.3064,-46.0742C181.9466,-51.8678 183.9318,-61.8053 189.4803,-67.703\"/>\n",
       "<polygon fill=\"none\" stroke=\"#000000\" stroke-width=\"3\" points=\"176.1241,-46.0005 169.0619,-47.4583 165,-41.5 172.0622,-40.0422 176.1241,-46.0005\"/>\n",
       "<polygon fill=\"none\" stroke=\"#000000\" stroke-width=\"3\" points=\"189.9221,-67.8869 196.9987,-66.5008 201,-72.5 193.9233,-73.8861 189.9221,-67.8869\"/>\n",
       "</g>\n",
       "<!-- x9&#45;&gt;n8 -->\n",
       "<g id=\"edge13\" class=\"edge\">\n",
       "<title>x9:e&#45;&gt;n8:w</title>\n",
       "<path fill=\"none\" stroke=\"#000000\" stroke-width=\"3\" d=\"M728.3637,-246.5C740.3637,-246.5 745.6137,-246.5 754.2387,-246.5\"/>\n",
       "<polygon fill=\"#000000\" stroke=\"#000000\" stroke-width=\"3\" points=\"754.3638,-250.0001 764.3637,-246.5 754.3637,-243.0001 754.3638,-250.0001\"/>\n",
       "</g>\n",
       "<!-- x10&#45;&gt;n7 -->\n",
       "<g id=\"edge12\" class=\"edge\">\n",
       "<title>x10:e&#45;&gt;n7:w</title>\n",
       "<path fill=\"none\" stroke=\"#000000\" d=\"M396.3968,-347.5C417.4418,-347.5 424.8573,-352.4834 441.6431,-354.0407\"/>\n",
       "<polygon fill=\"#000000\" stroke=\"#000000\" points=\"441.9344,-357.5568 452.0786,-354.5 442.2422,-350.5636 441.9344,-357.5568\"/>\n",
       "</g>\n",
       "</g>\n",
       "</svg>\n"
      ],
      "text/plain": [
       "<graphviz.files.Source at 0x7f4db03ad710>"
      ]
     },
     "metadata": {},
     "output_type": "display_data"
    }
   ],
   "source": [
    "from ys_aux import to_svg\n",
    "display(to_svg(design))"
   ]
  },
  {
   "cell_type": "markdown",
   "metadata": {
    "slideshow": {
     "slide_type": "slide"
    }
   },
   "source": [
    "### Simulation\n",
    "\n",
    "Run the top level blackbox as MyHDL simulation:"
   ]
  },
  {
   "cell_type": "code",
   "execution_count": 13,
   "metadata": {
    "cell_style": "split"
   },
   "outputs": [
    {
     "name": "stdout",
     "output_type": "stream",
     "text": [
      "01 False\n",
      "03 False\n",
      "03 True\n",
      "02 False\n"
     ]
    }
   ],
   "source": [
    "tb = test_design(bfdecode0)\n",
    "tb.config_sim(trace=True)\n",
    "tb.run_sim()\n",
    "tb.quit_sim()"
   ]
  },
  {
   "cell_type": "code",
   "execution_count": 14,
   "metadata": {
    "cell_style": "split"
   },
   "outputs": [
    {
     "data": {
      "text/html": [
       "<script>var WaveSkin=WaveSkin||{};WaveSkin.default=[\"svg\",{\"id\":\"svg\",\"xmlns\":\"http://www.w3.org/2000/svg\",\"xmlns:xlink\":\"http://www.w3.org/1999/xlink\",\"height\":\"0\"},[\"style\",{\"type\":\"text/css\"},\"text{font-size:11pt;font-style:normal;font-variant:normal;font-weight:normal;font-stretch:normal;text-align:center;fill-opacity:1;font-family:Helvetica}.muted{fill:#aaa}.warning{fill:#f6b900}.error{fill:#f60000}.info{fill:#0041c4}.success{fill:#00ab00}.h1{font-size:33pt;font-weight:bold}.h2{font-size:27pt;font-weight:bold}.h3{font-size:20pt;font-weight:bold}.h4{font-size:14pt;font-weight:bold}.h5{font-size:11pt;font-weight:bold}.h6{font-size:8pt;font-weight:bold}.s1{fill:none;stroke:#000;stroke-width:1;stroke-linecap:round;stroke-linejoin:miter;stroke-miterlimit:4;stroke-opacity:1;stroke-dasharray:none}.s2{fill:none;stroke:#000;stroke-width:0.5;stroke-linecap:round;stroke-linejoin:miter;stroke-miterlimit:4;stroke-opacity:1;stroke-dasharray:none}.s3{color:#000;fill:none;stroke:#000;stroke-width:1;stroke-linecap:round;stroke-linejoin:miter;stroke-miterlimit:4;stroke-opacity:1;stroke-dasharray:1, 3;stroke-dashoffset:0;marker:none;visibility:visible;display:inline;overflow:visible;enable-background:accumulate}.s4{color:#000;fill:none;stroke:#000;stroke-width:1;stroke-linecap:round;stroke-linejoin:miter;stroke-miterlimit:4;stroke-opacity:1;stroke-dasharray:none;stroke-dashoffset:0;marker:none;visibility:visible;display:inline;overflow:visible}.s5{fill:#fff;stroke:none}.s6{color:#000;fill:#ffffb4;fill-opacity:1;fill-rule:nonzero;stroke:none;stroke-width:1px;marker:none;visibility:visible;display:inline;overflow:visible;enable-background:accumulate}.s7{color:#000;fill:#ffe0b9;fill-opacity:1;fill-rule:nonzero;stroke:none;stroke-width:1px;marker:none;visibility:visible;display:inline;overflow:visible;enable-background:accumulate}.s8{color:#000;fill:#b9e0ff;fill-opacity:1;fill-rule:nonzero;stroke:none;stroke-width:1px;marker:none;visibility:visible;display:inline;overflow:visible;enable-background:accumulate}.s9{fill:#000;fill-opacity:1;stroke:none}.s10{color:#000;fill:#fff;fill-opacity:1;fill-rule:nonzero;stroke:none;stroke-width:1px;marker:none;visibility:visible;display:inline;overflow:visible;enable-background:accumulate}.s11{fill:#0041c4;fill-opacity:1;stroke:none}.s12{fill:none;stroke:#0041c4;stroke-width:1;stroke-linecap:round;stroke-linejoin:miter;stroke-miterlimit:4;stroke-opacity:1;stroke-dasharray:none}\"],[\"defs\",[\"g\",{\"id\":\"socket\"},[\"rect\",{\"y\":\"15\",\"x\":\"6\",\"height\":\"20\",\"width\":\"20\"}]],[\"g\",{\"id\":\"pclk\"},[\"path\",{\"d\":\"M0,20 0,0 20,0\",\"class\":\"s1\"}]],[\"g\",{\"id\":\"nclk\"},[\"path\",{\"d\":\"m0,0 0,20 20,0\",\"class\":\"s1\"}]],[\"g\",{\"id\":\"000\"},[\"path\",{\"d\":\"m0,20 20,0\",\"class\":\"s1\"}]],[\"g\",{\"id\":\"0m0\"},[\"path\",{\"d\":\"m0,20 3,0 3,-10 3,10 11,0\",\"class\":\"s1\"}]],[\"g\",{\"id\":\"0m1\"},[\"path\",{\"d\":\"M0,20 3,20 9,0 20,0\",\"class\":\"s1\"}]],[\"g\",{\"id\":\"0mx\"},[\"path\",{\"d\":\"M3,20 9,0 20,0\",\"class\":\"s1\"}],[\"path\",{\"d\":\"m20,15 -5,5\",\"class\":\"s2\"}],[\"path\",{\"d\":\"M20,10 10,20\",\"class\":\"s2\"}],[\"path\",{\"d\":\"M20,5 5,20\",\"class\":\"s2\"}],[\"path\",{\"d\":\"M20,0 4,16\",\"class\":\"s2\"}],[\"path\",{\"d\":\"M15,0 6,9\",\"class\":\"s2\"}],[\"path\",{\"d\":\"M10,0 9,1\",\"class\":\"s2\"}],[\"path\",{\"d\":\"m0,20 20,0\",\"class\":\"s1\"}]],[\"g\",{\"id\":\"0md\"},[\"path\",{\"d\":\"m8,20 10,0\",\"class\":\"s3\"}],[\"path\",{\"d\":\"m0,20 5,0\",\"class\":\"s1\"}]],[\"g\",{\"id\":\"0mu\"},[\"path\",{\"d\":\"m0,20 3,0 C 7,10 10.107603,0 20,0\",\"class\":\"s1\"}]],[\"g\",{\"id\":\"0mz\"},[\"path\",{\"d\":\"m0,20 3,0 C 10,10 15,10 20,10\",\"class\":\"s1\"}]],[\"g\",{\"id\":\"111\"},[\"path\",{\"d\":\"M0,0 20,0\",\"class\":\"s1\"}]],[\"g\",{\"id\":\"1m0\"},[\"path\",{\"d\":\"m0,0 3,0 6,20 11,0\",\"class\":\"s1\"}]],[\"g\",{\"id\":\"1m1\"},[\"path\",{\"d\":\"M0,0 3,0 6,10 9,0 20,0\",\"class\":\"s1\"}]],[\"g\",{\"id\":\"1mx\"},[\"path\",{\"d\":\"m3,0 6,20 11,0\",\"class\":\"s1\"}],[\"path\",{\"d\":\"M0,0 20,0\",\"class\":\"s1\"}],[\"path\",{\"d\":\"m20,15 -5,5\",\"class\":\"s2\"}],[\"path\",{\"d\":\"M20,10 10,20\",\"class\":\"s2\"}],[\"path\",{\"d\":\"M20,5 8,17\",\"class\":\"s2\"}],[\"path\",{\"d\":\"M20,0 7,13\",\"class\":\"s2\"}],[\"path\",{\"d\":\"M15,0 6,9\",\"class\":\"s2\"}],[\"path\",{\"d\":\"M10,0 5,5\",\"class\":\"s2\"}],[\"path\",{\"d\":\"M3.5,1.5 5,0\",\"class\":\"s2\"}]],[\"g\",{\"id\":\"1md\"},[\"path\",{\"d\":\"m0,0 3,0 c 4,10 7,20 17,20\",\"class\":\"s1\"}]],[\"g\",{\"id\":\"1mu\"},[\"path\",{\"d\":\"M0,0 5,0\",\"class\":\"s1\"}],[\"path\",{\"d\":\"M8,0 18,0\",\"class\":\"s3\"}]],[\"g\",{\"id\":\"1mz\"},[\"path\",{\"d\":\"m0,0 3,0 c 7,10 12,10 17,10\",\"class\":\"s1\"}]],[\"g\",{\"id\":\"xxx\"},[\"path\",{\"d\":\"m0,20 20,0\",\"class\":\"s1\"}],[\"path\",{\"d\":\"M0,0 20,0\",\"class\":\"s1\"}],[\"path\",{\"d\":\"M0,5 5,0\",\"class\":\"s2\"}],[\"path\",{\"d\":\"M0,10 10,0\",\"class\":\"s2\"}],[\"path\",{\"d\":\"M0,15 15,0\",\"class\":\"s2\"}],[\"path\",{\"d\":\"M0,20 20,0\",\"class\":\"s2\"}],[\"path\",{\"d\":\"M5,20 20,5\",\"class\":\"s2\"}],[\"path\",{\"d\":\"M10,20 20,10\",\"class\":\"s2\"}],[\"path\",{\"d\":\"m15,20 5,-5\",\"class\":\"s2\"}]],[\"g\",{\"id\":\"xm0\"},[\"path\",{\"d\":\"M0,0 4,0 9,20\",\"class\":\"s1\"}],[\"path\",{\"d\":\"m0,20 20,0\",\"class\":\"s1\"}],[\"path\",{\"d\":\"M0,5 4,1\",\"class\":\"s2\"}],[\"path\",{\"d\":\"M0,10 5,5\",\"class\":\"s2\"}],[\"path\",{\"d\":\"M0,15 6,9\",\"class\":\"s2\"}],[\"path\",{\"d\":\"M0,20 7,13\",\"class\":\"s2\"}],[\"path\",{\"d\":\"M5,20 8,17\",\"class\":\"s2\"}]],[\"g\",{\"id\":\"xm1\"},[\"path\",{\"d\":\"M0,0 20,0\",\"class\":\"s1\"}],[\"path\",{\"d\":\"M0,20 4,20 9,0\",\"class\":\"s1\"}],[\"path\",{\"d\":\"M0,5 5,0\",\"class\":\"s2\"}],[\"path\",{\"d\":\"M0,10 9,1\",\"class\":\"s2\"}],[\"path\",{\"d\":\"M0,15 7,8\",\"class\":\"s2\"}],[\"path\",{\"d\":\"M0,20 5,15\",\"class\":\"s2\"}]],[\"g\",{\"id\":\"xmx\"},[\"path\",{\"d\":\"m0,20 20,0\",\"class\":\"s1\"}],[\"path\",{\"d\":\"M0,0 20,0\",\"class\":\"s1\"}],[\"path\",{\"d\":\"M0,5 5,0\",\"class\":\"s2\"}],[\"path\",{\"d\":\"M0,10 10,0\",\"class\":\"s2\"}],[\"path\",{\"d\":\"M0,15 15,0\",\"class\":\"s2\"}],[\"path\",{\"d\":\"M0,20 20,0\",\"class\":\"s2\"}],[\"path\",{\"d\":\"M5,20 20,5\",\"class\":\"s2\"}],[\"path\",{\"d\":\"M10,20 20,10\",\"class\":\"s2\"}],[\"path\",{\"d\":\"m15,20 5,-5\",\"class\":\"s2\"}]],[\"g\",{\"id\":\"xmd\"},[\"path\",{\"d\":\"m0,0 4,0 c 3,10 6,20 16,20\",\"class\":\"s1\"}],[\"path\",{\"d\":\"m0,20 20,0\",\"class\":\"s1\"}],[\"path\",{\"d\":\"M0,5 4,1\",\"class\":\"s2\"}],[\"path\",{\"d\":\"M0,10 5.5,4.5\",\"class\":\"s2\"}],[\"path\",{\"d\":\"M0,15 6.5,8.5\",\"class\":\"s2\"}],[\"path\",{\"d\":\"M0,20 8,12\",\"class\":\"s2\"}],[\"path\",{\"d\":\"m5,20 5,-5\",\"class\":\"s2\"}],[\"path\",{\"d\":\"m10,20 2.5,-2.5\",\"class\":\"s2\"}]],[\"g\",{\"id\":\"xmu\"},[\"path\",{\"d\":\"M0,0 20,0\",\"class\":\"s1\"}],[\"path\",{\"d\":\"m0,20 4,0 C 7,10 10,0 20,0\",\"class\":\"s1\"}],[\"path\",{\"d\":\"M0,5 5,0\",\"class\":\"s2\"}],[\"path\",{\"d\":\"M0,10 10,0\",\"class\":\"s2\"}],[\"path\",{\"d\":\"M0,15 10,5\",\"class\":\"s2\"}],[\"path\",{\"d\":\"M0,20 6,14\",\"class\":\"s2\"}]],[\"g\",{\"id\":\"xmz\"},[\"path\",{\"d\":\"m0,0 4,0 c 6,10 11,10 16,10\",\"class\":\"s1\"}],[\"path\",{\"d\":\"m0,20 4,0 C 10,10 15,10 20,10\",\"class\":\"s1\"}],[\"path\",{\"d\":\"M0,5 4.5,0.5\",\"class\":\"s2\"}],[\"path\",{\"d\":\"M0,10 6.5,3.5\",\"class\":\"s2\"}],[\"path\",{\"d\":\"M0,15 8.5,6.5\",\"class\":\"s2\"}],[\"path\",{\"d\":\"M0,20 11.5,8.5\",\"class\":\"s2\"}]],[\"g\",{\"id\":\"ddd\"},[\"path\",{\"d\":\"m0,20 20,0\",\"class\":\"s3\"}]],[\"g\",{\"id\":\"dm0\"},[\"path\",{\"d\":\"m0,20 10,0\",\"class\":\"s3\"}],[\"path\",{\"d\":\"m12,20 8,0\",\"class\":\"s1\"}]],[\"g\",{\"id\":\"dm1\"},[\"path\",{\"d\":\"M0,20 3,20 9,0 20,0\",\"class\":\"s1\"}]],[\"g\",{\"id\":\"dmx\"},[\"path\",{\"d\":\"M3,20 9,0 20,0\",\"class\":\"s1\"}],[\"path\",{\"d\":\"m20,15 -5,5\",\"class\":\"s2\"}],[\"path\",{\"d\":\"M20,10 10,20\",\"class\":\"s2\"}],[\"path\",{\"d\":\"M20,5 5,20\",\"class\":\"s2\"}],[\"path\",{\"d\":\"M20,0 4,16\",\"class\":\"s2\"}],[\"path\",{\"d\":\"M15,0 6,9\",\"class\":\"s2\"}],[\"path\",{\"d\":\"M10,0 9,1\",\"class\":\"s2\"}],[\"path\",{\"d\":\"m0,20 20,0\",\"class\":\"s1\"}]],[\"g\",{\"id\":\"dmd\"},[\"path\",{\"d\":\"m0,20 20,0\",\"class\":\"s3\"}]],[\"g\",{\"id\":\"dmu\"},[\"path\",{\"d\":\"m0,20 3,0 C 7,10 10.107603,0 20,0\",\"class\":\"s1\"}]],[\"g\",{\"id\":\"dmz\"},[\"path\",{\"d\":\"m0,20 3,0 C 10,10 15,10 20,10\",\"class\":\"s1\"}]],[\"g\",{\"id\":\"uuu\"},[\"path\",{\"d\":\"M0,0 20,0\",\"class\":\"s3\"}]],[\"g\",{\"id\":\"um0\"},[\"path\",{\"d\":\"m0,0 3,0 6,20 11,0\",\"class\":\"s1\"}]],[\"g\",{\"id\":\"um1\"},[\"path\",{\"d\":\"M0,0 10,0\",\"class\":\"s3\"}],[\"path\",{\"d\":\"m12,0 8,0\",\"class\":\"s1\"}]],[\"g\",{\"id\":\"umx\"},[\"path\",{\"d\":\"m3,0 6,20 11,0\",\"class\":\"s1\"}],[\"path\",{\"d\":\"M0,0 20,0\",\"class\":\"s1\"}],[\"path\",{\"d\":\"m20,15 -5,5\",\"class\":\"s2\"}],[\"path\",{\"d\":\"M20,10 10,20\",\"class\":\"s2\"}],[\"path\",{\"d\":\"M20,5 8,17\",\"class\":\"s2\"}],[\"path\",{\"d\":\"M20,0 7,13\",\"class\":\"s2\"}],[\"path\",{\"d\":\"M15,0 6,9\",\"class\":\"s2\"}],[\"path\",{\"d\":\"M10,0 5,5\",\"class\":\"s2\"}],[\"path\",{\"d\":\"M3.5,1.5 5,0\",\"class\":\"s2\"}]],[\"g\",{\"id\":\"umd\"},[\"path\",{\"d\":\"m0,0 3,0 c 4,10 7,20 17,20\",\"class\":\"s1\"}]],[\"g\",{\"id\":\"umu\"},[\"path\",{\"d\":\"M0,0 20,0\",\"class\":\"s3\"}]],[\"g\",{\"id\":\"umz\"},[\"path\",{\"d\":\"m0,0 3,0 c 7,10 12,10 17,10\",\"class\":\"s4\"}]],[\"g\",{\"id\":\"zzz\"},[\"path\",{\"d\":\"m0,10 20,0\",\"class\":\"s1\"}]],[\"g\",{\"id\":\"zm0\"},[\"path\",{\"d\":\"m0,10 6,0 3,10 11,0\",\"class\":\"s1\"}]],[\"g\",{\"id\":\"zm1\"},[\"path\",{\"d\":\"M0,10 6,10 9,0 20,0\",\"class\":\"s1\"}]],[\"g\",{\"id\":\"zmx\"},[\"path\",{\"d\":\"m6,10 3,10 11,0\",\"class\":\"s1\"}],[\"path\",{\"d\":\"M0,10 6,10 9,0 20,0\",\"class\":\"s1\"}],[\"path\",{\"d\":\"m20,15 -5,5\",\"class\":\"s2\"}],[\"path\",{\"d\":\"M20,10 10,20\",\"class\":\"s2\"}],[\"path\",{\"d\":\"M20,5 8,17\",\"class\":\"s2\"}],[\"path\",{\"d\":\"M20,0 7,13\",\"class\":\"s2\"}],[\"path\",{\"d\":\"M15,0 6.5,8.5\",\"class\":\"s2\"}],[\"path\",{\"d\":\"M10,0 9,1\",\"class\":\"s2\"}]],[\"g\",{\"id\":\"zmd\"},[\"path\",{\"d\":\"m0,10 7,0 c 3,5 8,10 13,10\",\"class\":\"s1\"}]],[\"g\",{\"id\":\"zmu\"},[\"path\",{\"d\":\"m0,10 7,0 C 10,5 15,0 20,0\",\"class\":\"s1\"}]],[\"g\",{\"id\":\"zmz\"},[\"path\",{\"d\":\"m0,10 20,0\",\"class\":\"s1\"}]],[\"g\",{\"id\":\"gap\"},[\"path\",{\"d\":\"m7,-2 -4,0 c -5,0 -5,24 -10,24 l 4,0 C 2,22 2,-2 7,-2 z\",\"class\":\"s5\"}],[\"path\",{\"d\":\"M-7,22 C -2,22 -2,-2 3,-2\",\"class\":\"s1\"}],[\"path\",{\"d\":\"M-3,22 C 2,22 2,-2 7,-2\",\"class\":\"s1\"}]],[\"g\",{\"id\":\"0mv-3\"},[\"path\",{\"d\":\"M9,0 20,0 20,20 3,20 z\",\"class\":\"s6\"}],[\"path\",{\"d\":\"M3,20 9,0 20,0\",\"class\":\"s1\"}],[\"path\",{\"d\":\"m0,20 20,0\",\"class\":\"s1\"}]],[\"g\",{\"id\":\"1mv-3\"},[\"path\",{\"d\":\"M2.875,0 20,0 20,20 9,20 z\",\"class\":\"s6\"}],[\"path\",{\"d\":\"m3,0 6,20 11,0\",\"class\":\"s1\"}],[\"path\",{\"d\":\"M0,0 20,0\",\"class\":\"s1\"}]],[\"g\",{\"id\":\"xmv-3\"},[\"path\",{\"d\":\"M9,0 20,0 20,20 9,20 6,10 z\",\"class\":\"s6\"}],[\"path\",{\"d\":\"M0,20 3,20 9,0 20,0\",\"class\":\"s1\"}],[\"path\",{\"d\":\"m0,0 3,0 6,20 11,0\",\"class\":\"s1\"}],[\"path\",{\"d\":\"M0,5 3.5,1.5\",\"class\":\"s2\"}],[\"path\",{\"d\":\"M0,10 4.5,5.5\",\"class\":\"s2\"}],[\"path\",{\"d\":\"M0,15 6,9\",\"class\":\"s2\"}],[\"path\",{\"d\":\"M0,20 4,16\",\"class\":\"s2\"}]],[\"g\",{\"id\":\"dmv-3\"},[\"path\",{\"d\":\"M9,0 20,0 20,20 3,20 z\",\"class\":\"s6\"}],[\"path\",{\"d\":\"M3,20 9,0 20,0\",\"class\":\"s1\"}],[\"path\",{\"d\":\"m0,20 20,0\",\"class\":\"s1\"}]],[\"g\",{\"id\":\"umv-3\"},[\"path\",{\"d\":\"M3,0 20,0 20,20 9,20 z\",\"class\":\"s6\"}],[\"path\",{\"d\":\"m3,0 6,20 11,0\",\"class\":\"s1\"}],[\"path\",{\"d\":\"M0,0 20,0\",\"class\":\"s1\"}]],[\"g\",{\"id\":\"zmv-3\"},[\"path\",{\"d\":\"M9,0 20,0 20,20 9,20 6,10 z\",\"class\":\"s6\"}],[\"path\",{\"d\":\"m6,10 3,10 11,0\",\"class\":\"s1\"}],[\"path\",{\"d\":\"M0,10 6,10 9,0 20,0\",\"class\":\"s1\"}]],[\"g\",{\"id\":\"vvv-3\"},[\"path\",{\"d\":\"M20,20 0,20 0,0 20,0\",\"class\":\"s6\"}],[\"path\",{\"d\":\"m0,20 20,0\",\"class\":\"s1\"}],[\"path\",{\"d\":\"M0,0 20,0\",\"class\":\"s1\"}]],[\"g\",{\"id\":\"vm0-3\"},[\"path\",{\"d\":\"M0,20 0,0 3,0 9,20\",\"class\":\"s6\"}],[\"path\",{\"d\":\"M0,0 3,0 9,20\",\"class\":\"s1\"}],[\"path\",{\"d\":\"m0,20 20,0\",\"class\":\"s1\"}]],[\"g\",{\"id\":\"vm1-3\"},[\"path\",{\"d\":\"M0,0 0,20 3,20 9,0\",\"class\":\"s6\"}],[\"path\",{\"d\":\"M0,0 20,0\",\"class\":\"s1\"}],[\"path\",{\"d\":\"M0,20 3,20 9,0\",\"class\":\"s1\"}]],[\"g\",{\"id\":\"vmx-3\"},[\"path\",{\"d\":\"M0,0 0,20 3,20 6,10 3,0\",\"class\":\"s6\"}],[\"path\",{\"d\":\"m0,0 3,0 6,20 11,0\",\"class\":\"s1\"}],[\"path\",{\"d\":\"M0,20 3,20 9,0 20,0\",\"class\":\"s1\"}],[\"path\",{\"d\":\"m20,15 -5,5\",\"class\":\"s2\"}],[\"path\",{\"d\":\"M20,10 10,20\",\"class\":\"s2\"}],[\"path\",{\"d\":\"M20,5 8,17\",\"class\":\"s2\"}],[\"path\",{\"d\":\"M20,0 7,13\",\"class\":\"s2\"}],[\"path\",{\"d\":\"M15,0 7,8\",\"class\":\"s2\"}],[\"path\",{\"d\":\"M10,0 9,1\",\"class\":\"s2\"}]],[\"g\",{\"id\":\"vmd-3\"},[\"path\",{\"d\":\"m0,0 0,20 20,0 C 10,20 7,10 3,0\",\"class\":\"s6\"}],[\"path\",{\"d\":\"m0,0 3,0 c 4,10 7,20 17,20\",\"class\":\"s1\"}],[\"path\",{\"d\":\"m0,20 20,0\",\"class\":\"s1\"}]],[\"g\",{\"id\":\"vmu-3\"},[\"path\",{\"d\":\"m0,0 0,20 3,0 C 7,10 10,0 20,0\",\"class\":\"s6\"}],[\"path\",{\"d\":\"m0,20 3,0 C 7,10 10,0 20,0\",\"class\":\"s1\"}],[\"path\",{\"d\":\"M0,0 20,0\",\"class\":\"s1\"}]],[\"g\",{\"id\":\"vmz-3\"},[\"path\",{\"d\":\"M0,0 3,0 C 10,10 15,10 20,10 15,10 10,10 3,20 L 0,20\",\"class\":\"s6\"}],[\"path\",{\"d\":\"m0,0 3,0 c 7,10 12,10 17,10\",\"class\":\"s1\"}],[\"path\",{\"d\":\"m0,20 3,0 C 10,10 15,10 20,10\",\"class\":\"s1\"}]],[\"g\",{\"id\":\"vmv-3-3\"},[\"path\",{\"d\":\"M9,0 20,0 20,20 9,20 6,10 z\",\"class\":\"s6\"}],[\"path\",{\"d\":\"M3,0 0,0 0,20 3,20 6,10 z\",\"class\":\"s6\"}],[\"path\",{\"d\":\"m0,0 3,0 6,20 11,0\",\"class\":\"s1\"}],[\"path\",{\"d\":\"M0,20 3,20 9,0 20,0\",\"class\":\"s1\"}]],[\"g\",{\"id\":\"vmv-3-4\"},[\"path\",{\"d\":\"M9,0 20,0 20,20 9,20 6,10 z\",\"class\":\"s7\"}],[\"path\",{\"d\":\"M3,0 0,0 0,20 3,20 6,10 z\",\"class\":\"s6\"}],[\"path\",{\"d\":\"m0,0 3,0 6,20 11,0\",\"class\":\"s1\"}],[\"path\",{\"d\":\"M0,20 3,20 9,0 20,0\",\"class\":\"s1\"}]],[\"g\",{\"id\":\"vmv-3-5\"},[\"path\",{\"d\":\"M9,0 20,0 20,20 9,20 6,10 z\",\"class\":\"s8\"}],[\"path\",{\"d\":\"M3,0 0,0 0,20 3,20 6,10 z\",\"class\":\"s6\"}],[\"path\",{\"d\":\"m0,0 3,0 6,20 11,0\",\"class\":\"s1\"}],[\"path\",{\"d\":\"M0,20 3,20 9,0 20,0\",\"class\":\"s1\"}]],[\"g\",{\"id\":\"vmv-4-3\"},[\"path\",{\"d\":\"M9,0 20,0 20,20 9,20 6,10 z\",\"class\":\"s6\"}],[\"path\",{\"d\":\"M3,0 0,0 0,20 3,20 6,10 z\",\"class\":\"s7\"}],[\"path\",{\"d\":\"m0,0 3,0 6,20 11,0\",\"class\":\"s1\"}],[\"path\",{\"d\":\"M0,20 3,20 9,0 20,0\",\"class\":\"s1\"}]],[\"g\",{\"id\":\"vmv-4-4\"},[\"path\",{\"d\":\"M9,0 20,0 20,20 9,20 6,10 z\",\"class\":\"s7\"}],[\"path\",{\"d\":\"M3,0 0,0 0,20 3,20 6,10 z\",\"class\":\"s7\"}],[\"path\",{\"d\":\"m0,0 3,0 6,20 11,0\",\"class\":\"s1\"}],[\"path\",{\"d\":\"M0,20 3,20 9,0 20,0\",\"class\":\"s1\"}]],[\"g\",{\"id\":\"vmv-4-5\"},[\"path\",{\"d\":\"M9,0 20,0 20,20 9,20 6,10 z\",\"class\":\"s8\"}],[\"path\",{\"d\":\"M3,0 0,0 0,20 3,20 6,10 z\",\"class\":\"s7\"}],[\"path\",{\"d\":\"m0,0 3,0 6,20 11,0\",\"class\":\"s1\"}],[\"path\",{\"d\":\"M0,20 3,20 9,0 20,0\",\"class\":\"s1\"}]],[\"g\",{\"id\":\"vmv-5-3\"},[\"path\",{\"d\":\"M9,0 20,0 20,20 9,20 6,10 z\",\"class\":\"s6\"}],[\"path\",{\"d\":\"M3,0 0,0 0,20 3,20 6,10 z\",\"class\":\"s8\"}],[\"path\",{\"d\":\"m0,0 3,0 6,20 11,0\",\"class\":\"s1\"}],[\"path\",{\"d\":\"M0,20 3,20 9,0 20,0\",\"class\":\"s1\"}]],[\"g\",{\"id\":\"vmv-5-4\"},[\"path\",{\"d\":\"M9,0 20,0 20,20 9,20 6,10 z\",\"class\":\"s7\"}],[\"path\",{\"d\":\"M3,0 0,0 0,20 3,20 6,10 z\",\"class\":\"s8\"}],[\"path\",{\"d\":\"m0,0 3,0 6,20 11,0\",\"class\":\"s1\"}],[\"path\",{\"d\":\"M0,20 3,20 9,0 20,0\",\"class\":\"s1\"}]],[\"g\",{\"id\":\"vmv-5-5\"},[\"path\",{\"d\":\"M9,0 20,0 20,20 9,20 6,10 z\",\"class\":\"s8\"}],[\"path\",{\"d\":\"M3,0 0,0 0,20 3,20 6,10 z\",\"class\":\"s8\"}],[\"path\",{\"d\":\"m0,0 3,0 6,20 11,0\",\"class\":\"s1\"}],[\"path\",{\"d\":\"M0,20 3,20 9,0 20,0\",\"class\":\"s1\"}]],[\"g\",{\"id\":\"0mv-4\"},[\"path\",{\"d\":\"M9,0 20,0 20,20 3,20 z\",\"class\":\"s7\"}],[\"path\",{\"d\":\"M3,20 9,0 20,0\",\"class\":\"s1\"}],[\"path\",{\"d\":\"m0,20 20,0\",\"class\":\"s1\"}]],[\"g\",{\"id\":\"1mv-4\"},[\"path\",{\"d\":\"M2.875,0 20,0 20,20 9,20 z\",\"class\":\"s7\"}],[\"path\",{\"d\":\"m3,0 6,20 11,0\",\"class\":\"s1\"}],[\"path\",{\"d\":\"M0,0 20,0\",\"class\":\"s1\"}]],[\"g\",{\"id\":\"xmv-4\"},[\"path\",{\"d\":\"M9,0 20,0 20,20 9,20 6,10 z\",\"class\":\"s7\"}],[\"path\",{\"d\":\"M0,20 3,20 9,0 20,0\",\"class\":\"s1\"}],[\"path\",{\"d\":\"m0,0 3,0 6,20 11,0\",\"class\":\"s1\"}],[\"path\",{\"d\":\"M0,5 3.5,1.5\",\"class\":\"s2\"}],[\"path\",{\"d\":\"M0,10 4.5,5.5\",\"class\":\"s2\"}],[\"path\",{\"d\":\"M0,15 6,9\",\"class\":\"s2\"}],[\"path\",{\"d\":\"M0,20 4,16\",\"class\":\"s2\"}]],[\"g\",{\"id\":\"dmv-4\"},[\"path\",{\"d\":\"M9,0 20,0 20,20 3,20 z\",\"class\":\"s7\"}],[\"path\",{\"d\":\"M3,20 9,0 20,0\",\"class\":\"s1\"}],[\"path\",{\"d\":\"m0,20 20,0\",\"class\":\"s1\"}]],[\"g\",{\"id\":\"umv-4\"},[\"path\",{\"d\":\"M3,0 20,0 20,20 9,20 z\",\"class\":\"s7\"}],[\"path\",{\"d\":\"m3,0 6,20 11,0\",\"class\":\"s1\"}],[\"path\",{\"d\":\"M0,0 20,0\",\"class\":\"s1\"}]],[\"g\",{\"id\":\"zmv-4\"},[\"path\",{\"d\":\"M9,0 20,0 20,20 9,20 6,10 z\",\"class\":\"s7\"}],[\"path\",{\"d\":\"m6,10 3,10 11,0\",\"class\":\"s1\"}],[\"path\",{\"d\":\"M0,10 6,10 9,0 20,0\",\"class\":\"s1\"}]],[\"g\",{\"id\":\"0mv-5\"},[\"path\",{\"d\":\"M9,0 20,0 20,20 3,20 z\",\"class\":\"s8\"}],[\"path\",{\"d\":\"M3,20 9,0 20,0\",\"class\":\"s1\"}],[\"path\",{\"d\":\"m0,20 20,0\",\"class\":\"s1\"}]],[\"g\",{\"id\":\"1mv-5\"},[\"path\",{\"d\":\"M2.875,0 20,0 20,20 9,20 z\",\"class\":\"s8\"}],[\"path\",{\"d\":\"m3,0 6,20 11,0\",\"class\":\"s1\"}],[\"path\",{\"d\":\"M0,0 20,0\",\"class\":\"s1\"}]],[\"g\",{\"id\":\"xmv-5\"},[\"path\",{\"d\":\"M9,0 20,0 20,20 9,20 6,10 z\",\"class\":\"s8\"}],[\"path\",{\"d\":\"M0,20 3,20 9,0 20,0\",\"class\":\"s1\"}],[\"path\",{\"d\":\"m0,0 3,0 6,20 11,0\",\"class\":\"s1\"}],[\"path\",{\"d\":\"M0,5 3.5,1.5\",\"class\":\"s2\"}],[\"path\",{\"d\":\"M0,10 4.5,5.5\",\"class\":\"s2\"}],[\"path\",{\"d\":\"M0,15 6,9\",\"class\":\"s2\"}],[\"path\",{\"d\":\"M0,20 4,16\",\"class\":\"s2\"}]],[\"g\",{\"id\":\"dmv-5\"},[\"path\",{\"d\":\"M9,0 20,0 20,20 3,20 z\",\"class\":\"s8\"}],[\"path\",{\"d\":\"M3,20 9,0 20,0\",\"class\":\"s1\"}],[\"path\",{\"d\":\"m0,20 20,0\",\"class\":\"s1\"}]],[\"g\",{\"id\":\"umv-5\"},[\"path\",{\"d\":\"M3,0 20,0 20,20 9,20 z\",\"class\":\"s8\"}],[\"path\",{\"d\":\"m3,0 6,20 11,0\",\"class\":\"s1\"}],[\"path\",{\"d\":\"M0,0 20,0\",\"class\":\"s1\"}]],[\"g\",{\"id\":\"zmv-5\"},[\"path\",{\"d\":\"M9,0 20,0 20,20 9,20 6,10 z\",\"class\":\"s8\"}],[\"path\",{\"d\":\"m6,10 3,10 11,0\",\"class\":\"s1\"}],[\"path\",{\"d\":\"M0,10 6,10 9,0 20,0\",\"class\":\"s1\"}]],[\"g\",{\"id\":\"vvv-4\"},[\"path\",{\"d\":\"M20,20 0,20 0,0 20,0\",\"class\":\"s7\"}],[\"path\",{\"d\":\"m0,20 20,0\",\"class\":\"s1\"}],[\"path\",{\"d\":\"M0,0 20,0\",\"class\":\"s1\"}]],[\"g\",{\"id\":\"vm0-4\"},[\"path\",{\"d\":\"M0,20 0,0 3,0 9,20\",\"class\":\"s7\"}],[\"path\",{\"d\":\"M0,0 3,0 9,20\",\"class\":\"s1\"}],[\"path\",{\"d\":\"m0,20 20,0\",\"class\":\"s1\"}]],[\"g\",{\"id\":\"vm1-4\"},[\"path\",{\"d\":\"M0,0 0,20 3,20 9,0\",\"class\":\"s7\"}],[\"path\",{\"d\":\"M0,0 20,0\",\"class\":\"s1\"}],[\"path\",{\"d\":\"M0,20 3,20 9,0\",\"class\":\"s1\"}]],[\"g\",{\"id\":\"vmx-4\"},[\"path\",{\"d\":\"M0,0 0,20 3,20 6,10 3,0\",\"class\":\"s7\"}],[\"path\",{\"d\":\"m0,0 3,0 6,20 11,0\",\"class\":\"s1\"}],[\"path\",{\"d\":\"M0,20 3,20 9,0 20,0\",\"class\":\"s1\"}],[\"path\",{\"d\":\"m20,15 -5,5\",\"class\":\"s2\"}],[\"path\",{\"d\":\"M20,10 10,20\",\"class\":\"s2\"}],[\"path\",{\"d\":\"M20,5 8,17\",\"class\":\"s2\"}],[\"path\",{\"d\":\"M20,0 7,13\",\"class\":\"s2\"}],[\"path\",{\"d\":\"M15,0 7,8\",\"class\":\"s2\"}],[\"path\",{\"d\":\"M10,0 9,1\",\"class\":\"s2\"}]],[\"g\",{\"id\":\"vmd-4\"},[\"path\",{\"d\":\"m0,0 0,20 20,0 C 10,20 7,10 3,0\",\"class\":\"s7\"}],[\"path\",{\"d\":\"m0,0 3,0 c 4,10 7,20 17,20\",\"class\":\"s1\"}],[\"path\",{\"d\":\"m0,20 20,0\",\"class\":\"s1\"}]],[\"g\",{\"id\":\"vmu-4\"},[\"path\",{\"d\":\"m0,0 0,20 3,0 C 7,10 10,0 20,0\",\"class\":\"s7\"}],[\"path\",{\"d\":\"m0,20 3,0 C 7,10 10,0 20,0\",\"class\":\"s1\"}],[\"path\",{\"d\":\"M0,0 20,0\",\"class\":\"s1\"}]],[\"g\",{\"id\":\"vmz-4\"},[\"path\",{\"d\":\"M0,0 3,0 C 10,10 15,10 20,10 15,10 10,10 3,20 L 0,20\",\"class\":\"s7\"}],[\"path\",{\"d\":\"m0,0 3,0 c 7,10 12,10 17,10\",\"class\":\"s1\"}],[\"path\",{\"d\":\"m0,20 3,0 C 10,10 15,10 20,10\",\"class\":\"s1\"}]],[\"g\",{\"id\":\"vvv-5\"},[\"path\",{\"d\":\"M20,20 0,20 0,0 20,0\",\"class\":\"s8\"}],[\"path\",{\"d\":\"m0,20 20,0\",\"class\":\"s1\"}],[\"path\",{\"d\":\"M0,0 20,0\",\"class\":\"s1\"}]],[\"g\",{\"id\":\"vm0-5\"},[\"path\",{\"d\":\"M0,20 0,0 3,0 9,20\",\"class\":\"s8\"}],[\"path\",{\"d\":\"M0,0 3,0 9,20\",\"class\":\"s1\"}],[\"path\",{\"d\":\"m0,20 20,0\",\"class\":\"s1\"}]],[\"g\",{\"id\":\"vm1-5\"},[\"path\",{\"d\":\"M0,0 0,20 3,20 9,0\",\"class\":\"s8\"}],[\"path\",{\"d\":\"M0,0 20,0\",\"class\":\"s1\"}],[\"path\",{\"d\":\"M0,20 3,20 9,0\",\"class\":\"s1\"}]],[\"g\",{\"id\":\"vmx-5\"},[\"path\",{\"d\":\"M0,0 0,20 3,20 6,10 3,0\",\"class\":\"s8\"}],[\"path\",{\"d\":\"m0,0 3,0 6,20 11,0\",\"class\":\"s1\"}],[\"path\",{\"d\":\"M0,20 3,20 9,0 20,0\",\"class\":\"s1\"}],[\"path\",{\"d\":\"m20,15 -5,5\",\"class\":\"s2\"}],[\"path\",{\"d\":\"M20,10 10,20\",\"class\":\"s2\"}],[\"path\",{\"d\":\"M20,5 8,17\",\"class\":\"s2\"}],[\"path\",{\"d\":\"M20,0 7,13\",\"class\":\"s2\"}],[\"path\",{\"d\":\"M15,0 7,8\",\"class\":\"s2\"}],[\"path\",{\"d\":\"M10,0 9,1\",\"class\":\"s2\"}]],[\"g\",{\"id\":\"vmd-5\"},[\"path\",{\"d\":\"m0,0 0,20 20,0 C 10,20 7,10 3,0\",\"class\":\"s8\"}],[\"path\",{\"d\":\"m0,0 3,0 c 4,10 7,20 17,20\",\"class\":\"s1\"}],[\"path\",{\"d\":\"m0,20 20,0\",\"class\":\"s1\"}]],[\"g\",{\"id\":\"vmu-5\"},[\"path\",{\"d\":\"m0,0 0,20 3,0 C 7,10 10,0 20,0\",\"class\":\"s8\"}],[\"path\",{\"d\":\"m0,20 3,0 C 7,10 10,0 20,0\",\"class\":\"s1\"}],[\"path\",{\"d\":\"M0,0 20,0\",\"class\":\"s1\"}]],[\"g\",{\"id\":\"vmz-5\"},[\"path\",{\"d\":\"M0,0 3,0 C 10,10 15,10 20,10 15,10 10,10 3,20 L 0,20\",\"class\":\"s8\"}],[\"path\",{\"d\":\"m0,0 3,0 c 7,10 12,10 17,10\",\"class\":\"s1\"}],[\"path\",{\"d\":\"m0,20 3,0 C 10,10 15,10 20,10\",\"class\":\"s1\"}]],[\"g\",{\"id\":\"Pclk\"},[\"path\",{\"d\":\"M-3,12 0,3 3,12 C 1,11 -1,11 -3,12 z\",\"class\":\"s9\"}],[\"path\",{\"d\":\"M0,20 0,0 20,0\",\"class\":\"s1\"}]],[\"g\",{\"id\":\"Nclk\"},[\"path\",{\"d\":\"M-3,8 0,17 3,8 C 1,9 -1,9 -3,8 z\",\"class\":\"s9\"}],[\"path\",{\"d\":\"m0,0 0,20 20,0\",\"class\":\"s1\"}]],[\"g\",{\"id\":\"vvv-2\"},[\"path\",{\"d\":\"M20,20 0,20 0,0 20,0\",\"class\":\"s10\"}],[\"path\",{\"d\":\"m0,20 20,0\",\"class\":\"s1\"}],[\"path\",{\"d\":\"M0,0 20,0\",\"class\":\"s1\"}]],[\"g\",{\"id\":\"vm0-2\"},[\"path\",{\"d\":\"M0,20 0,0 3,0 9,20\",\"class\":\"s10\"}],[\"path\",{\"d\":\"M0,0 3,0 9,20\",\"class\":\"s1\"}],[\"path\",{\"d\":\"m0,20 20,0\",\"class\":\"s1\"}]],[\"g\",{\"id\":\"vm1-2\"},[\"path\",{\"d\":\"M0,0 0,20 3,20 9,0\",\"class\":\"s10\"}],[\"path\",{\"d\":\"M0,0 20,0\",\"class\":\"s1\"}],[\"path\",{\"d\":\"M0,20 3,20 9,0\",\"class\":\"s1\"}]],[\"g\",{\"id\":\"vmx-2\"},[\"path\",{\"d\":\"M0,0 0,20 3,20 6,10 3,0\",\"class\":\"s10\"}],[\"path\",{\"d\":\"m0,0 3,0 6,20 11,0\",\"class\":\"s1\"}],[\"path\",{\"d\":\"M0,20 3,20 9,0 20,0\",\"class\":\"s1\"}],[\"path\",{\"d\":\"m20,15 -5,5\",\"class\":\"s2\"}],[\"path\",{\"d\":\"M20,10 10,20\",\"class\":\"s2\"}],[\"path\",{\"d\":\"M20,5 8,17\",\"class\":\"s2\"}],[\"path\",{\"d\":\"M20,0 7,13\",\"class\":\"s2\"}],[\"path\",{\"d\":\"M15,0 7,8\",\"class\":\"s2\"}],[\"path\",{\"d\":\"M10,0 9,1\",\"class\":\"s2\"}]],[\"g\",{\"id\":\"vmd-2\"},[\"path\",{\"d\":\"m0,0 0,20 20,0 C 10,20 7,10 3,0\",\"class\":\"s10\"}],[\"path\",{\"d\":\"m0,0 3,0 c 4,10 7,20 17,20\",\"class\":\"s1\"}],[\"path\",{\"d\":\"m0,20 20,0\",\"class\":\"s1\"}]],[\"g\",{\"id\":\"vmu-2\"},[\"path\",{\"d\":\"m0,0 0,20 3,0 C 7,10 10,0 20,0\",\"class\":\"s10\"}],[\"path\",{\"d\":\"m0,20 3,0 C 7,10 10,0 20,0\",\"class\":\"s1\"}],[\"path\",{\"d\":\"M0,0 20,0\",\"class\":\"s1\"}]],[\"g\",{\"id\":\"vmz-2\"},[\"path\",{\"d\":\"M0,0 3,0 C 10,10 15,10 20,10 15,10 10,10 3,20 L 0,20\",\"class\":\"s10\"}],[\"path\",{\"d\":\"m0,0 3,0 c 7,10 12,10 17,10\",\"class\":\"s1\"}],[\"path\",{\"d\":\"m0,20 3,0 C 10,10 15,10 20,10\",\"class\":\"s1\"}]],[\"g\",{\"id\":\"0mv-2\"},[\"path\",{\"d\":\"M9,0 20,0 20,20 3,20 z\",\"class\":\"s10\"}],[\"path\",{\"d\":\"M3,20 9,0 20,0\",\"class\":\"s1\"}],[\"path\",{\"d\":\"m0,20 20,0\",\"class\":\"s1\"}]],[\"g\",{\"id\":\"1mv-2\"},[\"path\",{\"d\":\"M2.875,0 20,0 20,20 9,20 z\",\"class\":\"s10\"}],[\"path\",{\"d\":\"m3,0 6,20 11,0\",\"class\":\"s1\"}],[\"path\",{\"d\":\"M0,0 20,0\",\"class\":\"s1\"}]],[\"g\",{\"id\":\"xmv-2\"},[\"path\",{\"d\":\"M9,0 20,0 20,20 9,20 6,10 z\",\"class\":\"s10\"}],[\"path\",{\"d\":\"M0,20 3,20 9,0 20,0\",\"class\":\"s1\"}],[\"path\",{\"d\":\"m0,0 3,0 6,20 11,0\",\"class\":\"s1\"}],[\"path\",{\"d\":\"M0,5 3.5,1.5\",\"class\":\"s2\"}],[\"path\",{\"d\":\"M0,10 4.5,5.5\",\"class\":\"s2\"}],[\"path\",{\"d\":\"M0,15 6,9\",\"class\":\"s2\"}],[\"path\",{\"d\":\"M0,20 4,16\",\"class\":\"s2\"}]],[\"g\",{\"id\":\"dmv-2\"},[\"path\",{\"d\":\"M9,0 20,0 20,20 3,20 z\",\"class\":\"s10\"}],[\"path\",{\"d\":\"M3,20 9,0 20,0\",\"class\":\"s1\"}],[\"path\",{\"d\":\"m0,20 20,0\",\"class\":\"s1\"}]],[\"g\",{\"id\":\"umv-2\"},[\"path\",{\"d\":\"M3,0 20,0 20,20 9,20 z\",\"class\":\"s10\"}],[\"path\",{\"d\":\"m3,0 6,20 11,0\",\"class\":\"s1\"}],[\"path\",{\"d\":\"M0,0 20,0\",\"class\":\"s1\"}]],[\"g\",{\"id\":\"zmv-2\"},[\"path\",{\"d\":\"M9,0 20,0 20,20 9,20 6,10 z\",\"class\":\"s10\"}],[\"path\",{\"d\":\"m6,10 3,10 11,0\",\"class\":\"s1\"}],[\"path\",{\"d\":\"M0,10 6,10 9,0 20,0\",\"class\":\"s1\"}]],[\"g\",{\"id\":\"vmv-3-2\"},[\"path\",{\"d\":\"M9,0 20,0 20,20 9,20 6,10 z\",\"class\":\"s10\"}],[\"path\",{\"d\":\"M3,0 0,0 0,20 3,20 6,10 z\",\"class\":\"s6\"}],[\"path\",{\"d\":\"m0,0 3,0 6,20 11,0\",\"class\":\"s1\"}],[\"path\",{\"d\":\"M0,20 3,20 9,0 20,0\",\"class\":\"s1\"}]],[\"g\",{\"id\":\"vmv-4-2\"},[\"path\",{\"d\":\"M9,0 20,0 20,20 9,20 6,10 z\",\"class\":\"s10\"}],[\"path\",{\"d\":\"M3,0 0,0 0,20 3,20 6,10 z\",\"class\":\"s7\"}],[\"path\",{\"d\":\"m0,0 3,0 6,20 11,0\",\"class\":\"s1\"}],[\"path\",{\"d\":\"M0,20 3,20 9,0 20,0\",\"class\":\"s1\"}]],[\"g\",{\"id\":\"vmv-5-2\"},[\"path\",{\"d\":\"M9,0 20,0 20,20 9,20 6,10 z\",\"class\":\"s10\"}],[\"path\",{\"d\":\"M3,0 0,0 0,20 3,20 6,10 z\",\"class\":\"s8\"}],[\"path\",{\"d\":\"m0,0 3,0 6,20 11,0\",\"class\":\"s1\"}],[\"path\",{\"d\":\"M0,20 3,20 9,0 20,0\",\"class\":\"s1\"}]],[\"g\",{\"id\":\"vmv-2-3\"},[\"path\",{\"d\":\"M9,0 20,0 20,20 9,20 6,10 z\",\"class\":\"s6\"}],[\"path\",{\"d\":\"M3,0 0,0 0,20 3,20 6,10 z\",\"class\":\"s10\"}],[\"path\",{\"d\":\"m0,0 3,0 6,20 11,0\",\"class\":\"s1\"}],[\"path\",{\"d\":\"M0,20 3,20 9,0 20,0\",\"class\":\"s1\"}]],[\"g\",{\"id\":\"vmv-2-4\"},[\"path\",{\"d\":\"M9,0 20,0 20,20 9,20 6,10 z\",\"class\":\"s7\"}],[\"path\",{\"d\":\"M3,0 0,0 0,20 3,20 6,10 z\",\"class\":\"s10\"}],[\"path\",{\"d\":\"m0,0 3,0 6,20 11,0\",\"class\":\"s1\"}],[\"path\",{\"d\":\"M0,20 3,20 9,0 20,0\",\"class\":\"s1\"}]],[\"g\",{\"id\":\"vmv-2-5\"},[\"path\",{\"d\":\"M9,0 20,0 20,20 9,20 6,10 z\",\"class\":\"s8\"}],[\"path\",{\"d\":\"M3,0 0,0 0,20 3,20 6,10 z\",\"class\":\"s10\"}],[\"path\",{\"d\":\"m0,0 3,0 6,20 11,0\",\"class\":\"s1\"}],[\"path\",{\"d\":\"M0,20 3,20 9,0 20,0\",\"class\":\"s1\"}]],[\"g\",{\"id\":\"vmv-2-2\"},[\"path\",{\"d\":\"M9,0 20,0 20,20 9,20 6,10 z\",\"class\":\"s10\"}],[\"path\",{\"d\":\"M3,0 0,0 0,20 3,20 6,10 z\",\"class\":\"s10\"}],[\"path\",{\"d\":\"m0,0 3,0 6,20 11,0\",\"class\":\"s1\"}],[\"path\",{\"d\":\"M0,20 3,20 9,0 20,0\",\"class\":\"s1\"}]],[\"g\",{\"id\":\"arrow0\"},[\"path\",{\"d\":\"m-12,-3 9,3 -9,3 c 1,-2 1,-4 0,-6 z\",\"class\":\"s11\"}],[\"path\",{\"d\":\"M0,0 -15,0\",\"class\":\"s12\"}]],[\"marker\",{\"id\":\"arrowhead\",\"style\":\"fill:#0041c4\",\"markerHeight\":\"7\",\"markerWidth\":\"10\",\"markerUnits\":\"strokeWidth\",\"viewBox\":\"0 -4 11 8\",\"refX\":\"15\",\"refY\":\"0\",\"orient\":\"auto\"},[\"path\",{\"d\":\"M0 -4 11 0 0 4z\"}]],[\"marker\",{\"id\":\"arrowtail\",\"style\":\"fill:#0041c4\",\"markerHeight\":\"7\",\"markerWidth\":\"10\",\"markerUnits\":\"strokeWidth\",\"viewBox\":\"-11 -4 11 8\",\"refX\":\"-15\",\"refY\":\"0\",\"orient\":\"auto\"},[\"path\",{\"d\":\"M0 -4 -11 0 0 4z\"}]]],[\"g\",{\"id\":\"waves\"},[\"g\",{\"id\":\"lanes\"}],[\"g\",{\"id\":\"groups\"}]]];\n",
       "</script><script>/*! wavedrom 2016-07-28 */\n",
       "!function a(b,c,d){function e(g,h){if(!c[g]){if(!b[g]){var i=\"function\"==typeof require&&require;if(!h&&i)return i(g,!0);if(f)return f(g,!0);var j=new Error(\"Cannot find module '\"+g+\"'\");throw j.code=\"MODULE_NOT_FOUND\",j}var k=c[g]={exports:{}};b[g][0].call(k.exports,function(a){var c=b[g][1][a];return e(c?c:a)},k,k.exports,a,b,c,d)}return c[g].exports}for(var f=\"function\"==typeof require&&require,g=0;g<d.length;g++)e(d[g]);return e}({1:[function(a,b,c){\"use strict\";function d(a,b){function c(a){var b=parseInt(e.style.left,10),d=parseInt(e.style.top,10);(a.x<b||a.x>b+e.offsetWidth||a.y<d||a.y>d+e.offsetHeight)&&(e.parentNode.removeChild(e),document.body.removeEventListener(\"mousedown\",c,!1))}var d,e;d=document.getElementById(b+a),d.childNodes[0].addEventListener(\"contextmenu\",function(f){var g,h,i;e=document.createElement(\"div\"),e.className=\"wavedromMenu\",e.style.top=f.y+\"px\",e.style.left=f.x+\"px\",g=document.createElement(\"ul\"),h=document.createElement(\"li\"),h.innerHTML=\"Save as PNG\",g.appendChild(h),i=document.createElement(\"li\"),i.innerHTML=\"Save as SVG\",g.appendChild(i),e.appendChild(g),document.body.appendChild(e),h.addEventListener(\"click\",function(){var f,g,h,i,j,k,l,m;f=\"\",0!==a&&(g=document.getElementById(b+0),f+=g.innerHTML.substring(166,g.innerHTML.indexOf('<g id=\"waves_0\">'))),f=[d.innerHTML.slice(0,166),f,d.innerHTML.slice(166)].join(\"\"),h=\"data:image/svg+xml;base64,\"+btoa(f),i=new Image,i.src=h,j=document.createElement(\"canvas\"),j.width=i.width,j.height=i.height,k=j.getContext(\"2d\"),k.drawImage(i,0,0),l=j.toDataURL(\"image/png\"),m=document.createElement(\"a\"),m.href=l,m.download=\"wavedrom.png\",m.click(),e.parentNode.removeChild(e),document.body.removeEventListener(\"mousedown\",c,!1)},!1),i.addEventListener(\"click\",function(){var f,g,h,i;f=\"\",0!==a&&(g=document.getElementById(b+0),f+=g.innerHTML.substring(166,g.innerHTML.indexOf('<g id=\"waves_0\">'))),f=[d.innerHTML.slice(0,166),f,d.innerHTML.slice(166)].join(\"\"),h=\"data:image/svg+xml;base64,\"+btoa(f),i=document.createElement(\"a\"),i.href=h,i.download=\"wavedrom.svg\",i.click(),e.parentNode.removeChild(e),document.body.removeEventListener(\"mousedown\",c,!1)},!1),e.addEventListener(\"contextmenu\",function(a){a.preventDefault()},!1),document.body.addEventListener(\"mousedown\",c,!1),f.preventDefault()},!1)}b.exports=d},{}],2:[function(a,b,c){\"use strict\";var d=a(\"./jsonml-parse\");b.exports=d},{\"./jsonml-parse\":15}],3:[function(a,b,c){\"use strict\";function d(){f(0,e(\"InputJSON_0\"),\"WaveDrom_Display_\")}var e=a(\"./eva\"),f=a(\"./render-wave-form\");b.exports=d},{\"./eva\":4,\"./render-wave-form\":28}],4:[function(require,module,exports){\"use strict\";function eva(id){function erra(a){return{signal:[{name:[\"tspan\",[\"tspan\",{class:\"error h5\"},\"Error: \"],a.message]}]}}var TheTextBox,source;if(TheTextBox=document.getElementById(id),TheTextBox.type&&\"textarea\"===TheTextBox.type)try{source=eval(\"(\"+TheTextBox.value+\")\")}catch(a){return erra(a)}else try{source=eval(\"(\"+TheTextBox.innerHTML+\")\")}catch(a){return erra(a)}if(\"[object Object]\"!==Object.prototype.toString.call(source))return erra({message:'[Semantic]: The root has to be an Object: \"{signal:[...]}\"'});if(source.signal){if(\"[object Array]\"!==Object.prototype.toString.call(source.signal))return erra({message:'[Semantic]: \"signal\" object has to be an Array \"signal:[]\"'})}else{if(!source.assign)return erra({message:'[Semantic]: \"signal:[...]\" or \"assign:[...]\" property is missing inside the root Object'});if(\"[object Array]\"!==Object.prototype.toString.call(source.assign))return erra({message:'[Semantic]: \"assign\" object hasto be an Array \"assign:[]\"'})}return source}module.exports=eva},{}],5:[function(a,b,c){\"use strict\";function d(a){var b=0,c=0,d=[];return a.forEach(function(a){\"vvv-2\"===a||\"vvv-3\"===a||\"vvv-4\"===a||\"vvv-5\"===a?c+=1:0!==c&&(d.push(b-(c+1)/2),c=0),b+=1}),0!==c&&d.push(b-(c+1)/2),d}b.exports=d},{}],6:[function(a,b,c){\"use strict\";function d(a,b,c){var d,e,f=[];if(4===a.length){for(e=0;e<c;e+=1){for(f.push(a[0]),d=0;d<b;d+=1)f.push(a[1]);for(f.push(a[2]),d=0;d<b;d+=1)f.push(a[3])}return f}for(1===a.length&&a.push(a[0]),f.push(a[0]),d=0;d<c*(2*(b+1))-1;d+=1)f.push(a[1]);return f}b.exports=d},{}],7:[function(a,b,c){\"use strict\";function d(a,b,c){var d;switch(d=[],a){case\"p\":d=e([\"pclk\",\"111\",\"nclk\",\"000\"],b,c);break;case\"n\":d=e([\"nclk\",\"000\",\"pclk\",\"111\"],b,c);break;case\"P\":d=e([\"Pclk\",\"111\",\"nclk\",\"000\"],b,c);break;case\"N\":d=e([\"Nclk\",\"000\",\"pclk\",\"111\"],b,c);break;case\"l\":case\"L\":case\"0\":d=e([\"000\"],b,c);break;case\"h\":case\"H\":case\"1\":d=e([\"111\"],b,c);break;case\"=\":d=e([\"vvv-2\"],b,c);break;case\"2\":d=e([\"vvv-2\"],b,c);break;case\"3\":d=e([\"vvv-3\"],b,c);break;case\"4\":d=e([\"vvv-4\"],b,c);break;case\"5\":d=e([\"vvv-5\"],b,c);break;case\"d\":d=e([\"ddd\"],b,c);break;case\"u\":d=e([\"uuu\"],b,c);break;case\"z\":d=e([\"zzz\"],b,c);break;default:d=e([\"xxx\"],b,c)}return d}var e=a(\"./gen-brick\");b.exports=d},{\"./gen-brick\":6}],8:[function(a,b,c){\"use strict\";function d(a,b,c){var d,f,g,h,i,j,k,l,m,n,o,p,q,r,s;return d={p:\"pclk\",n:\"nclk\",P:\"Pclk\",N:\"Nclk\",h:\"pclk\",l:\"nclk\",H:\"Pclk\",L:\"Nclk\"},f={0:\"0\",1:\"1\",x:\"x\",d:\"d\",u:\"u\",z:\"z\",\"=\":\"v\",2:\"v\",3:\"v\",4:\"v\",5:\"v\"},g={0:\"\",1:\"\",x:\"\",d:\"\",u:\"\",z:\"\",\"=\":\"-2\",2:\"-2\",3:\"-3\",4:\"-4\",5:\"-5\"},h={p:\"0\",n:\"1\",P:\"0\",N:\"1\",h:\"1\",l:\"0\",H:\"1\",L:\"0\",0:\"0\",1:\"1\",x:\"x\",d:\"d\",u:\"u\",z:\"z\",\"=\":\"v\",2:\"v\",3:\"v\",4:\"v\",5:\"v\"},i={p:\"\",n:\"\",P:\"\",N:\"\",h:\"\",l:\"\",H:\"\",L:\"\",0:\"\",1:\"\",x:\"\",d:\"\",u:\"\",z:\"\",\"=\":\"-2\",2:\"-2\",3:\"-3\",4:\"-4\",5:\"-5\"},j={p:\"111\",n:\"000\",P:\"111\",N:\"000\",h:\"111\",l:\"000\",H:\"111\",L:\"000\",0:\"000\",1:\"111\",x:\"xxx\",d:\"ddd\",u:\"uuu\",z:\"zzz\",\"=\":\"vvv-2\",2:\"vvv-2\",3:\"vvv-3\",4:\"vvv-4\",5:\"vvv-5\"},k={p:\"nclk\",n:\"pclk\",P:\"nclk\",N:\"pclk\"},l={p:\"000\",n:\"111\",P:\"000\",N:\"111\"},m={hp:\"111\",Hp:\"111\",ln:\"000\",Ln:\"000\",nh:\"111\",Nh:\"111\",pl:\"000\",Pl:\"000\"},n=a.split(\"\"),o=j[n[1]],p=d[n[1]],void 0===p?(q=f[n[1]],void 0===q?e([\"xxx\"],b,c):(r=h[n[0]],void 0===r?e([\"xxx\"],b,c):e([r+\"m\"+q+i[n[0]]+g[n[1]],o],b,c))):(s=m[a],void 0!==s&&(p=s),q=k[n[1]],void 0===q?e([p,o],b,c):e([p,o,q,l[n[1]]],b,c))}var e=a(\"./gen-brick\");b.exports=d},{\"./gen-brick\":6}],9:[function(a,b,c){\"use strict\";var d=a(\"./process-all\"),e=a(\"./eva\"),f=a(\"./render-wave-form\"),g=a(\"./editor-refresh\");b.exports={processAll:d,eva:e,renderWaveForm:f,editorRefresh:g}},{\"./editor-refresh\":3,\"./eva\":4,\"./process-all\":21,\"./render-wave-form\":28}],10:[function(a,b,c){\"use strict\";function d(a,b){for(var c,d;b.childNodes.length;)b.removeChild(b.childNodes[0]);d=[\"svg\",{id:\"svgcontent_\"+a,xmlns:f.svg,\"xmlns:xlink\":f.xlink,overflow:\"hidden\"},[\"style\",\".pinname {font-size:12px; font-style:normal; font-variant:normal; font-weight:500; font-stretch:normal; text-align:center; text-anchor:end; font-family:Helvetica} .wirename {font-size:12px; font-style:normal; font-variant:normal; font-weight:500; font-stretch:normal; text-align:center; text-anchor:start; font-family:Helvetica} .wirename:hover {fill:blue} .gate {color:#000; fill:#ffc; fill-opacity: 1;stroke:#000; stroke-width:1; stroke-opacity:1} .gate:hover {fill:red !important; } .wire {fill:none; stroke:#000; stroke-width:1; stroke-opacity:1} .grid {fill:#fff; fill-opacity:1; stroke:none}\"]],c=e(d),b.insertBefore(c,null)}var e=a(\"./create-element\"),f=a(\"./w3\");b.exports=d},{\"./create-element\":2,\"./w3\":30}],11:[function(a,b,c){\"use strict\";function d(a,b,c,d){for(var h,i,j;b.childNodes.length;)b.removeChild(b.childNodes[0]);for(i in g)break;j=g.default||g[i],c&&c.config&&c.config.skin&&g[c.config.skin]&&(j=g[c.config.skin]),0===a?(d.xs=Number(j[3][1][2][1].width),d.ys=Number(j[3][1][2][1].height),d.xlabel=Number(j[3][1][2][1].x),d.ym=Number(j[3][1][2][1].y)):j=[\"svg\",{id:\"svg\",xmlns:f.svg,\"xmlns:xlink\":f.xlink,height:\"0\"},[\"g\",{id:\"waves\"},[\"g\",{id:\"lanes\"}],[\"g\",{id:\"groups\"}]]],j[j.length-1][1].id=\"waves_\"+a,j[j.length-1][2][1].id=\"lanes_\"+a,j[j.length-1][3][1].id=\"groups_\"+a,j[1].id=\"svgcontent_\"+a,j[1].height=0,h=e(j),b.insertBefore(h,null)}var e=a(\"./create-element\"),f=a(\"./w3\"),g=a(\"./wave-skin\");b.exports=d},{\"./create-element\":2,\"./w3\":30,\"./wave-skin\":32}],12:[function(a,b,c){\"use strict\";function d(a,b,c){\"string\"==typeof c&&(c=new Function(\"event\",c)),\"function\"==typeof c&&(a[b]=c)}function e(a,b){if(b.name&&document.attachEvent)try{var c=document.createElement(\"<\"+a.tagName+\" name='\"+b.name+\"'>\");a.tagName===c.tagName&&(a=c)}catch(a){console.log(a)}for(var e in b)if(b.hasOwnProperty(e)){var i=b[e];e&&null!==i&&\"undefined\"!=typeof i&&(e=f[e.toLowerCase()]||e,\"style\"===e?\"undefined\"!=typeof a.style.cssText?a.style.cssText=i:a.style=i:h[e]?(d(a,e,i),g[e]&&d(a,g[e],i)):\"string\"==typeof i||\"number\"==typeof i||\"boolean\"==typeof i?(a.setAttribute(e,i),g[e]&&a.setAttribute(g[e],i)):(a[e]=i,g[e]&&(a[g[e]]=i)))}return a}var f={rowspan:\"rowSpan\",colspan:\"colSpan\",cellpadding:\"cellPadding\",cellspacing:\"cellSpacing\",tabindex:\"tabIndex\",accesskey:\"accessKey\",hidefocus:\"hideFocus\",usemap:\"useMap\",maxlength:\"maxLength\",readonly:\"readOnly\",contenteditable:\"contentEditable\"},g={enctype:\"encoding\",onscroll:\"DOMMouseScroll\"},h=function(a){for(var b,c={};a.length;)b=a.shift(),c[\"on\"+b.toLowerCase()]=b;return c}(\"blur,change,click,dblclick,error,focus,keydown,keypress,keyup,load,mousedown,mouseenter,mouseleave,mousemove,mouseout,mouseover,mouseup,resize,scroll,select,submit,unload\".split(\",\"));b.exports=e},{}],13:[function(a,b,c){\"use strict\";function d(a,b){b&&(a.tagName&&\"style\"===a.tagName.toLowerCase()&&document.createStyleSheet?a.cssText=b:a.canHaveChildren!==!1&&a.appendChild(b))}b.exports=d},{}],14:[function(a,b,c){\"use strict\";function d(a){var b=document.createElement(\"div\");if(b.innerHTML=a,e(b),1===b.childNodes.length)return b.firstChild;for(var c=document.createDocumentFragment?document.createDocumentFragment():document.createElement(\"\");b.firstChild;)c.appendChild(b.firstChild);return c}var e=a(\"./jsonml-trim-whitespace\");b.exports=d},{\"./jsonml-trim-whitespace\":16}],15:[function(a,b,c){\"use strict\";function d(a){return a instanceof Array&&\"string\"==typeof a[0]}function e(a,b,c){return document.createTextNode(\"[\"+a+\"-\"+c+\"]\")}var f,g,h=a(\"./jsonml-hydrate\"),i=a(\"./w3\"),j=a(\"./jsonml-append-child\"),k=a(\"./jsonml-add-attributes\"),l=a(\"./jsonml-trim-whitespace\"),m=null;f=function(a,b,c){for(var d=1;d<b.length;d++)b[d]instanceof Array||\"string\"==typeof b[d]?j(a,g(b[d],c)):b[d]&&b[d].value?j(a,h(b[d].value)):\"object\"==typeof b[d]&&null!==b[d]&&1===a.nodeType&&(a=k(a,b[d]));return a},g=function(a,b){var c;try{if(!a)return null;if(\"string\"==typeof a)return document.createTextNode(a);if(a&&a.value)return h(a.value);if(!d(a))throw new SyntaxError(\"invalid JsonML\");var k=a[0];if(!k){for(var n=document.createDocumentFragment?document.createDocumentFragment():document.createElement(\"\"),o=2;o<a.length;o++)j(n,g(a[o],b));return l(n),1===n.childNodes.length?n.firstChild:n}return\"style\"===k.toLowerCase()&&document.createStyleSheet?(f(document.createStyleSheet(),a,b),null):(c=f(document.createElementNS(i.svg,k),a,b),l(c),c)}catch(c){try{var p=\"function\"==typeof m?m:e;return p(c,a,b)}catch(a){return document.createTextNode(\"[\"+a+\"]\")}}},b.exports=g},{\"./jsonml-add-attributes\":12,\"./jsonml-append-child\":13,\"./jsonml-hydrate\":14,\"./jsonml-trim-whitespace\":16,\"./w3\":30}],16:[function(a,b,c){\"use strict\";function d(a){return a&&3===a.nodeType&&(!a.nodeValue||!/\\S/.exec(a.nodeValue))}function e(a){if(a){for(;d(a.firstChild);)a.removeChild(a.firstChild);for(;d(a.lastChild);)a.removeChild(a.lastChild)}}b.exports=e},{}],17:[function(a,b,c){\"use strict\";var d={xs:20,ys:20,xg:120,yh0:0,yh1:0,yf0:0,yf1:0,y0:5,yo:30,tgo:-10,ym:15,xlabel:6,xmax:1,scale:1,head:{},foot:{}};b.exports=d},{}],18:[function(a,b,c){\"use strict\";function d(a,b){function c(a){return a>0?Math.round(a):1}var d;b.hscale=1,b.hscale0&&(b.hscale=b.hscale0),a&&a.config&&a.config.hscale&&(d=Math.round(c(a.config.hscale)),d>0&&(d>100&&(d=100),b.hscale=d)),b.yh0=0,b.yh1=0,b.head=a.head,b.xmin_cfg=0,b.xmax_cfg=1e12,a&&a.config&&a.config.hbounds&&2==a.config.hbounds.length&&(a.config.hbounds[0]=Math.floor(a.config.hbounds[0]),a.config.hbounds[1]=Math.ceil(a.config.hbounds[1]),a.config.hbounds[0]<a.config.hbounds[1]&&(b.xmin_cfg=2*Math.floor(a.config.hbounds[0]),b.xmax_cfg=2*Math.floor(a.config.hbounds[1]))),a&&a.head&&((a.head.tick||0===a.head.tick||a.head.tock||0===a.head.tock)&&(b.yh0=20),(a.head.tick||0===a.head.tick)&&(a.head.tick=a.head.tick+b.xmin_cfg/2),(a.head.tock||0===a.head.tock)&&(a.head.tock=a.head.tock+b.xmin_cfg/2),a.head.text&&(b.yh1=46,b.head.text=a.head.text)),b.yf0=0,b.yf1=0,b.foot=a.foot,a&&a.foot&&((a.foot.tick||0===a.foot.tick||a.foot.tock||0===a.foot.tock)&&(b.yf0=20),(a.foot.tick||0===a.foot.tick)&&(a.foot.tick=a.foot.tick+b.xmin_cfg/2),(a.foot.tock||0===a.foot.tock)&&(a.foot.tock=a.foot.tock+b.xmin_cfg/2),a.foot.text&&(b.yf1=46,b.foot.text=a.foot.text))}b.exports=d},{}],19:[function(a,b,c){\"use strict\";function d(a,b,c){var d,h,i,j,k,l,m=[],n=[],o=[];for(m=a.split(\"\"),i=m.shift(),k=!1,d=1;\".\"===m[0]||\"|\"===m[0];)m.shift(),d+=1;for(n=n.concat(e(i,b,d));m.length;){for(h=i,i=m.shift(),\"<\"===i&&(k=!0,i=m.shift()),\">\"===i&&(k=!1,i=m.shift()),d=1;\".\"===m[0]||\"|\"===m[0];)m.shift(),d+=1;n=k?n.concat(f(h+i,0,d-c.period)):n.concat(f(h+i,b,d))}for(j=0;j<c.phase;j+=1)o.push(n.shift());return o.length>0?(l=g(o).length,1==g([o[o.length-1]]).length&&1==g([n[0]]).length&&(l-=1)):l=0,[n,l]}var e=a(\"./gen-first-wave-brick\"),f=a(\"./gen-wave-brick\"),g=a(\"./find-lane-markers\");b.exports=d},{\"./find-lane-markers\":5,\"./gen-first-wave-brick\":7,\"./gen-wave-brick\":8}],20:[function(a,b,c){\"use strict\";function d(a,b){var c;return c=a.data,void 0===c?null:(\"string\"==typeof c&&(c=c.split(\" \")),c=c.slice(b))}function e(a,b){var c,e,g,h,i,j=[],k=[];for(c in a)e=a[c],b.period=e.period?e.period:1,b.phase=(e.phase?2*e.phase:0)+b.xmin_cfg,j.push([]),k[0]=e.name||\" \",k[1]=(e.phase||0)+b.xmin_cfg/2,e.wave?(h=f(e.wave,b.period*b.hscale-1,b),g=h[0],i=h[1]):g=null,j[j.length-1][0]=k.slice(0),j[j.length-1][1]=g,j[j.length-1][2]=d(e,i);return j}var f=a(\"./parse-wave-lane\");b.exports=e},{\"./parse-wave-lane\":19}],21:[function(a,b,c){\"use strict\";function d(){var a,b,c,d;for(c=0,a=document.querySelectorAll(\"*\"),b=0;b<a.length;b++)a.item(b).type&&\"WaveDrom\"===a.item(b).type&&(a.item(b).setAttribute(\"id\",\"InputJSON_\"+c),d=document.createElement(\"div\"),d.id=\"WaveDrom_Display_\"+c,a.item(b).parentNode.insertBefore(d,a.item(b)),c+=1);for(b=0;b<c;b+=1)g(b,e(\"InputJSON_\"+b),\"WaveDrom_Display_\"),f(b,\"WaveDrom_Display_\");document.head.innerHTML+='<style type=\"text/css\">div.wavedromMenu{position:fixed;border:solid 1pt#CCCCCC;background-color:white;box-shadow:0px 10px 20px #808080;cursor:default;margin:0px;padding:0px;}div.wavedromMenu>ul{margin:0px;padding:0px;}div.wavedromMenu>ul>li{padding:2px 10px;list-style:none;}div.wavedromMenu>ul>li:hover{background-color:#b5d5ff;}</style>'}var e=a(\"./eva\"),f=a(\"./append-save-as-dialog\"),g=a(\"./render-wave-form\");b.exports=d},{\"./append-save-as-dialog\":1,\"./eva\":4,\"./render-wave-form\":28}],22:[function(a,b,c){\"use strict\";function d(a,b){var c,e,f={},g={x:10};for(\"string\"!=typeof a[0]&&\"number\"!=typeof a[0]||(e=a[0],g.x=25),b.x+=g.x,c=0;c<a.length;c++)\"object\"==typeof a[c]&&(\"[object Array]\"===Object.prototype.toString.call(a[c])?(f.y=b.y,b=d(a[c],b),b.groups.push({x:b.xx,y:f.y,height:b.y-f.y,name:b.name})):(b.lanes.push(a[c]),b.width.push(b.x),b.y+=1));return b.xx=b.x,b.x-=g.x,b.name=e,b}b.exports=d},{}],23:[function(a,b,c){\"use strict\";function d(a,b,c,d,h){function i(){r&&s&&(x=document.createElementNS(g.svg,\"path\"),x.id=\"gmark_\"+A.from+\"_\"+A.to,x.setAttribute(\"d\",\"M \"+r.x+\",\"+r.y+\" \"+s.x+\",\"+s.y),x.setAttribute(\"style\",\"fill:none;stroke:#00F;stroke-width:1\"),j.insertBefore(x,null))}var j,k,l,m,n,o,p,q,r,s,t,u,v,w,x,y,z=[],A={words:[],from:0,shape:\"\",to:0,label:\"\"},B={};if(b){for(k in b)if(h.period=b[k].period?b[k].period:1,h.phase=(b[k].phase?2*b[k].phase:0)+h.xmin_cfg,m=b[k].node)for(z=m.split(\"\"),n=0;z.length;)o=z.shift(),\".\"!==o&&(B[o]={x:h.xs*(2*n*h.period*h.hscale-h.phase)+h.xlabel,y:k*h.yo+h.y0+.5*h.ys}),n+=1;if(j=document.createElementNS(g.svg,\"g\"),j.id=\"wavearcs_\"+c,a.insertBefore(j,null),d.edge)for(k in d.edge)if(A.words=d.edge[k].split(\" \"),A.label=d.edge[k].substring(A.words[0].length),A.label=A.label.substring(1),A.from=A.words[0].substr(0,1),A.to=A.words[0].substr(-1,1),A.shape=A.words[0].slice(1,-1),r=B[A.from],s=B[A.to],i(),r&&s){switch(A.label&&(p=e.parse(A.label),p.unshift(\"text\",{style:\"font-size:10px;\",\"text-anchor\":\"middle\",\"xml:space\":\"preserve\"}),p=f(p),q=f([\"rect\",{height:9,style:\"fill:#FFF;\"}]),j.insertBefore(q,null),j.insertBefore(p,null),y=p.getBBox().width,q.setAttribute(\"width\",y)),t=s.x-r.x,u=s.y-r.y,v=(r.x+s.x)/2,w=(r.y+s.y)/2,A.shape){case\"-\":break;case\"~\":x.setAttribute(\"d\",\"M \"+r.x+\",\"+r.y+\" c \"+.7*t+\", 0 \"+.3*t+\", \"+u+\" \"+t+\", \"+u);break;case\"-~\":x.setAttribute(\"d\",\"M \"+r.x+\",\"+r.y+\" c \"+.7*t+\", 0 \"+t+\", \"+u+\" \"+t+\", \"+u),A.label&&(v=r.x+.75*(s.x-r.x));break;case\"~-\":x.setAttribute(\"d\",\"M \"+r.x+\",\"+r.y+\" c 0, 0 \"+.3*t+\", \"+u+\" \"+t+\", \"+u),A.label&&(v=r.x+.25*(s.x-r.x));break;case\"-|\":x.setAttribute(\"d\",\"m \"+r.x+\",\"+r.y+\" \"+t+\",0 0,\"+u),A.label&&(v=s.x);break;case\"|-\":x.setAttribute(\"d\",\"m \"+r.x+\",\"+r.y+\" 0,\"+u+\" \"+t+\",0\"),A.label&&(v=r.x);break;case\"-|-\":x.setAttribute(\"d\",\"m \"+r.x+\",\"+r.y+\" \"+t/2+\",0 0,\"+u+\" \"+t/2+\",0\");break;case\"->\":x.setAttribute(\"style\",\"marker-end:url(#arrowhead);stroke:#0041c4;stroke-width:1;fill:none\");break;case\"~>\":x.setAttribute(\"style\",\"marker-end:url(#arrowhead);stroke:#0041c4;stroke-width:1;fill:none\"),x.setAttribute(\"d\",\"M \"+r.x+\",\"+r.y+\" c \"+.7*t+\", 0 \"+.3*t+\", \"+u+\" \"+t+\", \"+u);break;case\"-~>\":x.setAttribute(\"style\",\"marker-end:url(#arrowhead);stroke:#0041c4;stroke-width:1;fill:none\"),x.setAttribute(\"d\",\"M \"+r.x+\",\"+r.y+\" c \"+.7*t+\", 0 \"+t+\", \"+u+\" \"+t+\", \"+u),A.label&&(v=r.x+.75*(s.x-r.x));break;case\"~->\":x.setAttribute(\"style\",\"marker-end:url(#arrowhead);stroke:#0041c4;stroke-width:1;fill:none\"),x.setAttribute(\"d\",\"M \"+r.x+\",\"+r.y+\" c 0, 0 \"+.3*t+\", \"+u+\" \"+t+\", \"+u),A.label&&(v=r.x+.25*(s.x-r.x));break;case\"-|>\":x.setAttribute(\"style\",\"marker-end:url(#arrowhead);stroke:#0041c4;stroke-width:1;fill:none\"),x.setAttribute(\"d\",\"m \"+r.x+\",\"+r.y+\" \"+t+\",0 0,\"+u),A.label&&(v=s.x);break;case\"|->\":x.setAttribute(\"style\",\"marker-end:url(#arrowhead);stroke:#0041c4;stroke-width:1;fill:none\"),x.setAttribute(\"d\",\"m \"+r.x+\",\"+r.y+\" 0,\"+u+\" \"+t+\",0\"),A.label&&(v=r.x);break;case\"-|->\":x.setAttribute(\"style\",\"marker-end:url(#arrowhead);stroke:#0041c4;stroke-width:1;fill:none\"),x.setAttribute(\"d\",\"m \"+r.x+\",\"+r.y+\" \"+t/2+\",0 0,\"+u+\" \"+t/2+\",0\");break;case\"<->\":x.setAttribute(\"style\",\"marker-end:url(#arrowhead);marker-start:url(#arrowtail);stroke:#0041c4;stroke-width:1;fill:none\");break;case\"<~>\":x.setAttribute(\"style\",\"marker-end:url(#arrowhead);marker-start:url(#arrowtail);stroke:#0041c4;stroke-width:1;fill:none\"),x.setAttribute(\"d\",\"M \"+r.x+\",\"+r.y+\" c \"+.7*t+\", 0 \"+.3*t+\", \"+u+\" \"+t+\", \"+u);break;case\"<-~>\":x.setAttribute(\"style\",\"marker-end:url(#arrowhead);marker-start:url(#arrowtail);stroke:#0041c4;stroke-width:1;fill:none\"),x.setAttribute(\"d\",\"M \"+r.x+\",\"+r.y+\" c \"+.7*t+\", 0 \"+t+\", \"+u+\" \"+t+\", \"+u),A.label&&(v=r.x+.75*(s.x-r.x));break;case\"<-|>\":x.setAttribute(\"style\",\"marker-end:url(#arrowhead);marker-start:url(#arrowtail);stroke:#0041c4;stroke-width:1;fill:none\"),x.setAttribute(\"d\",\"m \"+r.x+\",\"+r.y+\" \"+t+\",0 0,\"+u),A.label&&(v=s.x);break;case\"<-|->\":x.setAttribute(\"style\",\"marker-end:url(#arrowhead);marker-start:url(#arrowtail);stroke:#0041c4;stroke-width:1;fill:none\"),x.setAttribute(\"d\",\"m \"+r.x+\",\"+r.y+\" \"+t/2+\",0 0,\"+u+\" \"+t/2+\",0\");break;default:x.setAttribute(\"style\",\"fill:none;stroke:#F00;stroke-width:1\")}A.label&&(p.setAttribute(\"x\",v),p.setAttribute(\"y\",w+3),q.setAttribute(\"x\",v-y/2),q.setAttribute(\"y\",w-5))}for(l in B)l===l.toLowerCase()&&B[l].x>0&&(q=f([\"rect\",{y:B[l].y-4,height:8,style:\"fill:#FFF;\"}]),p=f([\"text\",{style:\"font-size:8px;\",x:B[l].x,y:B[l].y+2,\"text-anchor\":\"middle\"},l+\"\"]),j.insertBefore(q,null),j.insertBefore(p,null),y=p.getBBox().width+2,q.setAttribute(\"x\",B[l].x-y/2),q.setAttribute(\"width\",y))}}var e=a(\"tspan\"),f=a(\"./create-element\"),g=a(\"./w3\");b.exports=d},{\"./create-element\":2,\"./w3\":30,tspan:33}],24:[function(a,b,c){\"use strict\";function d(a,b){var c,e,f;for(b.xmax=Math.max(b.xmax,b.x),c=b.y,f=a.length,e=1;e<f;e++)\"[object Array]\"===Object.prototype.toString.call(a[e])?b=d(a[e],{x:b.x+1,y:b.y,xmax:b.xmax}):(a[e]={name:a[e],x:b.x+1,y:b.y},b.y+=2);return a[0]={name:a[0],x:b.x,y:Math.round((c+(b.y-2))/2)},b.x--,b}function e(a,b,c){var d,e,f=\" M 4,0 C 4,1.1 3.1,2 2,2 0.9,2 0,1.1 0,0 c 0,-1.1 0.9,-2 2,-2 1.1,0 2,0.9 2,2 z\",g={\"~\":\"M -11,-6 -11,6 0,0 z m -5,6 5,0\"+f,\"=\":\"M -11,-6 -11,6 0,0 z m -5,6 5,0\",\"&\":\"m -16,-10 5,0 c 6,0 11,4 11,10 0,6 -5,10 -11,10 l -5,0 z\",\"~&\":\"m -16,-10 5,0 c 6,0 11,4 11,10 0,6 -5,10 -11,10 l -5,0 z\"+f,\"|\":\"m -18,-10 4,0 c 6,0 12,5 14,10 -2,5 -8,10 -14,10 l -4,0 c 2.5,-5 2.5,-15 0,-20 z\",\"~|\":\"m -18,-10 4,0 c 6,0 12,5 14,10 -2,5 -8,10 -14,10 l -4,0 c 2.5,-5 2.5,-15 0,-20 z\"+f,\"^\":\"m -21,-10 c 1,3 2,6 2,10 m 0,0 c 0,4 -1,7 -2,10 m 3,-20 4,0 c 6,0 12,5 14,10 -2,5 -8,10 -14,10 l -4,0 c 1,-3 2,-6 2,-10 0,-4 -1,-7 -2,-10 z\",\"~^\":\"m -21,-10 c 1,3 2,6 2,10 m 0,0 c 0,4 -1,7 -2,10 m 3,-20 4,0 c 6,0 12,5 14,10 -2,5 -8,10 -14,10 l -4,0 c 1,-3 2,-6 2,-10 0,-4 -1,-7 -2,-10 z\"+f,\"+\":\"m -8,5 0,-10 m -5,5 10,0 m 3,0 c 0,4.418278 -3.581722,8 -8,8 -4.418278,0 -8,-3.581722 -8,-8 0,-4.418278 3.581722,-8 8,-8 4.418278,0 8,3.581722 8,8 z\",\"*\":\"m -4,4 -8,-8 m 0,8 8,-8 m 4,4 c 0,4.418278 -3.581722,8 -8,8 -4.418278,0 -8,-3.581722 -8,-8 0,-4.418278 3.581722,-8 8,-8 4.418278,0 8,3.581722 8,8 z\"},h={BUF:1,INV:1,AND:\"&\",NAND:\"&\",OR:\"≥1\",NOR:\"≥1\",XOR:\"=1\",XNOR:\"=1\",box:\"\"},i={INV:1,NAND:1,NOR:1,XNOR:1};return c===b&&(c=4,b=-4),d=g[a],e=h[a],d?[\"path\",{class:\"gate\",d:d}]:e?[\"g\",[\"path\",{class:\"gate\",d:\"m -16,\"+(b-3)+\" 16,0 0,\"+(c-b+6)+\" -16,0 z\"+(i[a]?f:\"\")}],[\"text\",[\"tspan\",{x:\"-14\",y:\"4\",class:\"wirename\"},e+\"\"]]]:[\"text\",[\"tspan\",{x:\"-14\",y:\"4\",class:\"wirename\"},a+\"\"]]}function f(a){var b,c,d,f=[\"g\"],g=[],h=a.length;for(b=2;b<h;b++)g.push(a[b][1]);for(c=Math.min.apply(null,g),d=Math.max.apply(null,g),f.push([\"g\",{transform:\"translate(16,0)\"},[\"path\",{d:\"M  \"+a[2][0]+\",\"+c+\" \"+a[2][0]+\",\"+d,class:\"wire\"}]]),b=2;b<h;b++)f.push([\"g\",[\"path\",{d:\"m  \"+a[b][0]+\",\"+a[b][1]+\" 16,0\",class:\"wire\"}]]);return f.push([\"g\",{transform:\"translate(\"+a[1][0]+\",\"+a[1][1]+\")\"},[\"title\",a[0]],e(a[0],c-a[1][1],d-a[1][1])]),f}function g(a,b){var c,d,e,h,i,j=[\"g\"],k=[];if(\"[object Array]\"===Object.prototype.toString.call(a)){for(d=a.length,k.push(a[0].name),k.push([32*(b-a[0].x),8*a[0].y]),c=1;c<d;c++)\"[object Array]\"===Object.prototype.toString.call(a[c])?k.push([32*(b-a[c][0].x),8*a[c][0].y]):k.push([32*(b-a[c].x),8*a[c].y]);for(j.push(f(k)),c=1;c<d;c++)j.push(g(a[c],b))}else i=a.name,e=32*(b-a.x),h=8*a.y,j.push([\"g\",{transform:\"translate(\"+e+\",\"+h+\")\"},[\"title\",i],[\"path\",{d:\"M 2,0 a 2,2 0 1 1 -4,0 2,2 0 1 1 4,0 z\"}],[\"text\",[\"tspan\",{x:\"-4\",y:\"4\",class:\"pinname\"},i]]]);return j}function h(a,b){var c,e,f,h,j,k,l,m,n,o,p=[\"g\"],q=[\"g\"];for(m=b.assign.length,e={x:0,y:2,xmax:0},c=b.assign,l=0;l<m;l++)e=d(c[l],e),e.x++;for(f=e.xmax+3,l=0;l<m;l++)p.push(g(c[l],f));for(j=32*(f+1)+1,k=8*(e.y+1)-7,m=4*(f+1),o=e.y+1,l=0;l<=m;l++)for(n=0;n<=o;n++)q.push([\"rect\",{height:1,width:1,x:8*l-.5,y:8*n-.5,class:\"grid\"}]);h=document.getElementById(\"svgcontent_\"+a),h.setAttribute(\"viewBox\",\"0 0 \"+j+\" \"+k),h.setAttribute(\"width\",j),h.setAttribute(\"height\",k),h.insertBefore(i([\"g\",{transform:\"translate(0.5, 0.5)\"},q,p]),null)}var i=a(\"./create-element\");b.exports=h},{\"./create-element\":2}],25:[function(a,b,c){\"use strict\";function d(a,b,c,d){var f,g,h,i,j,k,l,m,n=[];if(b){g=document.createElementNS(e.svg,\"g\"),g.id=\"wavegaps_\"+c,a.insertBefore(g,null),l=!1;for(f in b)if(d.period=b[f].period?b[f].period:1,d.phase=(b[f].phase?2*b[f].phase:0)+d.xmin_cfg,h=document.createElementNS(e.svg,\"g\"),h.id=\"wavegap_\"+f+\"_\"+c,h.setAttribute(\"transform\",\"translate(0,\"+(d.y0+f*d.yo)+\")\"),g.insertBefore(h,null),k=b[f].wave)for(n=k.split(\"\"),j=0;n.length;)m=n.shift(),\"<\"===m&&(l=!0,m=n.shift()),\">\"===m&&(l=!1,m=n.shift()),j+=l?1:2*d.period,\"|\"===m&&(i=document.createElementNS(e.svg,\"use\"),i.setAttributeNS(e.xlink,\"xlink:href\",\"#gap\"),i.setAttribute(\"transform\",\"translate(\"+d.xs*((j-(l?0:d.period))*d.hscale-d.phase)+\")\"),h.insertBefore(i,null))}}var e=a(\"./w3\");b.exports=d},{\"./w3\":30}],26:[function(a,b,c){\"use strict\";function d(a,b,c){var d,f,g,h=[\"g\"];return a.forEach(function(a,i){h.push([\"path\",{id:\"group_\"+i+\"_\"+b,d:\"m \"+(a.x+.5)+\",\"+(a.y*c.yo+3.5+c.yh0+c.yh1)+\" c -3,0 -5,2 -5,5 l 0,\"+(a.height*c.yo-16)+\" c 0,3 2,5 5,5\",style:\"stroke:#0041c4;stroke-width:1;fill:none\"}]),void 0!==a.name&&(d=a.x-10,f=c.yo*(a.y+a.height/2)+c.yh0+c.yh1,g=e.parse(a.name),g.unshift(\"text\",{\"text-anchor\":\"middle\",class:\"info\",\"xml:space\":\"preserve\"}),h.push([\"g\",{transform:\"translate(\"+d+\",\"+f+\")\"},[\"g\",{transform:\"rotate(270)\"},g]]))}),h}var e=a(\"tspan\");b.exports=d},{tspan:33}],27:[function(a,b,c){\"use strict\";function d(a,b,c,d){function g(a,b,c){var d;a[b]&&a[b].text&&(d=e.parse(a[b].text),d.unshift(\"text\",{x:a.xmax*a.xs/2,y:c,\"text-anchor\":\"middle\",fill:\"#000\",\"xml:space\":\"preserve\"}),d=f(d),j.insertBefore(d,null))}function h(a,b,c,d,g,h,k){var l,m,n,o,p=1,q=0,r=[];if(void 0!==a[b]&&void 0!==a[b][c]){if(n=a[b][c],\"string\"==typeof n)n=n.split(\" \");else if(\"number\"==typeof n||\"boolean\"==typeof n)for(m=Number(n),n=[],i=0;i<k;i+=1)n.push(i+m);if(\"[object Array]\"===Object.prototype.toString.call(n)&&0!==n.length){if(1===n.length)if(m=Number(n[0]),isNaN(m))r=n;else for(i=0;i<k;i+=1)r[i]=i+m;else if(2===n.length)if(m=Number(n[0]),p=Number(n[1]),o=n[1].split(\".\"),2===o.length&&(q=o[1].length),isNaN(m)||isNaN(p))r=n;else for(m=p*m,i=0;i<k;i+=1)r[i]=(p*i+m).toFixed(q);else r=n;for(i=0;i<k;i+=1)o=r[i],l=e.parse(o),l.unshift(\"text\",{x:i*g+d,y:h,\"text-anchor\":\"middle\",class:\"muted\",\"xml:space\":\"preserve\"}),l=f(l),j.insertBefore(l,null)}}}var i,j,k,l,m,n;for(l=2*d.hscale,m=l*d.xs,k=d.xmax/l,n=b.length*d.yo,j=f([\"g\",{id:\"gmarks_\"+c}]),a.insertBefore(j,a.firstChild),i=0;i<k+1;i+=1)j.insertBefore(f([\"path\",{id:\"gmark_\"+i+\"_\"+c,d:\"m \"+i*m+\",0 0,\"+n,style:\"stroke:#888;stroke-width:0.5;stroke-dasharray:1,3\"}]),null);g(d,\"head\",d.yh0?-33:-13),g(d,\"foot\",n+(d.yf0?45:25)),h(d,\"head\",\"tick\",0,m,-5,k+1),h(d,\"head\",\"tock\",m/2,m,-5,k),h(d,\"foot\",\"tick\",0,m,n+15,k+1),h(d,\"foot\",\"tock\",m/2,m,n+15,k)}var e=a(\"tspan\"),f=a(\"./create-element\");b.exports=d},{\"./create-element\":2,tspan:33}],28:[function(a,b,c){\"use strict\";function d(a,b,c){var d,r,s,t,u,v,w,x,y,z=0;if(b.signal){p(a,document.getElementById(c+a),b,f),h(b,f),d=e(b.signal,{x:0,y:0,xmax:0,width:[],lanes:[],groups:[]}),r=document.getElementById(\"lanes_\"+a),s=document.getElementById(\"groups_\"+a),u=i(d.lanes,f),x=m(r,u,a,f);for(y in x)z=Math.max(z,x[y]+d.width[y]);j(r,u,a,f),o(r,d.lanes,a,b,f),k(r,d.lanes,a,f),s.insertBefore(g(l(d.groups,a,f)),null),f.xg=Math.ceil((z-f.tgo)/f.xs)*f.xs,v=f.xg+f.xs*(f.xmax+1),w=u.length*f.yo+f.yh0+f.yh1+f.yf0+f.yf1,t=document.getElementById(\"svgcontent_\"+a),t.setAttribute(\"viewBox\",\"0 0 \"+v+\" \"+w),t.setAttribute(\"width\",v),t.setAttribute(\"height\",w),t.setAttribute(\"overflow\",\"hidden\"),r.setAttribute(\"transform\",\"translate(\"+(f.xg+.5)+\", \"+(f.yh0+f.yh1+.5)+\")\")}else b.assign&&(q(a,document.getElementById(c+a),b),n(a,b))}var e=a(\"./rec\"),f=a(\"./lane\"),g=a(\"./create-element\"),h=a(\"./parse-config\"),i=a(\"./parse-wave-lanes\"),j=a(\"./render-marks\"),k=a(\"./render-gaps\"),l=a(\"./render-groups\"),m=a(\"./render-wave-lane\"),n=a(\"./render-assign\"),o=a(\"./render-arcs\"),p=a(\"./insert-svg-template\"),q=a(\"./insert-svg-template-assign\");b.exports=d},{\"./create-element\":2,\"./insert-svg-template\":11,\"./insert-svg-template-assign\":10,\"./lane\":17,\"./parse-config\":18,\"./parse-wave-lanes\":20,\"./rec\":22,\"./render-arcs\":23,\"./render-assign\":24,\"./render-gaps\":25,\"./render-groups\":26,\"./render-marks\":27,\"./render-wave-lane\":29}],29:[function(a,b,c){\"use strict\";function d(a,b,c,d){var i,j,k,l,m,n,o,p,q,r=[1],s=0,t=0,u=[];for(j=0;j<b.length;j+=1)if(p=b[j][0][0],p&&(l=f([\"g\",{id:\"wavelane_\"+j+\"_\"+c,transform:\"translate(0,\"+(d.y0+j*d.yo)+\")\"}]),a.insertBefore(l,null),n=e.parse(p),n.unshift(\"text\",{x:d.tgo,y:d.ym,class:\"info\",\"text-anchor\":\"end\",\"xml:space\":\"preserve\"}),n=f(n),l.insertBefore(n,null),u.push(n.getBBox().width),q=b[j][0][1],q=q>0?Math.ceil(2*q)-2*q:-2*q,m=f([\"g\",{id:\"wavelane_draw_\"+j+\"_\"+c,transform:\"translate(\"+q*d.xs+\", 0)\"}]),l.insertBefore(m,null),b[j][1])){for(i=0;i<b[j][1].length;i+=1)o=document.createElementNS(g.svg,\"use\"),o.setAttributeNS(g.xlink,\"xlink:href\",\"#\"+b[j][1][i]),o.setAttribute(\"transform\",\"translate(\"+i*d.xs+\")\"),m.insertBefore(o,null);if(b[j][2]&&b[j][2].length&&(r=h(b[j][1]),0!==r.length))for(k in r)b[j][2]&&\"undefined\"!=typeof b[j][2][k]&&(n=e.parse(b[j][2][k]),n.unshift(\"text\",{x:r[k]*d.xs+d.xlabel,y:d.ym,\"text-anchor\":\"middle\",\"xml:space\":\"preserve\"}),n=f(n),m.insertBefore(n,null));b[j][1].length>s&&(s=b[j][1].length)}return d.xmax=Math.min(s,d.xmax_cfg-d.xmin_cfg),d.xg=t+20,u}var e=a(\"tspan\"),f=a(\"./create-element\"),g=a(\"./w3\"),h=a(\"./find-lane-markers\");b.exports=d},{\"./create-element\":2,\"./find-lane-markers\":5,\"./w3\":30,tspan:33}],30:[function(a,b,c){\"use strict\";b.exports={svg:\"http://www.w3.org/2000/svg\",xlink:\"http://www.w3.org/1999/xlink\",xmlns:\"http://www.w3.org/XML/1998/namespace\"}},{}],31:[function(a,b,c){\"use strict\";window.WaveDrom=window.WaveDrom||{};var d=a(\"./\");window.WaveDrom.ProcessAll=d.processAll,window.WaveDrom.RenderWaveForm=d.renderWaveForm,window.WaveDrom.EditorRefresh=d.editorRefresh,window.WaveDrom.eva=d.eva},{\"./\":9}],32:[function(a,b,c){\"use strict\";b.exports=window.WaveSkin},{}],33:[function(a,b,c){\"use strict\";function d(a,b){b.add&&b.add.split(\";\").forEach(function(b){var c=b.split(\" \");a[c[0]][c[1]]=!0}),b.del&&b.del.split(\";\").forEach(function(b){var c=b.split(\" \");delete a[c[0]][c[1]]})}function e(a){return Object.keys(a).reduce(function(b,c){var d=Object.keys(a[c]);return d.length>0&&(b[c]=d.join(\" \")),b},{})}function f(a){var b,c,f,i,j;if(void 0===a)return[];if(\"number\"==typeof a)return[a+\"\"];if(\"string\"!=typeof a)return[a];for(c=[],b={\"text-decoration\":{},\"font-weight\":{},\"font-style\":{},\"baseline-shift\":{},\"font-size\":{},\"font-family\":{}};;){if(f=a.search(g),f===-1)return c.push([\"tspan\",e(b),a]),c;if(f>0&&(j=a.slice(0,f),c.push([\"tspan\",e(b),j])),i=a.match(g)[0],d(b,h[i]),a=a.slice(f+i.length),0===a.length)return c}}var g=/<o>|<ins>|<s>|<sub>|<sup>|<b>|<i>|<tt>|<\\/o>|<\\/ins>|<\\/s>|<\\/sub>|<\\/sup>|<\\/b>|<\\/i>|<\\/tt>/,h={\"<o>\":{add:\"text-decoration overline\"},\"</o>\":{del:\"text-decoration overline\"},\"<ins>\":{add:\"text-decoration underline\"},\"</ins>\":{del:\"text-decoration underline\"},\"<s>\":{add:\"text-decoration line-through\"},\"</s>\":{del:\"text-decoration line-through\"},\"<b>\":{add:\"font-weight bold\"},\"</b>\":{del:\"font-weight bold\"},\"<i>\":{add:\"font-style italic\"},\"</i>\":{del:\"font-style italic\"},\"<sub>\":{add:\"baseline-shift sub;font-size .7em\"},\"</sub>\":{del:\"baseline-shift sub;font-size .7em\"},\"<sup>\":{add:\"baseline-shift super;font-size .7em\"},\"</sup>\":{del:\"baseline-shift super;font-size .7em\"},\"<tt>\":{add:\"font-family monospace\"},\"</tt>\":{del:\"font-family monospace\"}};c.parse=f},{}]},{},[31]);</script><div><script type=\"WaveDrom\">{\"signal\": [{\"name\": \"test_design.clk\", \"wave\": \"01010101010101\", \"data\": \"01010101010101\"}, {\"name\": \"test_design.d\", \"wave\": \"=..=.=...=....\", \"data\": \"00 01 03 02 \"}, {\"name\": \"test_design.op\", \"wave\": \"=.=.=.=.=.....\", \"data\": \"00 a0 0c 4c ac \"}, {\"name\": \"test_design.reset\", \"wave\": \"1.0...........\", \"data\": \"10\"}, {\"name\": \"test_design.z\", \"wave\": \"0.....1.0.....\", \"data\": \"010\"}]}</script></div><script>WaveDrom.ProcessAll();</script>"
      ],
      "text/plain": [
       "<IPython.core.display.HTML object>"
      ]
     },
     "execution_count": 14,
     "metadata": {},
     "output_type": "execute_result"
    }
   ],
   "source": [
    "import wavedraw; import nbwavedrom\n",
    "TB = \"test_design\";\n",
    "waveform = wavedraw.vcd2wave(\"test_design.vcd\", TB + '.clk', None)\n",
    "nbwavedrom.draw(waveform)"
   ]
  },
  {
   "cell_type": "markdown",
   "metadata": {},
   "source": [
    "### Next: [Hardware programming](hwprog_setup.ipynb)"
   ]
  }
 ],
 "metadata": {
  "celltoolbar": "Slideshow",
  "kernelspec": {
   "display_name": "Python 3",
   "language": "python",
   "name": "python3"
  },
  "language_info": {
   "codemirror_mode": {
    "name": "ipython",
    "version": 3
   },
   "file_extension": ".py",
   "mimetype": "text/x-python",
   "name": "python",
   "nbconvert_exporter": "python",
   "pygments_lexer": "ipython3",
   "version": "3.7.3"
  },
  "livereveal": {
   "autolaunch": true
  }
 },
 "nbformat": 4,
 "nbformat_minor": 4
}
