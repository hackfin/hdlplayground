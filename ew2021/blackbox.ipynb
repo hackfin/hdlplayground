{
 "cells": [
  {
   "cell_type": "markdown",
   "metadata": {
    "slideshow": {
     "slide_type": "slide"
    }
   },
   "source": [
    "# Black boxes\n",
    "\n",
    "(MyHDL extensions by section5)\n",
    "\n",
    "Like in Verilog/VHDL, a logic entity that...\n",
    "  * is 'closed source' (a net list, ...)\n",
    "  * is resolved at a later stage\n",
    "  * is a FPGA primitive where only a simulation model might apply\n",
    "  \n",
    "is treated and abstracted as a **Black Box**."
   ]
  },
  {
   "cell_type": "markdown",
   "metadata": {
    "slideshow": {
     "slide_type": "slide"
    }
   },
   "source": [
    "## Development aspect\n",
    "\n",
    "Strategy of **Divide et impera**:\n",
    "  * Give developer maximum control over what logic should be created\n",
    "  * ... while providing means to preserve portability\n",
    "  * Target abstraction: Separate target parameters and implementation rules from design\n",
    "  * ... but keep code in one place\n",
    "  * Allow to switch target using one configuration variable\n",
    "  * ... or by calling an implementation method"
   ]
  },
  {
   "cell_type": "markdown",
   "metadata": {
    "slideshow": {
     "slide_type": "slide"
    }
   },
   "source": [
    "## The MyHDL `@blackbox` API\n",
    "\n",
    "* Allows wrapping external `V*HDL`-modules\n",
    "* Allows to specify a simplified simulation model for a (closed source) IP module"
   ]
  },
  {
   "cell_type": "markdown",
   "metadata": {
    "slideshow": {
     "slide_type": "subslide"
    }
   },
   "source": [
    "* [Generator classes](#Generator-classes), allowing elegant 'inline' constructions, as\n",
    "  * Special operators, like Unary Reduction (no VHDL-built-in!), bit field data types or Gray-Encoder\n",
    "  * Instance of synthesis-specific constructs"
   ]
  },
  {
   "cell_type": "markdown",
   "metadata": {
    "slideshow": {
     "slide_type": "subslide"
    }
   },
   "source": [
    "* [Parametrizeable implementations](#Parametrizeable-top-level-design) of top level design projects:\n",
    "  * (Portable) Hardware projects for multiple FPGA architectures\n",
    "  * Specific Co-Simulation variants\n",
    "  * Software-Implementations of hardware IP (simulation executables)"
   ]
  },
  {
   "cell_type": "markdown",
   "metadata": {
    "slideshow": {
     "slide_type": "subslide"
    }
   },
   "source": [
    "* Future music:\n",
    "  * Bulk signals (automated signal class to HDL record wrapping for complex signals), like busses, port arrays, .."
   ]
  },
  {
   "cell_type": "markdown",
   "metadata": {
    "slideshow": {
     "slide_type": "slide"
    }
   },
   "source": [
    "## Standard 'external' Blackbox\n",
    "\n",
    "`@autowrap`: A `@blackbox` unit that automatically wraps the function interface (as in VHDL terms: into a component declaration).\n",
    "\n",
    "* Does not synthesize any of its behavioural description\n",
    "* Creates a module stub for the synthesis tool (resolved at a later time)\n",
    "* Returns a simulator model for simulation"
   ]
  },
  {
   "cell_type": "code",
   "execution_count": 1,
   "metadata": {
    "hide_input": true,
    "init_cell": true,
    "slideshow": {
     "slide_type": "skip"
    }
   },
   "outputs": [],
   "source": [
    "import config"
   ]
  },
  {
   "cell_type": "markdown",
   "metadata": {
    "hide_input": true,
    "slideshow": {
     "slide_type": "slide"
    }
   },
   "source": [
    "### An on-chip oscillator\n",
    "\n",
    "..with a output only."
   ]
  },
  {
   "cell_type": "code",
   "execution_count": 2,
   "metadata": {},
   "outputs": [],
   "source": [
    "from synthesis.yosys.autowrap import autowrap\n",
    "\n",
    "@autowrap\n",
    "def OC_OSC(OSC, **parameter):\n",
    "    \"On-Chip oscillator\"\n",
    "\n",
    "    # half period in pico seconds\n",
    "    C_OSCP = 1613\n",
    "    oscb = Signal(bool(0))\n",
    "    \n",
    "    @instance\n",
    "    def sim():\n",
    "        while 1:\n",
    "            yield delay(C_OSCP)\n",
    "            oscb.next = not oscb\n",
    "\n",
    "    @always_comb\n",
    "    def assign():\n",
    "        OSC.next = oscb\n",
    "\n",
    "    return sim, assign"
   ]
  },
  {
   "cell_type": "markdown",
   "metadata": {
    "slideshow": {
     "slide_type": "slide"
    }
   },
   "source": [
    "### More Blackbox examples\n",
    "\n",
    "* [Generator classes](genclasses.ipynb)\n",
    "\n",
    "### Next: [Hardware programming](hwprog_setup.ipynb)"
   ]
  }
 ],
 "metadata": {
  "celltoolbar": "Slideshow",
  "kernelspec": {
   "display_name": "Python 3",
   "language": "python",
   "name": "python3"
  },
  "language_info": {
   "codemirror_mode": {
    "name": "ipython",
    "version": 3
   },
   "file_extension": ".py",
   "mimetype": "text/x-python",
   "name": "python",
   "nbconvert_exporter": "python",
   "pygments_lexer": "ipython3",
   "version": "3.7.3"
  },
  "livereveal": {
   "autolaunch": true
  },
  "rise": {
   "transition": "none"
  }
 },
 "nbformat": 4,
 "nbformat_minor": 4
}
