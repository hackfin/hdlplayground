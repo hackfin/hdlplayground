{
 "cells": [
  {
   "cell_type": "markdown",
   "metadata": {},
   "source": [
    "# Black boxes\n",
    "\n",
    "(MyHDL extensions by section5)\n",
    "\n",
    "Like in Verilog/VHDL, a logic entity that...\n",
    "  * is 'closed source' (a net list, ...)\n",
    "  * is resolved at a later stage\n",
    "  * is a FPGA primitive where only a simulation model might apply\n",
    "  \n",
    "is treated and abstracted as a **Black Box**.\n",
    "\n",
    "## Development aspect\n",
    "\n",
    "Strategy of **Divide et impera**:\n",
    "  * Give developer maximum control over what logic should be created\n",
    "  * ..while providing means to preserve portability\n",
    "  * Target abstraction: Separate target parameters and implementation rules from design\n",
    "  * ... but keep code in one place\n",
    "  * Allow to switch target using one configuration variable\n",
    "\n",
    "\n",
    "## The Blackbox MyHDL API\n",
    "\n",
    "* Allows wrapping external `V*HDL`-modules\n",
    "* Allows to specify a simplified simulation model for a (closed source) IP module\n",
    "* [Generator classes](#Generator-classes), allowing elegant 'inline' constructions, as\n",
    "  * Unary reduction operators (no VHDL-built-in!)\n",
    "  * Gray coding logic 'inline'\n",
    "  * Bitfield data types and operations\n",
    "  * Instance of synthesis-specific constructs\n",
    "* [Parametrizeable implementations](#Parametrizeable-top-level-design) of top level design projects:\n",
    "  * (Portable) Hardware projects for multiple FPGA architectures\n",
    "  * Specific Co-Simulation variants\n",
    "  * Software-Implementations of hardware IP (simulation executables)\n",
    "* Future music:\n",
    "  * Bulk signals (automated signal class to HDL record wrapping for complex signals), like busses, port arrays, .."
   ]
  },
  {
   "cell_type": "markdown",
   "metadata": {},
   "source": [
    "## Standard 'external' Blackbox\n",
    "\n",
    "`@autowrap`: A `@blackbox` unit that automatically wraps the function interface (as in VHDL terms: into a component declaration).\n",
    "\n",
    "* Does not synthesize any of its behavioural description\n",
    "* Creates a module stub for the synthesis tool (resolved at a later time)\n",
    "* Returns a simulator model for simulation"
   ]
  },
  {
   "cell_type": "code",
   "execution_count": 5,
   "metadata": {},
   "outputs": [],
   "source": [
    "import config"
   ]
  },
  {
   "cell_type": "code",
   "execution_count": 6,
   "metadata": {},
   "outputs": [],
   "source": [
    "from synthesis.yosys.autowrap import autowrap\n",
    "\n",
    "@autowrap\n",
    "def OSCG(OSC, **parameter):\n",
    "    \"On-Chip oscillator\"\n",
    "\n",
    "    # half period in pico seconds\n",
    "    C_OSCP = 1613\n",
    "    oscb = Signal(bool(0))\n",
    "\n",
    "    try:\n",
    "        DIV = parameter['DIV']\n",
    "    except KeyError:\n",
    "        print(\"No 'DIV' parameter given for divider, using default 128\")\n",
    "        DIV = 128\n",
    "\n",
    "    halfp = C_OSCP * DIV\n",
    "\n",
    "    @instance\n",
    "    def sim():\n",
    "        while 1:\n",
    "            yield delay(halfp)\n",
    "            oscb.next = not oscb\n",
    "\n",
    "    @always_comb\n",
    "    def assign():\n",
    "        OSC.next = oscb\n",
    "\n",
    "    return sim, assign"
   ]
  },
  {
   "cell_type": "markdown",
   "metadata": {},
   "source": [
    "## Generator classes\n",
    "\n",
    "### Example #1: Bit field objects\n",
    "\n",
    "From software perspective: Generate a `Bitfield` object that serves as:\n",
    "* An inline instance of a hardware object with one output when called as function\n",
    "* A constant when casted to integer\n",
    "\n",
    "Under the hood:"
   ]
  },
  {
   "cell_type": "code",
   "execution_count": 12,
   "metadata": {},
   "outputs": [],
   "source": [
    "def generator_class_snippet(): # Generator class body snippet\n",
    "    @blackbox\n",
    "    def bitslice(val):\n",
    "        \"\"\"A bit slicing and comparator logic. Note that the `val` argument is a yosys\n",
    "        Signal object, unlike a HLS signal object from a @hls/@component entity\"\"\"\n",
    "        @inference(yosys)\n",
    "        def implementation(module, sm):\n",
    "            n = self.msb - self.lsb + 1\n",
    "            sm.q = module.addSignal(None, 1)\n",
    "            portion = val.extract(self.lsb, n)\n",
    "            c = ConstSignal(self.val, n)\n",
    "            identifier = yosys.new_id(node, \"cmp\")\n",
    "            module.addEq(identifier, c, portion, sm.q, False)\n",
    "\n",
    "        return implementation\n",
    "\n",
    "    return bitslice(a)"
   ]
  },
  {
   "cell_type": "markdown",
   "metadata": {},
   "source": [
    "Source code of yosys implementation specific bitfields extension: [bitfields.py](../utils/bitfields.py)"
   ]
  },
  {
   "cell_type": "code",
   "execution_count": 13,
   "metadata": {},
   "outputs": [],
   "source": [
    "from bitfields import Bitfield\n",
    "\n",
    "# Create bit field constants (lsb, msb, value):\n",
    "\n",
    "BF_A = Bitfield(2, 4, 3)\n",
    "BF_B = Bitfield(5, 7, 5)\n",
    "BF_B1 = Bitfield(5, 7, 2)"
   ]
  },
  {
   "cell_type": "markdown",
   "metadata": {},
   "source": [
    "Now generate a value by logic combination of the Bitfield constants:"
   ]
  },
  {
   "cell_type": "code",
   "execution_count": 14,
   "metadata": {},
   "outputs": [
    {
     "data": {
      "text/plain": [
       "'0xae'"
      ]
     },
     "execution_count": 14,
     "metadata": {},
     "output_type": "execute_result"
    }
   ],
   "source": [
    "from myhdl import *\n",
    "\n",
    "v = intbv(int(BF_A | BF_B | 2)) # Casting constant integer\n",
    "hex(v)"
   ]
  },
  {
   "cell_type": "markdown",
   "metadata": {},
   "source": [
    "To obtain the actual value of the bitfield slice:"
   ]
  },
  {
   "cell_type": "code",
   "execution_count": 15,
   "metadata": {},
   "outputs": [
    {
     "data": {
      "text/plain": [
       "intbv(5)"
      ]
     },
     "execution_count": 15,
     "metadata": {},
     "output_type": "execute_result"
    }
   ],
   "source": [
    "v[BF_B.as_slice()]"
   ]
  },
  {
   "cell_type": "markdown",
   "metadata": {},
   "source": [
    "To check if the slice portion of the bitfield is matching its given constant value:"
   ]
  },
  {
   "cell_type": "code",
   "execution_count": 16,
   "metadata": {},
   "outputs": [
    {
     "data": {
      "text/plain": [
       "(True, False)"
      ]
     },
     "execution_count": 16,
     "metadata": {},
     "output_type": "execute_result"
    }
   ],
   "source": [
    "BF_B(v), BF_B1(v)"
   ]
  },
  {
   "cell_type": "markdown",
   "metadata": {},
   "source": [
    "### Example bitfield decoder"
   ]
  },
  {
   "cell_type": "code",
   "execution_count": 17,
   "metadata": {},
   "outputs": [],
   "source": [
    "@block\n",
    "def bfdecode0(clk, reset, op, q, z):   \n",
    "    @always_seq(clk.posedge, reset)\n",
    "    def worker():\n",
    "        \"Bit field decoder for `op`\"\n",
    "        if BF_B(op): # Instance!\n",
    "            if BF_A(op): # Instance!\n",
    "                q.next = 2\n",
    "            else:\n",
    "                q.next = 1\n",
    "        else:\n",
    "            q.next = 3\n",
    "            \n",
    "    @always_comb\n",
    "    def assign():\n",
    "        z.next = BF_B1(op) # Instance!\n",
    "        \n",
    "    return instances()"
   ]
  },
  {
   "cell_type": "markdown",
   "metadata": {},
   "source": [
    "**Note:** `# Instance!` denotes: We are creating *inline* logic. The RTL result is shown below"
   ]
  },
  {
   "cell_type": "markdown",
   "metadata": {},
   "source": [
    "## Parametrizeable top level design\n",
    "\n",
    "\n",
    "### Bitfield example:\n",
    "\n",
    "Testing the above bit field scenario:"
   ]
  },
  {
   "cell_type": "code",
   "execution_count": 54,
   "metadata": {},
   "outputs": [],
   "source": [
    "from myhdl.conversion.yshelper import Implementation\n",
    "\n",
    "class MyImpl(Implementation):\n",
    "    \"\"\"Test implementation\"\"\"\n",
    "\n",
    "@blackbox\n",
    "def test_design(unit):\n",
    "    \"\"\"A test design (virtual board)\"\"\"\n",
    "    clk = Signal(bool(0))\n",
    "    z = Signal(bool(0))\n",
    "    op = Signal(intbv()[16:])\n",
    "    d = Signal(intbv()[3:])\n",
    "    \n",
    "    reset = ResetSignal(1, 1, True)\n",
    "\n",
    "    inst_unit = unit(clk, reset, op, d, z)\n",
    "    \n",
    "    def convert(design):\n",
    "        inst_unit.convert(\"yosys_module\", design, name=\"unit\")\n",
    "    \n",
    "    @inference(MyImpl)\n",
    "    def rtl(design, top_name):\n",
    "        convert(design)\n",
    "        \n",
    "        return design\n",
    "\n",
    "# Here, we can specify other inference rules..\n",
    "#     @inference(MyCoSimulation)\n",
    "#     def mysim(design, top_name):\n",
    "#          ...\n",
    "\n",
    "    # Non-synthesis (sim only) section:\n",
    "    @instance\n",
    "    def startup():\n",
    "        yield delay(40)\n",
    "        reset.next = 0\n",
    "        yield clk.negedge\n",
    "        op.next = int(BF_B)\n",
    "        yield clk.negedge\n",
    "        print(\"%02x\" % d, z)\n",
    "        op.next = int(BF_A)\n",
    "        yield clk.negedge\n",
    "        print(\"%02x\" % d, z)\n",
    "        op.next = int(BF_A | BF_B1)\n",
    "        yield clk.negedge\n",
    "        print(\"%02x\" % d, z)\n",
    "        op.next = int(BF_A | BF_B)\n",
    "        yield clk.negedge\n",
    "        print(\"%02x\" % d, z)\n",
    " \n",
    "\n",
    "    @always(delay(2))\n",
    "    def clkgen():\n",
    "        clk.next = not clk\n",
    "\n",
    "    return instances(), rtl"
   ]
  },
  {
   "cell_type": "code",
   "execution_count": 51,
   "metadata": {},
   "outputs": [
    {
     "name": "stdout",
     "output_type": "stream",
     "text": [
      "Implementation: Test implementation\n",
      "\u001b[32m========================================================\u001b[0m\n",
      "\u001b[32mCREATE Module: 'unit'\u001b[0m\n",
      "\u001b[32mAdding module with name:\u001b[0m bfdecode0_1_1_16_3_1\n",
      "CONVERT_RTL tree >>>>>> 'UNIT_WORKER' \n",
      "CONVERT_RTL tree >>>>>> 'UNIT_ASSIGN' \n",
      "============================================================================\n",
      "DONE instancing submodules\n"
     ]
    }
   ],
   "source": [
    "impl = test_design(bfdecode0)\n",
    "design = impl.implement(\"rtl\", \"unit\")"
   ]
  },
  {
   "cell_type": "markdown",
   "metadata": {},
   "source": [
    "### Synthesis"
   ]
  },
  {
   "cell_type": "code",
   "execution_count": 56,
   "metadata": {},
   "outputs": [
    {
     "name": "stdout",
     "output_type": "stream",
     "text": [
      "Generating RTL image...\n",
      "Display...\n"
     ]
    },
    {
     "data": {
      "image/svg+xml": [
       "<?xml version=\"1.0\" encoding=\"UTF-8\" standalone=\"no\"?>\n",
       "<!DOCTYPE svg PUBLIC \"-//W3C//DTD SVG 1.1//EN\"\n",
       " \"http://www.w3.org/Graphics/SVG/1.1/DTD/svg11.dtd\">\n",
       "<!-- Generated by graphviz version 2.40.1 (20161225.0304)\n",
       " -->\n",
       "<!-- Title: bfdecode0_1_1_16_3_1 Pages: 1 -->\n",
       "<svg width=\"720pt\" height=\"333pt\"\n",
       " viewBox=\"0.00 0.00 720.00 332.86\" xmlns=\"http://www.w3.org/2000/svg\" xmlns:xlink=\"http://www.w3.org/1999/xlink\">\n",
       "<g id=\"graph0\" class=\"graph\" transform=\"scale(.8702 .8702) rotate(0) translate(4 378.5)\">\n",
       "<title>bfdecode0_1_1_16_3_1</title>\n",
       "<polygon fill=\"#ffffff\" stroke=\"transparent\" points=\"-4,4 -4,-378.5 823.3637,-378.5 823.3637,4 -4,4\"/>\n",
       "<text text-anchor=\"middle\" x=\"409.6819\" y=\"-7.8\" font-family=\"Times,serif\" font-size=\"14.00\" fill=\"#000000\">bfdecode0_1_1_16_3_1</text>\n",
       "<!-- n7 -->\n",
       "<g id=\"node1\" class=\"node\">\n",
       "<title>n7</title>\n",
       "<polygon fill=\"none\" stroke=\"#000000\" points=\"507.0786,-347.0442 507.0786,-361.9558 491.2624,-372.5 468.8949,-372.5 453.0786,-361.9558 453.0786,-347.0442 468.8949,-336.5 491.2624,-336.5 507.0786,-347.0442\"/>\n",
       "<text text-anchor=\"middle\" x=\"480.0786\" y=\"-350.8\" font-family=\"Times,serif\" font-size=\"14.00\" fill=\"#000000\">z</text>\n",
       "</g>\n",
       "<!-- n8 -->\n",
       "<g id=\"node2\" class=\"node\">\n",
       "<title>n8</title>\n",
       "<polygon fill=\"none\" stroke=\"#000000\" points=\"819.3637,-239.0442 819.3637,-253.9558 803.5475,-264.5 781.18,-264.5 765.3637,-253.9558 765.3637,-239.0442 781.18,-228.5 803.5475,-228.5 819.3637,-239.0442\"/>\n",
       "<text text-anchor=\"middle\" x=\"792.3637\" y=\"-242.8\" font-family=\"Times,serif\" font-size=\"14.00\" fill=\"#000000\">q</text>\n",
       "</g>\n",
       "<!-- n9 -->\n",
       "<g id=\"node3\" class=\"node\">\n",
       "<title>n9</title>\n",
       "<polygon fill=\"none\" stroke=\"#000000\" points=\"54,-144.0442 54,-158.9558 38.1838,-169.5 15.8162,-169.5 0,-158.9558 0,-144.0442 15.8162,-133.5 38.1838,-133.5 54,-144.0442\"/>\n",
       "<text text-anchor=\"middle\" x=\"27\" y=\"-147.8\" font-family=\"Times,serif\" font-size=\"14.00\" fill=\"#000000\">op</text>\n",
       "</g>\n",
       "<!-- x0 -->\n",
       "<g id=\"node8\" class=\"node\">\n",
       "<title>x0</title>\n",
       "<path fill=\"none\" stroke=\"#000000\" d=\"M102,-274.5C102,-274.5 153,-274.5 153,-274.5 159,-274.5 165,-280.5 165,-286.5 165,-286.5 165,-298.5 165,-298.5 165,-304.5 159,-310.5 153,-310.5 153,-310.5 102,-310.5 102,-310.5 96,-310.5 90,-304.5 90,-298.5 90,-298.5 90,-286.5 90,-286.5 90,-280.5 96,-274.5 102,-274.5\"/>\n",
       "<text text-anchor=\"middle\" x=\"127.5\" y=\"-288.8\" font-family=\"Times,serif\" font-size=\"14.00\" fill=\"#000000\">7:5 &#45; 2:0</text>\n",
       "</g>\n",
       "<!-- n9&#45;&gt;x0 -->\n",
       "<g id=\"edge14\" class=\"edge\">\n",
       "<title>n9:e&#45;&gt;x0:w</title>\n",
       "<path fill=\"none\" stroke=\"#000000\" stroke-width=\"3\" d=\"M54,-151.5C114.761,-151.5 36.0483,-275.9427 79.9199,-291.0119\"/>\n",
       "<polygon fill=\"#000000\" stroke=\"#000000\" stroke-width=\"3\" points=\"79.596,-294.502 90,-292.5 80.6184,-287.577 79.596,-294.502\"/>\n",
       "</g>\n",
       "<!-- x5 -->\n",
       "<g id=\"node17\" class=\"node\">\n",
       "<title>x5</title>\n",
       "<path fill=\"none\" stroke=\"#000000\" d=\"M102,-133.5C102,-133.5 153,-133.5 153,-133.5 159,-133.5 165,-139.5 165,-145.5 165,-145.5 165,-157.5 165,-157.5 165,-163.5 159,-169.5 153,-169.5 153,-169.5 102,-169.5 102,-169.5 96,-169.5 90,-163.5 90,-157.5 90,-157.5 90,-145.5 90,-145.5 90,-139.5 96,-133.5 102,-133.5\"/>\n",
       "<text text-anchor=\"middle\" x=\"127.5\" y=\"-147.8\" font-family=\"Times,serif\" font-size=\"14.00\" fill=\"#000000\">4:2 &#45; 2:0</text>\n",
       "</g>\n",
       "<!-- n9&#45;&gt;x5 -->\n",
       "<g id=\"edge15\" class=\"edge\">\n",
       "<title>n9:e&#45;&gt;x5:w</title>\n",
       "<path fill=\"none\" stroke=\"#000000\" stroke-width=\"3\" d=\"M54,-151.5C66,-151.5 71.25,-151.5 79.875,-151.5\"/>\n",
       "<polygon fill=\"#000000\" stroke=\"#000000\" stroke-width=\"3\" points=\"80,-155.0001 90,-151.5 80,-148.0001 80,-155.0001\"/>\n",
       "</g>\n",
       "<!-- x7 -->\n",
       "<g id=\"node20\" class=\"node\">\n",
       "<title>x7</title>\n",
       "<path fill=\"none\" stroke=\"#000000\" d=\"M102,-23.5C102,-23.5 153,-23.5 153,-23.5 159,-23.5 165,-29.5 165,-35.5 165,-35.5 165,-47.5 165,-47.5 165,-53.5 159,-59.5 153,-59.5 153,-59.5 102,-59.5 102,-59.5 96,-59.5 90,-53.5 90,-47.5 90,-47.5 90,-35.5 90,-35.5 90,-29.5 96,-23.5 102,-23.5\"/>\n",
       "<text text-anchor=\"middle\" x=\"127.5\" y=\"-37.8\" font-family=\"Times,serif\" font-size=\"14.00\" fill=\"#000000\">7:5 &#45; 2:0</text>\n",
       "</g>\n",
       "<!-- n9&#45;&gt;x7 -->\n",
       "<g id=\"edge16\" class=\"edge\">\n",
       "<title>n9:e&#45;&gt;x7:w</title>\n",
       "<path fill=\"none\" stroke=\"#000000\" stroke-width=\"3\" d=\"M54,-151.5C101.4217,-151.5 48.2875,-58.0161 79.9973,-43.4093\"/>\n",
       "<polygon fill=\"#000000\" stroke=\"#000000\" stroke-width=\"3\" points=\"80.8336,-46.8129 90,-41.5 79.5211,-39.937 80.8336,-46.8129\"/>\n",
       "</g>\n",
       "<!-- n10 -->\n",
       "<g id=\"node4\" class=\"node\">\n",
       "<title>n10</title>\n",
       "<polygon fill=\"none\" stroke=\"#000000\" points=\"517.1501,-293.0442 517.1501,-307.9558 495.4341,-318.5 464.7232,-318.5 443.0072,-307.9558 443.0072,-293.0442 464.7232,-282.5 495.4341,-282.5 517.1501,-293.0442\"/>\n",
       "<text text-anchor=\"middle\" x=\"480.0786\" y=\"-296.8\" font-family=\"Times,serif\" font-size=\"14.00\" fill=\"#000000\">reset</text>\n",
       "</g>\n",
       "<!-- c20 -->\n",
       "<g id=\"node9\" class=\"node\">\n",
       "<title>c20</title>\n",
       "<polygon fill=\"none\" stroke=\"#000000\" points=\"553.3637,-212 553.3637,-281 639.3637,-281 639.3637,-212 553.3637,-212\"/>\n",
       "<text text-anchor=\"middle\" x=\"581.8637\" y=\"-265.8\" font-family=\"Times,serif\" font-size=\"14.00\" fill=\"#000000\">ARST</text>\n",
       "<polyline fill=\"none\" stroke=\"#000000\" points=\"553.3637,-258 610.3637,-258 \"/>\n",
       "<text text-anchor=\"middle\" x=\"581.8637\" y=\"-242.8\" font-family=\"Times,serif\" font-size=\"14.00\" fill=\"#000000\">CLK</text>\n",
       "<polyline fill=\"none\" stroke=\"#000000\" points=\"553.3637,-235 610.3637,-235 \"/>\n",
       "<text text-anchor=\"middle\" x=\"581.8637\" y=\"-219.8\" font-family=\"Times,serif\" font-size=\"14.00\" fill=\"#000000\">D</text>\n",
       "<polyline fill=\"none\" stroke=\"#000000\" points=\"610.3637,-212 610.3637,-281 \"/>\n",
       "<polyline fill=\"none\" stroke=\"#000000\" points=\"610.3637,-212 610.3637,-281 \"/>\n",
       "<text text-anchor=\"middle\" x=\"624.8637\" y=\"-242.8\" font-family=\"Times,serif\" font-size=\"14.00\" fill=\"#000000\">Q</text>\n",
       "</g>\n",
       "<!-- n10&#45;&gt;c20 -->\n",
       "<g id=\"edge5\" class=\"edge\">\n",
       "<title>n10:e&#45;&gt;c20:w</title>\n",
       "<path fill=\"none\" stroke=\"#000000\" d=\"M517.0786,-300.5C534.1467,-300.5 533.5068,-280.4268 543.6577,-272.5857\"/>\n",
       "<polygon fill=\"#000000\" stroke=\"#000000\" points=\"544.8942,-275.8653 553.3637,-269.5 542.7733,-269.1943 544.8942,-275.8653\"/>\n",
       "</g>\n",
       "<!-- n11 -->\n",
       "<g id=\"node5\" class=\"node\">\n",
       "<title>n11</title>\n",
       "<polygon fill=\"none\" stroke=\"#000000\" points=\"507.0786,-239.0442 507.0786,-253.9558 491.2624,-264.5 468.8949,-264.5 453.0786,-253.9558 453.0786,-239.0442 468.8949,-228.5 491.2624,-228.5 507.0786,-239.0442\"/>\n",
       "<text text-anchor=\"middle\" x=\"480.0786\" y=\"-242.8\" font-family=\"Times,serif\" font-size=\"14.00\" fill=\"#000000\">clk</text>\n",
       "</g>\n",
       "<!-- n11&#45;&gt;c20 -->\n",
       "<g id=\"edge6\" class=\"edge\">\n",
       "<title>n11:e&#45;&gt;c20:w</title>\n",
       "<path fill=\"none\" stroke=\"#000000\" d=\"M507.0786,-246.5C523.7927,-246.5 530.3216,-246.5 543.2163,-246.5\"/>\n",
       "<polygon fill=\"#000000\" stroke=\"#000000\" points=\"543.3638,-250.0001 553.3637,-246.5 543.3637,-243.0001 543.3638,-250.0001\"/>\n",
       "</g>\n",
       "<!-- v1 -->\n",
       "<g id=\"node6\" class=\"node\">\n",
       "<title>v1</title>\n",
       "<ellipse fill=\"none\" stroke=\"#000000\" cx=\"127.5\" cy=\"-356.5\" rx=\"36.2938\" ry=\"18\"/>\n",
       "<text text-anchor=\"middle\" x=\"127.5\" y=\"-352.8\" font-family=\"Times,serif\" font-size=\"14.00\" fill=\"#000000\">3&#39;010</text>\n",
       "</g>\n",
       "<!-- c15 -->\n",
       "<g id=\"node7\" class=\"node\">\n",
       "<title>c15</title>\n",
       "<polygon fill=\"none\" stroke=\"#000000\" points=\"201,-321.5 201,-367.5 298,-367.5 298,-321.5 201,-321.5\"/>\n",
       "<text text-anchor=\"middle\" x=\"214.5\" y=\"-352.3\" font-family=\"Times,serif\" font-size=\"14.00\" fill=\"#000000\">A</text>\n",
       "<polyline fill=\"none\" stroke=\"#000000\" points=\"201,-344.5 228,-344.5 \"/>\n",
       "<text text-anchor=\"middle\" x=\"214.5\" y=\"-329.3\" font-family=\"Times,serif\" font-size=\"14.00\" fill=\"#000000\">B</text>\n",
       "<polyline fill=\"none\" stroke=\"#000000\" points=\"228,-321.5 228,-367.5 \"/>\n",
       "<text text-anchor=\"middle\" x=\"250\" y=\"-348.3\" font-family=\"Times,serif\" font-size=\"14.00\" fill=\"#000000\">$64</text>\n",
       "<text text-anchor=\"middle\" x=\"250\" y=\"-333.3\" font-family=\"Times,serif\" font-size=\"14.00\" fill=\"#000000\">$eq</text>\n",
       "<polyline fill=\"none\" stroke=\"#000000\" points=\"272,-321.5 272,-367.5 \"/>\n",
       "<text text-anchor=\"middle\" x=\"285\" y=\"-340.8\" font-family=\"Times,serif\" font-size=\"14.00\" fill=\"#000000\">Y</text>\n",
       "</g>\n",
       "<!-- v1&#45;&gt;c15 -->\n",
       "<g id=\"edge17\" class=\"edge\">\n",
       "<title>v1:e&#45;&gt;c15:w</title>\n",
       "<path fill=\"none\" stroke=\"#000000\" stroke-width=\"3\" d=\"M164.5,-356.5C176.6667,-356.5 181.9896,-356.5 190.7344,-356.5\"/>\n",
       "<polygon fill=\"#000000\" stroke=\"#000000\" stroke-width=\"3\" points=\"191,-360.0001 201,-356.5 191,-353.0001 191,-360.0001\"/>\n",
       "</g>\n",
       "<!-- x10 -->\n",
       "<g id=\"node22\" class=\"node\">\n",
       "<title>x10</title>\n",
       "<path fill=\"none\" stroke=\"#000000\" d=\"M385.3968,-365.5C385.3968,-365.5 355.3968,-365.5 355.3968,-365.5 349.3968,-365.5 343.3968,-359.5 343.3968,-353.5 343.3968,-353.5 343.3968,-341.5 343.3968,-341.5 343.3968,-335.5 349.3968,-329.5 355.3968,-329.5 355.3968,-329.5 385.3968,-329.5 385.3968,-329.5 391.3968,-329.5 397.3968,-335.5 397.3968,-341.5 397.3968,-341.5 397.3968,-353.5 397.3968,-353.5 397.3968,-359.5 391.3968,-365.5 385.3968,-365.5\"/>\n",
       "<text text-anchor=\"middle\" x=\"370.3968\" y=\"-343.8\" font-family=\"Times,serif\" font-size=\"14.00\" fill=\"#000000\">BUF</text>\n",
       "</g>\n",
       "<!-- c15&#45;&gt;x10 -->\n",
       "<g id=\"edge4\" class=\"edge\">\n",
       "<title>c15:e&#45;&gt;x10:w</title>\n",
       "<path fill=\"none\" stroke=\"#000000\" d=\"M298,-344.5C314.2711,-344.5 320.6582,-346.4426 333.0683,-347.2014\"/>\n",
       "<polygon fill=\"#000000\" stroke=\"#000000\" points=\"333.2998,-350.7094 343.3968,-347.5 333.5021,-343.7124 333.2998,-350.7094\"/>\n",
       "</g>\n",
       "<!-- x0&#45;&gt;c15 -->\n",
       "<g id=\"edge1\" class=\"edge\">\n",
       "<title>x0:e&#45;&gt;c15:w</title>\n",
       "<path fill=\"none\" stroke=\"#000000\" stroke-width=\"3\" d=\"M176.3119,-297.4048C182.8803,-305.0819 183.1075,-319.8534 189.6539,-327.5551\"/>\n",
       "<polygon fill=\"none\" stroke=\"#000000\" stroke-width=\"3\" points=\"176.0096,-297.2738 168.9136,-298.5568 165,-292.5 172.0961,-291.217 176.0096,-297.2738\"/>\n",
       "<polygon fill=\"none\" stroke=\"#000000\" stroke-width=\"3\" points=\"189.9993,-327.7056 197.0978,-326.4359 201,-332.5 193.9015,-333.7697 189.9993,-327.7056\"/>\n",
       "</g>\n",
       "<!-- x9 -->\n",
       "<g id=\"node21\" class=\"node\">\n",
       "<title>x9</title>\n",
       "<path fill=\"none\" stroke=\"#000000\" d=\"M717.3637,-264.5C717.3637,-264.5 687.3637,-264.5 687.3637,-264.5 681.3637,-264.5 675.3637,-258.5 675.3637,-252.5 675.3637,-252.5 675.3637,-240.5 675.3637,-240.5 675.3637,-234.5 681.3637,-228.5 687.3637,-228.5 687.3637,-228.5 717.3637,-228.5 717.3637,-228.5 723.3637,-228.5 729.3637,-234.5 729.3637,-240.5 729.3637,-240.5 729.3637,-252.5 729.3637,-252.5 729.3637,-258.5 723.3637,-264.5 717.3637,-264.5\"/>\n",
       "<text text-anchor=\"middle\" x=\"702.3637\" y=\"-242.8\" font-family=\"Times,serif\" font-size=\"14.00\" fill=\"#000000\">BUF</text>\n",
       "</g>\n",
       "<!-- c20&#45;&gt;x9 -->\n",
       "<g id=\"edge7\" class=\"edge\">\n",
       "<title>c20:e&#45;&gt;x9:w</title>\n",
       "<path fill=\"none\" stroke=\"#000000\" stroke-width=\"3\" d=\"M639.3637,-246.5C651.3637,-246.5 656.6137,-246.5 665.2387,-246.5\"/>\n",
       "<polygon fill=\"#000000\" stroke=\"#000000\" stroke-width=\"3\" points=\"665.3638,-250.0001 675.3637,-246.5 665.3637,-243.0001 665.3638,-250.0001\"/>\n",
       "</g>\n",
       "<!-- v2 -->\n",
       "<g id=\"node10\" class=\"node\">\n",
       "<title>v2</title>\n",
       "<ellipse fill=\"none\" stroke=\"#000000\" cx=\"370.3968\" cy=\"-250.5\" rx=\"36.2938\" ry=\"18\"/>\n",
       "<text text-anchor=\"middle\" x=\"370.3968\" y=\"-246.8\" font-family=\"Times,serif\" font-size=\"14.00\" fill=\"#000000\">3&#39;011</text>\n",
       "</g>\n",
       "<!-- c22 -->\n",
       "<g id=\"node11\" class=\"node\">\n",
       "<title>c22</title>\n",
       "<polygon fill=\"none\" stroke=\"#000000\" points=\"453.0786,-141 453.0786,-210 507.0786,-210 507.0786,-141 453.0786,-141\"/>\n",
       "<text text-anchor=\"middle\" x=\"466.5786\" y=\"-194.8\" font-family=\"Times,serif\" font-size=\"14.00\" fill=\"#000000\">A</text>\n",
       "<polyline fill=\"none\" stroke=\"#000000\" points=\"453.0786,-187 480.0786,-187 \"/>\n",
       "<text text-anchor=\"middle\" x=\"466.5786\" y=\"-171.8\" font-family=\"Times,serif\" font-size=\"14.00\" fill=\"#000000\">B</text>\n",
       "<polyline fill=\"none\" stroke=\"#000000\" points=\"453.0786,-164 480.0786,-164 \"/>\n",
       "<text text-anchor=\"middle\" x=\"466.5786\" y=\"-148.8\" font-family=\"Times,serif\" font-size=\"14.00\" fill=\"#000000\">S</text>\n",
       "<polyline fill=\"none\" stroke=\"#000000\" points=\"480.0786,-141 480.0786,-210 \"/>\n",
       "<polyline fill=\"none\" stroke=\"#000000\" points=\"480.0786,-141 480.0786,-210 \"/>\n",
       "<text text-anchor=\"middle\" x=\"493.5786\" y=\"-171.8\" font-family=\"Times,serif\" font-size=\"14.00\" fill=\"#000000\">Y</text>\n",
       "</g>\n",
       "<!-- v2&#45;&gt;c22 -->\n",
       "<g id=\"edge18\" class=\"edge\">\n",
       "<title>v2:e&#45;&gt;c22:w</title>\n",
       "<path fill=\"none\" stroke=\"#000000\" stroke-width=\"3\" d=\"M406.7935,-250.5C433.6245,-250.5 425.4601,-211.3953 442.9954,-201.0081\"/>\n",
       "<polygon fill=\"#000000\" stroke=\"#000000\" stroke-width=\"3\" points=\"444.2192,-204.3104 453.0786,-198.5 442.5295,-197.5174 444.2192,-204.3104\"/>\n",
       "</g>\n",
       "<!-- c22&#45;&gt;c20 -->\n",
       "<g id=\"edge8\" class=\"edge\">\n",
       "<title>c22:e&#45;&gt;c20:w</title>\n",
       "<path fill=\"none\" stroke=\"#000000\" stroke-width=\"3\" d=\"M507.0786,-175.5C532.7785,-175.5 526.4256,-211.5967 543.6115,-221.1849\"/>\n",
       "<polygon fill=\"#000000\" stroke=\"#000000\" stroke-width=\"3\" points=\"542.8257,-224.5955 553.3637,-223.5 544.4426,-217.7848 542.8257,-224.5955\"/>\n",
       "</g>\n",
       "<!-- v3 -->\n",
       "<g id=\"node12\" class=\"node\">\n",
       "<title>v3</title>\n",
       "<ellipse fill=\"none\" stroke=\"#000000\" cx=\"249.5\" cy=\"-216.5\" rx=\"36.2938\" ry=\"18\"/>\n",
       "<text text-anchor=\"middle\" x=\"249.5\" y=\"-212.8\" font-family=\"Times,serif\" font-size=\"14.00\" fill=\"#000000\">3&#39;010</text>\n",
       "</g>\n",
       "<!-- c23 -->\n",
       "<g id=\"node14\" class=\"node\">\n",
       "<title>c23</title>\n",
       "<polygon fill=\"none\" stroke=\"#000000\" points=\"343.3968,-145 343.3968,-214 397.3968,-214 397.3968,-145 343.3968,-145\"/>\n",
       "<text text-anchor=\"middle\" x=\"356.8968\" y=\"-198.8\" font-family=\"Times,serif\" font-size=\"14.00\" fill=\"#000000\">A</text>\n",
       "<polyline fill=\"none\" stroke=\"#000000\" points=\"343.3968,-191 370.3968,-191 \"/>\n",
       "<text text-anchor=\"middle\" x=\"356.8968\" y=\"-175.8\" font-family=\"Times,serif\" font-size=\"14.00\" fill=\"#000000\">B</text>\n",
       "<polyline fill=\"none\" stroke=\"#000000\" points=\"343.3968,-168 370.3968,-168 \"/>\n",
       "<text text-anchor=\"middle\" x=\"356.8968\" y=\"-152.8\" font-family=\"Times,serif\" font-size=\"14.00\" fill=\"#000000\">S</text>\n",
       "<polyline fill=\"none\" stroke=\"#000000\" points=\"370.3968,-145 370.3968,-214 \"/>\n",
       "<polyline fill=\"none\" stroke=\"#000000\" points=\"370.3968,-145 370.3968,-214 \"/>\n",
       "<text text-anchor=\"middle\" x=\"383.8968\" y=\"-175.8\" font-family=\"Times,serif\" font-size=\"14.00\" fill=\"#000000\">Y</text>\n",
       "</g>\n",
       "<!-- v3&#45;&gt;c23 -->\n",
       "<g id=\"edge19\" class=\"edge\">\n",
       "<title>v3:e&#45;&gt;c23:w</title>\n",
       "<path fill=\"none\" stroke=\"#000000\" stroke-width=\"3\" d=\"M286.5,-216.5C312.7758,-216.5 313.5591,-188.4242 333.2626,-181.186\"/>\n",
       "<polygon fill=\"#000000\" stroke=\"#000000\" stroke-width=\"3\" points=\"334.1068,-184.5937 343.3968,-179.5 332.9579,-177.6886 334.1068,-184.5937\"/>\n",
       "</g>\n",
       "<!-- v4 -->\n",
       "<g id=\"node13\" class=\"node\">\n",
       "<title>v4</title>\n",
       "<ellipse fill=\"none\" stroke=\"#000000\" cx=\"249.5\" cy=\"-270.5\" rx=\"36.2938\" ry=\"18\"/>\n",
       "<text text-anchor=\"middle\" x=\"249.5\" y=\"-266.8\" font-family=\"Times,serif\" font-size=\"14.00\" fill=\"#000000\">3&#39;001</text>\n",
       "</g>\n",
       "<!-- v4&#45;&gt;c23 -->\n",
       "<g id=\"edge20\" class=\"edge\">\n",
       "<title>v4:e&#45;&gt;c23:w</title>\n",
       "<path fill=\"none\" stroke=\"#000000\" stroke-width=\"3\" d=\"M286.5,-270.5C322.0578,-270.5 307.6862,-215.1328 333.4922,-204.3188\"/>\n",
       "<polygon fill=\"#000000\" stroke=\"#000000\" stroke-width=\"3\" points=\"334.1934,-207.7487 343.3968,-202.5 332.929,-200.8638 334.1934,-207.7487\"/>\n",
       "</g>\n",
       "<!-- c23&#45;&gt;c22 -->\n",
       "<g id=\"edge9\" class=\"edge\">\n",
       "<title>c23:e&#45;&gt;c22:w</title>\n",
       "<path fill=\"none\" stroke=\"#000000\" stroke-width=\"3\" d=\"M397.3968,-179.5C418.3313,-179.5 425.916,-176.6523 442.6787,-175.7625\"/>\n",
       "<polygon fill=\"#000000\" stroke=\"#000000\" stroke-width=\"3\" points=\"443.1702,-179.2513 453.0786,-175.5 442.9935,-172.2535 443.1702,-179.2513\"/>\n",
       "</g>\n",
       "<!-- v6 -->\n",
       "<g id=\"node15\" class=\"node\">\n",
       "<title>v6</title>\n",
       "<ellipse fill=\"none\" stroke=\"#000000\" cx=\"127.5\" cy=\"-206.5\" rx=\"36.2938\" ry=\"18\"/>\n",
       "<text text-anchor=\"middle\" x=\"127.5\" y=\"-202.8\" font-family=\"Times,serif\" font-size=\"14.00\" fill=\"#000000\">3&#39;011</text>\n",
       "</g>\n",
       "<!-- c24 -->\n",
       "<g id=\"node16\" class=\"node\">\n",
       "<title>c24</title>\n",
       "<polygon fill=\"none\" stroke=\"#000000\" points=\"201,-133.5 201,-179.5 298,-179.5 298,-133.5 201,-133.5\"/>\n",
       "<text text-anchor=\"middle\" x=\"214.5\" y=\"-164.3\" font-family=\"Times,serif\" font-size=\"14.00\" fill=\"#000000\">A</text>\n",
       "<polyline fill=\"none\" stroke=\"#000000\" points=\"201,-156.5 228,-156.5 \"/>\n",
       "<text text-anchor=\"middle\" x=\"214.5\" y=\"-141.3\" font-family=\"Times,serif\" font-size=\"14.00\" fill=\"#000000\">B</text>\n",
       "<polyline fill=\"none\" stroke=\"#000000\" points=\"228,-133.5 228,-179.5 \"/>\n",
       "<text text-anchor=\"middle\" x=\"250\" y=\"-160.3\" font-family=\"Times,serif\" font-size=\"14.00\" fill=\"#000000\">$60</text>\n",
       "<text text-anchor=\"middle\" x=\"250\" y=\"-145.3\" font-family=\"Times,serif\" font-size=\"14.00\" fill=\"#000000\">$eq</text>\n",
       "<polyline fill=\"none\" stroke=\"#000000\" points=\"272,-133.5 272,-179.5 \"/>\n",
       "<text text-anchor=\"middle\" x=\"285\" y=\"-152.8\" font-family=\"Times,serif\" font-size=\"14.00\" fill=\"#000000\">Y</text>\n",
       "</g>\n",
       "<!-- v6&#45;&gt;c24 -->\n",
       "<g id=\"edge21\" class=\"edge\">\n",
       "<title>v6:e&#45;&gt;c24:w</title>\n",
       "<path fill=\"none\" stroke=\"#000000\" stroke-width=\"3\" d=\"M164.5,-206.5C183.7099,-206.5 180.2067,-180.9293 191.2541,-171.7399\"/>\n",
       "<polygon fill=\"#000000\" stroke=\"#000000\" stroke-width=\"3\" points=\"192.6147,-174.976 201,-168.5 190.4065,-168.3334 192.6147,-174.976\"/>\n",
       "</g>\n",
       "<!-- c24&#45;&gt;c23 -->\n",
       "<g id=\"edge10\" class=\"edge\">\n",
       "<title>c24:e&#45;&gt;c23:w</title>\n",
       "<path fill=\"none\" stroke=\"#000000\" d=\"M298,-156.5C314.2357,-156.5 320.6728,-156.5 333.081,-156.5\"/>\n",
       "<polygon fill=\"#000000\" stroke=\"#000000\" points=\"333.3968,-160.0001 343.3968,-156.5 333.3967,-153.0001 333.3968,-160.0001\"/>\n",
       "</g>\n",
       "<!-- x5&#45;&gt;c24 -->\n",
       "<g id=\"edge2\" class=\"edge\">\n",
       "<title>x5:e&#45;&gt;c24:w</title>\n",
       "<path fill=\"none\" stroke=\"#000000\" stroke-width=\"3\" d=\"M177.0362,-149.9465C181.2736,-148.7865 184.7403,-147.2082 188.9797,-146.0492\"/>\n",
       "<polygon fill=\"none\" stroke=\"#000000\" stroke-width=\"3\" points=\"176.9013,-149.9638 171.4627,-154.699 165,-151.5 170.4386,-146.7648 176.9013,-149.9638\"/>\n",
       "<polygon fill=\"none\" stroke=\"#000000\" stroke-width=\"3\" points=\"189.0984,-146.034 194.5379,-141.2998 201,-144.5 195.5605,-149.2342 189.0984,-146.034\"/>\n",
       "</g>\n",
       "<!-- v8 -->\n",
       "<g id=\"node18\" class=\"node\">\n",
       "<title>v8</title>\n",
       "<ellipse fill=\"none\" stroke=\"#000000\" cx=\"127.5\" cy=\"-96.5\" rx=\"36.2938\" ry=\"18\"/>\n",
       "<text text-anchor=\"middle\" x=\"127.5\" y=\"-92.8\" font-family=\"Times,serif\" font-size=\"14.00\" fill=\"#000000\">3&#39;101</text>\n",
       "</g>\n",
       "<!-- c25 -->\n",
       "<g id=\"node19\" class=\"node\">\n",
       "<title>c25</title>\n",
       "<polygon fill=\"none\" stroke=\"#000000\" points=\"201,-61.5 201,-107.5 298,-107.5 298,-61.5 201,-61.5\"/>\n",
       "<text text-anchor=\"middle\" x=\"214.5\" y=\"-92.3\" font-family=\"Times,serif\" font-size=\"14.00\" fill=\"#000000\">A</text>\n",
       "<polyline fill=\"none\" stroke=\"#000000\" points=\"201,-84.5 228,-84.5 \"/>\n",
       "<text text-anchor=\"middle\" x=\"214.5\" y=\"-69.3\" font-family=\"Times,serif\" font-size=\"14.00\" fill=\"#000000\">B</text>\n",
       "<polyline fill=\"none\" stroke=\"#000000\" points=\"228,-61.5 228,-107.5 \"/>\n",
       "<text text-anchor=\"middle\" x=\"250\" y=\"-88.3\" font-family=\"Times,serif\" font-size=\"14.00\" fill=\"#000000\">$58</text>\n",
       "<text text-anchor=\"middle\" x=\"250\" y=\"-73.3\" font-family=\"Times,serif\" font-size=\"14.00\" fill=\"#000000\">$eq</text>\n",
       "<polyline fill=\"none\" stroke=\"#000000\" points=\"272,-61.5 272,-107.5 \"/>\n",
       "<text text-anchor=\"middle\" x=\"285\" y=\"-80.8\" font-family=\"Times,serif\" font-size=\"14.00\" fill=\"#000000\">Y</text>\n",
       "</g>\n",
       "<!-- v8&#45;&gt;c25 -->\n",
       "<g id=\"edge22\" class=\"edge\">\n",
       "<title>v8:e&#45;&gt;c25:w</title>\n",
       "<path fill=\"none\" stroke=\"#000000\" stroke-width=\"3\" d=\"M164.5,-96.5C176.6667,-96.5 181.9896,-96.5 190.7344,-96.5\"/>\n",
       "<polygon fill=\"#000000\" stroke=\"#000000\" stroke-width=\"3\" points=\"191,-100.0001 201,-96.5 191,-93.0001 191,-100.0001\"/>\n",
       "</g>\n",
       "<!-- c25&#45;&gt;c22 -->\n",
       "<g id=\"edge11\" class=\"edge\">\n",
       "<title>c25:e&#45;&gt;c22:w</title>\n",
       "<path fill=\"none\" stroke=\"#000000\" d=\"M298,-84.5C314.6833,-84.5 408.9201,-137.9664 443.1741,-150.0798\"/>\n",
       "<polygon fill=\"#000000\" stroke=\"#000000\" points=\"442.5336,-153.5262 453.0786,-152.5 444.1952,-146.7263 442.5336,-153.5262\"/>\n",
       "</g>\n",
       "<!-- x7&#45;&gt;c25 -->\n",
       "<g id=\"edge3\" class=\"edge\">\n",
       "<title>x7:e&#45;&gt;c25:w</title>\n",
       "<path fill=\"none\" stroke=\"#000000\" stroke-width=\"3\" d=\"M176.3064,-46.0742C181.9466,-51.8678 183.9318,-61.8053 189.4803,-67.703\"/>\n",
       "<polygon fill=\"none\" stroke=\"#000000\" stroke-width=\"3\" points=\"176.1241,-46.0005 169.0619,-47.4583 165,-41.5 172.0622,-40.0422 176.1241,-46.0005\"/>\n",
       "<polygon fill=\"none\" stroke=\"#000000\" stroke-width=\"3\" points=\"189.9221,-67.8869 196.9987,-66.5008 201,-72.5 193.9233,-73.8861 189.9221,-67.8869\"/>\n",
       "</g>\n",
       "<!-- x9&#45;&gt;n8 -->\n",
       "<g id=\"edge13\" class=\"edge\">\n",
       "<title>x9:e&#45;&gt;n8:w</title>\n",
       "<path fill=\"none\" stroke=\"#000000\" stroke-width=\"3\" d=\"M729.3637,-246.5C741.3637,-246.5 746.6137,-246.5 755.2387,-246.5\"/>\n",
       "<polygon fill=\"#000000\" stroke=\"#000000\" stroke-width=\"3\" points=\"755.3638,-250.0001 765.3637,-246.5 755.3637,-243.0001 755.3638,-250.0001\"/>\n",
       "</g>\n",
       "<!-- x10&#45;&gt;n7 -->\n",
       "<g id=\"edge12\" class=\"edge\">\n",
       "<title>x10:e&#45;&gt;n7:w</title>\n",
       "<path fill=\"none\" stroke=\"#000000\" d=\"M397.3968,-347.5C418.4418,-347.5 425.8573,-352.4834 442.6431,-354.0407\"/>\n",
       "<polygon fill=\"#000000\" stroke=\"#000000\" points=\"442.9344,-357.5568 453.0786,-354.5 443.2422,-350.5636 442.9344,-357.5568\"/>\n",
       "</g>\n",
       "</g>\n",
       "</svg>\n"
      ],
      "text/plain": [
       "<graphviz.files.Source at 0x7fba7f997da0>"
      ]
     },
     "metadata": {},
     "output_type": "display_data"
    }
   ],
   "source": [
    "from ys_aux import to_svg\n",
    "display(to_svg(design))"
   ]
  },
  {
   "cell_type": "markdown",
   "metadata": {},
   "source": [
    "### Simulation\n",
    "\n",
    "Run the top level blackbox as MyHDL simulation:"
   ]
  },
  {
   "cell_type": "code",
   "execution_count": 55,
   "metadata": {},
   "outputs": [
    {
     "name": "stdout",
     "output_type": "stream",
     "text": [
      "01 False\n",
      "03 False\n",
      "03 True\n",
      "02 False\n"
     ]
    },
    {
     "name": "stderr",
     "output_type": "stream",
     "text": [
      "<class 'myhdl._SuspendSimulation'>: Simulated 200 timesteps\n"
     ]
    }
   ],
   "source": [
    "tb = test_design(bfdecode0)\n",
    "tb.config_sim(trace=True)\n",
    "tb.run_sim(200)\n",
    "tb.quit_sim()"
   ]
  },
  {
   "cell_type": "markdown",
   "metadata": {},
   "source": [
    "### Next: [Hardware programming](hwprog_setup.ipynb)"
   ]
  }
 ],
 "metadata": {
  "kernelspec": {
   "display_name": "Python 3",
   "language": "python",
   "name": "python3"
  },
  "language_info": {
   "codemirror_mode": {
    "name": "ipython",
    "version": 3
   },
   "file_extension": ".py",
   "mimetype": "text/x-python",
   "name": "python",
   "nbconvert_exporter": "python",
   "pygments_lexer": "ipython3",
   "version": "3.7.3"
  }
 },
 "nbformat": 4,
 "nbformat_minor": 4
}
