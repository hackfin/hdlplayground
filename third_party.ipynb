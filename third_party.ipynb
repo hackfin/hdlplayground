{
 "cells": [
  {
   "cell_type": "markdown",
   "metadata": {},
   "source": [
    "# Other projects\n",
    "\n",
    "\n",
    "### 1pCPU\n",
    "\n",
    "**A simple non-pipelined minimal ISA**\n",
    "\n",
    "This CPU was conceived by Pierre Cornier, its original source is found at:\n",
    "\n",
    "[https://github.com/pcornier/1pCPU](https://github.com/pcornier/1pCPU)\n",
    "\n",
    "This is a minimal example on how to build a simple CPU plus an assembler in a Jupyter notebook. It was forked and modified to work with synthesis.\n",
    "\n",
    "Run the steps below to co-simulate a model of this CPU against its synthesized variant."
   ]
  },
  {
   "cell_type": "code",
   "execution_count": 1,
   "metadata": {},
   "outputs": [],
   "source": [
    "%cd /home/pyosys/work"
   ]
  },
  {
   "cell_type": "code",
   "execution_count": 2,
   "metadata": {},
   "outputs": [
    {
     "name": "stdout",
     "output_type": "stream",
     "text": [
      "Cloning into '1pCPU'...\n",
      "remote: Enumerating objects: 8, done.\u001b[K\n",
      "remote: Counting objects: 100% (8/8), done.\u001b[K\n",
      "remote: Compressing objects: 100% (6/6), done.\u001b[K\n",
      "remote: Total 58 (delta 2), reused 7 (delta 2), pack-reused 50\u001b[K\n",
      "Unpacking objects: 100% (58/58), done.\n"
     ]
    }
   ],
   "source": [
    "! git clone https://github.com/hackfin/1pCPU.git"
   ]
  },
  {
   "cell_type": "code",
   "execution_count": 3,
   "metadata": {},
   "outputs": [
    {
     "name": "stdout",
     "output_type": "stream",
     "text": [
      "Cloning into 'myhdl-synthesis'...\n",
      "remote: Enumerating objects: 76, done.\u001b[K\n",
      "remote: Counting objects: 100% (76/76), done.\u001b[K\n",
      "remote: Compressing objects: 100% (76/76), done.\u001b[K\n",
      "remote: Total 812 (delta 45), reused 0 (delta 0), pack-reused 736\u001b[K\n",
      "Receiving objects: 100% (812/812), 1.95 MiB | 5.80 MiB/s, done.\n",
      "Resolving deltas: 100% (572/572), done.\n"
     ]
    }
   ],
   "source": [
    "! git clone https://gitlab.com/hackfin/myhdl-synthesis.git"
   ]
  },
  {
   "cell_type": "code",
   "execution_count": 4,
   "metadata": {},
   "outputs": [
    {
     "name": "stdout",
     "output_type": "stream",
     "text": [
      "Requirement already satisfied: pandas in /home/pyosys/.local/lib/python3.7/site-packages (1.2.3)\n",
      "Requirement already satisfied: pytz>=2017.3 in /home/pyosys/.local/lib/python3.7/site-packages (from pandas) (2021.1)\n",
      "Requirement already satisfied: numpy>=1.16.5 in /home/pyosys/.local/lib/python3.7/site-packages (from pandas) (1.20.1)\n",
      "Requirement already satisfied: python-dateutil>=2.7.3 in /usr/local/lib/python3.7/dist-packages (from pandas) (2.8.1)\n",
      "Requirement already satisfied: six>=1.5 in /usr/lib/python3/dist-packages (from python-dateutil>=2.7.3->pandas) (1.12.0)\n"
     ]
    }
   ],
   "source": [
    "!pip3 install pandas"
   ]
  },
  {
   "cell_type": "markdown",
   "metadata": {},
   "source": [
    "## Proceed to Notebook:\n",
    "\n",
    "[1pCPU](/notebooks/work/1pCPU/pCPU.ipynb)"
   ]
  }
 ],
 "metadata": {
  "kernelspec": {
   "display_name": "Python 3",
   "language": "python",
   "name": "python3"
  },
  "language_info": {
   "codemirror_mode": {
    "name": "ipython",
    "version": 3
   },
   "file_extension": ".py",
   "mimetype": "text/x-python",
   "name": "python",
   "nbconvert_exporter": "python",
   "pygments_lexer": "ipython3",
   "version": "3.7.3"
  }
 },
 "nbformat": 4,
 "nbformat_minor": 4
}
